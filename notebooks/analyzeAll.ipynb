{
 "cells": [
  {
   "cell_type": "markdown",
   "id": "57e12cff-4dfe-4140-8c19-4e2ec1df37a6",
   "metadata": {},
   "source": [
    "# Analyze DNA encoded library sequences"
   ]
  },
  {
   "cell_type": "markdown",
   "id": "a5f7e3d5-4325-4dda-821a-8b21c50e039f",
   "metadata": {},
   "source": [
    "### Setup a few things.  Hide this later."
   ]
  },
  {
   "cell_type": "code",
   "execution_count": 1,
   "id": "08c0bc30-8118-469f-9a8a-461828aa7b5a",
   "metadata": {},
   "outputs": [
    {
     "data": {
      "text/plain": [
       "#P\"/Users/meister/del/deliscope/notebooks/\""
      ]
     },
     "execution_count": 1,
     "metadata": {},
     "output_type": "execute_result"
    }
   ],
   "source": [
    "*default-pathname-defaults*"
   ]
  },
  {
   "cell_type": "code",
   "execution_count": 2,
   "id": "817754d7-7833-4720-8683-db5ad6f56472",
   "metadata": {},
   "outputs": [
    {
     "data": {
      "text/plain": [
       "T"
      ]
     },
     "execution_count": 2,
     "metadata": {},
     "output_type": "execute_result"
    },
    {
     "name": "stdout",
     "output_type": "stream",
     "text": [
      "Checking SLIME_HOME\n",
      "About to start swank server\n",
      "Started swank server\n"
     ]
    },
    {
     "name": "stderr",
     "output_type": "stream",
     "text": [
      "\n",
      ";; Swank started at port: 4005.\n"
     ]
    }
   ],
   "source": [
    "(start-swank)"
   ]
  },
  {
   "cell_type": "code",
   "execution_count": 3,
   "id": "ad62402c-8b07-46d8-a8c9-f5caa7dab2d8",
   "metadata": {
    "tags": []
   },
   "outputs": [
    {
     "name": "stdout",
     "output_type": "stream",
     "text": [
      "To load \"delta-vega\":\n",
      "  Load 1 ASDF system:\n",
      "    delta-vega\n",
      "\n",
      "; Loading \"delta-vega\"\n",
      "[package delta-vega]...."
     ]
    },
    {
     "data": {
      "text/plain": [
       "(:DELTA-VEGA)"
      ]
     },
     "execution_count": 3,
     "metadata": {},
     "output_type": "execute_result"
    },
    {
     "name": "stdout",
     "output_type": "stream",
     "text": [
      "\n"
     ]
    }
   ],
   "source": [
    "(ql:quickload :delta-vega)"
   ]
  },
  {
   "cell_type": "code",
   "execution_count": 4,
   "id": "3f2bad5e-5d50-40ea-9394-da7e6534f238",
   "metadata": {
    "tags": []
   },
   "outputs": [
    {
     "data": {
      "text/plain": [
       "NIL"
      ]
     },
     "execution_count": 4,
     "metadata": {},
     "output_type": "execute_result"
    }
   ],
   "source": [
    "(require :asdf)"
   ]
  },
  {
   "cell_type": "code",
   "execution_count": 5,
   "id": "8da0fd22-5f8d-47ab-a843-d04bfac6bf9c",
   "metadata": {},
   "outputs": [
    {
     "data": {
      "text/plain": [
       "#P\"/Users/meister/Development/cando-main/\""
      ]
     },
     "execution_count": 5,
     "metadata": {},
     "output_type": "execute_result"
    }
   ],
   "source": [
    "(probe-file \"source-dir:\")"
   ]
  },
  {
   "cell_type": "code",
   "execution_count": 6,
   "id": "08773478-a6a4-4f73-af23-02ec6d223a20",
   "metadata": {},
   "outputs": [
    {
     "data": {
      "text/plain": [
       "0"
      ]
     },
     "execution_count": 6,
     "metadata": {},
     "output_type": "execute_result"
    },
    {
     "name": "stdout",
     "output_type": "stream",
     "text": [
      "Changing *default-pathname-defaults* because change-default-pathname-defaults -> T\n"
     ]
    }
   ],
   "source": [
    "(ext:chdir #P\"~/del/\" t)"
   ]
  },
  {
   "cell_type": "code",
   "execution_count": 7,
   "id": "6bc1c69e-8443-453e-bbe4-f00194d923c8",
   "metadata": {
    "tags": []
   },
   "outputs": [
    {
     "data": {
      "text/plain": [
       "#<DEFINE-OP >"
      ]
     },
     "execution_count": 7,
     "metadata": {},
     "output_type": "execute_result"
    },
    {
     "data": {
      "text/plain": [
       "#<ASDF/PLAN:SEQUENTIAL-PLAN>"
      ]
     },
     "execution_count": 7,
     "metadata": {},
     "output_type": "execute_result"
    },
    {
     "data": {
      "text/plain": [
       "#<DEFINE-OP >"
      ]
     },
     "execution_count": 7,
     "metadata": {},
     "output_type": "execute_result"
    },
    {
     "data": {
      "text/plain": [
       "#<ASDF/PLAN:SEQUENTIAL-PLAN>"
      ]
     },
     "execution_count": 7,
     "metadata": {},
     "output_type": "execute_result"
    }
   ],
   "source": [
    "(asdf:load-asd (pathname \"source-dir:extensions;seqan-clasp;src;seqan.asd\"))\n",
    "(asdf:load-asd (merge-pathnames \"deliscope/src/deliscope.asd\"))"
   ]
  },
  {
   "cell_type": "code",
   "execution_count": 8,
   "id": "31f2e8ae-f185-464c-9524-975359917d77",
   "metadata": {
    "tags": []
   },
   "outputs": [
    {
     "name": "stdout",
     "output_type": "stream",
     "text": [
      "; Compiling file parallel: /Users/meister/Development/cando-main/extensions/seqan-clasp/src/packages.lisp\n",
      "\n",
      ";   (DEFPACKAGE :SEQAN ...)\n",
      "Time real(0.015 secs) run(0.015 secs) consed(558568 bytes) unwinds(0)\n",
      "; Compiling file parallel: /Users/meister/Development/cando-main/extensions/seqan-clasp/src/seqan.lisp\n"
     ]
    },
    {
     "data": {
      "text/plain": [
       "T"
      ]
     },
     "execution_count": 8,
     "metadata": {},
     "output_type": "execute_result"
    },
    {
     "name": "stdout",
     "output_type": "stream",
     "text": [
      "\n",
      ";   (IN-PACKAGE :SEQAN)\n",
      "\n",
      ";   (DEFUN GET-ABSOLUTE-PATH ...)\n",
      "\n",
      ";   (DEFUN MAKE-SEQ-FILE-IN ...)\n",
      "\n",
      ";   (DEFUN MAKE-SEQ-FILE-OUT ...)\n",
      "\n",
      ";   (DEFGENERIC WRITE-RECORD ...)\n",
      "\n",
      ";   (DEFGENERIC CLOSE ...)\n",
      "\n",
      ";   (DEFGENERIC MAKE-STRING ...)\n",
      "\n",
      ";   (DEFGENERIC MAKE-STRING-SET ...)\n",
      "\n",
      ";   (DEFGENERIC []& ...)\n",
      "\n",
      ";   (DEFGENERIC ORD-VALUE ...)\n",
      "\n",
      ";   (DEFGENERIC GET-QUALITY-VALUE ...)\n",
      "\n",
      ";   (DEFGENERIC COUNT-QUALITY-VALUE-LESS-THAN ...)\n",
      "\n",
      ";   (DEFGENERIC CALCULATE-QUALITY ...)\n",
      "\n",
      ";   (DEFUN MAKE-SIMPLE-SCORE ...)\n",
      "\n",
      ";   (DEFGENERIC APPEND-VALUE ...)\n",
      "\n",
      ";   (DEFGENERIC AT-END ...)\n",
      "\n",
      ";   (DEFGENERIC READ-RECORD ...)\n",
      "\n",
      ";   (DEFGENERIC TO-STRING ...)\n",
      "\n",
      ";   (DEFGENERIC MAKE-FINDER ...)\n",
      "\n",
      ";   (DEFGENERIC MAKE-PATTERN ...)\n",
      "\n",
      ";   (DEFGENERIC FIND ...)\n",
      "\n",
      ";   (DEFGENERIC GET-SCORE ...)\n",
      "\n",
      ";   (DEFGENERIC FIND-BEGIN ...)\n",
      "\n",
      ";   (DEFGENERIC BEGIN-POSITION ...)\n",
      "\n",
      ";   (DEFGENERIC END-POSITION ...)\n",
      "\n",
      ";   (DEFGENERIC INFIX-FINDER ...)\n",
      "\n",
      ";   (DEFGENERIC LENGTH ...)\n",
      "\n",
      ";   (DEFGENERIC TO-SOURCE-POSITION ...)\n",
      "\n",
      ";   (DEFGENERIC TO-VIEW-POSITION ...)\n",
      "\n",
      ";   (DEFGENERIC MAKE-ALIGN ...)\n",
      "\n",
      ";   (DEFGENERIC ROW& ...)\n",
      "\n",
      ";   (DEFGENERIC ROWS& ...)\n",
      "\n",
      ";   (DEFGENERIC RESIZE ...)\n",
      "\n",
      ";   (DEFGENERIC ASSIGN-SOURCE ...)\n",
      "\n",
      ";   (DEFGENERIC SET-BEGIN-POSITION ...)\n",
      "\n",
      ";   (DEFGENERIC INSERT-GAP ...)\n",
      "\n",
      ";   (DEFGENERIC INSERT-GAPS ...)\n",
      "\n",
      ";   (DEFUN MAKE-ALIGN-CONFIG ...)\n",
      "\n",
      ";   (DEFGENERIC GLOBAL-ALIGNMENT-ALL ...)\n",
      "\n",
      ";   (DEFGENERIC GLOBAL-ALIGNMENT-BANDED ...)\n",
      "\n",
      ";   (DEFMACRO GLOBAL-ALIGNMENT ...)\n",
      "\n",
      ";   (DEFGENERIC LOCAL-ALIGNMENT-ALL ...)\n",
      "\n",
      ";   (DEFGENERIC LOCAL-ALIGNMENT-BANDED ...)\n",
      "\n",
      ";   (DEFMACRO LOCAL-ALIGNMENT ...)\n",
      "Time real(1.631 secs) run(1.631 secs) consed(90814952 bytes) unwinds(8)\n"
     ]
    }
   ],
   "source": [
    "(asdf:load-system :seqan)"
   ]
  },
  {
   "cell_type": "code",
   "execution_count": 10,
   "id": "f420958d-8099-4940-948f-11a67c5df223",
   "metadata": {},
   "outputs": [
    {
     "name": "stdout",
     "output_type": "stream",
     "text": [
      "; Compiling file parallel: /Users/meister/Development/cando-main/extensions/seqan-clasp/src/packages.lisp\n",
      "\n",
      ";   (DEFPACKAGE :SEQAN ...)\n",
      "Time real(0.014 secs) run(0.015 secs) consed(537840 bytes) unwinds(0)\n",
      "; Compiling file parallel: /Users/meister/Development/cando-main/extensions/seqan-clasp/src/seqan.lisp\n",
      "\n",
      ";   (IN-PACKAGE :SEQAN)\n",
      "\n",
      ";   (DEFUN GET-ABSOLUTE-PATH ...)\n",
      "\n",
      ";   (DEFUN MAKE-SEQ-FILE-IN ...)\n",
      "\n",
      ";   (DEFUN MAKE-SEQ-FILE-OUT ...)\n",
      "\n",
      ";   (DEFGENERIC WRITE-RECORD ...)\n",
      "\n",
      ";   (DEFGENERIC CLOSE ...)\n",
      "\n",
      ";   (DEFGENERIC MAKE-STRING ...)\n",
      "\n",
      ";   (DEFGENERIC MAKE-STRING-SET ...)\n",
      "\n",
      ";   (DEFGENERIC []& ...)\n",
      "\n",
      ";   (DEFGENERIC ORD-VALUE ...)\n",
      "\n",
      ";   (DEFGENERIC GET-QUALITY-VALUE ...)\n",
      "\n",
      ";   (DEFGENERIC COUNT-QUALITY-VALUE-LESS-THAN ...)\n",
      "\n",
      ";   (DEFGENERIC CALCULATE-QUALITY ...)\n",
      "\n",
      ";   (DEFUN MAKE-SIMPLE-SCORE ...)\n",
      "\n",
      ";   (DEFGENERIC APPEND-VALUE ...)\n",
      "\n",
      ";   (DEFGENERIC AT-END ...)\n",
      "\n",
      ";   (DEFGENERIC READ-RECORD ...)\n",
      "\n",
      ";   (DEFGENERIC TO-STRING ...)\n",
      "\n",
      ";   (DEFGENERIC MAKE-FINDER ...)\n",
      "\n",
      ";   (DEFGENERIC MAKE-PATTERN ...)\n",
      "\n",
      ";   (DEFGENERIC FIND ...)\n",
      "\n",
      ";   (DEFGENERIC GET-SCORE ...)\n",
      "\n",
      ";   (DEFGENERIC FIND-BEGIN ...)\n",
      "\n",
      ";   (DEFGENERIC BEGIN-POSITION ...)\n",
      "\n",
      ";   (DEFGENERIC END-POSITION ...)\n",
      "\n",
      ";   (DEFGENERIC INFIX-FINDER ...)\n",
      "\n",
      ";   (DEFGENERIC LENGTH ...)\n",
      "\n",
      ";   (DEFGENERIC TO-SOURCE-POSITION ...)\n",
      "\n",
      ";   (DEFGENERIC TO-VIEW-POSITION ...)\n",
      "\n",
      ";   (DEFGENERIC MAKE-ALIGN ...)\n",
      "\n",
      ";   (DEFGENERIC ROW& ...)\n",
      "\n",
      ";   (DEFGENERIC ROWS& ...)\n",
      "\n",
      ";   (DEFGENERIC RESIZE ...)\n",
      "\n",
      ";   (DEFGENERIC ASSIGN-SOURCE ...)\n",
      "\n",
      ";   (DEFGENERIC SET-BEGIN-POSITION ...)\n",
      "\n",
      ";   (DEFGENERIC INSERT-GAP ...)\n",
      "\n",
      ";   (DEFGENERIC INSERT-GAPS ...)\n",
      "\n",
      ";   (DEFUN MAKE-ALIGN-CONFIG ...)\n",
      "\n",
      ";   (DEFGENERIC GLOBAL-ALIGNMENT-ALL ...)\n",
      "\n",
      ";   (DEFGENERIC GLOBAL-ALIGNMENT-BANDED ...)\n",
      "\n",
      ";   (DEFMACRO GLOBAL-ALIGNMENT ...)\n",
      "\n",
      ";   (DEFGENERIC LOCAL-ALIGNMENT-ALL ...)\n",
      "\n",
      ";   (DEFGENERIC LOCAL-ALIGNMENT-BANDED ...)\n",
      "\n",
      ";   (DEFMACRO LOCAL-ALIGNMENT ...)\n",
      "Time real(1.639 secs) run(1.640 secs) consed(90756968 bytes) unwinds(0)\n",
      "; Compiling file parallel: /Users/meister/del/deliscope/src/package.lisp\n",
      "\n",
      ";   (DEFPACKAGE :ANALYZE-DEL ...)\n",
      "Time real(0.016 secs) run(0.015 secs) consed(453600 bytes) unwinds(0)\n",
      "; Compiling file parallel: /Users/meister/del/deliscope/src/filter.lisp\n",
      "\n",
      ";   (IN-PACKAGE :ANALYZE-DEL)\n",
      "\n",
      ";   (DEFUN QUALITY-SUMMARY ...)\n",
      "\n",
      ";   (DEFUN GET-QUALITY-DATA ...)\n",
      "\n",
      ";   (DEFUN FILTER-SEQ-FILE ...)\n",
      "Time real(0.089 secs) run(0.089 secs) consed(3919312 bytes) unwinds(4)\n",
      "; Compiling file parallel: /Users/meister/del/deliscope/src/analyze.lisp\n"
     ]
    },
    {
     "data": {
      "text/plain": [
       "T"
      ]
     },
     "execution_count": 10,
     "metadata": {},
     "output_type": "execute_result"
    },
    {
     "name": "stdout",
     "output_type": "stream",
     "text": [
      "\n",
      ";   (IN-PACKAGE :ANALYZE-DEL)\n",
      "\n",
      ";   (DEFPARAMETER *SIMPLE-SCORE* ...)\n",
      "\n",
      ";   (DEFPARAMETER *ALIGN-CONFIG* ...)\n",
      "\n",
      ";   (DEFPARAMETER *DEL-CODE-FORMAT* ...)\n",
      "\n",
      ";   (DEFPARAMETER *MINIMUM-PHRED-QUALITY* ...)\n",
      "\n",
      ";   (DEFPARAMETER *LOW-QUALITY-MAX* ...)\n",
      "\n",
      ";   (DEFPARAMETER *MINIMUM-COUNTS* ...)\n",
      "\n",
      ";   (DEFCLASS ANALYSIS ...)\n",
      "\n",
      ";   (DEFMETHOD SUMMARIZE ...)\n",
      "\n",
      ";   (DEFCLASS ALL-CODES ...)\n",
      "\n",
      ";   (DEFCLASS COLUMN-CODES ...)\n",
      "\n",
      ";   (DEFCLASS ONE-CODE ...)\n",
      "\n",
      ";   (DEFMETHOD PRINT-OBJECT ...)\n",
      "\n",
      ";   (DEFCLASS MATCH ...)\n",
      "\n",
      ";   (DEFMETHOD PRINT-OBJECT ...)\n",
      "\n",
      ";   (DEFUN HAMMING-DISTANCE ...)\n",
      "\n",
      ";   (DEFUN HAMMING-MATRIX ...)\n",
      "\n",
      ";   (DEFUN CALCULATE-DEL-NAME ...)\n",
      "\n",
      ";   (DEFUN JOIN-DEL-CODES ...)\n",
      "\n",
      ";   (DEFUN BUILD-CODES-FOR-COLUMN ...)\n",
      "\n",
      ";   (DEFVAR *ALL-CODES* ...)\n",
      "\n",
      ";   (DEFUN LOAD-ENCODING ...)\n",
      "\n",
      ";   (DEFPARAMETER *LIBRARY-CODE* ...)\n",
      "\n",
      ";   (DEFUN SET-FILTER ...)\n",
      "\n",
      ";   (DEFUN ANALYZE-COLUMN-USING-ALIGN ...)\n",
      "\n",
      ";   (DEFUN ANALYZE-COLUMN-FAST ...)\n",
      "\n",
      ";   (DEFUN ANALYZE-COLUMN ...)\n",
      "\n",
      ";   (DEFUN ANALYZE-FORWARD-PRIMER ...)\n",
      "\n",
      ";   (DEFUN ANALYZE-SEQUENCE ...)\n",
      "\n",
      ";   (DEFVAR *ANALYSIS* ...)\n",
      "\n",
      ";   (DEFVAR *ORIGINAL-ANALYSIS* ...)\n",
      "\n",
      ";   (DEFVAR *COMMON-SEQUENCES* ...)\n",
      "\n",
      ";   (DEFVAR *BEAD-SPECIFIC ...)\n",
      "\n",
      ";   (DEFUN CLEAR-ANALYSIS ...)\n",
      "\n",
      ";   (DEFUN ACCEPT-RESULT ...)\n",
      "\n",
      ";   (DEFUN ANALYZE-SEQ-FILE ...)\n",
      "\n",
      ";   (DEFUN ANALYZE ...)\n",
      "\n",
      ";   (DEFUN SERIAL-ANALYZE ...)\n",
      "\n",
      ";   (DEFUN PARALLEL-ANALYZE ...)\n",
      "\n",
      ";   (DEFUN SAVE-CSV ...)\n",
      "\n",
      ";   (DEFUN SEQUENCE-SURVEY ...)\n",
      "\n",
      ";   (DEFUN SHOW-HASH-TABLE ...)\n",
      "\n",
      ";   (DEFUN SEARCH-LIBRARY-CODE ...)\n",
      "\n",
      ";   (DEFUN LIBRARY-CODES ...)\n",
      "\n",
      ";   (DEFUN BEAD-CODES ...)\n",
      "\n",
      ";   (DEFUN SAVE-RESULTS ...)\n",
      "\n",
      ";   (DEFUN LOAD-RESULTS ...)\n",
      "\n",
      ";   (DEFUN JOIN-CODONS ...)\n",
      "\n",
      ";   (DEFUN SEQUENCE-COUNTS ...)\n",
      "\n",
      ";   (DEFUN FILTER-SEQUENCES ...)\n",
      "\n",
      ";   (DEFUN BEAD-SPECIFIC-COUNTS ...)\n",
      "\n",
      ";   (DEFUN MERGE-HITS ...)\n",
      "\n",
      ";   (DEFVAR *HITS* ...)\n",
      "\n",
      ";   (DEFUN SORT-HITS ...)\n",
      "\n",
      ";   (DEFUN MULTIPLE-REDUNDANT ...)\n",
      "Time real(1.033 secs) run(1.033 secs) consed(52559600 bytes) unwinds(44)\n"
     ]
    }
   ],
   "source": [
    "(asdf:load-system :deliscope)"
   ]
  },
  {
   "cell_type": "markdown",
   "id": "20e6e848-2846-4f2c-91a3-87f1c6023ddc",
   "metadata": {},
   "source": [
    "## Load the DNA encoding scheme"
   ]
  },
  {
   "cell_type": "code",
   "execution_count": 13,
   "id": "1b91d089-963e-4bd7-bcb8-b048ccd9736c",
   "metadata": {
    "tags": []
   },
   "outputs": [
    {
     "data": {
      "text/plain": [
       "#<ANALYZE-DEL::ALL-CODES>"
      ]
     },
     "execution_count": 13,
     "metadata": {},
     "output_type": "execute_result"
    },
    {
     "name": "stdout",
     "output_type": "stream",
     "text": [
      "1x sequences hamming distances\n",
      "#2A((0 3 4 4 3 5 3 4)\n",
      " (0 0 5 3 3 3 4 3)\n",
      " (0 0 0 5 6 7 6 6)\n",
      " (0 0 0 0 5 4 3 4)\n",
      " (0 0 0 0 0 3 4 5)\n",
      " (0 0 0 0 0 0 6 5)\n",
      " (0 0 0 0 0 0 0 4)\n",
      " (0 0 0 0 0 0 0 0))\n",
      "2x sequences hamming distances\n",
      "#2A((0 5 6 4 7 4 5 5)\n",
      " (0 0 4 3 5 3 6 7)\n",
      " (0 0 0 6 6 5 5 5)\n",
      " (0 0 0 0 4 6 6 7)\n",
      " (0 0 0 0 0 5 3 5)\n",
      " (0 0 0 0 0 0 5 4)\n",
      " (0 0 0 0 0 0 0 3)\n",
      " (0 0 0 0 0 0 0 0))\n",
      "Codon offsets\n",
      "0 14\n",
      "11 25\n",
      "22 36\n",
      "33 47\n",
      "44 58\n",
      "55 69\n",
      "66 80\n",
      "77 91\n",
      "88 102\n",
      "99 113\n"
     ]
    }
   ],
   "source": [
    "(ad:load-encoding \"data/talon-bart/del-codes\")"
   ]
  },
  {
   "cell_type": "markdown",
   "id": "7015902a-ff13-4ac5-882c-4b3a9caeb419",
   "metadata": {},
   "source": [
    "## Load the sequence analysis results"
   ]
  },
  {
   "cell_type": "code",
   "execution_count": 16,
   "id": "e4b2f348-f2e6-4a2d-9f81-e5965114d5cf",
   "metadata": {},
   "outputs": [
    {
     "data": {
      "text/plain": [
       "#P\"/Users/meister/del/\""
      ]
     },
     "execution_count": 16,
     "metadata": {},
     "output_type": "execute_result"
    }
   ],
   "source": [
    "*default-pathname-defaults*"
   ]
  },
  {
   "cell_type": "code",
   "execution_count": 15,
   "id": "59a16f93-5390-424c-a0cb-b02a2eeae81d",
   "metadata": {},
   "outputs": [
    {
     "ename": "FILE-ERROR",
     "evalue": "Filesystem error with pathname \"data/talon-bart/s1-trim.anal\".\nEither\n 1) the file does not exist, or\n 2) we are not allowed to access the file, or\n 3) the pathname points to a broken symbolic link.",
     "output_type": "error",
     "traceback": [
      "5: (OPEN)",
      "6: (OPEN data/talon-bart/s1-trim.anal DIRECTION INPUT)",
      "7: (ANALYZE-DEL:LOAD-RESULTS)",
      "8: (ANALYZE-DEL:LOAD-RESULTS data/talon-bart/s1-trim.anal)",
      "9: ((LAMBDA NIL))",
      "10: ((LAMBDA NIL))",
      "11: ((METHOD CLASP-CLEAVIR::CCLASP-EVAL-WITH-ENV (T T)) (LOCALLY (DECLARE (SPECIAL *TRIM1*)) (EVAL-WHEN (COMPILE-TOPLEVEL LOAD-TOPLEVEL EXECUTE) (*MAKE-SPECIAL '*TRIM1*)) (SETQ *TRIM1* (LOAD-RESULTS data/talon-bart/s1-trim.anal)) '*TRIM1*) NIL)",
      "15: ((LABELS CLASP-CLEAVIR::EVAL-PROGN))",
      "16: (CLASP-CLEAVIR::SIMPLE-EVAL (PROGN (DEFPARAMETER *TRIM1* (LOAD-RESULTS data/talon-bart/s1-trim.anal)) (DEFPARAMETER *TRIM2* (LOAD-RESULTS s2-trim.anal)) (DEFPARAMETER *FULL1* (LOAD-RESULTS s1-full.anal)) (DEFPARAMETER *FULL2* (LOAD-RESULTS s2-full.anal))) NIL #<STANDARD-GENERIC-FUNCTION CLASP-CLEAVIR::CCLASP-EVAL-WITH-ENV>)",
      "17: (CLASP-CLEAVIR::CCLASP-EVAL (PROGN (DEFPARAMETER *TRIM1* (LOAD-RESULTS data/talon-bart/s1-trim.anal)) (DEFPARAMETER *TRIM2* (LOAD-RESULTS s2-trim.anal)) (DEFPARAMETER *FULL1* (LOAD-RESULTS s1-full.anal)) (DEFPARAMETER *FULL2* (LOAD-RESULTS s2-full.anal))) NIL)",
      "19: (EVAL (PROGN (DEFPARAMETER *TRIM1* (LOAD-RESULTS data/talon-bart/s1-trim.anal)) (DEFPARAMETER *TRIM2* (LOAD-RESULTS s2-trim.anal)) (DEFPARAMETER *FULL1* (LOAD-RESULTS s1-full.anal)) (DEFPARAMETER *FULL2* (LOAD-RESULTS s2-full.anal))))",
      "20: (COMMON-LISP-JUPYTER::MY-EVAL)",
      "21: (COMMON-LISP-JUPYTER::MY-EVAL (PROGN (DEFPARAMETER *TRIM1* (LOAD-RESULTS data/talon-bart/s1-trim.anal)) (DEFPARAMETER *TRIM2* (LOAD-RESULTS s2-trim.anal)) (DEFPARAMETER *FULL1* (LOAD-RESULTS s1-full.anal)) (DEFPARAMETER *FULL2* (LOAD-RESULTS s2-full.anal))))",
      "22: ((METHOD JUPYTER:EVALUATE-CODE (COMMON-LISP-JUPYTER:KERNEL T)))",
      "23: ((METHOD JUPYTER:EVALUATE-CODE (COMMON-LISP-JUPYTER:KERNEL T)) #<CANDO-JUPYTER:KERNEL> (progn\n  (defparameter *trim1* (ad::load-results \"data/talon-bart/s1-trim.anal\"))\n  (defparameter *trim2* (ad::load-results \"s2-trim.anal\"))\n  (defparameter *full1* (ad::load-results \"s1-full.anal\"))\n  (defparameter *full2* (ad::load-results \"s2-full.anal\"))))",
      "24: ((METHOD JUPYTER:EVALUATE-CODE (CANDO-JUPYTER:KERNEL T)) #<FUNCTION (METHOD EVALUATE-CODE (KERNEL T))> #<CANDO-JUPYTER:KERNEL> (progn\n  (defparameter *trim1* (ad::load-results \"data/talon-bart/s1-trim.anal\"))\n  (defparameter *trim2* (ad::load-results \"s2-trim.anal\"))\n  (defparameter *full1* (ad::load-results \"s1-full.anal\"))\n  (defparameter *full2* (ad::load-results \"s2-full.anal\"))))",
      "27: (CLOS::EMF-FROM-CONTF.LAMBDA #<CANDO-JUPYTER:KERNEL> (progn\n  (defparameter *trim1* (ad::load-results \"data/talon-bart/s1-trim.anal\"))\n  (defparameter *trim2* (ad::load-results \"s2-trim.anal\"))\n  (defparameter *full1* (ad::load-results \"s1-full.anal\"))\n  (defparameter *full2* (ad::load-results \"s2-full.anal\"))))",
      "31: (JUPYTER::HANDLE-EXECUTE-REQUEST)",
      "32: (JUPYTER::HANDLE-EXECUTE-REQUEST)",
      "36: (CORE:CATCH-FUNCTION KERNEL-INTERRUPT #<FUNCTION CATCH-LAMBDA>)",
      "40: (CORE:CATCH-FUNCTION KERNEL-SHUTDOWN #<FUNCTION CATCH-LAMBDA>)",
      "41: (JUPYTER::RUN-SHELL)",
      "42: (JUPYTER::RUN-SHELL #<CANDO-JUPYTER:KERNEL>)",
      "43: ((LAMBDA NIL))",
      "46: (CORE:PROGV-FUNCTION NIL NIL #<FUNCTION PROGV-LAMBDA>)",
      "47: ((LAMBDA NIL))",
      "48: ((LAMBDA NIL))"
     ]
    },
    {
     "name": "stderr",
     "output_type": "stream",
     "text": [
      "#<DISSECT:ENVIRONMENT>\n",
      "   [Environment of thread #<PROCESS \"SHELL Thread\" @0x1249a2d51 (Running)>]\n",
      "\n",
      "Filesystem error with pathname \"data/talon-bart/s1-trim.anal\".\n",
      "Either\n",
      " 1) the file does not exist, or\n",
      " 2) we are not allowed to access the file, or\n",
      " 3) the pathname points to a broken symbolic link.\n",
      "   [Condition of type FILE-ERROR]\n",
      "\n",
      "\n",
      "Backtrace:\n",
      " 5: (OPEN)\n",
      " 6: (OPEN data/talon-bart/s1-trim.anal DIRECTION INPUT)\n",
      " 7: (ANALYZE-DEL:LOAD-RESULTS)\n",
      " 8: (ANALYZE-DEL:LOAD-RESULTS data/talon-bart/s1-trim.anal)\n",
      " 9: ((LAMBDA NIL))\n",
      " 10: ((LAMBDA NIL))\n",
      " 11: ((METHOD CLASP-CLEAVIR::CCLASP-EVAL-WITH-ENV (T T)) (LOCALLY (DECLARE (SPECIAL *TRIM1*)) (EVAL-WHEN (COMPILE-TOPLEVEL LOAD-TOPLEVEL EXECUTE) (*MAKE-SPECIAL '*TRIM1*)) (SETQ *TRIM1* (LOAD-RESULTS data/talon-bart/s1-trim.anal)) '*TRIM1*) NIL)\n",
      " 15: ((LABELS CLASP-CLEAVIR::EVAL-PROGN))\n",
      " 16: (CLASP-CLEAVIR::SIMPLE-EVAL (PROGN (DEFPARAMETER *TRIM1* (LOAD-RESULTS data/talon-bart/s1-trim.anal)) (DEFPARAMETER *TRIM2* (LOAD-RESULTS s2-trim.anal)) (DEFPARAMETER *FULL1* (LOAD-RESULTS s1-full.anal)) (DEFPARAMETER *FULL2* (LOAD-RESULTS s2-full.anal))) NIL #<STANDARD-GENERIC-FUNCTION CLASP-CLEAVIR::CCLASP-EVAL-WITH-ENV>)\n",
      " 17: (CLASP-CLEAVIR::CCLASP-EVAL (PROGN (DEFPARAMETER *TRIM1* (LOAD-RESULTS data/talon-bart/s1-trim.anal)) (DEFPARAMETER *TRIM2* (LOAD-RESULTS s2-trim.anal)) (DEFPARAMETER *FULL1* (LOAD-RESULTS s1-full.anal)) (DEFPARAMETER *FULL2* (LOAD-RESULTS s2-full.anal))) NIL)\n",
      " 19: (EVAL (PROGN (DEFPARAMETER *TRIM1* (LOAD-RESULTS data/talon-bart/s1-trim.anal)) (DEFPARAMETER *TRIM2* (LOAD-RESULTS s2-trim.anal)) (DEFPARAMETER *FULL1* (LOAD-RESULTS s1-full.anal)) (DEFPARAMETER *FULL2* (LOAD-RESULTS s2-full.anal))))\n",
      " 20: (COMMON-LISP-JUPYTER::MY-EVAL)\n",
      " 21: (COMMON-LISP-JUPYTER::MY-EVAL (PROGN (DEFPARAMETER *TRIM1* (LOAD-RESULTS data/talon-bart/s1-trim.anal)) (DEFPARAMETER *TRIM2* (LOAD-RESULTS s2-trim.anal)) (DEFPARAMETER *FULL1* (LOAD-RESULTS s1-full.anal)) (DEFPARAMETER *FULL2* (LOAD-RESULTS s2-full.anal))))\n",
      " 22: ((METHOD JUPYTER:EVALUATE-CODE (COMMON-LISP-JUPYTER:KERNEL T)))\n",
      " 23: ((METHOD JUPYTER:EVALUATE-CODE (COMMON-LISP-JUPYTER:KERNEL T)) #<CANDO-JUPYTER:KERNEL> (progn\n",
      "  (defparameter *trim1* (ad::load-results \"data/talon-bart/s1-trim.anal\"))\n",
      "  (defparameter *trim2* (ad::load-results \"s2-trim.anal\"))\n",
      "  (defparameter *full1* (ad::load-results \"s1-full.anal\"))\n",
      "  (defparameter *full2* (ad::load-results \"s2-full.anal\"))))\n",
      " 24: ((METHOD JUPYTER:EVALUATE-CODE (CANDO-JUPYTER:KERNEL T)) #<FUNCTION (METHOD EVALUATE-CODE (KERNEL T))> #<CANDO-JUPYTER:KERNEL> (progn\n",
      "  (defparameter *trim1* (ad::load-results \"data/talon-bart/s1-trim.anal\"))\n",
      "  (defparameter *trim2* (ad::load-results \"s2-trim.anal\"))\n",
      "  (defparameter *full1* (ad::load-results \"s1-full.anal\"))\n",
      "  (defparameter *full2* (ad::load-results \"s2-full.anal\"))))\n",
      " 27: (CLOS::EMF-FROM-CONTF.LAMBDA #<CANDO-JUPYTER:KERNEL> (progn\n",
      "  (defparameter *trim1* (ad::load-results \"data/talon-bart/s1-trim.anal\"))\n",
      "  (defparameter *trim2* (ad::load-results \"s2-trim.anal\"))\n",
      "  (defparameter *full1* (ad::load-results \"s1-full.anal\"))\n",
      "  (defparameter *full2* (ad::load-results \"s2-full.anal\"))))\n",
      " 31: (JUPYTER::HANDLE-EXECUTE-REQUEST)\n",
      " 32: (JUPYTER::HANDLE-EXECUTE-REQUEST)\n",
      " 36: (CORE:CATCH-FUNCTION KERNEL-INTERRUPT #<FUNCTION CATCH-LAMBDA>)\n",
      " 40: (CORE:CATCH-FUNCTION KERNEL-SHUTDOWN #<FUNCTION CATCH-LAMBDA>)\n",
      " 41: (JUPYTER::RUN-SHELL)\n",
      " 42: (JUPYTER::RUN-SHELL #<CANDO-JUPYTER:KERNEL>)\n",
      " 43: ((LAMBDA NIL))\n",
      " 46: (CORE:PROGV-FUNCTION NIL NIL #<FUNCTION PROGV-LAMBDA>)\n",
      " 47: ((LAMBDA NIL))\n",
      " 48: ((LAMBDA NIL))"
     ]
    }
   ],
   "source": [
    "(progn\n",
    "  (defparameter *trim1* (ad::load-results \"data/talon-bart/s1-trim.anal\"))\n",
    "  (defparameter *trim2* (ad::load-results \"s2-trim.anal\"))\n",
    "  (defparameter *full1* (ad::load-results \"s1-full.anal\"))\n",
    "  (defparameter *full2* (ad::load-results \"s2-full.anal\")))"
   ]
  },
  {
   "cell_type": "code",
   "execution_count": 137,
   "id": "ba7912d7-d7d6-4327-bb4e-2e7c48772d2d",
   "metadata": {},
   "outputs": [
    {
     "data": {
      "text/plain": [
       "NIL"
      ]
     },
     "execution_count": 137,
     "metadata": {},
     "output_type": "execute_result"
    },
    {
     "name": "stdout",
     "output_type": "stream",
     "text": [
      "Files:\n",
      "(/HOME/MEISTER/DEVELOPMENT/HIDRIVE/ORIGINALS/487-4_S1_L001_R1_001.FASTQ\n",
      " /HOME/MEISTER/DEVELOPMENT/HIDRIVE/ORIGINALS/487-4_S1_L002_R1_001.FASTQ\n",
      " /HOME/MEISTER/DEVELOPMENT/HIDRIVE/ORIGINALS/487-4_S1_L003_R1_001.FASTQ\n",
      " /HOME/MEISTER/DEVELOPMENT/HIDRIVE/ORIGINALS/487-4_S1_L004_R1_001.FASTQ)\n",
      "Total sequences: 65381573\n",
      "Good sequences:  38237114\n",
      "Sample sequences:\n",
      "(\"1101\" \"2209\" \"1301\" \"2406\" \"1503\" \"2605\" \"1705\" \"2802\" \"1902\" \"2A02\") 2017\n",
      "(\"1101\" \"2209\" \"1301\" \"2406\" \"1503\" \"2601\" \"1705\" \"2802\" \"1902\" \"2A02\") 388\n",
      "(\"1101\" \"2202\" \"1302\" \"2405\" \"1507\" \"2608\" \"1706\" \"2806\" \"1902\" \"2A02\") 1\n",
      "(\"1101\" \"2202\" \"1305\" \"2402\" \"1509\" \"2602\" \"1702\" \"2805\" \"1902\" \"2A02\") 1\n",
      "(\"1101\" \"2203\" \"1303\" \"2406\" \"1502\" \"2605\" \"1710\" \"2805\" \"1902\" \"2A02\") 1\n",
      "(\"1101\" \"2210\" \"1308\" \"2402\" \"1506\" \"2608\" \"1701\" \"2809\" \"1902\" \"2A02\") 1\n",
      "(\"1101\" \"2203\" \"1303\" \"2406\" \"1502\" \"2605\" \"1705\" \"2802\" \"1902\" \"2A02\") 1\n",
      "(\"1101\" \"2208\" \"1306\" \"2402\" \"1502\" \"2605\" \"1709\" \"2807\" \"1902\" \"2A02\") 1\n",
      "(\"1101\" \"2207\" \"1301\" \"2407\" \"1502\" \"2602\" \"1710\" \"2804\" \"1902\" \"2A02\") 1\n",
      "(\"1101\" \"2209\" \"1301\" \"2406\" \"1503\" \"2602\" \"1705\" \"2802\" \"1902\" \"2A02\") 1849\n",
      "(\"1101\" \"2202\" \"1305\" \"2402\" \"1510\" \"2602\" \"1702\" \"2808\" \"1902\" \"2A02\") 73815\n",
      "(\"1101\" \"2208\" \"1305\" \"2402\" \"1502\" \"2605\" \"1709\" \"2807\" \"1902\" \"2A02\") 1187438\n",
      "(\"1101\" \"2207\" \"1302\" \"2405\" \"1507\" \"2608\" \"1706\" \"2809\" \"1902\" \"2A02\") 427587\n",
      "(\"1101\" \"2202\" \"1305\" \"2402\" \"1509\" \"2610\" \"1702\" \"2808\" \"1902\" \"2A02\") 898974\n",
      "(\"1101\" \"2204\" \"1307\" \"2404\" \"1507\" \"2603\" \"1705\" \"2808\" \"1902\" \"2A02\") 78140\n",
      "(\"1101\" \"2202\" \"1305\" \"2402\" \"1509\" \"2602\" \"1702\" \"2808\" \"1902\" \"2A02\") 372859\n",
      "There are 1507 entries\n"
     ]
    }
   ],
   "source": [
    "(ad::summarize *full1*)"
   ]
  },
  {
   "cell_type": "code",
   "execution_count": 138,
   "id": "f1ff1872-3fb6-4548-a885-ffac077bb94d",
   "metadata": {},
   "outputs": [
    {
     "data": {
      "application/vnd.vegalite.v4+json": {
       "$schema": "https://vega.github.io/schema/vega-lite/v5.json",
       "data": {
        "values": [
         {
          "x": 0,
          "y": 0
         },
         {
          "x": 1,
          "y": 0
         },
         {
          "x": 2,
          "y": 0
         },
         {
          "x": 3,
          "y": 0
         },
         {
          "x": 4,
          "y": 0
         },
         {
          "x": 5,
          "y": 0
         },
         {
          "x": 6,
          "y": 0
         },
         {
          "x": 7,
          "y": 0
         },
         {
          "x": 8,
          "y": 0
         },
         {
          "x": 9,
          "y": 0
         },
         {
          "x": 10,
          "y": 0
         },
         {
          "x": 11,
          "y": 0
         },
         {
          "x": 12,
          "y": 0
         },
         {
          "x": 13,
          "y": 0
         },
         {
          "x": 14,
          "y": 0
         },
         {
          "x": 15,
          "y": 0
         },
         {
          "x": 16,
          "y": 0
         },
         {
          "x": 17,
          "y": 0
         },
         {
          "x": 18,
          "y": 0
         },
         {
          "x": 19,
          "y": 0
         },
         {
          "x": 20,
          "y": 0
         },
         {
          "x": 21,
          "y": 0
         },
         {
          "x": 22,
          "y": 0
         },
         {
          "x": 23,
          "y": 0
         },
         {
          "x": 24,
          "y": 0
         },
         {
          "x": 25,
          "y": 0
         },
         {
          "x": 26,
          "y": 0
         },
         {
          "x": 27,
          "y": 0
         },
         {
          "x": 28,
          "y": 0
         },
         {
          "x": 29,
          "y": 0
         },
         {
          "x": 30,
          "y": 0
         },
         {
          "x": 31,
          "y": 0
         },
         {
          "x": 32,
          "y": 0
         },
         {
          "x": 33,
          "y": 0
         },
         {
          "x": 34,
          "y": 0
         },
         {
          "x": 35,
          "y": 0
         },
         {
          "x": 36,
          "y": 0
         },
         {
          "x": 37,
          "y": 0
         },
         {
          "x": 38,
          "y": 0
         },
         {
          "x": 39,
          "y": 0
         },
         {
          "x": 40,
          "y": 0
         },
         {
          "x": 41,
          "y": 0
         },
         {
          "x": 42,
          "y": 0
         },
         {
          "x": 43,
          "y": 0
         },
         {
          "x": 44,
          "y": 0
         },
         {
          "x": 45,
          "y": 0
         },
         {
          "x": 46,
          "y": 0
         },
         {
          "x": 47,
          "y": 0
         },
         {
          "x": 48,
          "y": 0
         },
         {
          "x": 49,
          "y": 0
         },
         {
          "x": 50,
          "y": 0
         },
         {
          "x": 51,
          "y": 0
         },
         {
          "x": 52,
          "y": 0
         },
         {
          "x": 53,
          "y": 0
         },
         {
          "x": 54,
          "y": 0
         },
         {
          "x": 55,
          "y": 0
         },
         {
          "x": 56,
          "y": 0
         },
         {
          "x": 57,
          "y": 0
         },
         {
          "x": 58,
          "y": 0
         },
         {
          "x": 59,
          "y": 0
         },
         {
          "x": 60,
          "y": 0
         },
         {
          "x": 61,
          "y": 0
         },
         {
          "x": 62,
          "y": 0
         },
         {
          "x": 63,
          "y": 0
         },
         {
          "x": 64,
          "y": 0
         },
         {
          "x": 65,
          "y": 0
         },
         {
          "x": 66,
          "y": 0
         },
         {
          "x": 67,
          "y": 0
         },
         {
          "x": 68,
          "y": 0
         },
         {
          "x": 69,
          "y": 0
         },
         {
          "x": 70,
          "y": 0
         },
         {
          "x": 71,
          "y": 0
         },
         {
          "x": 72,
          "y": 0
         },
         {
          "x": 73,
          "y": 0
         },
         {
          "x": 74,
          "y": 0
         },
         {
          "x": 75,
          "y": 0
         },
         {
          "x": 76,
          "y": 0
         },
         {
          "x": 77,
          "y": 0
         },
         {
          "x": 78,
          "y": 0
         },
         {
          "x": 79,
          "y": 0
         },
         {
          "x": 80,
          "y": 0
         },
         {
          "x": 81,
          "y": 0
         },
         {
          "x": 82,
          "y": 0
         },
         {
          "x": 83,
          "y": 0
         },
         {
          "x": 84,
          "y": 0
         },
         {
          "x": 85,
          "y": 0
         },
         {
          "x": 86,
          "y": 0
         },
         {
          "x": 87,
          "y": 0
         },
         {
          "x": 88,
          "y": 0
         },
         {
          "x": 89,
          "y": 0
         },
         {
          "x": 90,
          "y": 0
         },
         {
          "x": 91,
          "y": 0
         },
         {
          "x": 92,
          "y": 0
         },
         {
          "x": 93,
          "y": 0
         },
         {
          "x": 94,
          "y": 0
         },
         {
          "x": 95,
          "y": 0
         },
         {
          "x": 96,
          "y": 0
         },
         {
          "x": 97,
          "y": 0
         },
         {
          "x": 98,
          "y": 0
         },
         {
          "x": 99,
          "y": 0
         },
         {
          "x": 100,
          "y": 0
         },
         {
          "x": 101,
          "y": 0
         },
         {
          "x": 102,
          "y": 0
         },
         {
          "x": 103,
          "y": 0
         },
         {
          "x": 104,
          "y": 0
         },
         {
          "x": 105,
          "y": 0
         },
         {
          "x": 106,
          "y": 0
         },
         {
          "x": 107,
          "y": 0
         },
         {
          "x": 108,
          "y": 0
         },
         {
          "x": 109,
          "y": 0
         },
         {
          "x": 110,
          "y": 0
         },
         {
          "x": 111,
          "y": 0
         },
         {
          "x": 112,
          "y": 0
         },
         {
          "x": 113,
          "y": 0
         },
         {
          "x": 114,
          "y": 0
         },
         {
          "x": 115,
          "y": 0
         },
         {
          "x": 116,
          "y": 0
         },
         {
          "x": 117,
          "y": 0
         },
         {
          "x": 118,
          "y": 0
         },
         {
          "x": 119,
          "y": 0
         },
         {
          "x": 120,
          "y": 0
         },
         {
          "x": 121,
          "y": 0
         },
         {
          "x": 122,
          "y": 0
         },
         {
          "x": 123,
          "y": 0
         },
         {
          "x": 124,
          "y": 0
         },
         {
          "x": 125,
          "y": 0
         },
         {
          "x": 126,
          "y": 0
         },
         {
          "x": 127,
          "y": 0
         },
         {
          "x": 128,
          "y": 0
         },
         {
          "x": 129,
          "y": 0
         },
         {
          "x": 130,
          "y": 0
         },
         {
          "x": 131,
          "y": 0
         },
         {
          "x": 132,
          "y": 0
         },
         {
          "x": 133,
          "y": 0
         },
         {
          "x": 134,
          "y": 0
         },
         {
          "x": 135,
          "y": 0
         },
         {
          "x": 136,
          "y": 0
         },
         {
          "x": 137,
          "y": 0
         },
         {
          "x": 138,
          "y": 0
         },
         {
          "x": 139,
          "y": 0
         },
         {
          "x": 140,
          "y": 0
         },
         {
          "x": 141,
          "y": 0
         },
         {
          "x": 142,
          "y": 0
         },
         {
          "x": 143,
          "y": 0
         },
         {
          "x": 144,
          "y": 0
         },
         {
          "x": 145,
          "y": 0
         },
         {
          "x": 146,
          "y": 0
         },
         {
          "x": 147,
          "y": 0
         },
         {
          "x": 148,
          "y": 0
         },
         {
          "x": 149,
          "y": 0
         },
         {
          "x": 150,
          "y": 0
         },
         {
          "x": 151,
          "y": 0
         },
         {
          "x": 152,
          "y": 0
         },
         {
          "x": 153,
          "y": 0
         },
         {
          "x": 154,
          "y": 0
         },
         {
          "x": 155,
          "y": 0
         },
         {
          "x": 156,
          "y": 0
         },
         {
          "x": 157,
          "y": 0
         },
         {
          "x": 158,
          "y": 0
         },
         {
          "x": 159,
          "y": 0
         },
         {
          "x": 160,
          "y": 0
         },
         {
          "x": 161,
          "y": 0
         },
         {
          "x": 162,
          "y": 0
         },
         {
          "x": 163,
          "y": 0
         },
         {
          "x": 164,
          "y": 0
         },
         {
          "x": 165,
          "y": 0
         },
         {
          "x": 166,
          "y": 0
         },
         {
          "x": 167,
          "y": 0
         },
         {
          "x": 168,
          "y": 0
         },
         {
          "x": 169,
          "y": 0
         },
         {
          "x": 170,
          "y": 0
         },
         {
          "x": 171,
          "y": 0
         },
         {
          "x": 172,
          "y": 0
         },
         {
          "x": 173,
          "y": 0
         },
         {
          "x": 174,
          "y": 0
         },
         {
          "x": 175,
          "y": 0
         },
         {
          "x": 176,
          "y": 0
         },
         {
          "x": 177,
          "y": 0
         },
         {
          "x": 178,
          "y": 0
         },
         {
          "x": 179,
          "y": 0
         },
         {
          "x": 180,
          "y": 0
         },
         {
          "x": 181,
          "y": 0
         },
         {
          "x": 182,
          "y": 0
         },
         {
          "x": 183,
          "y": 0
         },
         {
          "x": 184,
          "y": 0
         },
         {
          "x": 185,
          "y": 0
         },
         {
          "x": 186,
          "y": 0
         },
         {
          "x": 187,
          "y": 0
         },
         {
          "x": 188,
          "y": 0
         },
         {
          "x": 189,
          "y": 0
         },
         {
          "x": 190,
          "y": 0
         },
         {
          "x": 191,
          "y": 0
         },
         {
          "x": 192,
          "y": 0
         },
         {
          "x": 193,
          "y": 0
         },
         {
          "x": 194,
          "y": 0
         },
         {
          "x": 195,
          "y": 0
         },
         {
          "x": 196,
          "y": 0
         },
         {
          "x": 197,
          "y": 0
         },
         {
          "x": 198,
          "y": 0
         },
         {
          "x": 199,
          "y": 0
         },
         {
          "x": 200,
          "y": 0
         },
         {
          "x": 201,
          "y": 0
         },
         {
          "x": 202,
          "y": 0
         },
         {
          "x": 203,
          "y": 0
         },
         {
          "x": 204,
          "y": 0
         },
         {
          "x": 205,
          "y": 0
         },
         {
          "x": 206,
          "y": 0
         },
         {
          "x": 207,
          "y": 0
         },
         {
          "x": 208,
          "y": 0
         },
         {
          "x": 209,
          "y": 0
         },
         {
          "x": 210,
          "y": 0
         },
         {
          "x": 211,
          "y": 0
         },
         {
          "x": 212,
          "y": 0
         },
         {
          "x": 213,
          "y": 0
         },
         {
          "x": 214,
          "y": 0
         },
         {
          "x": 215,
          "y": 0
         },
         {
          "x": 216,
          "y": 0
         },
         {
          "x": 217,
          "y": 0
         },
         {
          "x": 218,
          "y": 0
         },
         {
          "x": 219,
          "y": 0
         },
         {
          "x": 220,
          "y": 0
         },
         {
          "x": 221,
          "y": 0
         },
         {
          "x": 222,
          "y": 0
         },
         {
          "x": 223,
          "y": 0
         },
         {
          "x": 224,
          "y": 0
         },
         {
          "x": 225,
          "y": 0
         },
         {
          "x": 226,
          "y": 0
         },
         {
          "x": 227,
          "y": 0
         },
         {
          "x": 228,
          "y": 0
         },
         {
          "x": 229,
          "y": 0
         },
         {
          "x": 230,
          "y": 0
         },
         {
          "x": 231,
          "y": 0
         },
         {
          "x": 232,
          "y": 0
         },
         {
          "x": 233,
          "y": 0
         },
         {
          "x": 234,
          "y": 0
         },
         {
          "x": 235,
          "y": 0
         },
         {
          "x": 236,
          "y": 0
         },
         {
          "x": 237,
          "y": 0
         },
         {
          "x": 238,
          "y": 0
         },
         {
          "x": 239,
          "y": 0
         },
         {
          "x": 240,
          "y": 0
         },
         {
          "x": 241,
          "y": 0
         },
         {
          "x": 242,
          "y": 0
         },
         {
          "x": 243,
          "y": 0
         },
         {
          "x": 244,
          "y": 0
         },
         {
          "x": 245,
          "y": 0
         },
         {
          "x": 246,
          "y": 0
         },
         {
          "x": 247,
          "y": 0
         },
         {
          "x": 248,
          "y": 0
         },
         {
          "x": 249,
          "y": 0
         },
         {
          "x": 250,
          "y": 0
         },
         {
          "x": 251,
          "y": 0
         },
         {
          "x": 252,
          "y": 0
         },
         {
          "x": 253,
          "y": 0
         },
         {
          "x": 254,
          "y": 0
         },
         {
          "x": 255,
          "y": 0
         },
         {
          "x": 256,
          "y": 0
         },
         {
          "x": 257,
          "y": 0
         },
         {
          "x": 258,
          "y": 0
         },
         {
          "x": 259,
          "y": 0
         },
         {
          "x": 260,
          "y": 0
         },
         {
          "x": 261,
          "y": 0
         },
         {
          "x": 262,
          "y": 0
         },
         {
          "x": 263,
          "y": 0
         },
         {
          "x": 264,
          "y": 0
         },
         {
          "x": 265,
          "y": 0
         },
         {
          "x": 266,
          "y": 0
         },
         {
          "x": 267,
          "y": 0
         },
         {
          "x": 268,
          "y": 0
         },
         {
          "x": 269,
          "y": 0
         },
         {
          "x": 270,
          "y": 0
         },
         {
          "x": 271,
          "y": 0
         },
         {
          "x": 272,
          "y": 0
         },
         {
          "x": 273,
          "y": 0
         },
         {
          "x": 274,
          "y": 0
         },
         {
          "x": 275,
          "y": 0
         },
         {
          "x": 276,
          "y": 0
         },
         {
          "x": 277,
          "y": 0
         },
         {
          "x": 278,
          "y": 0
         },
         {
          "x": 279,
          "y": 0
         },
         {
          "x": 280,
          "y": 0
         },
         {
          "x": 281,
          "y": 0
         },
         {
          "x": 282,
          "y": 0
         },
         {
          "x": 283,
          "y": 0
         },
         {
          "x": 284,
          "y": 0
         },
         {
          "x": 285,
          "y": 0
         },
         {
          "x": 286,
          "y": 0
         },
         {
          "x": 287,
          "y": 0
         },
         {
          "x": 288,
          "y": 0
         },
         {
          "x": 289,
          "y": 0
         },
         {
          "x": 290,
          "y": 0
         },
         {
          "x": 291,
          "y": 0
         },
         {
          "x": 292,
          "y": 0
         },
         {
          "x": 293,
          "y": 0
         },
         {
          "x": 294,
          "y": 0
         },
         {
          "x": 295,
          "y": 0
         },
         {
          "x": 296,
          "y": 0
         },
         {
          "x": 297,
          "y": 0
         },
         {
          "x": 298,
          "y": 0
         },
         {
          "x": 299,
          "y": 0
         },
         {
          "x": 300,
          "y": 0
         },
         {
          "x": 301,
          "y": 0
         },
         {
          "x": 302,
          "y": 0
         },
         {
          "x": 303,
          "y": 0
         },
         {
          "x": 304,
          "y": 0
         },
         {
          "x": 305,
          "y": 0
         },
         {
          "x": 306,
          "y": 0
         },
         {
          "x": 307,
          "y": 0
         },
         {
          "x": 308,
          "y": 0
         },
         {
          "x": 309,
          "y": 0
         },
         {
          "x": 310,
          "y": 0
         },
         {
          "x": 311,
          "y": 0
         },
         {
          "x": 312,
          "y": 0
         },
         {
          "x": 313,
          "y": 0
         },
         {
          "x": 314,
          "y": 0
         },
         {
          "x": 315,
          "y": 0
         },
         {
          "x": 316,
          "y": 0
         },
         {
          "x": 317,
          "y": 0
         },
         {
          "x": 318,
          "y": 0
         },
         {
          "x": 319,
          "y": 0
         },
         {
          "x": 320,
          "y": 0
         },
         {
          "x": 321,
          "y": 0
         },
         {
          "x": 322,
          "y": 0
         },
         {
          "x": 323,
          "y": 0
         },
         {
          "x": 324,
          "y": 0
         },
         {
          "x": 325,
          "y": 0
         },
         {
          "x": 326,
          "y": 0
         },
         {
          "x": 327,
          "y": 0
         },
         {
          "x": 328,
          "y": 0
         },
         {
          "x": 329,
          "y": 0
         },
         {
          "x": 330,
          "y": 0
         },
         {
          "x": 331,
          "y": 0
         },
         {
          "x": 332,
          "y": 0
         },
         {
          "x": 333,
          "y": 0
         },
         {
          "x": 334,
          "y": 0
         },
         {
          "x": 335,
          "y": 0
         },
         {
          "x": 336,
          "y": 0
         },
         {
          "x": 337,
          "y": 0
         },
         {
          "x": 338,
          "y": 0
         },
         {
          "x": 339,
          "y": 0
         },
         {
          "x": 340,
          "y": 0
         },
         {
          "x": 341,
          "y": 0
         },
         {
          "x": 342,
          "y": 0
         },
         {
          "x": 343,
          "y": 0
         },
         {
          "x": 344,
          "y": 0
         },
         {
          "x": 345,
          "y": 0
         },
         {
          "x": 346,
          "y": 0
         },
         {
          "x": 347,
          "y": 0
         },
         {
          "x": 348,
          "y": 0
         },
         {
          "x": 349,
          "y": 0
         },
         {
          "x": 350,
          "y": 0
         },
         {
          "x": 351,
          "y": 0
         },
         {
          "x": 352,
          "y": 0
         },
         {
          "x": 353,
          "y": 0
         },
         {
          "x": 354,
          "y": 0
         },
         {
          "x": 355,
          "y": 0
         },
         {
          "x": 356,
          "y": 0
         },
         {
          "x": 357,
          "y": 0
         },
         {
          "x": 358,
          "y": 0
         },
         {
          "x": 359,
          "y": 0
         },
         {
          "x": 360,
          "y": 0
         },
         {
          "x": 361,
          "y": 0
         },
         {
          "x": 362,
          "y": 0
         },
         {
          "x": 363,
          "y": 0
         },
         {
          "x": 364,
          "y": 0
         },
         {
          "x": 365,
          "y": 0
         },
         {
          "x": 366,
          "y": 0
         },
         {
          "x": 367,
          "y": 0
         },
         {
          "x": 368,
          "y": 0
         },
         {
          "x": 369,
          "y": 0
         },
         {
          "x": 370,
          "y": 0
         },
         {
          "x": 371,
          "y": 0
         },
         {
          "x": 372,
          "y": 0
         },
         {
          "x": 373,
          "y": 0
         },
         {
          "x": 374,
          "y": 0
         },
         {
          "x": 375,
          "y": 0
         },
         {
          "x": 376,
          "y": 0
         },
         {
          "x": 377,
          "y": 0
         },
         {
          "x": 378,
          "y": 0
         },
         {
          "x": 379,
          "y": 0
         },
         {
          "x": 380,
          "y": 0
         },
         {
          "x": 381,
          "y": 0
         },
         {
          "x": 382,
          "y": 0
         },
         {
          "x": 383,
          "y": 0
         },
         {
          "x": 384,
          "y": 0
         },
         {
          "x": 385,
          "y": 0
         },
         {
          "x": 386,
          "y": 0
         },
         {
          "x": 387,
          "y": 0
         },
         {
          "x": 388,
          "y": 0
         },
         {
          "x": 389,
          "y": 0
         },
         {
          "x": 390,
          "y": 0
         },
         {
          "x": 391,
          "y": 0
         },
         {
          "x": 392,
          "y": 0
         },
         {
          "x": 393,
          "y": 0
         },
         {
          "x": 394,
          "y": 0
         },
         {
          "x": 395,
          "y": 0
         },
         {
          "x": 396,
          "y": 0
         },
         {
          "x": 397,
          "y": 0
         },
         {
          "x": 398,
          "y": 0
         },
         {
          "x": 399,
          "y": 0
         },
         {
          "x": 400,
          "y": 0
         },
         {
          "x": 401,
          "y": 0
         },
         {
          "x": 402,
          "y": 0
         },
         {
          "x": 403,
          "y": 0
         },
         {
          "x": 404,
          "y": 0
         },
         {
          "x": 405,
          "y": 0
         },
         {
          "x": 406,
          "y": 0
         },
         {
          "x": 407,
          "y": 0
         },
         {
          "x": 408,
          "y": 0
         },
         {
          "x": 409,
          "y": 0
         },
         {
          "x": 410,
          "y": 0
         },
         {
          "x": 411,
          "y": 0
         },
         {
          "x": 412,
          "y": 0
         },
         {
          "x": 413,
          "y": 0
         },
         {
          "x": 414,
          "y": 0
         },
         {
          "x": 415,
          "y": 0
         },
         {
          "x": 416,
          "y": 0
         },
         {
          "x": 417,
          "y": 0
         },
         {
          "x": 418,
          "y": 0
         },
         {
          "x": 419,
          "y": 0
         },
         {
          "x": 420,
          "y": 0
         },
         {
          "x": 421,
          "y": 0
         },
         {
          "x": 422,
          "y": 0
         },
         {
          "x": 423,
          "y": 0
         },
         {
          "x": 424,
          "y": 0
         },
         {
          "x": 425,
          "y": 0
         },
         {
          "x": 426,
          "y": 0
         },
         {
          "x": 427,
          "y": 0
         },
         {
          "x": 428,
          "y": 0
         },
         {
          "x": 429,
          "y": 0
         },
         {
          "x": 430,
          "y": 0
         },
         {
          "x": 431,
          "y": 0
         },
         {
          "x": 432,
          "y": 0
         },
         {
          "x": 433,
          "y": 0
         },
         {
          "x": 434,
          "y": 0
         },
         {
          "x": 435,
          "y": 0
         },
         {
          "x": 436,
          "y": 0
         },
         {
          "x": 437,
          "y": 0
         },
         {
          "x": 438,
          "y": 0
         },
         {
          "x": 439,
          "y": 0
         },
         {
          "x": 440,
          "y": 0
         },
         {
          "x": 441,
          "y": 0
         },
         {
          "x": 442,
          "y": 0
         },
         {
          "x": 443,
          "y": 0
         },
         {
          "x": 444,
          "y": 0
         },
         {
          "x": 445,
          "y": 0
         },
         {
          "x": 446,
          "y": 0
         },
         {
          "x": 447,
          "y": 0
         },
         {
          "x": 448,
          "y": 0
         },
         {
          "x": 449,
          "y": 0
         },
         {
          "x": 450,
          "y": 0
         },
         {
          "x": 451,
          "y": 0
         },
         {
          "x": 452,
          "y": 0
         },
         {
          "x": 453,
          "y": 0
         },
         {
          "x": 454,
          "y": 0
         },
         {
          "x": 455,
          "y": 0
         },
         {
          "x": 456,
          "y": 0
         },
         {
          "x": 457,
          "y": 0
         },
         {
          "x": 458,
          "y": 0
         },
         {
          "x": 459,
          "y": 0
         },
         {
          "x": 460,
          "y": 0
         },
         {
          "x": 461,
          "y": 0
         },
         {
          "x": 462,
          "y": 0
         },
         {
          "x": 463,
          "y": 0
         },
         {
          "x": 464,
          "y": 0
         },
         {
          "x": 465,
          "y": 0
         },
         {
          "x": 466,
          "y": 0
         },
         {
          "x": 467,
          "y": 0
         },
         {
          "x": 468,
          "y": 0
         },
         {
          "x": 469,
          "y": 0
         },
         {
          "x": 470,
          "y": 0
         },
         {
          "x": 471,
          "y": 0
         },
         {
          "x": 472,
          "y": 0
         },
         {
          "x": 473,
          "y": 0
         },
         {
          "x": 474,
          "y": 0
         },
         {
          "x": 475,
          "y": 0
         },
         {
          "x": 476,
          "y": 0
         },
         {
          "x": 477,
          "y": 0
         },
         {
          "x": 478,
          "y": 0
         },
         {
          "x": 479,
          "y": 0
         },
         {
          "x": 480,
          "y": 0
         },
         {
          "x": 481,
          "y": 0
         },
         {
          "x": 482,
          "y": 0
         },
         {
          "x": 483,
          "y": 0
         },
         {
          "x": 484,
          "y": 0
         },
         {
          "x": 485,
          "y": 0
         },
         {
          "x": 486,
          "y": 0
         },
         {
          "x": 487,
          "y": 0
         },
         {
          "x": 488,
          "y": 0
         },
         {
          "x": 489,
          "y": 0
         },
         {
          "x": 490,
          "y": 0
         },
         {
          "x": 491,
          "y": 0
         },
         {
          "x": 492,
          "y": 0
         },
         {
          "x": 493,
          "y": 0
         },
         {
          "x": 494,
          "y": 0
         },
         {
          "x": 495,
          "y": 0
         },
         {
          "x": 496,
          "y": 0
         },
         {
          "x": 497,
          "y": 0
         },
         {
          "x": 498,
          "y": 0
         },
         {
          "x": 499,
          "y": 0
         },
         {
          "x": 500,
          "y": 0
         },
         {
          "x": 501,
          "y": 0
         },
         {
          "x": 502,
          "y": 0
         },
         {
          "x": 503,
          "y": 0
         },
         {
          "x": 504,
          "y": 0
         },
         {
          "x": 505,
          "y": 0
         },
         {
          "x": 506,
          "y": 0
         },
         {
          "x": 507,
          "y": 0
         },
         {
          "x": 508,
          "y": 0
         },
         {
          "x": 509,
          "y": 0
         },
         {
          "x": 510,
          "y": 0
         },
         {
          "x": 511,
          "y": 0
         },
         {
          "x": 512,
          "y": 0
         },
         {
          "x": 513,
          "y": 0
         },
         {
          "x": 514,
          "y": 0
         },
         {
          "x": 515,
          "y": 0
         },
         {
          "x": 516,
          "y": 0
         },
         {
          "x": 517,
          "y": 0
         },
         {
          "x": 518,
          "y": 0
         },
         {
          "x": 519,
          "y": 0
         },
         {
          "x": 520,
          "y": 0
         },
         {
          "x": 521,
          "y": 0
         },
         {
          "x": 522,
          "y": 0
         },
         {
          "x": 523,
          "y": 0
         },
         {
          "x": 524,
          "y": 0
         },
         {
          "x": 525,
          "y": 0
         },
         {
          "x": 526,
          "y": 0
         },
         {
          "x": 527,
          "y": 0
         },
         {
          "x": 528,
          "y": 0
         },
         {
          "x": 529,
          "y": 0
         },
         {
          "x": 530,
          "y": 0
         },
         {
          "x": 531,
          "y": 0
         },
         {
          "x": 532,
          "y": 0
         },
         {
          "x": 533,
          "y": 0
         },
         {
          "x": 534,
          "y": 0
         },
         {
          "x": 535,
          "y": 0.30102998
         },
         {
          "x": 536,
          "y": 0.30102998
         },
         {
          "x": 537,
          "y": 0.30102998
         },
         {
          "x": 538,
          "y": 0.30102998
         },
         {
          "x": 539,
          "y": 0.30102998
         },
         {
          "x": 540,
          "y": 0.30102998
         },
         {
          "x": 541,
          "y": 0.30102998
         },
         {
          "x": 542,
          "y": 0.30102998
         },
         {
          "x": 543,
          "y": 0.30102998
         },
         {
          "x": 544,
          "y": 0.30102998
         },
         {
          "x": 545,
          "y": 0.30102998
         },
         {
          "x": 546,
          "y": 0.30102998
         },
         {
          "x": 547,
          "y": 0.30102998
         },
         {
          "x": 548,
          "y": 0.30102998
         },
         {
          "x": 549,
          "y": 0.30102998
         },
         {
          "x": 550,
          "y": 0.30102998
         },
         {
          "x": 551,
          "y": 0.30102998
         },
         {
          "x": 552,
          "y": 0.30102998
         },
         {
          "x": 553,
          "y": 0.30102998
         },
         {
          "x": 554,
          "y": 0.30102998
         },
         {
          "x": 555,
          "y": 0.30102998
         },
         {
          "x": 556,
          "y": 0.30102998
         },
         {
          "x": 557,
          "y": 0.30102998
         },
         {
          "x": 558,
          "y": 0.30102998
         },
         {
          "x": 559,
          "y": 0.30102998
         },
         {
          "x": 560,
          "y": 0.30102998
         },
         {
          "x": 561,
          "y": 0.30102998
         },
         {
          "x": 562,
          "y": 0.30102998
         },
         {
          "x": 563,
          "y": 0.30102998
         },
         {
          "x": 564,
          "y": 0.30102998
         },
         {
          "x": 565,
          "y": 0.30102998
         },
         {
          "x": 566,
          "y": 0.30102998
         },
         {
          "x": 567,
          "y": 0.30102998
         },
         {
          "x": 568,
          "y": 0.30102998
         },
         {
          "x": 569,
          "y": 0.30102998
         },
         {
          "x": 570,
          "y": 0.30102998
         },
         {
          "x": 571,
          "y": 0.30102998
         },
         {
          "x": 572,
          "y": 0.30102998
         },
         {
          "x": 573,
          "y": 0.30102998
         },
         {
          "x": 574,
          "y": 0.30102998
         },
         {
          "x": 575,
          "y": 0.30102998
         },
         {
          "x": 576,
          "y": 0.30102998
         },
         {
          "x": 577,
          "y": 0.30102998
         },
         {
          "x": 578,
          "y": 0.30102998
         },
         {
          "x": 579,
          "y": 0.30102998
         },
         {
          "x": 580,
          "y": 0.30102998
         },
         {
          "x": 581,
          "y": 0.30102998
         },
         {
          "x": 582,
          "y": 0.30102998
         },
         {
          "x": 583,
          "y": 0.30102998
         },
         {
          "x": 584,
          "y": 0.30102998
         },
         {
          "x": 585,
          "y": 0.30102998
         },
         {
          "x": 586,
          "y": 0.30102998
         },
         {
          "x": 587,
          "y": 0.30102998
         },
         {
          "x": 588,
          "y": 0.30102998
         },
         {
          "x": 589,
          "y": 0.30102998
         },
         {
          "x": 590,
          "y": 0.30102998
         },
         {
          "x": 591,
          "y": 0.30102998
         },
         {
          "x": 592,
          "y": 0.30102998
         },
         {
          "x": 593,
          "y": 0.30102998
         },
         {
          "x": 594,
          "y": 0.30102998
         },
         {
          "x": 595,
          "y": 0.30102998
         },
         {
          "x": 596,
          "y": 0.30102998
         },
         {
          "x": 597,
          "y": 0.30102998
         },
         {
          "x": 598,
          "y": 0.30102998
         },
         {
          "x": 599,
          "y": 0.30102998
         },
         {
          "x": 600,
          "y": 0.30102998
         },
         {
          "x": 601,
          "y": 0.30102998
         },
         {
          "x": 602,
          "y": 0.30102998
         },
         {
          "x": 603,
          "y": 0.30102998
         },
         {
          "x": 604,
          "y": 0.30102998
         },
         {
          "x": 605,
          "y": 0.30102998
         },
         {
          "x": 606,
          "y": 0.30102998
         },
         {
          "x": 607,
          "y": 0.30102998
         },
         {
          "x": 608,
          "y": 0.30102998
         },
         {
          "x": 609,
          "y": 0.30102998
         },
         {
          "x": 610,
          "y": 0.30102998
         },
         {
          "x": 611,
          "y": 0.30102998
         },
         {
          "x": 612,
          "y": 0.30102998
         },
         {
          "x": 613,
          "y": 0.30102998
         },
         {
          "x": 614,
          "y": 0.30102998
         },
         {
          "x": 615,
          "y": 0.30102998
         },
         {
          "x": 616,
          "y": 0.30102998
         },
         {
          "x": 617,
          "y": 0.30102998
         },
         {
          "x": 618,
          "y": 0.30102998
         },
         {
          "x": 619,
          "y": 0.30102998
         },
         {
          "x": 620,
          "y": 0.30102998
         },
         {
          "x": 621,
          "y": 0.30102998
         },
         {
          "x": 622,
          "y": 0.30102998
         },
         {
          "x": 623,
          "y": 0.30102998
         },
         {
          "x": 624,
          "y": 0.30102998
         },
         {
          "x": 625,
          "y": 0.30102998
         },
         {
          "x": 626,
          "y": 0.30102998
         },
         {
          "x": 627,
          "y": 0.30102998
         },
         {
          "x": 628,
          "y": 0.30102998
         },
         {
          "x": 629,
          "y": 0.30102998
         },
         {
          "x": 630,
          "y": 0.30102998
         },
         {
          "x": 631,
          "y": 0.30102998
         },
         {
          "x": 632,
          "y": 0.30102998
         },
         {
          "x": 633,
          "y": 0.30102998
         },
         {
          "x": 634,
          "y": 0.30102998
         },
         {
          "x": 635,
          "y": 0.30102998
         },
         {
          "x": 636,
          "y": 0.30102998
         },
         {
          "x": 637,
          "y": 0.30102998
         },
         {
          "x": 638,
          "y": 0.30102998
         },
         {
          "x": 639,
          "y": 0.30102998
         },
         {
          "x": 640,
          "y": 0.47712126
         },
         {
          "x": 641,
          "y": 0.47712126
         },
         {
          "x": 642,
          "y": 0.47712126
         },
         {
          "x": 643,
          "y": 0.47712126
         },
         {
          "x": 644,
          "y": 0.47712126
         },
         {
          "x": 645,
          "y": 0.47712126
         },
         {
          "x": 646,
          "y": 0.47712126
         },
         {
          "x": 647,
          "y": 0.47712126
         },
         {
          "x": 648,
          "y": 0.47712126
         },
         {
          "x": 649,
          "y": 0.47712126
         },
         {
          "x": 650,
          "y": 0.47712126
         },
         {
          "x": 651,
          "y": 0.47712126
         },
         {
          "x": 652,
          "y": 0.47712126
         },
         {
          "x": 653,
          "y": 0.47712126
         },
         {
          "x": 654,
          "y": 0.47712126
         },
         {
          "x": 655,
          "y": 0.47712126
         },
         {
          "x": 656,
          "y": 0.47712126
         },
         {
          "x": 657,
          "y": 0.47712126
         },
         {
          "x": 658,
          "y": 0.47712126
         },
         {
          "x": 659,
          "y": 0.47712126
         },
         {
          "x": 660,
          "y": 0.47712126
         },
         {
          "x": 661,
          "y": 0.47712126
         },
         {
          "x": 662,
          "y": 0.47712126
         },
         {
          "x": 663,
          "y": 0.47712126
         },
         {
          "x": 664,
          "y": 0.47712126
         },
         {
          "x": 665,
          "y": 0.47712126
         },
         {
          "x": 666,
          "y": 0.47712126
         },
         {
          "x": 667,
          "y": 0.47712126
         },
         {
          "x": 668,
          "y": 0.47712126
         },
         {
          "x": 669,
          "y": 0.47712126
         },
         {
          "x": 670,
          "y": 0.47712126
         },
         {
          "x": 671,
          "y": 0.47712126
         },
         {
          "x": 672,
          "y": 0.47712126
         },
         {
          "x": 673,
          "y": 0.47712126
         },
         {
          "x": 674,
          "y": 0.47712126
         },
         {
          "x": 675,
          "y": 0.47712126
         },
         {
          "x": 676,
          "y": 0.47712126
         },
         {
          "x": 677,
          "y": 0.47712126
         },
         {
          "x": 678,
          "y": 0.47712126
         },
         {
          "x": 679,
          "y": 0.47712126
         },
         {
          "x": 680,
          "y": 0.47712126
         },
         {
          "x": 681,
          "y": 0.47712126
         },
         {
          "x": 682,
          "y": 0.47712126
         },
         {
          "x": 683,
          "y": 0.47712126
         },
         {
          "x": 684,
          "y": 0.47712126
         },
         {
          "x": 685,
          "y": 0.47712126
         },
         {
          "x": 686,
          "y": 0.47712126
         },
         {
          "x": 687,
          "y": 0.47712126
         },
         {
          "x": 688,
          "y": 0.47712126
         },
         {
          "x": 689,
          "y": 0.47712126
         },
         {
          "x": 690,
          "y": 0.47712126
         },
         {
          "x": 691,
          "y": 0.47712126
         },
         {
          "x": 692,
          "y": 0.60205996
         },
         {
          "x": 693,
          "y": 0.60205996
         },
         {
          "x": 694,
          "y": 0.60205996
         },
         {
          "x": 695,
          "y": 0.60205996
         },
         {
          "x": 696,
          "y": 0.60205996
         },
         {
          "x": 697,
          "y": 0.60205996
         },
         {
          "x": 698,
          "y": 0.60205996
         },
         {
          "x": 699,
          "y": 0.60205996
         },
         {
          "x": 700,
          "y": 0.60205996
         },
         {
          "x": 701,
          "y": 0.60205996
         },
         {
          "x": 702,
          "y": 0.60205996
         },
         {
          "x": 703,
          "y": 0.60205996
         },
         {
          "x": 704,
          "y": 0.60205996
         },
         {
          "x": 705,
          "y": 0.60205996
         },
         {
          "x": 706,
          "y": 0.60205996
         },
         {
          "x": 707,
          "y": 0.60205996
         },
         {
          "x": 708,
          "y": 0.60205996
         },
         {
          "x": 709,
          "y": 0.60205996
         },
         {
          "x": 710,
          "y": 0.60205996
         },
         {
          "x": 711,
          "y": 0.60205996
         },
         {
          "x": 712,
          "y": 0.60205996
         },
         {
          "x": 713,
          "y": 0.60205996
         },
         {
          "x": 714,
          "y": 0.60205996
         },
         {
          "x": 715,
          "y": 0.60205996
         },
         {
          "x": 716,
          "y": 0.60205996
         },
         {
          "x": 717,
          "y": 0.60205996
         },
         {
          "x": 718,
          "y": 0.60205996
         },
         {
          "x": 719,
          "y": 0.60205996
         },
         {
          "x": 720,
          "y": 0.60205996
         },
         {
          "x": 721,
          "y": 0.60205996
         },
         {
          "x": 722,
          "y": 0.60205996
         },
         {
          "x": 723,
          "y": 0.60205996
         },
         {
          "x": 724,
          "y": 0.60205996
         },
         {
          "x": 725,
          "y": 0.69897
         },
         {
          "x": 726,
          "y": 0.69897
         },
         {
          "x": 727,
          "y": 0.69897
         },
         {
          "x": 728,
          "y": 0.69897
         },
         {
          "x": 729,
          "y": 0.69897
         },
         {
          "x": 730,
          "y": 0.69897
         },
         {
          "x": 731,
          "y": 0.69897
         },
         {
          "x": 732,
          "y": 0.69897
         },
         {
          "x": 733,
          "y": 0.69897
         },
         {
          "x": 734,
          "y": 0.69897
         },
         {
          "x": 735,
          "y": 0.69897
         },
         {
          "x": 736,
          "y": 0.69897
         },
         {
          "x": 737,
          "y": 0.69897
         },
         {
          "x": 738,
          "y": 0.69897
         },
         {
          "x": 739,
          "y": 0.69897
         },
         {
          "x": 740,
          "y": 0.69897
         },
         {
          "x": 741,
          "y": 0.69897
         },
         {
          "x": 742,
          "y": 0.69897
         },
         {
          "x": 743,
          "y": 0.69897
         },
         {
          "x": 744,
          "y": 0.69897
         },
         {
          "x": 745,
          "y": 0.7781513
         },
         {
          "x": 746,
          "y": 0.7781513
         },
         {
          "x": 747,
          "y": 0.7781513
         },
         {
          "x": 748,
          "y": 0.7781513
         },
         {
          "x": 749,
          "y": 0.7781513
         },
         {
          "x": 750,
          "y": 0.7781513
         },
         {
          "x": 751,
          "y": 0.7781513
         },
         {
          "x": 752,
          "y": 0.7781513
         },
         {
          "x": 753,
          "y": 0.7781513
         },
         {
          "x": 754,
          "y": 0.7781513
         },
         {
          "x": 755,
          "y": 0.7781513
         },
         {
          "x": 756,
          "y": 0.7781513
         },
         {
          "x": 757,
          "y": 0.7781513
         },
         {
          "x": 758,
          "y": 0.7781513
         },
         {
          "x": 759,
          "y": 0.7781513
         },
         {
          "x": 760,
          "y": 0.7781513
         },
         {
          "x": 761,
          "y": 0.7781513
         },
         {
          "x": 762,
          "y": 0.7781513
         },
         {
          "x": 763,
          "y": 0.7781513
         },
         {
          "x": 764,
          "y": 0.7781513
         },
         {
          "x": 765,
          "y": 0.7781513
         },
         {
          "x": 766,
          "y": 0.845098
         },
         {
          "x": 767,
          "y": 0.845098
         },
         {
          "x": 768,
          "y": 0.845098
         },
         {
          "x": 769,
          "y": 0.845098
         },
         {
          "x": 770,
          "y": 0.845098
         },
         {
          "x": 771,
          "y": 0.845098
         },
         {
          "x": 772,
          "y": 0.845098
         },
         {
          "x": 773,
          "y": 0.845098
         },
         {
          "x": 774,
          "y": 0.845098
         },
         {
          "x": 775,
          "y": 0.90309
         },
         {
          "x": 776,
          "y": 0.90309
         },
         {
          "x": 777,
          "y": 0.90309
         },
         {
          "x": 778,
          "y": 0.90309
         },
         {
          "x": 779,
          "y": 0.90309
         },
         {
          "x": 780,
          "y": 0.90309
         },
         {
          "x": 781,
          "y": 0.90309
         },
         {
          "x": 782,
          "y": 0.90309
         },
         {
          "x": 783,
          "y": 0.90309
         },
         {
          "x": 784,
          "y": 0.9542425
         },
         {
          "x": 785,
          "y": 0.9542425
         },
         {
          "x": 786,
          "y": 0.9542425
         },
         {
          "x": 787,
          "y": 0.9542425
         },
         {
          "x": 788,
          "y": 1
         },
         {
          "x": 789,
          "y": 1
         },
         {
          "x": 790,
          "y": 1
         },
         {
          "x": 791,
          "y": 1
         },
         {
          "x": 792,
          "y": 1.0413927
         },
         {
          "x": 793,
          "y": 1.0413927
         },
         {
          "x": 794,
          "y": 1.0413927
         },
         {
          "x": 795,
          "y": 1.0413927
         },
         {
          "x": 796,
          "y": 1.0413927
         },
         {
          "x": 797,
          "y": 1.0413927
         },
         {
          "x": 798,
          "y": 1.0413927
         },
         {
          "x": 799,
          "y": 1.0413927
         },
         {
          "x": 800,
          "y": 1.0791812
         },
         {
          "x": 801,
          "y": 1.1139433
         },
         {
          "x": 802,
          "y": 1.1139433
         },
         {
          "x": 803,
          "y": 1.1139433
         },
         {
          "x": 804,
          "y": 1.1139433
         },
         {
          "x": 805,
          "y": 1.146128
         },
         {
          "x": 806,
          "y": 1.1760913
         },
         {
          "x": 807,
          "y": 1.1760913
         },
         {
          "x": 808,
          "y": 1.2041199
         },
         {
          "x": 809,
          "y": 1.2041199
         },
         {
          "x": 810,
          "y": 1.2552725
         },
         {
          "x": 811,
          "y": 1.2787535
         },
         {
          "x": 812,
          "y": 1.30103
         },
         {
          "x": 813,
          "y": 1.3222194
         },
         {
          "x": 814,
          "y": 1.3424227
         },
         {
          "x": 815,
          "y": 1.3424227
         },
         {
          "x": 816,
          "y": 1.3617278
         },
         {
          "x": 817,
          "y": 1.3802112
         },
         {
          "x": 818,
          "y": 1.3802112
         },
         {
          "x": 819,
          "y": 1.3802112
         },
         {
          "x": 820,
          "y": 1.4149733
         },
         {
          "x": 821,
          "y": 1.4149733
         },
         {
          "x": 822,
          "y": 1.4471581
         },
         {
          "x": 823,
          "y": 1.4623979
         },
         {
          "x": 824,
          "y": 1.6334685
         },
         {
          "x": 825,
          "y": 1.7323937
         },
         {
          "x": 826,
          "y": 1.8129134
         },
         {
          "x": 827,
          "y": 1.897627
         },
         {
          "x": 828,
          "y": 1.9542425
         },
         {
          "x": 829,
          "y": 1.9590414
         },
         {
          "x": 830,
          "y": 1.9590414
         },
         {
          "x": 831,
          "y": 1.9637878
         },
         {
          "x": 832,
          "y": 1.9684829
         },
         {
          "x": 833,
          "y": 1.9867717
         },
         {
          "x": 834,
          "y": 1.9867717
         },
         {
          "x": 835,
          "y": 1.9912261
         },
         {
          "x": 836,
          "y": 2.0086002
         },
         {
          "x": 837,
          "y": 2.0170333
         },
         {
          "x": 838,
          "y": 2.0453231
         },
         {
          "x": 839,
          "y": 2.064458
         },
         {
          "x": 840,
          "y": 2.064458
         },
         {
          "x": 841,
          "y": 2.064458
         },
         {
          "x": 842,
          "y": 2.0755467
         },
         {
          "x": 843,
          "y": 2.0827854
         },
         {
          "x": 844,
          "y": 2.0863597
         },
         {
          "x": 845,
          "y": 2.1003704
         },
         {
          "x": 846,
          "y": 2.10721
         },
         {
          "x": 847,
          "y": 2.1172714
         },
         {
          "x": 848,
          "y": 2.133539
         },
         {
          "x": 849,
          "y": 2.143015
         },
         {
          "x": 850,
          "y": 2.143015
         },
         {
          "x": 851,
          "y": 2.149219
         },
         {
          "x": 852,
          "y": 2.1583624
         },
         {
          "x": 853,
          "y": 2.1583624
         },
         {
          "x": 854,
          "y": 2.1673174
         },
         {
          "x": 855,
          "y": 2.1673174
         },
         {
          "x": 856,
          "y": 2.1702619
         },
         {
          "x": 857,
          "y": 2.1731863
         },
         {
          "x": 858,
          "y": 2.1731863
         },
         {
          "x": 859,
          "y": 2.1760912
         },
         {
          "x": 860,
          "y": 2.1818435
         },
         {
          "x": 861,
          "y": 2.1846914
         },
         {
          "x": 862,
          "y": 2.1903317
         },
         {
          "x": 863,
          "y": 2.1958997
         },
         {
          "x": 864,
          "y": 2.198657
         },
         {
          "x": 865,
          "y": 2.198657
         },
         {
          "x": 866,
          "y": 2.2013972
         },
         {
          "x": 867,
          "y": 2.2068257
         },
         {
          "x": 868,
          "y": 2.209515
         },
         {
          "x": 869,
          "y": 2.2148438
         },
         {
          "x": 870,
          "y": 2.240549
         },
         {
          "x": 871,
          "y": 2.240549
         },
         {
          "x": 872,
          "y": 2.243038
         },
         {
          "x": 873,
          "y": 2.243038
         },
         {
          "x": 874,
          "y": 2.2455127
         },
         {
          "x": 875,
          "y": 2.2455127
         },
         {
          "x": 876,
          "y": 2.2479732
         },
         {
          "x": 877,
          "y": 2.25042
         },
         {
          "x": 878,
          "y": 2.25042
         },
         {
          "x": 879,
          "y": 2.25042
         },
         {
          "x": 880,
          "y": 2.2528532
         },
         {
          "x": 881,
          "y": 2.2528532
         },
         {
          "x": 882,
          "y": 2.2528532
         },
         {
          "x": 883,
          "y": 2.2552724
         },
         {
          "x": 884,
          "y": 2.2552724
         },
         {
          "x": 885,
          "y": 2.2600713
         },
         {
          "x": 886,
          "y": 2.2600713
         },
         {
          "x": 887,
          "y": 2.2600713
         },
         {
          "x": 888,
          "y": 2.2648177
         },
         {
          "x": 889,
          "y": 2.269513
         },
         {
          "x": 890,
          "y": 2.2741578
         },
         {
          "x": 891,
          "y": 2.2741578
         },
         {
          "x": 892,
          "y": 2.2764618
         },
         {
          "x": 893,
          "y": 2.2764618
         },
         {
          "x": 894,
          "y": 2.2764618
         },
         {
          "x": 895,
          "y": 2.2787535
         },
         {
          "x": 896,
          "y": 2.2810333
         },
         {
          "x": 897,
          "y": 2.2855573
         },
         {
          "x": 898,
          "y": 2.2855573
         },
         {
          "x": 899,
          "y": 2.2878017
         },
         {
          "x": 900,
          "y": 2.2878017
         },
         {
          "x": 901,
          "y": 2.292256
         },
         {
          "x": 902,
          "y": 2.2966652
         },
         {
          "x": 903,
          "y": 2.2966652
         },
         {
          "x": 904,
          "y": 2.2988532
         },
         {
          "x": 905,
          "y": 2.30103
         },
         {
          "x": 906,
          "y": 2.30103
         },
         {
          "x": 907,
          "y": 2.303196
         },
         {
          "x": 908,
          "y": 2.3053513
         },
         {
          "x": 909,
          "y": 2.3053513
         },
         {
          "x": 910,
          "y": 2.313867
         },
         {
          "x": 911,
          "y": 2.3159704
         },
         {
          "x": 912,
          "y": 2.3159704
         },
         {
          "x": 913,
          "y": 2.3180633
         },
         {
          "x": 914,
          "y": 2.3222191
         },
         {
          "x": 915,
          "y": 2.3222191
         },
         {
          "x": 916,
          "y": 2.3222191
         },
         {
          "x": 917,
          "y": 2.3242824
         },
         {
          "x": 918,
          "y": 2.3242824
         },
         {
          "x": 919,
          "y": 2.326336
         },
         {
          "x": 920,
          "y": 2.3283796
         },
         {
          "x": 921,
          "y": 2.3304136
         },
         {
          "x": 922,
          "y": 2.3344538
         },
         {
          "x": 923,
          "y": 2.3364596
         },
         {
          "x": 924,
          "y": 2.340444
         },
         {
          "x": 925,
          "y": 2.3424227
         },
         {
          "x": 926,
          "y": 2.3424227
         },
         {
          "x": 927,
          "y": 2.3443923
         },
         {
          "x": 928,
          "y": 2.3502479
         },
         {
          "x": 929,
          "y": 2.3502479
         },
         {
          "x": 930,
          "y": 2.3541083
         },
         {
          "x": 931,
          "y": 2.3541083
         },
         {
          "x": 932,
          "y": 2.3579347
         },
         {
          "x": 933,
          "y": 2.3579347
         },
         {
          "x": 934,
          "y": 2.3598354
         },
         {
          "x": 935,
          "y": 2.3617277
         },
         {
          "x": 936,
          "y": 2.363612
         },
         {
          "x": 937,
          "y": 2.371068
         },
         {
          "x": 938,
          "y": 2.371068
         },
         {
          "x": 939,
          "y": 2.372912
         },
         {
          "x": 940,
          "y": 2.372912
         },
         {
          "x": 941,
          "y": 2.3747482
         },
         {
          "x": 942,
          "y": 2.376577
         },
         {
          "x": 943,
          "y": 2.3783977
         },
         {
          "x": 944,
          "y": 2.3909352
         },
         {
          "x": 945,
          "y": 2.3909352
         },
         {
          "x": 946,
          "y": 2.3944516
         },
         {
          "x": 947,
          "y": 2.3961992
         },
         {
          "x": 948,
          "y": 2.3961992
         },
         {
          "x": 949,
          "y": 2.4014006
         },
         {
          "x": 950,
          "y": 2.4065402
         },
         {
          "x": 951,
          "y": 2.4082398
         },
         {
          "x": 952,
          "y": 2.409933
         },
         {
          "x": 953,
          "y": 2.409933
         },
         {
          "x": 954,
          "y": 2.409933
         },
         {
          "x": 955,
          "y": 2.4149735
         },
         {
          "x": 956,
          "y": 2.4166405
         },
         {
          "x": 957,
          "y": 2.4166405
         },
         {
          "x": 958,
          "y": 2.4166405
         },
         {
          "x": 959,
          "y": 2.4183013
         },
         {
          "x": 960,
          "y": 2.4265113
         },
         {
          "x": 961,
          "y": 2.4409091
         },
         {
          "x": 962,
          "y": 2.4409091
         },
         {
          "x": 963,
          "y": 2.4424798
         },
         {
          "x": 964,
          "y": 2.4548447
         },
         {
          "x": 965,
          "y": 2.4593925
         },
         {
          "x": 966,
          "y": 2.4593925
         },
         {
          "x": 967,
          "y": 2.4668674
         },
         {
          "x": 968,
          "y": 2.4857213
         },
         {
          "x": 969,
          "y": 2.4871383
         },
         {
          "x": 970,
          "y": 2.4871383
         },
         {
          "x": 971,
          "y": 2.4899585
         },
         {
          "x": 972,
          "y": 2.4955444
         },
         {
          "x": 973,
          "y": 2.501059
         },
         {
          "x": 974,
          "y": 2.5037906
         },
         {
          "x": 975,
          "y": 2.506505
         },
         {
          "x": 976,
          "y": 2.5078557
         },
         {
          "x": 977,
          "y": 2.510545
         },
         {
          "x": 978,
          "y": 2.5237465
         },
         {
          "x": 979,
          "y": 2.5378191
         },
         {
          "x": 980,
          "y": 2.5403295
         },
         {
          "x": 981,
          "y": 2.5415792
         },
         {
          "x": 982,
          "y": 2.5415792
         },
         {
          "x": 983,
          "y": 2.5453072
         },
         {
          "x": 984,
          "y": 2.5465426
         },
         {
          "x": 985,
          "y": 2.5490034
         },
         {
          "x": 986,
          "y": 2.5502284
         },
         {
          "x": 987,
          "y": 2.5502284
         },
         {
          "x": 988,
          "y": 2.553883
         },
         {
          "x": 989,
          "y": 2.553883
         },
         {
          "x": 990,
          "y": 2.5550942
         },
         {
          "x": 991,
          "y": 2.5587084
         },
         {
          "x": 992,
          "y": 2.5599067
         },
         {
          "x": 993,
          "y": 2.563481
         },
         {
          "x": 994,
          "y": 2.563481
         },
         {
          "x": 995,
          "y": 2.564666
         },
         {
          "x": 996,
          "y": 2.564666
         },
         {
          "x": 997,
          "y": 2.5658479
         },
         {
          "x": 998,
          "y": 2.5705428
         },
         {
          "x": 999,
          "y": 2.5740314
         },
         {
          "x": 1000,
          "y": 2.5774918
         },
         {
          "x": 1001,
          "y": 2.580925
         },
         {
          "x": 1002,
          "y": 2.5831985
         },
         {
          "x": 1003,
          "y": 2.5877109
         },
         {
          "x": 1004,
          "y": 2.5888317
         },
         {
          "x": 1005,
          "y": 2.597695
         },
         {
          "x": 1006,
          "y": 2.597695
         },
         {
          "x": 1007,
          "y": 2.600973
         },
         {
          "x": 1008,
          "y": 2.612784
         },
         {
          "x": 1009,
          "y": 2.6148973
         },
         {
          "x": 1010,
          "y": 2.6253123
         },
         {
          "x": 1011,
          "y": 2.628389
         },
         {
          "x": 1012,
          "y": 2.6294096
         },
         {
          "x": 1013,
          "y": 2.6314437
         },
         {
          "x": 1014,
          "y": 2.6334684
         },
         {
          "x": 1015,
          "y": 2.6344774
         },
         {
          "x": 1016,
          "y": 2.6354837
         },
         {
          "x": 1017,
          "y": 2.6414742
         },
         {
          "x": 1018,
          "y": 2.6414742
         },
         {
          "x": 1019,
          "y": 2.6522462
         },
         {
          "x": 1020,
          "y": 2.6560981
         },
         {
          "x": 1021,
          "y": 2.6599162
         },
         {
          "x": 1022,
          "y": 2.6618128
         },
         {
          "x": 1023,
          "y": 2.6618128
         },
         {
          "x": 1024,
          "y": 2.6646419
         },
         {
          "x": 1025,
          "y": 2.6646419
         },
         {
          "x": 1026,
          "y": 2.6683857
         },
         {
          "x": 1027,
          "y": 2.670246
         },
         {
          "x": 1028,
          "y": 2.670246
         },
         {
          "x": 1029,
          "y": 2.6730208
         },
         {
          "x": 1030,
          "y": 2.673942
         },
         {
          "x": 1031,
          "y": 2.6766937
         },
         {
          "x": 1032,
          "y": 2.6785185
         },
         {
          "x": 1033,
          "y": 2.6803355
         },
         {
          "x": 1034,
          "y": 2.6821449
         },
         {
          "x": 1035,
          "y": 2.6848454
         },
         {
          "x": 1036,
          "y": 2.6857417
         },
         {
          "x": 1037,
          "y": 2.690196
         },
         {
          "x": 1038,
          "y": 2.690196
         },
         {
          "x": 1039,
          "y": 2.694605
         },
         {
          "x": 1040,
          "y": 2.7058637
         },
         {
          "x": 1041,
          "y": 2.7067177
         },
         {
          "x": 1042,
          "y": 2.70757
         },
         {
          "x": 1043,
          "y": 2.710963
         },
         {
          "x": 1044,
          "y": 2.7168376
         },
         {
          "x": 1045,
          "y": 2.7226338
         },
         {
          "x": 1046,
          "y": 2.7226338
         },
         {
          "x": 1047,
          "y": 2.7242758
         },
         {
          "x": 1048,
          "y": 2.7259116
         },
         {
          "x": 1049,
          "y": 2.7323937
         },
         {
          "x": 1050,
          "y": 2.7411516
         },
         {
          "x": 1051,
          "y": 2.741939
         },
         {
          "x": 1052,
          "y": 2.753583
         },
         {
          "x": 1053,
          "y": 2.753583
         },
         {
          "x": 1054,
          "y": 2.7543483
         },
         {
          "x": 1055,
          "y": 2.7543483
         },
         {
          "x": 1056,
          "y": 2.7581546
         },
         {
          "x": 1057,
          "y": 2.7626784
         },
         {
          "x": 1058,
          "y": 2.763428
         },
         {
          "x": 1059,
          "y": 2.7641761
         },
         {
          "x": 1060,
          "y": 2.7693775
         },
         {
          "x": 1061,
          "y": 2.7759743
         },
         {
          "x": 1062,
          "y": 2.7951846
         },
         {
          "x": 1063,
          "y": 2.7965744
         },
         {
          "x": 1064,
          "y": 2.7972674
         },
         {
          "x": 1065,
          "y": 2.7986507
         },
         {
          "x": 1066,
          "y": 2.7993405
         },
         {
          "x": 1067,
          "y": 2.7993405
         },
         {
          "x": 1068,
          "y": 2.8014038
         },
         {
          "x": 1069,
          "y": 2.8027737
         },
         {
          "x": 1070,
          "y": 2.8155777
         },
         {
          "x": 1071,
          "y": 2.8273692
         },
         {
          "x": 1072,
          "y": 2.8299465
         },
         {
          "x": 1073,
          "y": 2.8305886
         },
         {
          "x": 1074,
          "y": 2.8426092
         },
         {
          "x": 1075,
          "y": 2.8438554
         },
         {
          "x": 1076,
          "y": 2.846337
         },
         {
          "x": 1077,
          "y": 2.8475726
         },
         {
          "x": 1078,
          "y": 2.848189
         },
         {
          "x": 1079,
          "y": 2.8488047
         },
         {
          "x": 1080,
          "y": 2.8500333
         },
         {
          "x": 1081,
          "y": 2.8609366
         },
         {
          "x": 1082,
          "y": 2.865104
         },
         {
          "x": 1083,
          "y": 2.87564
         },
         {
          "x": 1084,
          "y": 2.8779469
         },
         {
          "x": 1085,
          "y": 2.8937616
         },
         {
          "x": 1086,
          "y": 2.90309
         },
         {
          "x": 1087,
          "y": 2.9036326
         },
         {
          "x": 1088,
          "y": 2.908485
         },
         {
          "x": 1089,
          "y": 2.9116902
         },
         {
          "x": 1090,
          "y": 2.9227254
         },
         {
          "x": 1091,
          "y": 2.937016
         },
         {
          "x": 1092,
          "y": 2.9400182
         },
         {
          "x": 1093,
          "y": 2.942008
         },
         {
          "x": 1094,
          "y": 2.9513376
         },
         {
          "x": 1095,
          "y": 2.9599948
         },
         {
          "x": 1096,
          "y": 2.9604707
         },
         {
          "x": 1097,
          "y": 2.9637878
         },
         {
          "x": 1098,
          "y": 2.970347
         },
         {
          "x": 1099,
          "y": 2.9722028
         },
         {
          "x": 1100,
          "y": 2.9735894
         },
         {
          "x": 1101,
          "y": 2.9754317
         },
         {
          "x": 1102,
          "y": 2.984977
         },
         {
          "x": 1103,
          "y": 2.995196
         },
         {
          "x": 1104,
          "y": 2.997823
         },
         {
          "x": 1105,
          "y": 3.002166
         },
         {
          "x": 1106,
          "y": 3.0051806
         },
         {
          "x": 1107,
          "y": 3.0090258
         },
         {
          "x": 1108,
          "y": 3.0111473
         },
         {
          "x": 1109,
          "y": 3.0187004
         },
         {
          "x": 1110,
          "y": 3.0207756
         },
         {
          "x": 1111,
          "y": 3.0207756
         },
         {
          "x": 1112,
          "y": 3.048053
         },
         {
          "x": 1113,
          "y": 3.0648322
         },
         {
          "x": 1114,
          "y": 3.066326
         },
         {
          "x": 1115,
          "y": 3.067443
         },
         {
          "x": 1116,
          "y": 3.07225
         },
         {
          "x": 1117,
          "y": 3.0726173
         },
         {
          "x": 1118,
          "y": 3.0799043
         },
         {
          "x": 1119,
          "y": 3.080987
         },
         {
          "x": 1120,
          "y": 3.0888445
         },
         {
          "x": 1121,
          "y": 3.0941217
         },
         {
          "x": 1122,
          "y": 3.0965624
         },
         {
          "x": 1123,
          "y": 3.0989895
         },
         {
          "x": 1124,
          "y": 3.1007152
         },
         {
          "x": 1125,
          "y": 3.1014032
         },
         {
          "x": 1126,
          "y": 3.1031191
         },
         {
          "x": 1127,
          "y": 3.1051693
         },
         {
          "x": 1128,
          "y": 3.1119342
         },
         {
          "x": 1129,
          "y": 3.1129398
         },
         {
          "x": 1130,
          "y": 3.116608
         },
         {
          "x": 1131,
          "y": 3.1172714
         },
         {
          "x": 1132,
          "y": 3.1332192
         },
         {
          "x": 1133,
          "y": 3.1568518
         },
         {
          "x": 1134,
          "y": 3.1580608
         },
         {
          "x": 1135,
          "y": 3.172603
         },
         {
          "x": 1136,
          "y": 3.1809857
         },
         {
          "x": 1137,
          "y": 3.1827
         },
         {
          "x": 1138,
          "y": 3.1906118
         },
         {
          "x": 1139,
          "y": 3.2024884
         },
         {
          "x": 1140,
          "y": 3.2035768
         },
         {
          "x": 1141,
          "y": 3.206286
         },
         {
          "x": 1142,
          "y": 3.206286
         },
         {
          "x": 1143,
          "y": 3.2203696
         },
         {
          "x": 1144,
          "y": 3.2268577
         },
         {
          "x": 1145,
          "y": 3.2284005
         },
         {
          "x": 1146,
          "y": 3.2314696
         },
         {
          "x": 1147,
          "y": 3.234517
         },
         {
          "x": 1148,
          "y": 3.2385478
         },
         {
          "x": 1149,
          "y": 3.2407987
         },
         {
          "x": 1150,
          "y": 3.241048
         },
         {
          "x": 1151,
          "y": 3.2425413
         },
         {
          "x": 1152,
          "y": 3.2479732
         },
         {
          "x": 1153,
          "y": 3.2489536
         },
         {
          "x": 1154,
          "y": 3.2543063
         },
         {
          "x": 1155,
          "y": 3.2559958
         },
         {
          "x": 1156,
          "y": 3.2586372
         },
         {
          "x": 1157,
          "y": 3.2605484
         },
         {
          "x": 1158,
          "y": 3.266937
         },
         {
          "x": 1159,
          "y": 3.2699797
         },
         {
          "x": 1160,
          "y": 3.2730012
         },
         {
          "x": 1161,
          "y": 3.2748504
         },
         {
          "x": 1162,
          "y": 3.278296
         },
         {
          "x": 1163,
          "y": 3.279895
         },
         {
          "x": 1164,
          "y": 3.2846563
         },
         {
          "x": 1165,
          "y": 3.2855573
         },
         {
          "x": 1166,
          "y": 3.2878017
         },
         {
          "x": 1167,
          "y": 3.289366
         },
         {
          "x": 1168,
          "y": 3.290702
         },
         {
          "x": 1169,
          "y": 3.2913687
         },
         {
          "x": 1170,
          "y": 3.2944663
         },
         {
          "x": 1171,
          "y": 3.2946866
         },
         {
          "x": 1172,
          "y": 3.2960067
         },
         {
          "x": 1173,
          "y": 3.2975416
         },
         {
          "x": 1174,
          "y": 3.3047059
         },
         {
          "x": 1175,
          "y": 3.3068538
         },
         {
          "x": 1176,
          "y": 3.3068538
         },
         {
          "x": 1177,
          "y": 3.3100557
         },
         {
          "x": 1178,
          "y": 3.318272
         },
         {
          "x": 1179,
          "y": 3.3281758
         },
         {
          "x": 1180,
          "y": 3.3306167
         },
         {
          "x": 1181,
          "y": 3.331427
         },
         {
          "x": 1182,
          "y": 3.3439991
         },
         {
          "x": 1183,
          "y": 3.348694
         },
         {
          "x": 1184,
          "y": 3.349083
         },
         {
          "x": 1185,
          "y": 3.357363
         },
         {
          "x": 1186,
          "y": 3.358696
         },
         {
          "x": 1187,
          "y": 3.366423
         },
         {
          "x": 1188,
          "y": 3.3679147
         },
         {
          "x": 1189,
          "y": 3.373831
         },
         {
          "x": 1190,
          "y": 3.3741982
         },
         {
          "x": 1191,
          "y": 3.3780344
         },
         {
          "x": 1192,
          "y": 3.381115
         },
         {
          "x": 1193,
          "y": 3.382917
         },
         {
          "x": 1194,
          "y": 3.3850696
         },
         {
          "x": 1195,
          "y": 3.3875678
         },
         {
          "x": 1196,
          "y": 3.3879235
         },
         {
          "x": 1197,
          "y": 3.3907585
         },
         {
          "x": 1198,
          "y": 3.3937507
         },
         {
          "x": 1199,
          "y": 3.3955011
         },
         {
          "x": 1200,
          "y": 3.3982873
         },
         {
          "x": 1201,
          "y": 3.403635
         },
         {
          "x": 1202,
          "y": 3.404149
         },
         {
          "x": 1203,
          "y": 3.4068806
         },
         {
          "x": 1204,
          "y": 3.4072208
         },
         {
          "x": 1205,
          "y": 3.4276483
         },
         {
          "x": 1206,
          "y": 3.4318461
         },
         {
          "x": 1207,
          "y": 3.43361
         },
         {
          "x": 1208,
          "y": 3.4366395
         },
         {
          "x": 1209,
          "y": 3.446071
         },
         {
          "x": 1210,
          "y": 3.4471579
         },
         {
          "x": 1211,
          "y": 3.4505568
         },
         {
          "x": 1212,
          "y": 3.4664228
         },
         {
          "x": 1213,
          "y": 3.4684951
         },
         {
          "x": 1214,
          "y": 3.4762518
         },
         {
          "x": 1215,
          "y": 3.4814427
         },
         {
          "x": 1216,
          "y": 3.4835873
         },
         {
          "x": 1217,
          "y": 3.4852955
         },
         {
          "x": 1218,
          "y": 3.4864302
         },
         {
          "x": 1219,
          "y": 3.4935975
         },
         {
          "x": 1220,
          "y": 3.4937367
         },
         {
          "x": 1221,
          "y": 3.5066404
         },
         {
          "x": 1222,
          "y": 3.516403
         },
         {
          "x": 1223,
          "y": 3.519959
         },
         {
          "x": 1224,
          "y": 3.522444
         },
         {
          "x": 1225,
          "y": 3.5304558
         },
         {
          "x": 1226,
          "y": 3.5313509
         },
         {
          "x": 1227,
          "y": 3.5446877
         },
         {
          "x": 1228,
          "y": 3.550595
         },
         {
          "x": 1229,
          "y": 3.5541255
         },
         {
          "x": 1230,
          "y": 3.555699
         },
         {
          "x": 1231,
          "y": 3.5563025
         },
         {
          "x": 1232,
          "y": 3.5620549
         },
         {
          "x": 1233,
          "y": 3.5682018
         },
         {
          "x": 1234,
          "y": 3.5717087
         },
         {
          "x": 1235,
          "y": 3.5751877
         },
         {
          "x": 1236,
          "y": 3.577147
         },
         {
          "x": 1237,
          "y": 3.5781806
         },
         {
          "x": 1238,
          "y": 3.5809247
         },
         {
          "x": 1239,
          "y": 3.5816083
         },
         {
          "x": 1240,
          "y": 3.5850093
         },
         {
          "x": 1241,
          "y": 3.5881596
         },
         {
          "x": 1242,
          "y": 3.5902843
         },
         {
          "x": 1243,
          "y": 3.5936182
         },
         {
          "x": 1244,
          "y": 3.5958269
         },
         {
          "x": 1245,
          "y": 3.6001012
         },
         {
          "x": 1246,
          "y": 3.6405807
         },
         {
          "x": 1247,
          "y": 3.6522462
         },
         {
          "x": 1248,
          "y": 3.6560025
         },
         {
          "x": 1249,
          "y": 3.6622856
         },
         {
          "x": 1250,
          "y": 3.6637952
         },
         {
          "x": 1251,
          "y": 3.6683857
         },
         {
          "x": 1252,
          "y": 3.6705241
         },
         {
          "x": 1253,
          "y": 3.6763277
         },
         {
          "x": 1254,
          "y": 3.6766024
         },
         {
          "x": 1255,
          "y": 3.686368
         },
         {
          "x": 1256,
          "y": 3.6867256
         },
         {
          "x": 1257,
          "y": 3.6971421
         },
         {
          "x": 1258,
          "y": 3.7066324
         },
         {
          "x": 1259,
          "y": 3.7080808
         },
         {
          "x": 1260,
          "y": 3.718086
         },
         {
          "x": 1261,
          "y": 3.7206552
         },
         {
          "x": 1262,
          "y": 3.7220576
         },
         {
          "x": 1263,
          "y": 3.737431
         },
         {
          "x": 1264,
          "y": 3.7398887
         },
         {
          "x": 1265,
          "y": 3.7667103
         },
         {
          "x": 1266,
          "y": 3.7703364
         },
         {
          "x": 1267,
          "y": 3.7871768
         },
         {
          "x": 1268,
          "y": 3.7904963
         },
         {
          "x": 1269,
          "y": 3.794697
         },
         {
          "x": 1270,
          "y": 3.7994783
         },
         {
          "x": 1271,
          "y": 3.8010604
         },
         {
          "x": 1272,
          "y": 3.81816
         },
         {
          "x": 1273,
          "y": 3.8193467
         },
         {
          "x": 1274,
          "y": 3.8243213
         },
         {
          "x": 1275,
          "y": 3.8268518
         },
         {
          "x": 1276,
          "y": 3.8280149
         },
         {
          "x": 1277,
          "y": 3.8290462
         },
         {
          "x": 1278,
          "y": 3.840796
         },
         {
          "x": 1279,
          "y": 3.8491735
         },
         {
          "x": 1280,
          "y": 3.8512585
         },
         {
          "x": 1281,
          "y": 3.8530896
         },
         {
          "x": 1282,
          "y": 3.8620121
         },
         {
          "x": 1283,
          "y": 3.864748
         },
         {
          "x": 1284,
          "y": 3.8654
         },
         {
          "x": 1285,
          "y": 3.8668187
         },
         {
          "x": 1286,
          "y": 3.8716314
         },
         {
          "x": 1287,
          "y": 3.875119
         },
         {
          "x": 1288,
          "y": 3.8797839
         },
         {
          "x": 1289,
          "y": 3.8821828
         },
         {
          "x": 1290,
          "y": 3.883207
         },
         {
          "x": 1291,
          "y": 3.8920944
         },
         {
          "x": 1292,
          "y": 3.8930955
         },
         {
          "x": 1293,
          "y": 3.8971322
         },
         {
          "x": 1294,
          "y": 3.897847
         },
         {
          "x": 1295,
          "y": 3.8981216
         },
         {
          "x": 1296,
          "y": 3.8998752
         },
         {
          "x": 1297,
          "y": 3.9000938
         },
         {
          "x": 1298,
          "y": 3.9022207
         },
         {
          "x": 1299,
          "y": 3.908324
         },
         {
          "x": 1300,
          "y": 3.9238653
         },
         {
          "x": 1301,
          "y": 3.9246411
         },
         {
          "x": 1302,
          "y": 3.9274216
         },
         {
          "x": 1303,
          "y": 3.9301846
         },
         {
          "x": 1304,
          "y": 3.9302354
         },
         {
          "x": 1305,
          "y": 3.9303887
         },
         {
          "x": 1306,
          "y": 3.9388196
         },
         {
          "x": 1307,
          "y": 3.9401176
         },
         {
          "x": 1308,
          "y": 3.9470415
         },
         {
          "x": 1309,
          "y": 3.9541943
         },
         {
          "x": 1310,
          "y": 3.955062
         },
         {
          "x": 1311,
          "y": 3.9688096
         },
         {
          "x": 1312,
          "y": 3.9731739
         },
         {
          "x": 1313,
          "y": 3.97465
         },
         {
          "x": 1314,
          "y": 3.9757073
         },
         {
          "x": 1315,
          "y": 3.9832652
         },
         {
          "x": 1316,
          "y": 3.986503
         },
         {
          "x": 1317,
          "y": 4.002943
         },
         {
          "x": 1318,
          "y": 4.003848
         },
         {
          "x": 1319,
          "y": 4.0108933
         },
         {
          "x": 1320,
          "y": 4.012626
         },
         {
          "x": 1321,
          "y": 4.0161133
         },
         {
          "x": 1322,
          "y": 4.022882
         },
         {
          "x": 1323,
          "y": 4.0310445
         },
         {
          "x": 1324,
          "y": 4.0316105
         },
         {
          "x": 1325,
          "y": 4.038223
         },
         {
          "x": 1326,
          "y": 4.055378
         },
         {
          "x": 1327,
          "y": 4.0591846
         },
         {
          "x": 1328,
          "y": 4.0607357
         },
         {
          "x": 1329,
          "y": 4.068705
         },
         {
          "x": 1330,
          "y": 4.0759845
         },
         {
          "x": 1331,
          "y": 4.082678
         },
         {
          "x": 1332,
          "y": 4.0933514
         },
         {
          "x": 1333,
          "y": 4.0978127
         },
         {
          "x": 1334,
          "y": 4.0980206
         },
         {
          "x": 1335,
          "y": 4.1194534
         },
         {
          "x": 1336,
          "y": 4.1249275
         },
         {
          "x": 1337,
          "y": 4.130205
         },
         {
          "x": 1338,
          "y": 4.1303983
         },
         {
          "x": 1339,
          "y": 4.132548
         },
         {
          "x": 1340,
          "y": 4.1326437
         },
         {
          "x": 1341,
          "y": 4.1341453
         },
         {
          "x": 1342,
          "y": 4.1494656
         },
         {
          "x": 1343,
          "y": 4.1539674
         },
         {
          "x": 1344,
          "y": 4.1583323
         },
         {
          "x": 1345,
          "y": 4.166134
         },
         {
          "x": 1346,
          "y": 4.1670513
         },
         {
          "x": 1347,
          "y": 4.1738853
         },
         {
          "x": 1348,
          "y": 4.178142
         },
         {
          "x": 1349,
          "y": 4.1796093
         },
         {
          "x": 1350,
          "y": 4.1850886
         },
         {
          "x": 1351,
          "y": 4.197694
         },
         {
          "x": 1352,
          "y": 4.2016973
         },
         {
          "x": 1353,
          "y": 4.2021885
         },
         {
          "x": 1354,
          "y": 4.210933
         },
         {
          "x": 1355,
          "y": 4.2123737
         },
         {
          "x": 1356,
          "y": 4.2145524
         },
         {
          "x": 1357,
          "y": 4.2159543
         },
         {
          "x": 1358,
          "y": 4.2204742
         },
         {
          "x": 1359,
          "y": 4.2280154
         },
         {
          "x": 1360,
          "y": 4.2384224
         },
         {
          "x": 1361,
          "y": 4.244747
         },
         {
          "x": 1362,
          "y": 4.254548
         },
         {
          "x": 1363,
          "y": 4.2633047
         },
         {
          "x": 1364,
          "y": 4.2690225
         },
         {
          "x": 1365,
          "y": 4.273765
         },
         {
          "x": 1366,
          "y": 4.279598
         },
         {
          "x": 1367,
          "y": 4.2904577
         },
         {
          "x": 1368,
          "y": 4.2998343
         },
         {
          "x": 1369,
          "y": 4.3019843
         },
         {
          "x": 1370,
          "y": 4.309268
         },
         {
          "x": 1371,
          "y": 4.3129387
         },
         {
          "x": 1372,
          "y": 4.31823
         },
         {
          "x": 1373,
          "y": 4.330819
         },
         {
          "x": 1374,
          "y": 4.3366
         },
         {
          "x": 1375,
          "y": 4.346607
         },
         {
          "x": 1376,
          "y": 4.3487134
         },
         {
          "x": 1377,
          "y": 4.35357
         },
         {
          "x": 1378,
          "y": 4.358715
         },
         {
          "x": 1379,
          "y": 4.369216
         },
         {
          "x": 1380,
          "y": 4.3721385
         },
         {
          "x": 1381,
          "y": 4.3826833
         },
         {
          "x": 1382,
          "y": 4.383277
         },
         {
          "x": 1383,
          "y": 4.3977313
         },
         {
          "x": 1384,
          "y": 4.4015036
         },
         {
          "x": 1385,
          "y": 4.4348083
         },
         {
          "x": 1386,
          "y": 4.434824
         },
         {
          "x": 1387,
          "y": 4.435558
         },
         {
          "x": 1388,
          "y": 4.4380674
         },
         {
          "x": 1389,
          "y": 4.442354
         },
         {
          "x": 1390,
          "y": 4.4566545
         },
         {
          "x": 1391,
          "y": 4.4601307
         },
         {
          "x": 1392,
          "y": 4.4630713
         },
         {
          "x": 1393,
          "y": 4.468938
         },
         {
          "x": 1394,
          "y": 4.471512
         },
         {
          "x": 1395,
          "y": 4.483259
         },
         {
          "x": 1396,
          "y": 4.4913616
         },
         {
          "x": 1397,
          "y": 4.4961405
         },
         {
          "x": 1398,
          "y": 4.514641
         },
         {
          "x": 1399,
          "y": 4.515781
         },
         {
          "x": 1400,
          "y": 4.517341
         },
         {
          "x": 1401,
          "y": 4.517631
         },
         {
          "x": 1402,
          "y": 4.5190926
         },
         {
          "x": 1403,
          "y": 4.523669
         },
         {
          "x": 1404,
          "y": 4.5366974
         },
         {
          "x": 1405,
          "y": 4.539377
         },
         {
          "x": 1406,
          "y": 4.5449605
         },
         {
          "x": 1407,
          "y": 4.549187
         },
         {
          "x": 1408,
          "y": 4.5519743
         },
         {
          "x": 1409,
          "y": 4.553397
         },
         {
          "x": 1410,
          "y": 4.5717087
         },
         {
          "x": 1411,
          "y": 4.5744476
         },
         {
          "x": 1412,
          "y": 4.577641
         },
         {
          "x": 1413,
          "y": 4.57802
         },
         {
          "x": 1414,
          "y": 4.581107
         },
         {
          "x": 1415,
          "y": 4.5895247
         },
         {
          "x": 1416,
          "y": 4.5931306
         },
         {
          "x": 1417,
          "y": 4.594702
         },
         {
          "x": 1418,
          "y": 4.63362
         },
         {
          "x": 1419,
          "y": 4.6411467
         },
         {
          "x": 1420,
          "y": 4.643275
         },
         {
          "x": 1421,
          "y": 4.650026
         },
         {
          "x": 1422,
          "y": 4.659022
         },
         {
          "x": 1423,
          "y": 4.662418
         },
         {
          "x": 1424,
          "y": 4.6737027
         },
         {
          "x": 1425,
          "y": 4.692503
         },
         {
          "x": 1426,
          "y": 4.716604
         },
         {
          "x": 1427,
          "y": 4.716621
         },
         {
          "x": 1428,
          "y": 4.722066
         },
         {
          "x": 1429,
          "y": 4.722296
         },
         {
          "x": 1430,
          "y": 4.737407
         },
         {
          "x": 1431,
          "y": 4.7434154
         },
         {
          "x": 1432,
          "y": 4.7508554
         },
         {
          "x": 1433,
          "y": 4.7646017
         },
         {
          "x": 1434,
          "y": 4.783575
         },
         {
          "x": 1435,
          "y": 4.79663
         },
         {
          "x": 1436,
          "y": 4.799968
         },
         {
          "x": 1437,
          "y": 4.8079543
         },
         {
          "x": 1438,
          "y": 4.813561
         },
         {
          "x": 1439,
          "y": 4.8305373
         },
         {
          "x": 1440,
          "y": 4.8681445
         },
         {
          "x": 1441,
          "y": 4.869906
         },
         {
          "x": 1442,
          "y": 4.869988
         },
         {
          "x": 1443,
          "y": 4.8778257
         },
         {
          "x": 1444,
          "y": 4.8928733
         },
         {
          "x": 1445,
          "y": 4.8989553
         },
         {
          "x": 1446,
          "y": 4.915743
         },
         {
          "x": 1447,
          "y": 4.9242225
         },
         {
          "x": 1448,
          "y": 4.9340086
         },
         {
          "x": 1449,
          "y": 4.9361215
         },
         {
          "x": 1450,
          "y": 4.9572
         },
         {
          "x": 1451,
          "y": 4.968109
         },
         {
          "x": 1452,
          "y": 4.977527
         },
         {
          "x": 1453,
          "y": 4.977975
         },
         {
          "x": 1454,
          "y": 4.9822845
         },
         {
          "x": 1455,
          "y": 4.9857135
         },
         {
          "x": 1456,
          "y": 4.995135
         },
         {
          "x": 1457,
          "y": 5.002291
         },
         {
          "x": 1458,
          "y": 5.0100284
         },
         {
          "x": 1459,
          "y": 5.010588
         },
         {
          "x": 1460,
          "y": 5.014348
         },
         {
          "x": 1461,
          "y": 5.0179305
         },
         {
          "x": 1462,
          "y": 5.0192037
         },
         {
          "x": 1463,
          "y": 5.0359416
         },
         {
          "x": 1464,
          "y": 5.036581
         },
         {
          "x": 1465,
          "y": 5.044669
         },
         {
          "x": 1466,
          "y": 5.0476832
         },
         {
          "x": 1467,
          "y": 5.0497837
         },
         {
          "x": 1468,
          "y": 5.0517926
         },
         {
          "x": 1469,
          "y": 5.131532
         },
         {
          "x": 1470,
          "y": 5.13476
         },
         {
          "x": 1471,
          "y": 5.1441007
         },
         {
          "x": 1472,
          "y": 5.188484
         },
         {
          "x": 1473,
          "y": 5.2009954
         },
         {
          "x": 1474,
          "y": 5.2392817
         },
         {
          "x": 1475,
          "y": 5.2943163
         },
         {
          "x": 1476,
          "y": 5.319714
         },
         {
          "x": 1477,
          "y": 5.3616953
         },
         {
          "x": 1478,
          "y": 5.368244
         },
         {
          "x": 1479,
          "y": 5.541886
         },
         {
          "x": 1480,
          "y": 5.561346
         },
         {
          "x": 1481,
          "y": 5.5675435
         },
         {
          "x": 1482,
          "y": 5.5715446
         },
         {
          "x": 1483,
          "y": 5.6310244
         },
         {
          "x": 1484,
          "y": 5.737974
         },
         {
          "x": 1485,
          "y": 5.7491474
         },
         {
          "x": 1486,
          "y": 5.7681212
         },
         {
          "x": 1487,
          "y": 5.828131
         },
         {
          "x": 1488,
          "y": 5.841267
         },
         {
          "x": 1489,
          "y": 5.854089
         },
         {
          "x": 1490,
          "y": 5.8640156
         },
         {
          "x": 1491,
          "y": 5.875212
         },
         {
          "x": 1492,
          "y": 5.8902946
         },
         {
          "x": 1493,
          "y": 5.9034576
         },
         {
          "x": 1494,
          "y": 5.9349537
         },
         {
          "x": 1495,
          "y": 5.953747
         },
         {
          "x": 1496,
          "y": 5.96481
         },
         {
          "x": 1497,
          "y": 6.0107226
         },
         {
          "x": 1498,
          "y": 6.012452
         },
         {
          "x": 1499,
          "y": 6.0609555
         },
         {
          "x": 1500,
          "y": 6.0746107
         },
         {
          "x": 1501,
          "y": 6.092146
         },
         {
          "x": 1502,
          "y": 6.108269
         },
         {
          "x": 1503,
          "y": 6.140128
         },
         {
          "x": 1504,
          "y": 6.312085
         },
         {
          "x": 1505,
          "y": 6.4779334
         },
         {
          "x": 1506,
          "y": 6.671543
         }
        ]
       },
       "encoding": {
        "x": {
         "axis": {
          "title": "index"
         },
         "field": "x",
         "type": "ordinal"
        },
        "y": {
         "axis": {
          "title": "Log10 counts"
         },
         "field": "y",
         "type": "quantitative"
        }
       },
       "height": 400,
       "mark": "bar",
       "title": "S1 analysis",
       "width": 500
      },
      "image/png": "[encoded data removed]"
     },
     "execution_count": 138,
     "metadata": {},
     "output_type": "execute_result"
    }
   ],
   "source": [
    "(dv::bar-plot (ad::sequence-counts (ad::sequences *full1*)) :x-title \"index\" :y-title \"Log10 counts\" :title \"S1 analysis\")"
   ]
  },
  {
   "cell_type": "code",
   "execution_count": 139,
   "id": "38c49942-c767-48a2-a4d3-56a18d121426",
   "metadata": {},
   "outputs": [
    {
     "data": {
      "application/vnd.vegalite.v4+json": {
       "$schema": "https://vega.github.io/schema/vega-lite/v5.json",
       "data": {
        "values": [
         {
          "x": 0,
          "y": 0
         },
         {
          "x": 1,
          "y": 0
         },
         {
          "x": 2,
          "y": 0
         },
         {
          "x": 3,
          "y": 0
         },
         {
          "x": 4,
          "y": 0
         },
         {
          "x": 5,
          "y": 0
         },
         {
          "x": 6,
          "y": 0
         },
         {
          "x": 7,
          "y": 0
         },
         {
          "x": 8,
          "y": 0
         },
         {
          "x": 9,
          "y": 0
         },
         {
          "x": 10,
          "y": 0
         },
         {
          "x": 11,
          "y": 0
         },
         {
          "x": 12,
          "y": 0
         },
         {
          "x": 13,
          "y": 0
         },
         {
          "x": 14,
          "y": 0
         },
         {
          "x": 15,
          "y": 0
         },
         {
          "x": 16,
          "y": 0
         },
         {
          "x": 17,
          "y": 0
         },
         {
          "x": 18,
          "y": 0
         },
         {
          "x": 19,
          "y": 0
         },
         {
          "x": 20,
          "y": 0
         },
         {
          "x": 21,
          "y": 0
         },
         {
          "x": 22,
          "y": 0
         },
         {
          "x": 23,
          "y": 0
         },
         {
          "x": 24,
          "y": 0
         },
         {
          "x": 25,
          "y": 0
         },
         {
          "x": 26,
          "y": 0
         },
         {
          "x": 27,
          "y": 0
         },
         {
          "x": 28,
          "y": 0
         },
         {
          "x": 29,
          "y": 0
         },
         {
          "x": 30,
          "y": 0
         },
         {
          "x": 31,
          "y": 0
         },
         {
          "x": 32,
          "y": 0
         },
         {
          "x": 33,
          "y": 0
         },
         {
          "x": 34,
          "y": 0
         },
         {
          "x": 35,
          "y": 0
         },
         {
          "x": 36,
          "y": 0
         },
         {
          "x": 37,
          "y": 0
         },
         {
          "x": 38,
          "y": 0
         },
         {
          "x": 39,
          "y": 0
         },
         {
          "x": 40,
          "y": 0
         },
         {
          "x": 41,
          "y": 0
         },
         {
          "x": 42,
          "y": 0
         },
         {
          "x": 43,
          "y": 0
         },
         {
          "x": 44,
          "y": 0
         },
         {
          "x": 45,
          "y": 0
         },
         {
          "x": 46,
          "y": 0
         },
         {
          "x": 47,
          "y": 0
         },
         {
          "x": 48,
          "y": 0
         },
         {
          "x": 49,
          "y": 0
         },
         {
          "x": 50,
          "y": 0
         },
         {
          "x": 51,
          "y": 0
         },
         {
          "x": 52,
          "y": 0
         },
         {
          "x": 53,
          "y": 0
         },
         {
          "x": 54,
          "y": 0
         },
         {
          "x": 55,
          "y": 0
         },
         {
          "x": 56,
          "y": 0
         },
         {
          "x": 57,
          "y": 0
         },
         {
          "x": 58,
          "y": 0
         },
         {
          "x": 59,
          "y": 0
         },
         {
          "x": 60,
          "y": 0
         },
         {
          "x": 61,
          "y": 0
         },
         {
          "x": 62,
          "y": 0
         },
         {
          "x": 63,
          "y": 0
         },
         {
          "x": 64,
          "y": 0
         },
         {
          "x": 65,
          "y": 0
         },
         {
          "x": 66,
          "y": 0
         },
         {
          "x": 67,
          "y": 0
         },
         {
          "x": 68,
          "y": 0
         },
         {
          "x": 69,
          "y": 0
         },
         {
          "x": 70,
          "y": 0
         },
         {
          "x": 71,
          "y": 0
         },
         {
          "x": 72,
          "y": 0
         },
         {
          "x": 73,
          "y": 0
         },
         {
          "x": 74,
          "y": 0
         },
         {
          "x": 75,
          "y": 0
         },
         {
          "x": 76,
          "y": 0
         },
         {
          "x": 77,
          "y": 0
         },
         {
          "x": 78,
          "y": 0
         },
         {
          "x": 79,
          "y": 0
         },
         {
          "x": 80,
          "y": 0
         },
         {
          "x": 81,
          "y": 0
         },
         {
          "x": 82,
          "y": 0
         },
         {
          "x": 83,
          "y": 0
         },
         {
          "x": 84,
          "y": 0
         },
         {
          "x": 85,
          "y": 0
         },
         {
          "x": 86,
          "y": 0
         },
         {
          "x": 87,
          "y": 0
         },
         {
          "x": 88,
          "y": 0
         },
         {
          "x": 89,
          "y": 0
         },
         {
          "x": 90,
          "y": 0
         },
         {
          "x": 91,
          "y": 0
         },
         {
          "x": 92,
          "y": 0
         },
         {
          "x": 93,
          "y": 0
         },
         {
          "x": 94,
          "y": 0
         },
         {
          "x": 95,
          "y": 0
         },
         {
          "x": 96,
          "y": 0
         },
         {
          "x": 97,
          "y": 0
         },
         {
          "x": 98,
          "y": 0
         },
         {
          "x": 99,
          "y": 0
         },
         {
          "x": 100,
          "y": 0
         },
         {
          "x": 101,
          "y": 0
         },
         {
          "x": 102,
          "y": 0
         },
         {
          "x": 103,
          "y": 0
         },
         {
          "x": 104,
          "y": 0
         },
         {
          "x": 105,
          "y": 0
         },
         {
          "x": 106,
          "y": 0
         },
         {
          "x": 107,
          "y": 0
         },
         {
          "x": 108,
          "y": 0
         },
         {
          "x": 109,
          "y": 0
         },
         {
          "x": 110,
          "y": 0
         },
         {
          "x": 111,
          "y": 0
         },
         {
          "x": 112,
          "y": 0
         },
         {
          "x": 113,
          "y": 0
         },
         {
          "x": 114,
          "y": 0
         },
         {
          "x": 115,
          "y": 0
         },
         {
          "x": 116,
          "y": 0
         },
         {
          "x": 117,
          "y": 0
         },
         {
          "x": 118,
          "y": 0
         },
         {
          "x": 119,
          "y": 0
         },
         {
          "x": 120,
          "y": 0
         },
         {
          "x": 121,
          "y": 0
         },
         {
          "x": 122,
          "y": 0
         },
         {
          "x": 123,
          "y": 0
         },
         {
          "x": 124,
          "y": 0
         },
         {
          "x": 125,
          "y": 0
         },
         {
          "x": 126,
          "y": 0
         },
         {
          "x": 127,
          "y": 0
         },
         {
          "x": 128,
          "y": 0
         },
         {
          "x": 129,
          "y": 0
         },
         {
          "x": 130,
          "y": 0
         },
         {
          "x": 131,
          "y": 0
         },
         {
          "x": 132,
          "y": 0
         },
         {
          "x": 133,
          "y": 0
         },
         {
          "x": 134,
          "y": 0
         },
         {
          "x": 135,
          "y": 0
         },
         {
          "x": 136,
          "y": 0
         },
         {
          "x": 137,
          "y": 0
         },
         {
          "x": 138,
          "y": 0
         },
         {
          "x": 139,
          "y": 0
         },
         {
          "x": 140,
          "y": 0
         },
         {
          "x": 141,
          "y": 0
         },
         {
          "x": 142,
          "y": 0
         },
         {
          "x": 143,
          "y": 0
         },
         {
          "x": 144,
          "y": 0
         },
         {
          "x": 145,
          "y": 0
         },
         {
          "x": 146,
          "y": 0
         },
         {
          "x": 147,
          "y": 0
         },
         {
          "x": 148,
          "y": 0
         },
         {
          "x": 149,
          "y": 0
         },
         {
          "x": 150,
          "y": 0
         },
         {
          "x": 151,
          "y": 0
         },
         {
          "x": 152,
          "y": 0
         },
         {
          "x": 153,
          "y": 0
         },
         {
          "x": 154,
          "y": 0
         },
         {
          "x": 155,
          "y": 0
         },
         {
          "x": 156,
          "y": 0
         },
         {
          "x": 157,
          "y": 0
         },
         {
          "x": 158,
          "y": 0
         },
         {
          "x": 159,
          "y": 0
         },
         {
          "x": 160,
          "y": 0
         },
         {
          "x": 161,
          "y": 0
         },
         {
          "x": 162,
          "y": 0
         },
         {
          "x": 163,
          "y": 0
         },
         {
          "x": 164,
          "y": 0
         },
         {
          "x": 165,
          "y": 0
         },
         {
          "x": 166,
          "y": 0
         },
         {
          "x": 167,
          "y": 0
         },
         {
          "x": 168,
          "y": 0
         },
         {
          "x": 169,
          "y": 0
         },
         {
          "x": 170,
          "y": 0
         },
         {
          "x": 171,
          "y": 0
         },
         {
          "x": 172,
          "y": 0
         },
         {
          "x": 173,
          "y": 0
         },
         {
          "x": 174,
          "y": 0
         },
         {
          "x": 175,
          "y": 0
         },
         {
          "x": 176,
          "y": 0
         },
         {
          "x": 177,
          "y": 0
         },
         {
          "x": 178,
          "y": 0
         },
         {
          "x": 179,
          "y": 0
         },
         {
          "x": 180,
          "y": 0
         },
         {
          "x": 181,
          "y": 0
         },
         {
          "x": 182,
          "y": 0
         },
         {
          "x": 183,
          "y": 0
         },
         {
          "x": 184,
          "y": 0
         },
         {
          "x": 185,
          "y": 0
         },
         {
          "x": 186,
          "y": 0
         },
         {
          "x": 187,
          "y": 0
         },
         {
          "x": 188,
          "y": 0
         },
         {
          "x": 189,
          "y": 0
         },
         {
          "x": 190,
          "y": 0
         },
         {
          "x": 191,
          "y": 0
         },
         {
          "x": 192,
          "y": 0
         },
         {
          "x": 193,
          "y": 0
         },
         {
          "x": 194,
          "y": 0
         },
         {
          "x": 195,
          "y": 0
         },
         {
          "x": 196,
          "y": 0
         },
         {
          "x": 197,
          "y": 0
         },
         {
          "x": 198,
          "y": 0
         },
         {
          "x": 199,
          "y": 0
         },
         {
          "x": 200,
          "y": 0
         },
         {
          "x": 201,
          "y": 0
         },
         {
          "x": 202,
          "y": 0
         },
         {
          "x": 203,
          "y": 0
         },
         {
          "x": 204,
          "y": 0
         },
         {
          "x": 205,
          "y": 0
         },
         {
          "x": 206,
          "y": 0
         },
         {
          "x": 207,
          "y": 0
         },
         {
          "x": 208,
          "y": 0
         },
         {
          "x": 209,
          "y": 0
         },
         {
          "x": 210,
          "y": 0
         },
         {
          "x": 211,
          "y": 0
         },
         {
          "x": 212,
          "y": 0
         },
         {
          "x": 213,
          "y": 0
         },
         {
          "x": 214,
          "y": 0
         },
         {
          "x": 215,
          "y": 0
         },
         {
          "x": 216,
          "y": 0
         },
         {
          "x": 217,
          "y": 0
         },
         {
          "x": 218,
          "y": 0
         },
         {
          "x": 219,
          "y": 0
         },
         {
          "x": 220,
          "y": 0
         },
         {
          "x": 221,
          "y": 0
         },
         {
          "x": 222,
          "y": 0
         },
         {
          "x": 223,
          "y": 0
         },
         {
          "x": 224,
          "y": 0
         },
         {
          "x": 225,
          "y": 0
         },
         {
          "x": 226,
          "y": 0
         },
         {
          "x": 227,
          "y": 0
         },
         {
          "x": 228,
          "y": 0
         },
         {
          "x": 229,
          "y": 0
         },
         {
          "x": 230,
          "y": 0
         },
         {
          "x": 231,
          "y": 0
         },
         {
          "x": 232,
          "y": 0
         },
         {
          "x": 233,
          "y": 0
         },
         {
          "x": 234,
          "y": 0
         },
         {
          "x": 235,
          "y": 0
         },
         {
          "x": 236,
          "y": 0
         },
         {
          "x": 237,
          "y": 0
         },
         {
          "x": 238,
          "y": 0
         },
         {
          "x": 239,
          "y": 0
         },
         {
          "x": 240,
          "y": 0
         },
         {
          "x": 241,
          "y": 0
         },
         {
          "x": 242,
          "y": 0
         },
         {
          "x": 243,
          "y": 0
         },
         {
          "x": 244,
          "y": 0
         },
         {
          "x": 245,
          "y": 0
         },
         {
          "x": 246,
          "y": 0
         },
         {
          "x": 247,
          "y": 0
         },
         {
          "x": 248,
          "y": 0
         },
         {
          "x": 249,
          "y": 0
         },
         {
          "x": 250,
          "y": 0
         },
         {
          "x": 251,
          "y": 0
         },
         {
          "x": 252,
          "y": 0
         },
         {
          "x": 253,
          "y": 0
         },
         {
          "x": 254,
          "y": 0
         },
         {
          "x": 255,
          "y": 0
         },
         {
          "x": 256,
          "y": 0
         },
         {
          "x": 257,
          "y": 0
         },
         {
          "x": 258,
          "y": 0
         },
         {
          "x": 259,
          "y": 0
         },
         {
          "x": 260,
          "y": 0
         },
         {
          "x": 261,
          "y": 0
         },
         {
          "x": 262,
          "y": 0
         },
         {
          "x": 263,
          "y": 0
         },
         {
          "x": 264,
          "y": 0
         },
         {
          "x": 265,
          "y": 0
         },
         {
          "x": 266,
          "y": 0
         },
         {
          "x": 267,
          "y": 0
         },
         {
          "x": 268,
          "y": 0
         },
         {
          "x": 269,
          "y": 0
         },
         {
          "x": 270,
          "y": 0
         },
         {
          "x": 271,
          "y": 0
         },
         {
          "x": 272,
          "y": 0
         },
         {
          "x": 273,
          "y": 0
         },
         {
          "x": 274,
          "y": 0
         },
         {
          "x": 275,
          "y": 0
         },
         {
          "x": 276,
          "y": 0
         },
         {
          "x": 277,
          "y": 0
         },
         {
          "x": 278,
          "y": 0
         },
         {
          "x": 279,
          "y": 0
         },
         {
          "x": 280,
          "y": 0
         },
         {
          "x": 281,
          "y": 0
         },
         {
          "x": 282,
          "y": 0
         },
         {
          "x": 283,
          "y": 0
         },
         {
          "x": 284,
          "y": 0
         },
         {
          "x": 285,
          "y": 0
         },
         {
          "x": 286,
          "y": 0
         },
         {
          "x": 287,
          "y": 0
         },
         {
          "x": 288,
          "y": 0
         },
         {
          "x": 289,
          "y": 0
         },
         {
          "x": 290,
          "y": 0
         },
         {
          "x": 291,
          "y": 0
         },
         {
          "x": 292,
          "y": 0
         },
         {
          "x": 293,
          "y": 0
         },
         {
          "x": 294,
          "y": 0
         },
         {
          "x": 295,
          "y": 0
         },
         {
          "x": 296,
          "y": 0
         },
         {
          "x": 297,
          "y": 0
         },
         {
          "x": 298,
          "y": 0
         },
         {
          "x": 299,
          "y": 0
         },
         {
          "x": 300,
          "y": 0
         },
         {
          "x": 301,
          "y": 0
         },
         {
          "x": 302,
          "y": 0
         },
         {
          "x": 303,
          "y": 0
         },
         {
          "x": 304,
          "y": 0
         },
         {
          "x": 305,
          "y": 0
         },
         {
          "x": 306,
          "y": 0
         },
         {
          "x": 307,
          "y": 0
         },
         {
          "x": 308,
          "y": 0
         },
         {
          "x": 309,
          "y": 0
         },
         {
          "x": 310,
          "y": 0
         },
         {
          "x": 311,
          "y": 0
         },
         {
          "x": 312,
          "y": 0
         },
         {
          "x": 313,
          "y": 0
         },
         {
          "x": 314,
          "y": 0
         },
         {
          "x": 315,
          "y": 0
         },
         {
          "x": 316,
          "y": 0
         },
         {
          "x": 317,
          "y": 0
         },
         {
          "x": 318,
          "y": 0
         },
         {
          "x": 319,
          "y": 0
         },
         {
          "x": 320,
          "y": 0
         },
         {
          "x": 321,
          "y": 0
         },
         {
          "x": 322,
          "y": 0
         },
         {
          "x": 323,
          "y": 0
         },
         {
          "x": 324,
          "y": 0
         },
         {
          "x": 325,
          "y": 0
         },
         {
          "x": 326,
          "y": 0
         },
         {
          "x": 327,
          "y": 0
         },
         {
          "x": 328,
          "y": 0
         },
         {
          "x": 329,
          "y": 0
         },
         {
          "x": 330,
          "y": 0
         },
         {
          "x": 331,
          "y": 0
         },
         {
          "x": 332,
          "y": 0
         },
         {
          "x": 333,
          "y": 0
         },
         {
          "x": 334,
          "y": 0
         },
         {
          "x": 335,
          "y": 0
         },
         {
          "x": 336,
          "y": 0
         },
         {
          "x": 337,
          "y": 0
         },
         {
          "x": 338,
          "y": 0
         },
         {
          "x": 339,
          "y": 0
         },
         {
          "x": 340,
          "y": 0
         },
         {
          "x": 341,
          "y": 0
         },
         {
          "x": 342,
          "y": 0
         },
         {
          "x": 343,
          "y": 0
         },
         {
          "x": 344,
          "y": 0
         },
         {
          "x": 345,
          "y": 0
         },
         {
          "x": 346,
          "y": 0
         },
         {
          "x": 347,
          "y": 0
         },
         {
          "x": 348,
          "y": 0
         },
         {
          "x": 349,
          "y": 0
         },
         {
          "x": 350,
          "y": 0
         },
         {
          "x": 351,
          "y": 0
         },
         {
          "x": 352,
          "y": 0
         },
         {
          "x": 353,
          "y": 0
         },
         {
          "x": 354,
          "y": 0
         },
         {
          "x": 355,
          "y": 0
         },
         {
          "x": 356,
          "y": 0
         },
         {
          "x": 357,
          "y": 0
         },
         {
          "x": 358,
          "y": 0
         },
         {
          "x": 359,
          "y": 0
         },
         {
          "x": 360,
          "y": 0
         },
         {
          "x": 361,
          "y": 0
         },
         {
          "x": 362,
          "y": 0
         },
         {
          "x": 363,
          "y": 0
         },
         {
          "x": 364,
          "y": 0
         },
         {
          "x": 365,
          "y": 0
         },
         {
          "x": 366,
          "y": 0
         },
         {
          "x": 367,
          "y": 0
         },
         {
          "x": 368,
          "y": 0
         },
         {
          "x": 369,
          "y": 0
         },
         {
          "x": 370,
          "y": 0
         },
         {
          "x": 371,
          "y": 0
         },
         {
          "x": 372,
          "y": 0
         },
         {
          "x": 373,
          "y": 0
         },
         {
          "x": 374,
          "y": 0
         },
         {
          "x": 375,
          "y": 0
         },
         {
          "x": 376,
          "y": 0
         },
         {
          "x": 377,
          "y": 0
         },
         {
          "x": 378,
          "y": 0
         },
         {
          "x": 379,
          "y": 0
         },
         {
          "x": 380,
          "y": 0
         },
         {
          "x": 381,
          "y": 0
         },
         {
          "x": 382,
          "y": 0
         },
         {
          "x": 383,
          "y": 0
         },
         {
          "x": 384,
          "y": 0
         },
         {
          "x": 385,
          "y": 0
         },
         {
          "x": 386,
          "y": 0
         },
         {
          "x": 387,
          "y": 0
         },
         {
          "x": 388,
          "y": 0
         },
         {
          "x": 389,
          "y": 0
         },
         {
          "x": 390,
          "y": 0
         },
         {
          "x": 391,
          "y": 0
         },
         {
          "x": 392,
          "y": 0
         },
         {
          "x": 393,
          "y": 0
         },
         {
          "x": 394,
          "y": 0
         },
         {
          "x": 395,
          "y": 0
         },
         {
          "x": 396,
          "y": 0
         },
         {
          "x": 397,
          "y": 0
         },
         {
          "x": 398,
          "y": 0
         },
         {
          "x": 399,
          "y": 0
         },
         {
          "x": 400,
          "y": 0
         },
         {
          "x": 401,
          "y": 0
         },
         {
          "x": 402,
          "y": 0
         },
         {
          "x": 403,
          "y": 0
         },
         {
          "x": 404,
          "y": 0
         },
         {
          "x": 405,
          "y": 0
         },
         {
          "x": 406,
          "y": 0
         },
         {
          "x": 407,
          "y": 0
         },
         {
          "x": 408,
          "y": 0
         },
         {
          "x": 409,
          "y": 0
         },
         {
          "x": 410,
          "y": 0
         },
         {
          "x": 411,
          "y": 0
         },
         {
          "x": 412,
          "y": 0
         },
         {
          "x": 413,
          "y": 0
         },
         {
          "x": 414,
          "y": 0
         },
         {
          "x": 415,
          "y": 0
         },
         {
          "x": 416,
          "y": 0
         },
         {
          "x": 417,
          "y": 0
         },
         {
          "x": 418,
          "y": 0
         },
         {
          "x": 419,
          "y": 0
         },
         {
          "x": 420,
          "y": 0
         },
         {
          "x": 421,
          "y": 0
         },
         {
          "x": 422,
          "y": 0
         },
         {
          "x": 423,
          "y": 0
         },
         {
          "x": 424,
          "y": 0
         },
         {
          "x": 425,
          "y": 0
         },
         {
          "x": 426,
          "y": 0
         },
         {
          "x": 427,
          "y": 0
         },
         {
          "x": 428,
          "y": 0
         },
         {
          "x": 429,
          "y": 0
         },
         {
          "x": 430,
          "y": 0
         },
         {
          "x": 431,
          "y": 0
         },
         {
          "x": 432,
          "y": 0
         },
         {
          "x": 433,
          "y": 0
         },
         {
          "x": 434,
          "y": 0
         },
         {
          "x": 435,
          "y": 0
         },
         {
          "x": 436,
          "y": 0
         },
         {
          "x": 437,
          "y": 0
         },
         {
          "x": 438,
          "y": 0
         },
         {
          "x": 439,
          "y": 0
         },
         {
          "x": 440,
          "y": 0
         },
         {
          "x": 441,
          "y": 0
         },
         {
          "x": 442,
          "y": 0
         },
         {
          "x": 443,
          "y": 0
         },
         {
          "x": 444,
          "y": 0
         },
         {
          "x": 445,
          "y": 0
         },
         {
          "x": 446,
          "y": 0
         },
         {
          "x": 447,
          "y": 0
         },
         {
          "x": 448,
          "y": 0
         },
         {
          "x": 449,
          "y": 0
         },
         {
          "x": 450,
          "y": 0
         },
         {
          "x": 451,
          "y": 0
         },
         {
          "x": 452,
          "y": 0
         },
         {
          "x": 453,
          "y": 0
         },
         {
          "x": 454,
          "y": 0
         },
         {
          "x": 455,
          "y": 0
         },
         {
          "x": 456,
          "y": 0
         },
         {
          "x": 457,
          "y": 0
         },
         {
          "x": 458,
          "y": 0
         },
         {
          "x": 459,
          "y": 0
         },
         {
          "x": 460,
          "y": 0
         },
         {
          "x": 461,
          "y": 0
         },
         {
          "x": 462,
          "y": 0
         },
         {
          "x": 463,
          "y": 0
         },
         {
          "x": 464,
          "y": 0
         },
         {
          "x": 465,
          "y": 0
         },
         {
          "x": 466,
          "y": 0
         },
         {
          "x": 467,
          "y": 0
         },
         {
          "x": 468,
          "y": 0
         },
         {
          "x": 469,
          "y": 0
         },
         {
          "x": 470,
          "y": 0
         },
         {
          "x": 471,
          "y": 0
         },
         {
          "x": 472,
          "y": 0
         },
         {
          "x": 473,
          "y": 0
         },
         {
          "x": 474,
          "y": 0
         },
         {
          "x": 475,
          "y": 0
         },
         {
          "x": 476,
          "y": 0
         },
         {
          "x": 477,
          "y": 0
         },
         {
          "x": 478,
          "y": 0
         },
         {
          "x": 479,
          "y": 0
         },
         {
          "x": 480,
          "y": 0
         },
         {
          "x": 481,
          "y": 0
         },
         {
          "x": 482,
          "y": 0
         },
         {
          "x": 483,
          "y": 0
         },
         {
          "x": 484,
          "y": 0
         },
         {
          "x": 485,
          "y": 0
         },
         {
          "x": 486,
          "y": 0
         },
         {
          "x": 487,
          "y": 0
         },
         {
          "x": 488,
          "y": 0
         },
         {
          "x": 489,
          "y": 0
         },
         {
          "x": 490,
          "y": 0
         },
         {
          "x": 491,
          "y": 0
         },
         {
          "x": 492,
          "y": 0
         },
         {
          "x": 493,
          "y": 0
         },
         {
          "x": 494,
          "y": 0
         },
         {
          "x": 495,
          "y": 0
         },
         {
          "x": 496,
          "y": 0
         },
         {
          "x": 497,
          "y": 0
         },
         {
          "x": 498,
          "y": 0
         },
         {
          "x": 499,
          "y": 0
         },
         {
          "x": 500,
          "y": 0
         },
         {
          "x": 501,
          "y": 0
         },
         {
          "x": 502,
          "y": 0
         },
         {
          "x": 503,
          "y": 0
         },
         {
          "x": 504,
          "y": 0
         },
         {
          "x": 505,
          "y": 0
         },
         {
          "x": 506,
          "y": 0
         },
         {
          "x": 507,
          "y": 0
         },
         {
          "x": 508,
          "y": 0
         },
         {
          "x": 509,
          "y": 0
         },
         {
          "x": 510,
          "y": 0
         },
         {
          "x": 511,
          "y": 0
         },
         {
          "x": 512,
          "y": 0
         },
         {
          "x": 513,
          "y": 0
         },
         {
          "x": 514,
          "y": 0
         },
         {
          "x": 515,
          "y": 0
         },
         {
          "x": 516,
          "y": 0
         },
         {
          "x": 517,
          "y": 0
         },
         {
          "x": 518,
          "y": 0
         },
         {
          "x": 519,
          "y": 0
         },
         {
          "x": 520,
          "y": 0
         },
         {
          "x": 521,
          "y": 0
         },
         {
          "x": 522,
          "y": 0
         },
         {
          "x": 523,
          "y": 0
         },
         {
          "x": 524,
          "y": 0
         },
         {
          "x": 525,
          "y": 0
         },
         {
          "x": 526,
          "y": 0
         },
         {
          "x": 527,
          "y": 0
         },
         {
          "x": 528,
          "y": 0
         },
         {
          "x": 529,
          "y": 0
         },
         {
          "x": 530,
          "y": 0
         },
         {
          "x": 531,
          "y": 0
         },
         {
          "x": 532,
          "y": 0
         },
         {
          "x": 533,
          "y": 0
         },
         {
          "x": 534,
          "y": 0
         },
         {
          "x": 535,
          "y": 0
         },
         {
          "x": 536,
          "y": 0
         },
         {
          "x": 537,
          "y": 0
         },
         {
          "x": 538,
          "y": 0
         },
         {
          "x": 539,
          "y": 0
         },
         {
          "x": 540,
          "y": 0
         },
         {
          "x": 541,
          "y": 0
         },
         {
          "x": 542,
          "y": 0
         },
         {
          "x": 543,
          "y": 0
         },
         {
          "x": 544,
          "y": 0
         },
         {
          "x": 545,
          "y": 0
         },
         {
          "x": 546,
          "y": 0
         },
         {
          "x": 547,
          "y": 0
         },
         {
          "x": 548,
          "y": 0
         },
         {
          "x": 549,
          "y": 0
         },
         {
          "x": 550,
          "y": 0
         },
         {
          "x": 551,
          "y": 0
         },
         {
          "x": 552,
          "y": 0
         },
         {
          "x": 553,
          "y": 0
         },
         {
          "x": 554,
          "y": 0
         },
         {
          "x": 555,
          "y": 0
         },
         {
          "x": 556,
          "y": 0
         },
         {
          "x": 557,
          "y": 0
         },
         {
          "x": 558,
          "y": 0
         },
         {
          "x": 559,
          "y": 0
         },
         {
          "x": 560,
          "y": 0
         },
         {
          "x": 561,
          "y": 0
         },
         {
          "x": 562,
          "y": 0
         },
         {
          "x": 563,
          "y": 0
         },
         {
          "x": 564,
          "y": 0
         },
         {
          "x": 565,
          "y": 0
         },
         {
          "x": 566,
          "y": 0
         },
         {
          "x": 567,
          "y": 0
         },
         {
          "x": 568,
          "y": 0
         },
         {
          "x": 569,
          "y": 0
         },
         {
          "x": 570,
          "y": 0
         },
         {
          "x": 571,
          "y": 0
         },
         {
          "x": 572,
          "y": 0
         },
         {
          "x": 573,
          "y": 0
         },
         {
          "x": 574,
          "y": 0
         },
         {
          "x": 575,
          "y": 0
         },
         {
          "x": 576,
          "y": 0
         },
         {
          "x": 577,
          "y": 0
         },
         {
          "x": 578,
          "y": 0
         },
         {
          "x": 579,
          "y": 0
         },
         {
          "x": 580,
          "y": 0
         },
         {
          "x": 581,
          "y": 0
         },
         {
          "x": 582,
          "y": 0
         },
         {
          "x": 583,
          "y": 0
         },
         {
          "x": 584,
          "y": 0
         },
         {
          "x": 585,
          "y": 0
         },
         {
          "x": 586,
          "y": 0
         },
         {
          "x": 587,
          "y": 0
         },
         {
          "x": 588,
          "y": 0
         },
         {
          "x": 589,
          "y": 0
         },
         {
          "x": 590,
          "y": 0
         },
         {
          "x": 591,
          "y": 0
         },
         {
          "x": 592,
          "y": 0
         },
         {
          "x": 593,
          "y": 0
         },
         {
          "x": 594,
          "y": 0
         },
         {
          "x": 595,
          "y": 0
         },
         {
          "x": 596,
          "y": 0
         },
         {
          "x": 597,
          "y": 0
         },
         {
          "x": 598,
          "y": 0
         },
         {
          "x": 599,
          "y": 0
         },
         {
          "x": 600,
          "y": 0
         },
         {
          "x": 601,
          "y": 0
         },
         {
          "x": 602,
          "y": 0
         },
         {
          "x": 603,
          "y": 0
         },
         {
          "x": 604,
          "y": 0
         },
         {
          "x": 605,
          "y": 0
         },
         {
          "x": 606,
          "y": 0
         },
         {
          "x": 607,
          "y": 0
         },
         {
          "x": 608,
          "y": 0
         },
         {
          "x": 609,
          "y": 0
         },
         {
          "x": 610,
          "y": 0
         },
         {
          "x": 611,
          "y": 0
         },
         {
          "x": 612,
          "y": 0
         },
         {
          "x": 613,
          "y": 0
         },
         {
          "x": 614,
          "y": 0
         },
         {
          "x": 615,
          "y": 0
         },
         {
          "x": 616,
          "y": 0
         },
         {
          "x": 617,
          "y": 0
         },
         {
          "x": 618,
          "y": 0
         },
         {
          "x": 619,
          "y": 0
         },
         {
          "x": 620,
          "y": 0
         },
         {
          "x": 621,
          "y": 0
         },
         {
          "x": 622,
          "y": 0
         },
         {
          "x": 623,
          "y": 0
         },
         {
          "x": 624,
          "y": 0
         },
         {
          "x": 625,
          "y": 0
         },
         {
          "x": 626,
          "y": 0
         },
         {
          "x": 627,
          "y": 0
         },
         {
          "x": 628,
          "y": 0
         },
         {
          "x": 629,
          "y": 0
         },
         {
          "x": 630,
          "y": 0
         },
         {
          "x": 631,
          "y": 0
         },
         {
          "x": 632,
          "y": 0
         },
         {
          "x": 633,
          "y": 0
         },
         {
          "x": 634,
          "y": 0
         },
         {
          "x": 635,
          "y": 0
         },
         {
          "x": 636,
          "y": 0
         },
         {
          "x": 637,
          "y": 0
         },
         {
          "x": 638,
          "y": 0
         },
         {
          "x": 639,
          "y": 0
         },
         {
          "x": 640,
          "y": 0
         },
         {
          "x": 641,
          "y": 0
         },
         {
          "x": 642,
          "y": 0
         },
         {
          "x": 643,
          "y": 0
         },
         {
          "x": 644,
          "y": 0
         },
         {
          "x": 645,
          "y": 0
         },
         {
          "x": 646,
          "y": 0
         },
         {
          "x": 647,
          "y": 0
         },
         {
          "x": 648,
          "y": 0
         },
         {
          "x": 649,
          "y": 0
         },
         {
          "x": 650,
          "y": 0
         },
         {
          "x": 651,
          "y": 0
         },
         {
          "x": 652,
          "y": 0
         },
         {
          "x": 653,
          "y": 0
         },
         {
          "x": 654,
          "y": 0
         },
         {
          "x": 655,
          "y": 0
         },
         {
          "x": 656,
          "y": 0
         },
         {
          "x": 657,
          "y": 0
         },
         {
          "x": 658,
          "y": 0
         },
         {
          "x": 659,
          "y": 0
         },
         {
          "x": 660,
          "y": 0
         },
         {
          "x": 661,
          "y": 0
         },
         {
          "x": 662,
          "y": 0
         },
         {
          "x": 663,
          "y": 0
         },
         {
          "x": 664,
          "y": 0
         },
         {
          "x": 665,
          "y": 0
         },
         {
          "x": 666,
          "y": 0
         },
         {
          "x": 667,
          "y": 0
         },
         {
          "x": 668,
          "y": 0
         },
         {
          "x": 669,
          "y": 0
         },
         {
          "x": 670,
          "y": 0
         },
         {
          "x": 671,
          "y": 0
         },
         {
          "x": 672,
          "y": 0
         },
         {
          "x": 673,
          "y": 0
         },
         {
          "x": 674,
          "y": 0
         },
         {
          "x": 675,
          "y": 0
         },
         {
          "x": 676,
          "y": 0
         },
         {
          "x": 677,
          "y": 0
         },
         {
          "x": 678,
          "y": 0
         },
         {
          "x": 679,
          "y": 0
         },
         {
          "x": 680,
          "y": 0
         },
         {
          "x": 681,
          "y": 0
         },
         {
          "x": 682,
          "y": 0
         },
         {
          "x": 683,
          "y": 0
         },
         {
          "x": 684,
          "y": 0
         },
         {
          "x": 685,
          "y": 0
         },
         {
          "x": 686,
          "y": 0
         },
         {
          "x": 687,
          "y": 0
         },
         {
          "x": 688,
          "y": 0
         },
         {
          "x": 689,
          "y": 0
         },
         {
          "x": 690,
          "y": 0
         },
         {
          "x": 691,
          "y": 0
         },
         {
          "x": 692,
          "y": 0
         },
         {
          "x": 693,
          "y": 0
         },
         {
          "x": 694,
          "y": 0
         },
         {
          "x": 695,
          "y": 0
         },
         {
          "x": 696,
          "y": 0
         },
         {
          "x": 697,
          "y": 0
         },
         {
          "x": 698,
          "y": 0
         },
         {
          "x": 699,
          "y": 0
         },
         {
          "x": 700,
          "y": 0
         },
         {
          "x": 701,
          "y": 0
         },
         {
          "x": 702,
          "y": 0
         },
         {
          "x": 703,
          "y": 0
         },
         {
          "x": 704,
          "y": 0
         },
         {
          "x": 705,
          "y": 0
         },
         {
          "x": 706,
          "y": 0
         },
         {
          "x": 707,
          "y": 0
         },
         {
          "x": 708,
          "y": 0
         },
         {
          "x": 709,
          "y": 0
         },
         {
          "x": 710,
          "y": 0
         },
         {
          "x": 711,
          "y": 0
         },
         {
          "x": 712,
          "y": 0
         },
         {
          "x": 713,
          "y": 0
         },
         {
          "x": 714,
          "y": 0
         },
         {
          "x": 715,
          "y": 0
         },
         {
          "x": 716,
          "y": 0
         },
         {
          "x": 717,
          "y": 0
         },
         {
          "x": 718,
          "y": 0
         },
         {
          "x": 719,
          "y": 0
         },
         {
          "x": 720,
          "y": 0
         },
         {
          "x": 721,
          "y": 0
         },
         {
          "x": 722,
          "y": 0
         },
         {
          "x": 723,
          "y": 0
         },
         {
          "x": 724,
          "y": 0
         },
         {
          "x": 725,
          "y": 0
         },
         {
          "x": 726,
          "y": 0
         },
         {
          "x": 727,
          "y": 0
         },
         {
          "x": 728,
          "y": 0
         },
         {
          "x": 729,
          "y": 0
         },
         {
          "x": 730,
          "y": 0
         },
         {
          "x": 731,
          "y": 0
         },
         {
          "x": 732,
          "y": 0
         },
         {
          "x": 733,
          "y": 0
         },
         {
          "x": 734,
          "y": 0
         },
         {
          "x": 735,
          "y": 0
         },
         {
          "x": 736,
          "y": 0
         },
         {
          "x": 737,
          "y": 0
         },
         {
          "x": 738,
          "y": 0
         },
         {
          "x": 739,
          "y": 0
         },
         {
          "x": 740,
          "y": 0
         },
         {
          "x": 741,
          "y": 0
         },
         {
          "x": 742,
          "y": 0
         },
         {
          "x": 743,
          "y": 0
         },
         {
          "x": 744,
          "y": 0
         },
         {
          "x": 745,
          "y": 0
         },
         {
          "x": 746,
          "y": 0
         },
         {
          "x": 747,
          "y": 0
         },
         {
          "x": 748,
          "y": 0
         },
         {
          "x": 749,
          "y": 0
         },
         {
          "x": 750,
          "y": 0
         },
         {
          "x": 751,
          "y": 0
         },
         {
          "x": 752,
          "y": 0
         },
         {
          "x": 753,
          "y": 0
         },
         {
          "x": 754,
          "y": 0
         },
         {
          "x": 755,
          "y": 0
         },
         {
          "x": 756,
          "y": 0
         },
         {
          "x": 757,
          "y": 0
         },
         {
          "x": 758,
          "y": 0
         },
         {
          "x": 759,
          "y": 0
         },
         {
          "x": 760,
          "y": 0
         },
         {
          "x": 761,
          "y": 0
         },
         {
          "x": 762,
          "y": 0
         },
         {
          "x": 763,
          "y": 0
         },
         {
          "x": 764,
          "y": 0
         },
         {
          "x": 765,
          "y": 0
         },
         {
          "x": 766,
          "y": 0
         },
         {
          "x": 767,
          "y": 0
         },
         {
          "x": 768,
          "y": 0
         },
         {
          "x": 769,
          "y": 0
         },
         {
          "x": 770,
          "y": 0
         },
         {
          "x": 771,
          "y": 0
         },
         {
          "x": 772,
          "y": 0
         },
         {
          "x": 773,
          "y": 0
         },
         {
          "x": 774,
          "y": 0
         },
         {
          "x": 775,
          "y": 0
         },
         {
          "x": 776,
          "y": 0
         },
         {
          "x": 777,
          "y": 0
         },
         {
          "x": 778,
          "y": 0
         },
         {
          "x": 779,
          "y": 0
         },
         {
          "x": 780,
          "y": 0
         },
         {
          "x": 781,
          "y": 0
         },
         {
          "x": 782,
          "y": 0
         },
         {
          "x": 783,
          "y": 0
         },
         {
          "x": 784,
          "y": 0
         },
         {
          "x": 785,
          "y": 0
         },
         {
          "x": 786,
          "y": 0
         },
         {
          "x": 787,
          "y": 0
         },
         {
          "x": 788,
          "y": 0
         },
         {
          "x": 789,
          "y": 0
         },
         {
          "x": 790,
          "y": 0
         },
         {
          "x": 791,
          "y": 0
         },
         {
          "x": 792,
          "y": 0
         },
         {
          "x": 793,
          "y": 0
         },
         {
          "x": 794,
          "y": 0
         },
         {
          "x": 795,
          "y": 0
         },
         {
          "x": 796,
          "y": 0
         },
         {
          "x": 797,
          "y": 0
         },
         {
          "x": 798,
          "y": 0
         },
         {
          "x": 799,
          "y": 0
         },
         {
          "x": 800,
          "y": 0
         },
         {
          "x": 801,
          "y": 0
         },
         {
          "x": 802,
          "y": 0
         },
         {
          "x": 803,
          "y": 0
         },
         {
          "x": 804,
          "y": 0
         },
         {
          "x": 805,
          "y": 0
         },
         {
          "x": 806,
          "y": 0
         },
         {
          "x": 807,
          "y": 0
         },
         {
          "x": 808,
          "y": 0
         },
         {
          "x": 809,
          "y": 0
         },
         {
          "x": 810,
          "y": 0
         },
         {
          "x": 811,
          "y": 0
         },
         {
          "x": 812,
          "y": 0
         },
         {
          "x": 813,
          "y": 0
         },
         {
          "x": 814,
          "y": 0
         },
         {
          "x": 815,
          "y": 0
         },
         {
          "x": 816,
          "y": 0
         },
         {
          "x": 817,
          "y": 0
         },
         {
          "x": 818,
          "y": 0
         },
         {
          "x": 819,
          "y": 0
         },
         {
          "x": 820,
          "y": 0
         },
         {
          "x": 821,
          "y": 0
         },
         {
          "x": 822,
          "y": 0
         },
         {
          "x": 823,
          "y": 0
         },
         {
          "x": 824,
          "y": 0
         },
         {
          "x": 825,
          "y": 0
         },
         {
          "x": 826,
          "y": 0
         },
         {
          "x": 827,
          "y": 0
         },
         {
          "x": 828,
          "y": 0
         },
         {
          "x": 829,
          "y": 0
         },
         {
          "x": 830,
          "y": 0
         },
         {
          "x": 831,
          "y": 0
         },
         {
          "x": 832,
          "y": 0
         },
         {
          "x": 833,
          "y": 0
         },
         {
          "x": 834,
          "y": 0
         },
         {
          "x": 835,
          "y": 0
         },
         {
          "x": 836,
          "y": 0
         },
         {
          "x": 837,
          "y": 0
         },
         {
          "x": 838,
          "y": 0
         },
         {
          "x": 839,
          "y": 0
         },
         {
          "x": 840,
          "y": 0
         },
         {
          "x": 841,
          "y": 0
         },
         {
          "x": 842,
          "y": 0
         },
         {
          "x": 843,
          "y": 0
         },
         {
          "x": 844,
          "y": 0
         },
         {
          "x": 845,
          "y": 0
         },
         {
          "x": 846,
          "y": 0
         },
         {
          "x": 847,
          "y": 0
         },
         {
          "x": 848,
          "y": 0
         },
         {
          "x": 849,
          "y": 0
         },
         {
          "x": 850,
          "y": 0
         },
         {
          "x": 851,
          "y": 0
         },
         {
          "x": 852,
          "y": 0
         },
         {
          "x": 853,
          "y": 0
         },
         {
          "x": 854,
          "y": 0
         },
         {
          "x": 855,
          "y": 0
         },
         {
          "x": 856,
          "y": 0
         },
         {
          "x": 857,
          "y": 0
         },
         {
          "x": 858,
          "y": 0
         },
         {
          "x": 859,
          "y": 0
         },
         {
          "x": 860,
          "y": 0
         },
         {
          "x": 861,
          "y": 0
         },
         {
          "x": 862,
          "y": 0
         },
         {
          "x": 863,
          "y": 0
         },
         {
          "x": 864,
          "y": 0
         },
         {
          "x": 865,
          "y": 0
         },
         {
          "x": 866,
          "y": 0
         },
         {
          "x": 867,
          "y": 0
         },
         {
          "x": 868,
          "y": 0
         },
         {
          "x": 869,
          "y": 0
         },
         {
          "x": 870,
          "y": 0
         },
         {
          "x": 871,
          "y": 0
         },
         {
          "x": 872,
          "y": 0
         },
         {
          "x": 873,
          "y": 0
         },
         {
          "x": 874,
          "y": 0
         },
         {
          "x": 875,
          "y": 0
         },
         {
          "x": 876,
          "y": 0
         },
         {
          "x": 877,
          "y": 0
         },
         {
          "x": 878,
          "y": 0
         },
         {
          "x": 879,
          "y": 0
         },
         {
          "x": 880,
          "y": 0
         },
         {
          "x": 881,
          "y": 0
         },
         {
          "x": 882,
          "y": 0
         },
         {
          "x": 883,
          "y": 0
         },
         {
          "x": 884,
          "y": 0
         },
         {
          "x": 885,
          "y": 0
         },
         {
          "x": 886,
          "y": 0
         },
         {
          "x": 887,
          "y": 0
         },
         {
          "x": 888,
          "y": 0
         },
         {
          "x": 889,
          "y": 0
         },
         {
          "x": 890,
          "y": 0
         },
         {
          "x": 891,
          "y": 0
         },
         {
          "x": 892,
          "y": 0
         },
         {
          "x": 893,
          "y": 0
         },
         {
          "x": 894,
          "y": 0
         },
         {
          "x": 895,
          "y": 0
         },
         {
          "x": 896,
          "y": 0
         },
         {
          "x": 897,
          "y": 0
         },
         {
          "x": 898,
          "y": 0
         },
         {
          "x": 899,
          "y": 0
         },
         {
          "x": 900,
          "y": 0
         },
         {
          "x": 901,
          "y": 0
         },
         {
          "x": 902,
          "y": 0
         },
         {
          "x": 903,
          "y": 0
         },
         {
          "x": 904,
          "y": 0
         },
         {
          "x": 905,
          "y": 0
         },
         {
          "x": 906,
          "y": 0
         },
         {
          "x": 907,
          "y": 0
         },
         {
          "x": 908,
          "y": 0
         },
         {
          "x": 909,
          "y": 0
         },
         {
          "x": 910,
          "y": 0
         },
         {
          "x": 911,
          "y": 0
         },
         {
          "x": 912,
          "y": 0
         },
         {
          "x": 913,
          "y": 0
         },
         {
          "x": 914,
          "y": 0
         },
         {
          "x": 915,
          "y": 0
         },
         {
          "x": 916,
          "y": 0
         },
         {
          "x": 917,
          "y": 0
         },
         {
          "x": 918,
          "y": 0
         },
         {
          "x": 919,
          "y": 0
         },
         {
          "x": 920,
          "y": 0
         },
         {
          "x": 921,
          "y": 0
         },
         {
          "x": 922,
          "y": 0
         },
         {
          "x": 923,
          "y": 0
         },
         {
          "x": 924,
          "y": 0
         },
         {
          "x": 925,
          "y": 0
         },
         {
          "x": 926,
          "y": 0
         },
         {
          "x": 927,
          "y": 0
         },
         {
          "x": 928,
          "y": 0
         },
         {
          "x": 929,
          "y": 0
         },
         {
          "x": 930,
          "y": 0
         },
         {
          "x": 931,
          "y": 0
         },
         {
          "x": 932,
          "y": 0
         },
         {
          "x": 933,
          "y": 0
         },
         {
          "x": 934,
          "y": 0
         },
         {
          "x": 935,
          "y": 0
         },
         {
          "x": 936,
          "y": 0
         },
         {
          "x": 937,
          "y": 0
         },
         {
          "x": 938,
          "y": 0
         },
         {
          "x": 939,
          "y": 0
         },
         {
          "x": 940,
          "y": 0
         },
         {
          "x": 941,
          "y": 0
         },
         {
          "x": 942,
          "y": 0
         },
         {
          "x": 943,
          "y": 0
         },
         {
          "x": 944,
          "y": 0
         },
         {
          "x": 945,
          "y": 0
         },
         {
          "x": 946,
          "y": 0
         },
         {
          "x": 947,
          "y": 0
         },
         {
          "x": 948,
          "y": 0
         },
         {
          "x": 949,
          "y": 0
         },
         {
          "x": 950,
          "y": 0
         },
         {
          "x": 951,
          "y": 0
         },
         {
          "x": 952,
          "y": 0
         },
         {
          "x": 953,
          "y": 0
         },
         {
          "x": 954,
          "y": 0
         },
         {
          "x": 955,
          "y": 0
         },
         {
          "x": 956,
          "y": 0
         },
         {
          "x": 957,
          "y": 0
         },
         {
          "x": 958,
          "y": 0
         },
         {
          "x": 959,
          "y": 0
         },
         {
          "x": 960,
          "y": 0
         },
         {
          "x": 961,
          "y": 0
         },
         {
          "x": 962,
          "y": 0
         },
         {
          "x": 963,
          "y": 0
         },
         {
          "x": 964,
          "y": 0
         },
         {
          "x": 965,
          "y": 0
         },
         {
          "x": 966,
          "y": 0
         },
         {
          "x": 967,
          "y": 0
         },
         {
          "x": 968,
          "y": 0
         },
         {
          "x": 969,
          "y": 0
         },
         {
          "x": 970,
          "y": 0
         },
         {
          "x": 971,
          "y": 0
         },
         {
          "x": 972,
          "y": 0
         },
         {
          "x": 973,
          "y": 0
         },
         {
          "x": 974,
          "y": 0
         },
         {
          "x": 975,
          "y": 0
         },
         {
          "x": 976,
          "y": 0
         },
         {
          "x": 977,
          "y": 0
         },
         {
          "x": 978,
          "y": 0
         },
         {
          "x": 979,
          "y": 0
         },
         {
          "x": 980,
          "y": 0
         },
         {
          "x": 981,
          "y": 0
         },
         {
          "x": 982,
          "y": 0
         },
         {
          "x": 983,
          "y": 0
         },
         {
          "x": 984,
          "y": 0
         },
         {
          "x": 985,
          "y": 0
         },
         {
          "x": 986,
          "y": 0
         },
         {
          "x": 987,
          "y": 0
         },
         {
          "x": 988,
          "y": 0
         },
         {
          "x": 989,
          "y": 0
         },
         {
          "x": 990,
          "y": 0
         },
         {
          "x": 991,
          "y": 0
         },
         {
          "x": 992,
          "y": 0
         },
         {
          "x": 993,
          "y": 0
         },
         {
          "x": 994,
          "y": 0
         },
         {
          "x": 995,
          "y": 0
         },
         {
          "x": 996,
          "y": 0
         },
         {
          "x": 997,
          "y": 0
         },
         {
          "x": 998,
          "y": 0
         },
         {
          "x": 999,
          "y": 0
         },
         {
          "x": 1000,
          "y": 0
         },
         {
          "x": 1001,
          "y": 0
         },
         {
          "x": 1002,
          "y": 0
         },
         {
          "x": 1003,
          "y": 0
         },
         {
          "x": 1004,
          "y": 0
         },
         {
          "x": 1005,
          "y": 0
         },
         {
          "x": 1006,
          "y": 0
         },
         {
          "x": 1007,
          "y": 0
         },
         {
          "x": 1008,
          "y": 0
         },
         {
          "x": 1009,
          "y": 0
         },
         {
          "x": 1010,
          "y": 0
         },
         {
          "x": 1011,
          "y": 0
         },
         {
          "x": 1012,
          "y": 0
         },
         {
          "x": 1013,
          "y": 0
         },
         {
          "x": 1014,
          "y": 0
         },
         {
          "x": 1015,
          "y": 0
         },
         {
          "x": 1016,
          "y": 0
         },
         {
          "x": 1017,
          "y": 0
         },
         {
          "x": 1018,
          "y": 0
         },
         {
          "x": 1019,
          "y": 0
         },
         {
          "x": 1020,
          "y": 0
         },
         {
          "x": 1021,
          "y": 0
         },
         {
          "x": 1022,
          "y": 0
         },
         {
          "x": 1023,
          "y": 0
         },
         {
          "x": 1024,
          "y": 0
         },
         {
          "x": 1025,
          "y": 0
         },
         {
          "x": 1026,
          "y": 0
         },
         {
          "x": 1027,
          "y": 0
         },
         {
          "x": 1028,
          "y": 0
         },
         {
          "x": 1029,
          "y": 0
         },
         {
          "x": 1030,
          "y": 0
         },
         {
          "x": 1031,
          "y": 0
         },
         {
          "x": 1032,
          "y": 0
         },
         {
          "x": 1033,
          "y": 0
         },
         {
          "x": 1034,
          "y": 0
         },
         {
          "x": 1035,
          "y": 0
         },
         {
          "x": 1036,
          "y": 0
         },
         {
          "x": 1037,
          "y": 0
         },
         {
          "x": 1038,
          "y": 0
         },
         {
          "x": 1039,
          "y": 0
         },
         {
          "x": 1040,
          "y": 0
         },
         {
          "x": 1041,
          "y": 0
         },
         {
          "x": 1042,
          "y": 0
         },
         {
          "x": 1043,
          "y": 0
         },
         {
          "x": 1044,
          "y": 0
         },
         {
          "x": 1045,
          "y": 0
         },
         {
          "x": 1046,
          "y": 0
         },
         {
          "x": 1047,
          "y": 0
         },
         {
          "x": 1048,
          "y": 0
         },
         {
          "x": 1049,
          "y": 0
         },
         {
          "x": 1050,
          "y": 0
         },
         {
          "x": 1051,
          "y": 0
         },
         {
          "x": 1052,
          "y": 0
         },
         {
          "x": 1053,
          "y": 0
         },
         {
          "x": 1054,
          "y": 0
         },
         {
          "x": 1055,
          "y": 0
         },
         {
          "x": 1056,
          "y": 0
         },
         {
          "x": 1057,
          "y": 0
         },
         {
          "x": 1058,
          "y": 0
         },
         {
          "x": 1059,
          "y": 0
         },
         {
          "x": 1060,
          "y": 0
         },
         {
          "x": 1061,
          "y": 0
         },
         {
          "x": 1062,
          "y": 0
         },
         {
          "x": 1063,
          "y": 0
         },
         {
          "x": 1064,
          "y": 0
         },
         {
          "x": 1065,
          "y": 0
         },
         {
          "x": 1066,
          "y": 0
         },
         {
          "x": 1067,
          "y": 0
         },
         {
          "x": 1068,
          "y": 0
         },
         {
          "x": 1069,
          "y": 0
         },
         {
          "x": 1070,
          "y": 0
         },
         {
          "x": 1071,
          "y": 0
         },
         {
          "x": 1072,
          "y": 0
         },
         {
          "x": 1073,
          "y": 0
         },
         {
          "x": 1074,
          "y": 0
         },
         {
          "x": 1075,
          "y": 0
         },
         {
          "x": 1076,
          "y": 0
         },
         {
          "x": 1077,
          "y": 0
         },
         {
          "x": 1078,
          "y": 0
         },
         {
          "x": 1079,
          "y": 0
         },
         {
          "x": 1080,
          "y": 0
         },
         {
          "x": 1081,
          "y": 0
         },
         {
          "x": 1082,
          "y": 0
         },
         {
          "x": 1083,
          "y": 0
         },
         {
          "x": 1084,
          "y": 0
         },
         {
          "x": 1085,
          "y": 0
         },
         {
          "x": 1086,
          "y": 0
         },
         {
          "x": 1087,
          "y": 0
         },
         {
          "x": 1088,
          "y": 0
         },
         {
          "x": 1089,
          "y": 0
         },
         {
          "x": 1090,
          "y": 0
         },
         {
          "x": 1091,
          "y": 0
         },
         {
          "x": 1092,
          "y": 0
         },
         {
          "x": 1093,
          "y": 0
         },
         {
          "x": 1094,
          "y": 0
         },
         {
          "x": 1095,
          "y": 0
         },
         {
          "x": 1096,
          "y": 0
         },
         {
          "x": 1097,
          "y": 0
         },
         {
          "x": 1098,
          "y": 0
         },
         {
          "x": 1099,
          "y": 0
         },
         {
          "x": 1100,
          "y": 0
         },
         {
          "x": 1101,
          "y": 0
         },
         {
          "x": 1102,
          "y": 0
         },
         {
          "x": 1103,
          "y": 0
         },
         {
          "x": 1104,
          "y": 0
         },
         {
          "x": 1105,
          "y": 0
         },
         {
          "x": 1106,
          "y": 0
         },
         {
          "x": 1107,
          "y": 0
         },
         {
          "x": 1108,
          "y": 0
         },
         {
          "x": 1109,
          "y": 0
         },
         {
          "x": 1110,
          "y": 0
         },
         {
          "x": 1111,
          "y": 0
         },
         {
          "x": 1112,
          "y": 0
         },
         {
          "x": 1113,
          "y": 0
         },
         {
          "x": 1114,
          "y": 0
         },
         {
          "x": 1115,
          "y": 0
         },
         {
          "x": 1116,
          "y": 0
         },
         {
          "x": 1117,
          "y": 0
         },
         {
          "x": 1118,
          "y": 0
         },
         {
          "x": 1119,
          "y": 0
         },
         {
          "x": 1120,
          "y": 0
         },
         {
          "x": 1121,
          "y": 0
         },
         {
          "x": 1122,
          "y": 0
         },
         {
          "x": 1123,
          "y": 0
         },
         {
          "x": 1124,
          "y": 0
         },
         {
          "x": 1125,
          "y": 0
         },
         {
          "x": 1126,
          "y": 0
         },
         {
          "x": 1127,
          "y": 0
         },
         {
          "x": 1128,
          "y": 0
         },
         {
          "x": 1129,
          "y": 0
         },
         {
          "x": 1130,
          "y": 0
         },
         {
          "x": 1131,
          "y": 0
         },
         {
          "x": 1132,
          "y": 0
         },
         {
          "x": 1133,
          "y": 0
         },
         {
          "x": 1134,
          "y": 0
         },
         {
          "x": 1135,
          "y": 0
         },
         {
          "x": 1136,
          "y": 0
         },
         {
          "x": 1137,
          "y": 0
         },
         {
          "x": 1138,
          "y": 0
         },
         {
          "x": 1139,
          "y": 0
         },
         {
          "x": 1140,
          "y": 0
         },
         {
          "x": 1141,
          "y": 0
         },
         {
          "x": 1142,
          "y": 0
         },
         {
          "x": 1143,
          "y": 0
         },
         {
          "x": 1144,
          "y": 0
         },
         {
          "x": 1145,
          "y": 0
         },
         {
          "x": 1146,
          "y": 0
         },
         {
          "x": 1147,
          "y": 0
         },
         {
          "x": 1148,
          "y": 0
         },
         {
          "x": 1149,
          "y": 0
         },
         {
          "x": 1150,
          "y": 0
         },
         {
          "x": 1151,
          "y": 0
         },
         {
          "x": 1152,
          "y": 0
         },
         {
          "x": 1153,
          "y": 0
         },
         {
          "x": 1154,
          "y": 0
         },
         {
          "x": 1155,
          "y": 0
         },
         {
          "x": 1156,
          "y": 0
         },
         {
          "x": 1157,
          "y": 0
         },
         {
          "x": 1158,
          "y": 0
         },
         {
          "x": 1159,
          "y": 0
         },
         {
          "x": 1160,
          "y": 0
         },
         {
          "x": 1161,
          "y": 0
         },
         {
          "x": 1162,
          "y": 0
         },
         {
          "x": 1163,
          "y": 0
         },
         {
          "x": 1164,
          "y": 0
         },
         {
          "x": 1165,
          "y": 0
         },
         {
          "x": 1166,
          "y": 0
         },
         {
          "x": 1167,
          "y": 0
         },
         {
          "x": 1168,
          "y": 0
         },
         {
          "x": 1169,
          "y": 0
         },
         {
          "x": 1170,
          "y": 0
         },
         {
          "x": 1171,
          "y": 0
         },
         {
          "x": 1172,
          "y": 0
         },
         {
          "x": 1173,
          "y": 0
         },
         {
          "x": 1174,
          "y": 0
         },
         {
          "x": 1175,
          "y": 0
         },
         {
          "x": 1176,
          "y": 0
         },
         {
          "x": 1177,
          "y": 0
         },
         {
          "x": 1178,
          "y": 0
         },
         {
          "x": 1179,
          "y": 0
         },
         {
          "x": 1180,
          "y": 0
         },
         {
          "x": 1181,
          "y": 0
         },
         {
          "x": 1182,
          "y": 0
         },
         {
          "x": 1183,
          "y": 0
         },
         {
          "x": 1184,
          "y": 0
         },
         {
          "x": 1185,
          "y": 0
         },
         {
          "x": 1186,
          "y": 0
         },
         {
          "x": 1187,
          "y": 0
         },
         {
          "x": 1188,
          "y": 0
         },
         {
          "x": 1189,
          "y": 0
         },
         {
          "x": 1190,
          "y": 0
         },
         {
          "x": 1191,
          "y": 0
         },
         {
          "x": 1192,
          "y": 0
         },
         {
          "x": 1193,
          "y": 0
         },
         {
          "x": 1194,
          "y": 0
         },
         {
          "x": 1195,
          "y": 0
         },
         {
          "x": 1196,
          "y": 0
         },
         {
          "x": 1197,
          "y": 0
         },
         {
          "x": 1198,
          "y": 0
         },
         {
          "x": 1199,
          "y": 0
         },
         {
          "x": 1200,
          "y": 0
         },
         {
          "x": 1201,
          "y": 0
         },
         {
          "x": 1202,
          "y": 0
         },
         {
          "x": 1203,
          "y": 0
         },
         {
          "x": 1204,
          "y": 0
         },
         {
          "x": 1205,
          "y": 0
         },
         {
          "x": 1206,
          "y": 0
         },
         {
          "x": 1207,
          "y": 0
         },
         {
          "x": 1208,
          "y": 0
         },
         {
          "x": 1209,
          "y": 0
         },
         {
          "x": 1210,
          "y": 0
         },
         {
          "x": 1211,
          "y": 0
         },
         {
          "x": 1212,
          "y": 0
         },
         {
          "x": 1213,
          "y": 0
         },
         {
          "x": 1214,
          "y": 0
         },
         {
          "x": 1215,
          "y": 0
         },
         {
          "x": 1216,
          "y": 0
         },
         {
          "x": 1217,
          "y": 0
         },
         {
          "x": 1218,
          "y": 0
         },
         {
          "x": 1219,
          "y": 0
         },
         {
          "x": 1220,
          "y": 0
         },
         {
          "x": 1221,
          "y": 0
         },
         {
          "x": 1222,
          "y": 0
         },
         {
          "x": 1223,
          "y": 0
         },
         {
          "x": 1224,
          "y": 0
         },
         {
          "x": 1225,
          "y": 0
         },
         {
          "x": 1226,
          "y": 0
         },
         {
          "x": 1227,
          "y": 0
         },
         {
          "x": 1228,
          "y": 0
         },
         {
          "x": 1229,
          "y": 0
         },
         {
          "x": 1230,
          "y": 0
         },
         {
          "x": 1231,
          "y": 0
         },
         {
          "x": 1232,
          "y": 0
         },
         {
          "x": 1233,
          "y": 0
         },
         {
          "x": 1234,
          "y": 0
         },
         {
          "x": 1235,
          "y": 0
         },
         {
          "x": 1236,
          "y": 0
         },
         {
          "x": 1237,
          "y": 0
         },
         {
          "x": 1238,
          "y": 0
         },
         {
          "x": 1239,
          "y": 0
         },
         {
          "x": 1240,
          "y": 0
         },
         {
          "x": 1241,
          "y": 0
         },
         {
          "x": 1242,
          "y": 0
         },
         {
          "x": 1243,
          "y": 0
         },
         {
          "x": 1244,
          "y": 0
         },
         {
          "x": 1245,
          "y": 0
         },
         {
          "x": 1246,
          "y": 0
         },
         {
          "x": 1247,
          "y": 0
         },
         {
          "x": 1248,
          "y": 0
         },
         {
          "x": 1249,
          "y": 0
         },
         {
          "x": 1250,
          "y": 0
         },
         {
          "x": 1251,
          "y": 0
         },
         {
          "x": 1252,
          "y": 0
         },
         {
          "x": 1253,
          "y": 0
         },
         {
          "x": 1254,
          "y": 0
         },
         {
          "x": 1255,
          "y": 0
         },
         {
          "x": 1256,
          "y": 0
         },
         {
          "x": 1257,
          "y": 0
         },
         {
          "x": 1258,
          "y": 0
         },
         {
          "x": 1259,
          "y": 0
         },
         {
          "x": 1260,
          "y": 0
         },
         {
          "x": 1261,
          "y": 0
         },
         {
          "x": 1262,
          "y": 0
         },
         {
          "x": 1263,
          "y": 0
         },
         {
          "x": 1264,
          "y": 0
         },
         {
          "x": 1265,
          "y": 0
         },
         {
          "x": 1266,
          "y": 0
         },
         {
          "x": 1267,
          "y": 0
         },
         {
          "x": 1268,
          "y": 0
         },
         {
          "x": 1269,
          "y": 0
         },
         {
          "x": 1270,
          "y": 0
         },
         {
          "x": 1271,
          "y": 0
         },
         {
          "x": 1272,
          "y": 0
         },
         {
          "x": 1273,
          "y": 0
         },
         {
          "x": 1274,
          "y": 0
         },
         {
          "x": 1275,
          "y": 0
         },
         {
          "x": 1276,
          "y": 0
         },
         {
          "x": 1277,
          "y": 0
         },
         {
          "x": 1278,
          "y": 0
         },
         {
          "x": 1279,
          "y": 0
         },
         {
          "x": 1280,
          "y": 0
         },
         {
          "x": 1281,
          "y": 0
         },
         {
          "x": 1282,
          "y": 0
         },
         {
          "x": 1283,
          "y": 0
         },
         {
          "x": 1284,
          "y": 0
         },
         {
          "x": 1285,
          "y": 0
         },
         {
          "x": 1286,
          "y": 0
         },
         {
          "x": 1287,
          "y": 0
         },
         {
          "x": 1288,
          "y": 0
         },
         {
          "x": 1289,
          "y": 0
         },
         {
          "x": 1290,
          "y": 0
         },
         {
          "x": 1291,
          "y": 0
         },
         {
          "x": 1292,
          "y": 0
         },
         {
          "x": 1293,
          "y": 0
         },
         {
          "x": 1294,
          "y": 0
         },
         {
          "x": 1295,
          "y": 0
         },
         {
          "x": 1296,
          "y": 0
         },
         {
          "x": 1297,
          "y": 0
         },
         {
          "x": 1298,
          "y": 0
         },
         {
          "x": 1299,
          "y": 0
         },
         {
          "x": 1300,
          "y": 0
         },
         {
          "x": 1301,
          "y": 0
         },
         {
          "x": 1302,
          "y": 0
         },
         {
          "x": 1303,
          "y": 0
         },
         {
          "x": 1304,
          "y": 0
         },
         {
          "x": 1305,
          "y": 0
         },
         {
          "x": 1306,
          "y": 0
         },
         {
          "x": 1307,
          "y": 0
         },
         {
          "x": 1308,
          "y": 0
         },
         {
          "x": 1309,
          "y": 0
         },
         {
          "x": 1310,
          "y": 0
         },
         {
          "x": 1311,
          "y": 0
         },
         {
          "x": 1312,
          "y": 0
         },
         {
          "x": 1313,
          "y": 0
         },
         {
          "x": 1314,
          "y": 0
         },
         {
          "x": 1315,
          "y": 0
         },
         {
          "x": 1316,
          "y": 0
         },
         {
          "x": 1317,
          "y": 0
         },
         {
          "x": 1318,
          "y": 0
         },
         {
          "x": 1319,
          "y": 0
         },
         {
          "x": 1320,
          "y": 0
         },
         {
          "x": 1321,
          "y": 0
         },
         {
          "x": 1322,
          "y": 0
         },
         {
          "x": 1323,
          "y": 0
         },
         {
          "x": 1324,
          "y": 0
         },
         {
          "x": 1325,
          "y": 0
         },
         {
          "x": 1326,
          "y": 0
         },
         {
          "x": 1327,
          "y": 0
         },
         {
          "x": 1328,
          "y": 0
         },
         {
          "x": 1329,
          "y": 0
         },
         {
          "x": 1330,
          "y": 0
         },
         {
          "x": 1331,
          "y": 0
         },
         {
          "x": 1332,
          "y": 0
         },
         {
          "x": 1333,
          "y": 0
         },
         {
          "x": 1334,
          "y": 0
         },
         {
          "x": 1335,
          "y": 0
         },
         {
          "x": 1336,
          "y": 0
         },
         {
          "x": 1337,
          "y": 0
         },
         {
          "x": 1338,
          "y": 0
         },
         {
          "x": 1339,
          "y": 0
         },
         {
          "x": 1340,
          "y": 0
         },
         {
          "x": 1341,
          "y": 0
         },
         {
          "x": 1342,
          "y": 0
         },
         {
          "x": 1343,
          "y": 0
         },
         {
          "x": 1344,
          "y": 0
         },
         {
          "x": 1345,
          "y": 0
         },
         {
          "x": 1346,
          "y": 0
         },
         {
          "x": 1347,
          "y": 0
         },
         {
          "x": 1348,
          "y": 0
         },
         {
          "x": 1349,
          "y": 0
         },
         {
          "x": 1350,
          "y": 0
         },
         {
          "x": 1351,
          "y": 0
         },
         {
          "x": 1352,
          "y": 0
         },
         {
          "x": 1353,
          "y": 0
         },
         {
          "x": 1354,
          "y": 0
         },
         {
          "x": 1355,
          "y": 0
         },
         {
          "x": 1356,
          "y": 0
         },
         {
          "x": 1357,
          "y": 0
         },
         {
          "x": 1358,
          "y": 0
         },
         {
          "x": 1359,
          "y": 0
         },
         {
          "x": 1360,
          "y": 0
         },
         {
          "x": 1361,
          "y": 0
         },
         {
          "x": 1362,
          "y": 0
         },
         {
          "x": 1363,
          "y": 0
         },
         {
          "x": 1364,
          "y": 0
         },
         {
          "x": 1365,
          "y": 0
         },
         {
          "x": 1366,
          "y": 0
         },
         {
          "x": 1367,
          "y": 0
         },
         {
          "x": 1368,
          "y": 0
         },
         {
          "x": 1369,
          "y": 0
         },
         {
          "x": 1370,
          "y": 0
         },
         {
          "x": 1371,
          "y": 0
         },
         {
          "x": 1372,
          "y": 0
         },
         {
          "x": 1373,
          "y": 0
         },
         {
          "x": 1374,
          "y": 0
         },
         {
          "x": 1375,
          "y": 0
         },
         {
          "x": 1376,
          "y": 0
         },
         {
          "x": 1377,
          "y": 0
         },
         {
          "x": 1378,
          "y": 0
         },
         {
          "x": 1379,
          "y": 0
         },
         {
          "x": 1380,
          "y": 0
         },
         {
          "x": 1381,
          "y": 0
         },
         {
          "x": 1382,
          "y": 0
         },
         {
          "x": 1383,
          "y": 0
         },
         {
          "x": 1384,
          "y": 0
         },
         {
          "x": 1385,
          "y": 0
         },
         {
          "x": 1386,
          "y": 0
         },
         {
          "x": 1387,
          "y": 0
         },
         {
          "x": 1388,
          "y": 0
         },
         {
          "x": 1389,
          "y": 0
         },
         {
          "x": 1390,
          "y": 0
         },
         {
          "x": 1391,
          "y": 0
         },
         {
          "x": 1392,
          "y": 0
         },
         {
          "x": 1393,
          "y": 0
         },
         {
          "x": 1394,
          "y": 0
         },
         {
          "x": 1395,
          "y": 0
         },
         {
          "x": 1396,
          "y": 0
         },
         {
          "x": 1397,
          "y": 0
         },
         {
          "x": 1398,
          "y": 0
         },
         {
          "x": 1399,
          "y": 0
         },
         {
          "x": 1400,
          "y": 0
         },
         {
          "x": 1401,
          "y": 0
         },
         {
          "x": 1402,
          "y": 0
         },
         {
          "x": 1403,
          "y": 0
         },
         {
          "x": 1404,
          "y": 0
         },
         {
          "x": 1405,
          "y": 0
         },
         {
          "x": 1406,
          "y": 0
         },
         {
          "x": 1407,
          "y": 0
         },
         {
          "x": 1408,
          "y": 0
         },
         {
          "x": 1409,
          "y": 0
         },
         {
          "x": 1410,
          "y": 0
         },
         {
          "x": 1411,
          "y": 0
         },
         {
          "x": 1412,
          "y": 0
         },
         {
          "x": 1413,
          "y": 0
         },
         {
          "x": 1414,
          "y": 0
         },
         {
          "x": 1415,
          "y": 0
         },
         {
          "x": 1416,
          "y": 0
         },
         {
          "x": 1417,
          "y": 0
         },
         {
          "x": 1418,
          "y": 0
         },
         {
          "x": 1419,
          "y": 0
         },
         {
          "x": 1420,
          "y": 0
         },
         {
          "x": 1421,
          "y": 0
         },
         {
          "x": 1422,
          "y": 0
         },
         {
          "x": 1423,
          "y": 0
         },
         {
          "x": 1424,
          "y": 0
         },
         {
          "x": 1425,
          "y": 0
         },
         {
          "x": 1426,
          "y": 0
         },
         {
          "x": 1427,
          "y": 0
         },
         {
          "x": 1428,
          "y": 0
         },
         {
          "x": 1429,
          "y": 0
         },
         {
          "x": 1430,
          "y": 0
         },
         {
          "x": 1431,
          "y": 0
         },
         {
          "x": 1432,
          "y": 0
         },
         {
          "x": 1433,
          "y": 0
         },
         {
          "x": 1434,
          "y": 0
         },
         {
          "x": 1435,
          "y": 0
         },
         {
          "x": 1436,
          "y": 0
         },
         {
          "x": 1437,
          "y": 0
         },
         {
          "x": 1438,
          "y": 0
         },
         {
          "x": 1439,
          "y": 0
         },
         {
          "x": 1440,
          "y": 0
         },
         {
          "x": 1441,
          "y": 0
         },
         {
          "x": 1442,
          "y": 0
         },
         {
          "x": 1443,
          "y": 0
         },
         {
          "x": 1444,
          "y": 0
         },
         {
          "x": 1445,
          "y": 0
         },
         {
          "x": 1446,
          "y": 0
         },
         {
          "x": 1447,
          "y": 0
         },
         {
          "x": 1448,
          "y": 0
         },
         {
          "x": 1449,
          "y": 0
         },
         {
          "x": 1450,
          "y": 0
         },
         {
          "x": 1451,
          "y": 0
         },
         {
          "x": 1452,
          "y": 0
         },
         {
          "x": 1453,
          "y": 0
         },
         {
          "x": 1454,
          "y": 0
         },
         {
          "x": 1455,
          "y": 0
         },
         {
          "x": 1456,
          "y": 0
         },
         {
          "x": 1457,
          "y": 0
         },
         {
          "x": 1458,
          "y": 0
         },
         {
          "x": 1459,
          "y": 0
         },
         {
          "x": 1460,
          "y": 0
         },
         {
          "x": 1461,
          "y": 0
         },
         {
          "x": 1462,
          "y": 0
         },
         {
          "x": 1463,
          "y": 0
         },
         {
          "x": 1464,
          "y": 0
         },
         {
          "x": 1465,
          "y": 0
         },
         {
          "x": 1466,
          "y": 0
         },
         {
          "x": 1467,
          "y": 0
         },
         {
          "x": 1468,
          "y": 0
         },
         {
          "x": 1469,
          "y": 0
         },
         {
          "x": 1470,
          "y": 0
         },
         {
          "x": 1471,
          "y": 0
         },
         {
          "x": 1472,
          "y": 0
         },
         {
          "x": 1473,
          "y": 0
         },
         {
          "x": 1474,
          "y": 0
         },
         {
          "x": 1475,
          "y": 0
         },
         {
          "x": 1476,
          "y": 0
         },
         {
          "x": 1477,
          "y": 0
         },
         {
          "x": 1478,
          "y": 0
         },
         {
          "x": 1479,
          "y": 0
         },
         {
          "x": 1480,
          "y": 0
         },
         {
          "x": 1481,
          "y": 0
         },
         {
          "x": 1482,
          "y": 0
         },
         {
          "x": 1483,
          "y": 0
         },
         {
          "x": 1484,
          "y": 0
         },
         {
          "x": 1485,
          "y": 0
         },
         {
          "x": 1486,
          "y": 0
         },
         {
          "x": 1487,
          "y": 0
         },
         {
          "x": 1488,
          "y": 0
         },
         {
          "x": 1489,
          "y": 0
         },
         {
          "x": 1490,
          "y": 0
         },
         {
          "x": 1491,
          "y": 0
         },
         {
          "x": 1492,
          "y": 0
         },
         {
          "x": 1493,
          "y": 0
         },
         {
          "x": 1494,
          "y": 0
         },
         {
          "x": 1495,
          "y": 0
         },
         {
          "x": 1496,
          "y": 0
         },
         {
          "x": 1497,
          "y": 0
         },
         {
          "x": 1498,
          "y": 0
         },
         {
          "x": 1499,
          "y": 0
         },
         {
          "x": 1500,
          "y": 0
         },
         {
          "x": 1501,
          "y": 0
         },
         {
          "x": 1502,
          "y": 0
         },
         {
          "x": 1503,
          "y": 0
         },
         {
          "x": 1504,
          "y": 0
         },
         {
          "x": 1505,
          "y": 0
         },
         {
          "x": 1506,
          "y": 0
         },
         {
          "x": 1507,
          "y": 0
         },
         {
          "x": 1508,
          "y": 0
         },
         {
          "x": 1509,
          "y": 0
         },
         {
          "x": 1510,
          "y": 0
         },
         {
          "x": 1511,
          "y": 0
         },
         {
          "x": 1512,
          "y": 0
         },
         {
          "x": 1513,
          "y": 0
         },
         {
          "x": 1514,
          "y": 0
         },
         {
          "x": 1515,
          "y": 0
         },
         {
          "x": 1516,
          "y": 0
         },
         {
          "x": 1517,
          "y": 0
         },
         {
          "x": 1518,
          "y": 0
         },
         {
          "x": 1519,
          "y": 0
         },
         {
          "x": 1520,
          "y": 0
         },
         {
          "x": 1521,
          "y": 0
         },
         {
          "x": 1522,
          "y": 0
         },
         {
          "x": 1523,
          "y": 0
         },
         {
          "x": 1524,
          "y": 0
         },
         {
          "x": 1525,
          "y": 0
         },
         {
          "x": 1526,
          "y": 0
         },
         {
          "x": 1527,
          "y": 0
         },
         {
          "x": 1528,
          "y": 0
         },
         {
          "x": 1529,
          "y": 0
         },
         {
          "x": 1530,
          "y": 0
         },
         {
          "x": 1531,
          "y": 0
         },
         {
          "x": 1532,
          "y": 0
         },
         {
          "x": 1533,
          "y": 0
         },
         {
          "x": 1534,
          "y": 0
         },
         {
          "x": 1535,
          "y": 0
         },
         {
          "x": 1536,
          "y": 0
         },
         {
          "x": 1537,
          "y": 0
         },
         {
          "x": 1538,
          "y": 0
         },
         {
          "x": 1539,
          "y": 0
         },
         {
          "x": 1540,
          "y": 0
         },
         {
          "x": 1541,
          "y": 0
         },
         {
          "x": 1542,
          "y": 0
         },
         {
          "x": 1543,
          "y": 0
         },
         {
          "x": 1544,
          "y": 0
         },
         {
          "x": 1545,
          "y": 0
         },
         {
          "x": 1546,
          "y": 0
         },
         {
          "x": 1547,
          "y": 0
         },
         {
          "x": 1548,
          "y": 0
         },
         {
          "x": 1549,
          "y": 0
         },
         {
          "x": 1550,
          "y": 0
         },
         {
          "x": 1551,
          "y": 0
         },
         {
          "x": 1552,
          "y": 0
         },
         {
          "x": 1553,
          "y": 0
         },
         {
          "x": 1554,
          "y": 0
         },
         {
          "x": 1555,
          "y": 0
         },
         {
          "x": 1556,
          "y": 0
         },
         {
          "x": 1557,
          "y": 0
         },
         {
          "x": 1558,
          "y": 0
         },
         {
          "x": 1559,
          "y": 0
         },
         {
          "x": 1560,
          "y": 0
         },
         {
          "x": 1561,
          "y": 0
         },
         {
          "x": 1562,
          "y": 0
         },
         {
          "x": 1563,
          "y": 0
         },
         {
          "x": 1564,
          "y": 0
         },
         {
          "x": 1565,
          "y": 0
         },
         {
          "x": 1566,
          "y": 0
         },
         {
          "x": 1567,
          "y": 0
         },
         {
          "x": 1568,
          "y": 0
         },
         {
          "x": 1569,
          "y": 0
         },
         {
          "x": 1570,
          "y": 0
         },
         {
          "x": 1571,
          "y": 0
         },
         {
          "x": 1572,
          "y": 0
         },
         {
          "x": 1573,
          "y": 0
         },
         {
          "x": 1574,
          "y": 0
         },
         {
          "x": 1575,
          "y": 0
         },
         {
          "x": 1576,
          "y": 0
         },
         {
          "x": 1577,
          "y": 0
         },
         {
          "x": 1578,
          "y": 0
         },
         {
          "x": 1579,
          "y": 0
         },
         {
          "x": 1580,
          "y": 0
         },
         {
          "x": 1581,
          "y": 0
         },
         {
          "x": 1582,
          "y": 0
         },
         {
          "x": 1583,
          "y": 0
         },
         {
          "x": 1584,
          "y": 0
         },
         {
          "x": 1585,
          "y": 0
         },
         {
          "x": 1586,
          "y": 0
         },
         {
          "x": 1587,
          "y": 0
         },
         {
          "x": 1588,
          "y": 0
         },
         {
          "x": 1589,
          "y": 0
         },
         {
          "x": 1590,
          "y": 0
         },
         {
          "x": 1591,
          "y": 0
         },
         {
          "x": 1592,
          "y": 0
         },
         {
          "x": 1593,
          "y": 0
         },
         {
          "x": 1594,
          "y": 0
         },
         {
          "x": 1595,
          "y": 0
         },
         {
          "x": 1596,
          "y": 0
         },
         {
          "x": 1597,
          "y": 0
         },
         {
          "x": 1598,
          "y": 0
         },
         {
          "x": 1599,
          "y": 0
         },
         {
          "x": 1600,
          "y": 0
         },
         {
          "x": 1601,
          "y": 0
         },
         {
          "x": 1602,
          "y": 0
         },
         {
          "x": 1603,
          "y": 0
         },
         {
          "x": 1604,
          "y": 0
         },
         {
          "x": 1605,
          "y": 0
         },
         {
          "x": 1606,
          "y": 0
         },
         {
          "x": 1607,
          "y": 0
         },
         {
          "x": 1608,
          "y": 0
         },
         {
          "x": 1609,
          "y": 0
         },
         {
          "x": 1610,
          "y": 0
         },
         {
          "x": 1611,
          "y": 0
         },
         {
          "x": 1612,
          "y": 0
         },
         {
          "x": 1613,
          "y": 0
         },
         {
          "x": 1614,
          "y": 0
         },
         {
          "x": 1615,
          "y": 0
         },
         {
          "x": 1616,
          "y": 0
         },
         {
          "x": 1617,
          "y": 0
         },
         {
          "x": 1618,
          "y": 0
         },
         {
          "x": 1619,
          "y": 0
         },
         {
          "x": 1620,
          "y": 0
         },
         {
          "x": 1621,
          "y": 0
         },
         {
          "x": 1622,
          "y": 0
         },
         {
          "x": 1623,
          "y": 0
         },
         {
          "x": 1624,
          "y": 0
         },
         {
          "x": 1625,
          "y": 0
         },
         {
          "x": 1626,
          "y": 0
         },
         {
          "x": 1627,
          "y": 0
         },
         {
          "x": 1628,
          "y": 0
         },
         {
          "x": 1629,
          "y": 0
         },
         {
          "x": 1630,
          "y": 0
         },
         {
          "x": 1631,
          "y": 0
         },
         {
          "x": 1632,
          "y": 0
         },
         {
          "x": 1633,
          "y": 0
         },
         {
          "x": 1634,
          "y": 0
         },
         {
          "x": 1635,
          "y": 0
         },
         {
          "x": 1636,
          "y": 0
         },
         {
          "x": 1637,
          "y": 0
         },
         {
          "x": 1638,
          "y": 0
         },
         {
          "x": 1639,
          "y": 0
         },
         {
          "x": 1640,
          "y": 0
         },
         {
          "x": 1641,
          "y": 0
         },
         {
          "x": 1642,
          "y": 0
         },
         {
          "x": 1643,
          "y": 0
         },
         {
          "x": 1644,
          "y": 0
         },
         {
          "x": 1645,
          "y": 0
         },
         {
          "x": 1646,
          "y": 0
         },
         {
          "x": 1647,
          "y": 0
         },
         {
          "x": 1648,
          "y": 0
         },
         {
          "x": 1649,
          "y": 0
         },
         {
          "x": 1650,
          "y": 0
         },
         {
          "x": 1651,
          "y": 0
         },
         {
          "x": 1652,
          "y": 0
         },
         {
          "x": 1653,
          "y": 0
         },
         {
          "x": 1654,
          "y": 0
         },
         {
          "x": 1655,
          "y": 0
         },
         {
          "x": 1656,
          "y": 0
         },
         {
          "x": 1657,
          "y": 0
         },
         {
          "x": 1658,
          "y": 0
         },
         {
          "x": 1659,
          "y": 0
         },
         {
          "x": 1660,
          "y": 0
         },
         {
          "x": 1661,
          "y": 0
         },
         {
          "x": 1662,
          "y": 0
         },
         {
          "x": 1663,
          "y": 0
         },
         {
          "x": 1664,
          "y": 0
         },
         {
          "x": 1665,
          "y": 0
         },
         {
          "x": 1666,
          "y": 0
         },
         {
          "x": 1667,
          "y": 0
         },
         {
          "x": 1668,
          "y": 0
         },
         {
          "x": 1669,
          "y": 0
         },
         {
          "x": 1670,
          "y": 0
         },
         {
          "x": 1671,
          "y": 0
         },
         {
          "x": 1672,
          "y": 0
         },
         {
          "x": 1673,
          "y": 0
         },
         {
          "x": 1674,
          "y": 0
         },
         {
          "x": 1675,
          "y": 0
         },
         {
          "x": 1676,
          "y": 0
         },
         {
          "x": 1677,
          "y": 0
         },
         {
          "x": 1678,
          "y": 0
         },
         {
          "x": 1679,
          "y": 0
         },
         {
          "x": 1680,
          "y": 0
         },
         {
          "x": 1681,
          "y": 0
         },
         {
          "x": 1682,
          "y": 0
         },
         {
          "x": 1683,
          "y": 0
         },
         {
          "x": 1684,
          "y": 0
         },
         {
          "x": 1685,
          "y": 0
         },
         {
          "x": 1686,
          "y": 0
         },
         {
          "x": 1687,
          "y": 0
         },
         {
          "x": 1688,
          "y": 0
         },
         {
          "x": 1689,
          "y": 0
         },
         {
          "x": 1690,
          "y": 0
         },
         {
          "x": 1691,
          "y": 0
         },
         {
          "x": 1692,
          "y": 0
         },
         {
          "x": 1693,
          "y": 0
         },
         {
          "x": 1694,
          "y": 0
         },
         {
          "x": 1695,
          "y": 0
         },
         {
          "x": 1696,
          "y": 0
         },
         {
          "x": 1697,
          "y": 0
         },
         {
          "x": 1698,
          "y": 0
         },
         {
          "x": 1699,
          "y": 0
         },
         {
          "x": 1700,
          "y": 0
         },
         {
          "x": 1701,
          "y": 0
         },
         {
          "x": 1702,
          "y": 0
         },
         {
          "x": 1703,
          "y": 0
         },
         {
          "x": 1704,
          "y": 0
         },
         {
          "x": 1705,
          "y": 0
         },
         {
          "x": 1706,
          "y": 0
         },
         {
          "x": 1707,
          "y": 0
         },
         {
          "x": 1708,
          "y": 0
         },
         {
          "x": 1709,
          "y": 0
         },
         {
          "x": 1710,
          "y": 0
         },
         {
          "x": 1711,
          "y": 0
         },
         {
          "x": 1712,
          "y": 0
         },
         {
          "x": 1713,
          "y": 0
         },
         {
          "x": 1714,
          "y": 0
         },
         {
          "x": 1715,
          "y": 0
         },
         {
          "x": 1716,
          "y": 0
         },
         {
          "x": 1717,
          "y": 0
         },
         {
          "x": 1718,
          "y": 0
         },
         {
          "x": 1719,
          "y": 0
         },
         {
          "x": 1720,
          "y": 0
         },
         {
          "x": 1721,
          "y": 0
         },
         {
          "x": 1722,
          "y": 0
         },
         {
          "x": 1723,
          "y": 0
         },
         {
          "x": 1724,
          "y": 0
         },
         {
          "x": 1725,
          "y": 0
         },
         {
          "x": 1726,
          "y": 0
         },
         {
          "x": 1727,
          "y": 0
         },
         {
          "x": 1728,
          "y": 0
         },
         {
          "x": 1729,
          "y": 0
         },
         {
          "x": 1730,
          "y": 0
         },
         {
          "x": 1731,
          "y": 0
         },
         {
          "x": 1732,
          "y": 0
         },
         {
          "x": 1733,
          "y": 0
         },
         {
          "x": 1734,
          "y": 0
         },
         {
          "x": 1735,
          "y": 0
         },
         {
          "x": 1736,
          "y": 0
         },
         {
          "x": 1737,
          "y": 0
         },
         {
          "x": 1738,
          "y": 0
         },
         {
          "x": 1739,
          "y": 0
         },
         {
          "x": 1740,
          "y": 0
         },
         {
          "x": 1741,
          "y": 0
         },
         {
          "x": 1742,
          "y": 0
         },
         {
          "x": 1743,
          "y": 0
         },
         {
          "x": 1744,
          "y": 0
         },
         {
          "x": 1745,
          "y": 0
         },
         {
          "x": 1746,
          "y": 0
         },
         {
          "x": 1747,
          "y": 0
         },
         {
          "x": 1748,
          "y": 0
         },
         {
          "x": 1749,
          "y": 0
         },
         {
          "x": 1750,
          "y": 0
         },
         {
          "x": 1751,
          "y": 0
         },
         {
          "x": 1752,
          "y": 0
         },
         {
          "x": 1753,
          "y": 0
         },
         {
          "x": 1754,
          "y": 0
         },
         {
          "x": 1755,
          "y": 0
         },
         {
          "x": 1756,
          "y": 0
         },
         {
          "x": 1757,
          "y": 0
         },
         {
          "x": 1758,
          "y": 0
         },
         {
          "x": 1759,
          "y": 0
         },
         {
          "x": 1760,
          "y": 0
         },
         {
          "x": 1761,
          "y": 0
         },
         {
          "x": 1762,
          "y": 0
         },
         {
          "x": 1763,
          "y": 0
         },
         {
          "x": 1764,
          "y": 0
         },
         {
          "x": 1765,
          "y": 0
         },
         {
          "x": 1766,
          "y": 0
         },
         {
          "x": 1767,
          "y": 0
         },
         {
          "x": 1768,
          "y": 0
         },
         {
          "x": 1769,
          "y": 0
         },
         {
          "x": 1770,
          "y": 0
         },
         {
          "x": 1771,
          "y": 0
         },
         {
          "x": 1772,
          "y": 0
         },
         {
          "x": 1773,
          "y": 0
         },
         {
          "x": 1774,
          "y": 0
         },
         {
          "x": 1775,
          "y": 0
         },
         {
          "x": 1776,
          "y": 0
         },
         {
          "x": 1777,
          "y": 0
         },
         {
          "x": 1778,
          "y": 0
         },
         {
          "x": 1779,
          "y": 0
         },
         {
          "x": 1780,
          "y": 0
         },
         {
          "x": 1781,
          "y": 0
         },
         {
          "x": 1782,
          "y": 0
         },
         {
          "x": 1783,
          "y": 0
         },
         {
          "x": 1784,
          "y": 0
         },
         {
          "x": 1785,
          "y": 0
         },
         {
          "x": 1786,
          "y": 0
         },
         {
          "x": 1787,
          "y": 0
         },
         {
          "x": 1788,
          "y": 0
         },
         {
          "x": 1789,
          "y": 0
         },
         {
          "x": 1790,
          "y": 0
         },
         {
          "x": 1791,
          "y": 0
         },
         {
          "x": 1792,
          "y": 0
         },
         {
          "x": 1793,
          "y": 0
         },
         {
          "x": 1794,
          "y": 0
         },
         {
          "x": 1795,
          "y": 0
         },
         {
          "x": 1796,
          "y": 0
         },
         {
          "x": 1797,
          "y": 0
         },
         {
          "x": 1798,
          "y": 0
         },
         {
          "x": 1799,
          "y": 0
         },
         {
          "x": 1800,
          "y": 0
         },
         {
          "x": 1801,
          "y": 0
         },
         {
          "x": 1802,
          "y": 0
         },
         {
          "x": 1803,
          "y": 0
         },
         {
          "x": 1804,
          "y": 0
         },
         {
          "x": 1805,
          "y": 0
         },
         {
          "x": 1806,
          "y": 0
         },
         {
          "x": 1807,
          "y": 0
         },
         {
          "x": 1808,
          "y": 0
         },
         {
          "x": 1809,
          "y": 0
         },
         {
          "x": 1810,
          "y": 0
         },
         {
          "x": 1811,
          "y": 0
         },
         {
          "x": 1812,
          "y": 0
         },
         {
          "x": 1813,
          "y": 0
         },
         {
          "x": 1814,
          "y": 0
         },
         {
          "x": 1815,
          "y": 0
         },
         {
          "x": 1816,
          "y": 0
         },
         {
          "x": 1817,
          "y": 0
         },
         {
          "x": 1818,
          "y": 0
         },
         {
          "x": 1819,
          "y": 0
         },
         {
          "x": 1820,
          "y": 0
         },
         {
          "x": 1821,
          "y": 0
         },
         {
          "x": 1822,
          "y": 0
         },
         {
          "x": 1823,
          "y": 0
         },
         {
          "x": 1824,
          "y": 0
         },
         {
          "x": 1825,
          "y": 0
         },
         {
          "x": 1826,
          "y": 0
         },
         {
          "x": 1827,
          "y": 0
         },
         {
          "x": 1828,
          "y": 0
         },
         {
          "x": 1829,
          "y": 0
         },
         {
          "x": 1830,
          "y": 0
         },
         {
          "x": 1831,
          "y": 0
         },
         {
          "x": 1832,
          "y": 0
         },
         {
          "x": 1833,
          "y": 0
         },
         {
          "x": 1834,
          "y": 0
         },
         {
          "x": 1835,
          "y": 0
         },
         {
          "x": 1836,
          "y": 0
         },
         {
          "x": 1837,
          "y": 0
         },
         {
          "x": 1838,
          "y": 0
         },
         {
          "x": 1839,
          "y": 0
         },
         {
          "x": 1840,
          "y": 0
         },
         {
          "x": 1841,
          "y": 0
         },
         {
          "x": 1842,
          "y": 0
         },
         {
          "x": 1843,
          "y": 0
         },
         {
          "x": 1844,
          "y": 0
         },
         {
          "x": 1845,
          "y": 0
         },
         {
          "x": 1846,
          "y": 0
         },
         {
          "x": 1847,
          "y": 0
         },
         {
          "x": 1848,
          "y": 0
         },
         {
          "x": 1849,
          "y": 0
         },
         {
          "x": 1850,
          "y": 0
         },
         {
          "x": 1851,
          "y": 0
         },
         {
          "x": 1852,
          "y": 0
         },
         {
          "x": 1853,
          "y": 0
         },
         {
          "x": 1854,
          "y": 0
         },
         {
          "x": 1855,
          "y": 0
         },
         {
          "x": 1856,
          "y": 0
         },
         {
          "x": 1857,
          "y": 0
         },
         {
          "x": 1858,
          "y": 0
         },
         {
          "x": 1859,
          "y": 0
         },
         {
          "x": 1860,
          "y": 0
         },
         {
          "x": 1861,
          "y": 0
         },
         {
          "x": 1862,
          "y": 0
         },
         {
          "x": 1863,
          "y": 0
         },
         {
          "x": 1864,
          "y": 0
         },
         {
          "x": 1865,
          "y": 0
         },
         {
          "x": 1866,
          "y": 0
         },
         {
          "x": 1867,
          "y": 0
         },
         {
          "x": 1868,
          "y": 0
         },
         {
          "x": 1869,
          "y": 0
         },
         {
          "x": 1870,
          "y": 0
         },
         {
          "x": 1871,
          "y": 0
         },
         {
          "x": 1872,
          "y": 0
         },
         {
          "x": 1873,
          "y": 0
         },
         {
          "x": 1874,
          "y": 0
         },
         {
          "x": 1875,
          "y": 0
         },
         {
          "x": 1876,
          "y": 0
         },
         {
          "x": 1877,
          "y": 0
         },
         {
          "x": 1878,
          "y": 0
         },
         {
          "x": 1879,
          "y": 0
         },
         {
          "x": 1880,
          "y": 0
         },
         {
          "x": 1881,
          "y": 0
         },
         {
          "x": 1882,
          "y": 0
         },
         {
          "x": 1883,
          "y": 0
         },
         {
          "x": 1884,
          "y": 0
         },
         {
          "x": 1885,
          "y": 0
         },
         {
          "x": 1886,
          "y": 0
         },
         {
          "x": 1887,
          "y": 0
         },
         {
          "x": 1888,
          "y": 0
         },
         {
          "x": 1889,
          "y": 0
         },
         {
          "x": 1890,
          "y": 0
         },
         {
          "x": 1891,
          "y": 0
         },
         {
          "x": 1892,
          "y": 0
         },
         {
          "x": 1893,
          "y": 0
         },
         {
          "x": 1894,
          "y": 0
         },
         {
          "x": 1895,
          "y": 0
         },
         {
          "x": 1896,
          "y": 0
         },
         {
          "x": 1897,
          "y": 0
         },
         {
          "x": 1898,
          "y": 0
         },
         {
          "x": 1899,
          "y": 0
         },
         {
          "x": 1900,
          "y": 0
         },
         {
          "x": 1901,
          "y": 0
         },
         {
          "x": 1902,
          "y": 0
         },
         {
          "x": 1903,
          "y": 0
         },
         {
          "x": 1904,
          "y": 0
         },
         {
          "x": 1905,
          "y": 0
         },
         {
          "x": 1906,
          "y": 0
         },
         {
          "x": 1907,
          "y": 0
         },
         {
          "x": 1908,
          "y": 0
         },
         {
          "x": 1909,
          "y": 0
         },
         {
          "x": 1910,
          "y": 0
         },
         {
          "x": 1911,
          "y": 0
         },
         {
          "x": 1912,
          "y": 0
         },
         {
          "x": 1913,
          "y": 0
         },
         {
          "x": 1914,
          "y": 0
         },
         {
          "x": 1915,
          "y": 0
         },
         {
          "x": 1916,
          "y": 0
         },
         {
          "x": 1917,
          "y": 0
         },
         {
          "x": 1918,
          "y": 0
         },
         {
          "x": 1919,
          "y": 0
         },
         {
          "x": 1920,
          "y": 0
         },
         {
          "x": 1921,
          "y": 0
         },
         {
          "x": 1922,
          "y": 0
         },
         {
          "x": 1923,
          "y": 0
         },
         {
          "x": 1924,
          "y": 0
         },
         {
          "x": 1925,
          "y": 0
         },
         {
          "x": 1926,
          "y": 0
         },
         {
          "x": 1927,
          "y": 0
         },
         {
          "x": 1928,
          "y": 0
         },
         {
          "x": 1929,
          "y": 0
         },
         {
          "x": 1930,
          "y": 0
         },
         {
          "x": 1931,
          "y": 0
         },
         {
          "x": 1932,
          "y": 0
         },
         {
          "x": 1933,
          "y": 0
         },
         {
          "x": 1934,
          "y": 0
         },
         {
          "x": 1935,
          "y": 0
         },
         {
          "x": 1936,
          "y": 0
         },
         {
          "x": 1937,
          "y": 0
         },
         {
          "x": 1938,
          "y": 0
         },
         {
          "x": 1939,
          "y": 0
         },
         {
          "x": 1940,
          "y": 0
         },
         {
          "x": 1941,
          "y": 0
         },
         {
          "x": 1942,
          "y": 0
         },
         {
          "x": 1943,
          "y": 0
         },
         {
          "x": 1944,
          "y": 0
         },
         {
          "x": 1945,
          "y": 0
         },
         {
          "x": 1946,
          "y": 0
         },
         {
          "x": 1947,
          "y": 0
         },
         {
          "x": 1948,
          "y": 0
         },
         {
          "x": 1949,
          "y": 0
         },
         {
          "x": 1950,
          "y": 0
         },
         {
          "x": 1951,
          "y": 0
         },
         {
          "x": 1952,
          "y": 0
         },
         {
          "x": 1953,
          "y": 0
         },
         {
          "x": 1954,
          "y": 0
         },
         {
          "x": 1955,
          "y": 0
         },
         {
          "x": 1956,
          "y": 0
         },
         {
          "x": 1957,
          "y": 0
         },
         {
          "x": 1958,
          "y": 0
         },
         {
          "x": 1959,
          "y": 0
         },
         {
          "x": 1960,
          "y": 0
         },
         {
          "x": 1961,
          "y": 0
         },
         {
          "x": 1962,
          "y": 0
         },
         {
          "x": 1963,
          "y": 0
         },
         {
          "x": 1964,
          "y": 0
         },
         {
          "x": 1965,
          "y": 0
         },
         {
          "x": 1966,
          "y": 0
         },
         {
          "x": 1967,
          "y": 0
         },
         {
          "x": 1968,
          "y": 0
         },
         {
          "x": 1969,
          "y": 0
         },
         {
          "x": 1970,
          "y": 0
         },
         {
          "x": 1971,
          "y": 0
         },
         {
          "x": 1972,
          "y": 0
         },
         {
          "x": 1973,
          "y": 0
         },
         {
          "x": 1974,
          "y": 0
         },
         {
          "x": 1975,
          "y": 0
         },
         {
          "x": 1976,
          "y": 0
         },
         {
          "x": 1977,
          "y": 0
         },
         {
          "x": 1978,
          "y": 0
         },
         {
          "x": 1979,
          "y": 0
         },
         {
          "x": 1980,
          "y": 0
         },
         {
          "x": 1981,
          "y": 0
         },
         {
          "x": 1982,
          "y": 0
         },
         {
          "x": 1983,
          "y": 0
         },
         {
          "x": 1984,
          "y": 0
         },
         {
          "x": 1985,
          "y": 0
         },
         {
          "x": 1986,
          "y": 0
         },
         {
          "x": 1987,
          "y": 0
         },
         {
          "x": 1988,
          "y": 0
         },
         {
          "x": 1989,
          "y": 0
         },
         {
          "x": 1990,
          "y": 0
         },
         {
          "x": 1991,
          "y": 0
         },
         {
          "x": 1992,
          "y": 0
         },
         {
          "x": 1993,
          "y": 0
         },
         {
          "x": 1994,
          "y": 0
         },
         {
          "x": 1995,
          "y": 0
         },
         {
          "x": 1996,
          "y": 0
         },
         {
          "x": 1997,
          "y": 0
         },
         {
          "x": 1998,
          "y": 0
         },
         {
          "x": 1999,
          "y": 0
         },
         {
          "x": 2000,
          "y": 0
         },
         {
          "x": 2001,
          "y": 0
         },
         {
          "x": 2002,
          "y": 0
         },
         {
          "x": 2003,
          "y": 0
         },
         {
          "x": 2004,
          "y": 0
         },
         {
          "x": 2005,
          "y": 0
         },
         {
          "x": 2006,
          "y": 0
         },
         {
          "x": 2007,
          "y": 0
         },
         {
          "x": 2008,
          "y": 0
         },
         {
          "x": 2009,
          "y": 0
         },
         {
          "x": 2010,
          "y": 0
         },
         {
          "x": 2011,
          "y": 0
         },
         {
          "x": 2012,
          "y": 0
         },
         {
          "x": 2013,
          "y": 0
         },
         {
          "x": 2014,
          "y": 0
         },
         {
          "x": 2015,
          "y": 0
         },
         {
          "x": 2016,
          "y": 0
         },
         {
          "x": 2017,
          "y": 0
         },
         {
          "x": 2018,
          "y": 0
         },
         {
          "x": 2019,
          "y": 0
         },
         {
          "x": 2020,
          "y": 0
         },
         {
          "x": 2021,
          "y": 0
         },
         {
          "x": 2022,
          "y": 0
         },
         {
          "x": 2023,
          "y": 0
         },
         {
          "x": 2024,
          "y": 0
         },
         {
          "x": 2025,
          "y": 0
         },
         {
          "x": 2026,
          "y": 0
         },
         {
          "x": 2027,
          "y": 0
         },
         {
          "x": 2028,
          "y": 0
         },
         {
          "x": 2029,
          "y": 0
         },
         {
          "x": 2030,
          "y": 0
         },
         {
          "x": 2031,
          "y": 0
         },
         {
          "x": 2032,
          "y": 0
         },
         {
          "x": 2033,
          "y": 0
         },
         {
          "x": 2034,
          "y": 0
         },
         {
          "x": 2035,
          "y": 0
         },
         {
          "x": 2036,
          "y": 0
         },
         {
          "x": 2037,
          "y": 0
         },
         {
          "x": 2038,
          "y": 0
         },
         {
          "x": 2039,
          "y": 0
         },
         {
          "x": 2040,
          "y": 0
         },
         {
          "x": 2041,
          "y": 0
         },
         {
          "x": 2042,
          "y": 0
         },
         {
          "x": 2043,
          "y": 0
         },
         {
          "x": 2044,
          "y": 0
         },
         {
          "x": 2045,
          "y": 0
         },
         {
          "x": 2046,
          "y": 0
         },
         {
          "x": 2047,
          "y": 0
         },
         {
          "x": 2048,
          "y": 0
         },
         {
          "x": 2049,
          "y": 0
         },
         {
          "x": 2050,
          "y": 0
         },
         {
          "x": 2051,
          "y": 0
         },
         {
          "x": 2052,
          "y": 0
         },
         {
          "x": 2053,
          "y": 0
         },
         {
          "x": 2054,
          "y": 0
         },
         {
          "x": 2055,
          "y": 0
         },
         {
          "x": 2056,
          "y": 0
         },
         {
          "x": 2057,
          "y": 0
         },
         {
          "x": 2058,
          "y": 0
         },
         {
          "x": 2059,
          "y": 0
         },
         {
          "x": 2060,
          "y": 0
         },
         {
          "x": 2061,
          "y": 0
         },
         {
          "x": 2062,
          "y": 0
         },
         {
          "x": 2063,
          "y": 0
         },
         {
          "x": 2064,
          "y": 0
         },
         {
          "x": 2065,
          "y": 0
         },
         {
          "x": 2066,
          "y": 0
         },
         {
          "x": 2067,
          "y": 0
         },
         {
          "x": 2068,
          "y": 0
         },
         {
          "x": 2069,
          "y": 0
         },
         {
          "x": 2070,
          "y": 0
         },
         {
          "x": 2071,
          "y": 0
         },
         {
          "x": 2072,
          "y": 0
         },
         {
          "x": 2073,
          "y": 0
         },
         {
          "x": 2074,
          "y": 0
         },
         {
          "x": 2075,
          "y": 0
         },
         {
          "x": 2076,
          "y": 0
         },
         {
          "x": 2077,
          "y": 0
         },
         {
          "x": 2078,
          "y": 0
         },
         {
          "x": 2079,
          "y": 0
         },
         {
          "x": 2080,
          "y": 0
         },
         {
          "x": 2081,
          "y": 0
         },
         {
          "x": 2082,
          "y": 0
         },
         {
          "x": 2083,
          "y": 0
         },
         {
          "x": 2084,
          "y": 0
         },
         {
          "x": 2085,
          "y": 0
         },
         {
          "x": 2086,
          "y": 0
         },
         {
          "x": 2087,
          "y": 0
         },
         {
          "x": 2088,
          "y": 0
         },
         {
          "x": 2089,
          "y": 0
         },
         {
          "x": 2090,
          "y": 0
         },
         {
          "x": 2091,
          "y": 0
         },
         {
          "x": 2092,
          "y": 0
         },
         {
          "x": 2093,
          "y": 0
         },
         {
          "x": 2094,
          "y": 0
         },
         {
          "x": 2095,
          "y": 0
         },
         {
          "x": 2096,
          "y": 0
         },
         {
          "x": 2097,
          "y": 0
         },
         {
          "x": 2098,
          "y": 0
         },
         {
          "x": 2099,
          "y": 0
         },
         {
          "x": 2100,
          "y": 0
         },
         {
          "x": 2101,
          "y": 0
         },
         {
          "x": 2102,
          "y": 0
         },
         {
          "x": 2103,
          "y": 0
         },
         {
          "x": 2104,
          "y": 0
         },
         {
          "x": 2105,
          "y": 0
         },
         {
          "x": 2106,
          "y": 0
         },
         {
          "x": 2107,
          "y": 0
         },
         {
          "x": 2108,
          "y": 0
         },
         {
          "x": 2109,
          "y": 0
         },
         {
          "x": 2110,
          "y": 0
         },
         {
          "x": 2111,
          "y": 0
         },
         {
          "x": 2112,
          "y": 0
         },
         {
          "x": 2113,
          "y": 0
         },
         {
          "x": 2114,
          "y": 0
         },
         {
          "x": 2115,
          "y": 0
         },
         {
          "x": 2116,
          "y": 0
         },
         {
          "x": 2117,
          "y": 0
         },
         {
          "x": 2118,
          "y": 0
         },
         {
          "x": 2119,
          "y": 0
         },
         {
          "x": 2120,
          "y": 0
         },
         {
          "x": 2121,
          "y": 0
         },
         {
          "x": 2122,
          "y": 0
         },
         {
          "x": 2123,
          "y": 0
         },
         {
          "x": 2124,
          "y": 0
         },
         {
          "x": 2125,
          "y": 0
         },
         {
          "x": 2126,
          "y": 0
         },
         {
          "x": 2127,
          "y": 0
         },
         {
          "x": 2128,
          "y": 0
         },
         {
          "x": 2129,
          "y": 0
         },
         {
          "x": 2130,
          "y": 0
         },
         {
          "x": 2131,
          "y": 0
         },
         {
          "x": 2132,
          "y": 0
         },
         {
          "x": 2133,
          "y": 0
         },
         {
          "x": 2134,
          "y": 0
         },
         {
          "x": 2135,
          "y": 0
         },
         {
          "x": 2136,
          "y": 0
         },
         {
          "x": 2137,
          "y": 0
         },
         {
          "x": 2138,
          "y": 0
         },
         {
          "x": 2139,
          "y": 0
         },
         {
          "x": 2140,
          "y": 0
         },
         {
          "x": 2141,
          "y": 0
         },
         {
          "x": 2142,
          "y": 0
         },
         {
          "x": 2143,
          "y": 0
         },
         {
          "x": 2144,
          "y": 0
         },
         {
          "x": 2145,
          "y": 0
         },
         {
          "x": 2146,
          "y": 0
         },
         {
          "x": 2147,
          "y": 0
         },
         {
          "x": 2148,
          "y": 0
         },
         {
          "x": 2149,
          "y": 0
         },
         {
          "x": 2150,
          "y": 0
         },
         {
          "x": 2151,
          "y": 0
         },
         {
          "x": 2152,
          "y": 0
         },
         {
          "x": 2153,
          "y": 0
         },
         {
          "x": 2154,
          "y": 0
         },
         {
          "x": 2155,
          "y": 0
         },
         {
          "x": 2156,
          "y": 0
         },
         {
          "x": 2157,
          "y": 0
         },
         {
          "x": 2158,
          "y": 0
         },
         {
          "x": 2159,
          "y": 0
         },
         {
          "x": 2160,
          "y": 0
         },
         {
          "x": 2161,
          "y": 0
         },
         {
          "x": 2162,
          "y": 0
         },
         {
          "x": 2163,
          "y": 0
         },
         {
          "x": 2164,
          "y": 0
         },
         {
          "x": 2165,
          "y": 0
         },
         {
          "x": 2166,
          "y": 0
         },
         {
          "x": 2167,
          "y": 0
         },
         {
          "x": 2168,
          "y": 0
         },
         {
          "x": 2169,
          "y": 0
         },
         {
          "x": 2170,
          "y": 0
         },
         {
          "x": 2171,
          "y": 0
         },
         {
          "x": 2172,
          "y": 0
         },
         {
          "x": 2173,
          "y": 0
         },
         {
          "x": 2174,
          "y": 0
         },
         {
          "x": 2175,
          "y": 0
         },
         {
          "x": 2176,
          "y": 0
         },
         {
          "x": 2177,
          "y": 0
         },
         {
          "x": 2178,
          "y": 0
         },
         {
          "x": 2179,
          "y": 0
         },
         {
          "x": 2180,
          "y": 0
         },
         {
          "x": 2181,
          "y": 0
         },
         {
          "x": 2182,
          "y": 0
         },
         {
          "x": 2183,
          "y": 0
         },
         {
          "x": 2184,
          "y": 0
         },
         {
          "x": 2185,
          "y": 0
         },
         {
          "x": 2186,
          "y": 0
         },
         {
          "x": 2187,
          "y": 0
         },
         {
          "x": 2188,
          "y": 0
         },
         {
          "x": 2189,
          "y": 0
         },
         {
          "x": 2190,
          "y": 0
         },
         {
          "x": 2191,
          "y": 0
         },
         {
          "x": 2192,
          "y": 0
         },
         {
          "x": 2193,
          "y": 0
         },
         {
          "x": 2194,
          "y": 0
         },
         {
          "x": 2195,
          "y": 0
         },
         {
          "x": 2196,
          "y": 0
         },
         {
          "x": 2197,
          "y": 0
         },
         {
          "x": 2198,
          "y": 0
         },
         {
          "x": 2199,
          "y": 0
         },
         {
          "x": 2200,
          "y": 0
         },
         {
          "x": 2201,
          "y": 0
         },
         {
          "x": 2202,
          "y": 0
         },
         {
          "x": 2203,
          "y": 0
         },
         {
          "x": 2204,
          "y": 0
         },
         {
          "x": 2205,
          "y": 0
         },
         {
          "x": 2206,
          "y": 0
         },
         {
          "x": 2207,
          "y": 0
         },
         {
          "x": 2208,
          "y": 0
         },
         {
          "x": 2209,
          "y": 0
         },
         {
          "x": 2210,
          "y": 0
         },
         {
          "x": 2211,
          "y": 0
         },
         {
          "x": 2212,
          "y": 0
         },
         {
          "x": 2213,
          "y": 0
         },
         {
          "x": 2214,
          "y": 0
         },
         {
          "x": 2215,
          "y": 0
         },
         {
          "x": 2216,
          "y": 0
         },
         {
          "x": 2217,
          "y": 0
         },
         {
          "x": 2218,
          "y": 0
         },
         {
          "x": 2219,
          "y": 0
         },
         {
          "x": 2220,
          "y": 0
         },
         {
          "x": 2221,
          "y": 0
         },
         {
          "x": 2222,
          "y": 0
         },
         {
          "x": 2223,
          "y": 0
         },
         {
          "x": 2224,
          "y": 0
         },
         {
          "x": 2225,
          "y": 0
         },
         {
          "x": 2226,
          "y": 0
         },
         {
          "x": 2227,
          "y": 0
         },
         {
          "x": 2228,
          "y": 0
         },
         {
          "x": 2229,
          "y": 0
         },
         {
          "x": 2230,
          "y": 0
         },
         {
          "x": 2231,
          "y": 0
         },
         {
          "x": 2232,
          "y": 0
         },
         {
          "x": 2233,
          "y": 0
         },
         {
          "x": 2234,
          "y": 0
         },
         {
          "x": 2235,
          "y": 0
         },
         {
          "x": 2236,
          "y": 0
         },
         {
          "x": 2237,
          "y": 0
         },
         {
          "x": 2238,
          "y": 0
         },
         {
          "x": 2239,
          "y": 0
         },
         {
          "x": 2240,
          "y": 0
         },
         {
          "x": 2241,
          "y": 0
         },
         {
          "x": 2242,
          "y": 0
         },
         {
          "x": 2243,
          "y": 0
         },
         {
          "x": 2244,
          "y": 0
         },
         {
          "x": 2245,
          "y": 0
         },
         {
          "x": 2246,
          "y": 0
         },
         {
          "x": 2247,
          "y": 0
         },
         {
          "x": 2248,
          "y": 0
         },
         {
          "x": 2249,
          "y": 0
         },
         {
          "x": 2250,
          "y": 0
         },
         {
          "x": 2251,
          "y": 0
         },
         {
          "x": 2252,
          "y": 0
         },
         {
          "x": 2253,
          "y": 0
         },
         {
          "x": 2254,
          "y": 0
         },
         {
          "x": 2255,
          "y": 0
         },
         {
          "x": 2256,
          "y": 0
         },
         {
          "x": 2257,
          "y": 0
         },
         {
          "x": 2258,
          "y": 0
         },
         {
          "x": 2259,
          "y": 0
         },
         {
          "x": 2260,
          "y": 0
         },
         {
          "x": 2261,
          "y": 0
         },
         {
          "x": 2262,
          "y": 0
         },
         {
          "x": 2263,
          "y": 0
         },
         {
          "x": 2264,
          "y": 0.30102998
         },
         {
          "x": 2265,
          "y": 0.30102998
         },
         {
          "x": 2266,
          "y": 0.30102998
         },
         {
          "x": 2267,
          "y": 0.30102998
         },
         {
          "x": 2268,
          "y": 0.30102998
         },
         {
          "x": 2269,
          "y": 0.30102998
         },
         {
          "x": 2270,
          "y": 0.30102998
         },
         {
          "x": 2271,
          "y": 0.30102998
         },
         {
          "x": 2272,
          "y": 0.30102998
         },
         {
          "x": 2273,
          "y": 0.30102998
         },
         {
          "x": 2274,
          "y": 0.30102998
         },
         {
          "x": 2275,
          "y": 0.30102998
         },
         {
          "x": 2276,
          "y": 0.30102998
         },
         {
          "x": 2277,
          "y": 0.30102998
         },
         {
          "x": 2278,
          "y": 0.30102998
         },
         {
          "x": 2279,
          "y": 0.30102998
         },
         {
          "x": 2280,
          "y": 0.30102998
         },
         {
          "x": 2281,
          "y": 0.30102998
         },
         {
          "x": 2282,
          "y": 0.30102998
         },
         {
          "x": 2283,
          "y": 0.30102998
         },
         {
          "x": 2284,
          "y": 0.30102998
         },
         {
          "x": 2285,
          "y": 0.30102998
         },
         {
          "x": 2286,
          "y": 0.30102998
         },
         {
          "x": 2287,
          "y": 0.30102998
         },
         {
          "x": 2288,
          "y": 0.30102998
         },
         {
          "x": 2289,
          "y": 0.30102998
         },
         {
          "x": 2290,
          "y": 0.30102998
         },
         {
          "x": 2291,
          "y": 0.30102998
         },
         {
          "x": 2292,
          "y": 0.30102998
         },
         {
          "x": 2293,
          "y": 0.30102998
         },
         {
          "x": 2294,
          "y": 0.30102998
         },
         {
          "x": 2295,
          "y": 0.30102998
         },
         {
          "x": 2296,
          "y": 0.30102998
         },
         {
          "x": 2297,
          "y": 0.30102998
         },
         {
          "x": 2298,
          "y": 0.30102998
         },
         {
          "x": 2299,
          "y": 0.30102998
         },
         {
          "x": 2300,
          "y": 0.30102998
         },
         {
          "x": 2301,
          "y": 0.30102998
         },
         {
          "x": 2302,
          "y": 0.30102998
         },
         {
          "x": 2303,
          "y": 0.30102998
         },
         {
          "x": 2304,
          "y": 0.30102998
         },
         {
          "x": 2305,
          "y": 0.30102998
         },
         {
          "x": 2306,
          "y": 0.30102998
         },
         {
          "x": 2307,
          "y": 0.30102998
         },
         {
          "x": 2308,
          "y": 0.30102998
         },
         {
          "x": 2309,
          "y": 0.30102998
         },
         {
          "x": 2310,
          "y": 0.30102998
         },
         {
          "x": 2311,
          "y": 0.30102998
         },
         {
          "x": 2312,
          "y": 0.30102998
         },
         {
          "x": 2313,
          "y": 0.30102998
         },
         {
          "x": 2314,
          "y": 0.30102998
         },
         {
          "x": 2315,
          "y": 0.30102998
         },
         {
          "x": 2316,
          "y": 0.30102998
         },
         {
          "x": 2317,
          "y": 0.30102998
         },
         {
          "x": 2318,
          "y": 0.30102998
         },
         {
          "x": 2319,
          "y": 0.30102998
         },
         {
          "x": 2320,
          "y": 0.30102998
         },
         {
          "x": 2321,
          "y": 0.30102998
         },
         {
          "x": 2322,
          "y": 0.30102998
         },
         {
          "x": 2323,
          "y": 0.30102998
         },
         {
          "x": 2324,
          "y": 0.30102998
         },
         {
          "x": 2325,
          "y": 0.30102998
         },
         {
          "x": 2326,
          "y": 0.30102998
         },
         {
          "x": 2327,
          "y": 0.30102998
         },
         {
          "x": 2328,
          "y": 0.30102998
         },
         {
          "x": 2329,
          "y": 0.30102998
         },
         {
          "x": 2330,
          "y": 0.30102998
         },
         {
          "x": 2331,
          "y": 0.30102998
         },
         {
          "x": 2332,
          "y": 0.30102998
         },
         {
          "x": 2333,
          "y": 0.30102998
         },
         {
          "x": 2334,
          "y": 0.30102998
         },
         {
          "x": 2335,
          "y": 0.30102998
         },
         {
          "x": 2336,
          "y": 0.30102998
         },
         {
          "x": 2337,
          "y": 0.30102998
         },
         {
          "x": 2338,
          "y": 0.30102998
         },
         {
          "x": 2339,
          "y": 0.30102998
         },
         {
          "x": 2340,
          "y": 0.30102998
         },
         {
          "x": 2341,
          "y": 0.30102998
         },
         {
          "x": 2342,
          "y": 0.30102998
         },
         {
          "x": 2343,
          "y": 0.30102998
         },
         {
          "x": 2344,
          "y": 0.30102998
         },
         {
          "x": 2345,
          "y": 0.30102998
         },
         {
          "x": 2346,
          "y": 0.30102998
         },
         {
          "x": 2347,
          "y": 0.30102998
         },
         {
          "x": 2348,
          "y": 0.30102998
         },
         {
          "x": 2349,
          "y": 0.30102998
         },
         {
          "x": 2350,
          "y": 0.30102998
         },
         {
          "x": 2351,
          "y": 0.30102998
         },
         {
          "x": 2352,
          "y": 0.30102998
         },
         {
          "x": 2353,
          "y": 0.30102998
         },
         {
          "x": 2354,
          "y": 0.30102998
         },
         {
          "x": 2355,
          "y": 0.30102998
         },
         {
          "x": 2356,
          "y": 0.30102998
         },
         {
          "x": 2357,
          "y": 0.30102998
         },
         {
          "x": 2358,
          "y": 0.30102998
         },
         {
          "x": 2359,
          "y": 0.30102998
         },
         {
          "x": 2360,
          "y": 0.30102998
         },
         {
          "x": 2361,
          "y": 0.30102998
         },
         {
          "x": 2362,
          "y": 0.30102998
         },
         {
          "x": 2363,
          "y": 0.30102998
         },
         {
          "x": 2364,
          "y": 0.30102998
         },
         {
          "x": 2365,
          "y": 0.30102998
         },
         {
          "x": 2366,
          "y": 0.30102998
         },
         {
          "x": 2367,
          "y": 0.30102998
         },
         {
          "x": 2368,
          "y": 0.30102998
         },
         {
          "x": 2369,
          "y": 0.30102998
         },
         {
          "x": 2370,
          "y": 0.30102998
         },
         {
          "x": 2371,
          "y": 0.30102998
         },
         {
          "x": 2372,
          "y": 0.30102998
         },
         {
          "x": 2373,
          "y": 0.30102998
         },
         {
          "x": 2374,
          "y": 0.30102998
         },
         {
          "x": 2375,
          "y": 0.30102998
         },
         {
          "x": 2376,
          "y": 0.30102998
         },
         {
          "x": 2377,
          "y": 0.30102998
         },
         {
          "x": 2378,
          "y": 0.30102998
         },
         {
          "x": 2379,
          "y": 0.30102998
         },
         {
          "x": 2380,
          "y": 0.30102998
         },
         {
          "x": 2381,
          "y": 0.30102998
         },
         {
          "x": 2382,
          "y": 0.30102998
         },
         {
          "x": 2383,
          "y": 0.30102998
         },
         {
          "x": 2384,
          "y": 0.30102998
         },
         {
          "x": 2385,
          "y": 0.30102998
         },
         {
          "x": 2386,
          "y": 0.30102998
         },
         {
          "x": 2387,
          "y": 0.30102998
         },
         {
          "x": 2388,
          "y": 0.30102998
         },
         {
          "x": 2389,
          "y": 0.30102998
         },
         {
          "x": 2390,
          "y": 0.30102998
         },
         {
          "x": 2391,
          "y": 0.30102998
         },
         {
          "x": 2392,
          "y": 0.30102998
         },
         {
          "x": 2393,
          "y": 0.30102998
         },
         {
          "x": 2394,
          "y": 0.30102998
         },
         {
          "x": 2395,
          "y": 0.30102998
         },
         {
          "x": 2396,
          "y": 0.30102998
         },
         {
          "x": 2397,
          "y": 0.30102998
         },
         {
          "x": 2398,
          "y": 0.30102998
         },
         {
          "x": 2399,
          "y": 0.30102998
         },
         {
          "x": 2400,
          "y": 0.30102998
         },
         {
          "x": 2401,
          "y": 0.30102998
         },
         {
          "x": 2402,
          "y": 0.30102998
         },
         {
          "x": 2403,
          "y": 0.30102998
         },
         {
          "x": 2404,
          "y": 0.30102998
         },
         {
          "x": 2405,
          "y": 0.30102998
         },
         {
          "x": 2406,
          "y": 0.30102998
         },
         {
          "x": 2407,
          "y": 0.30102998
         },
         {
          "x": 2408,
          "y": 0.30102998
         },
         {
          "x": 2409,
          "y": 0.30102998
         },
         {
          "x": 2410,
          "y": 0.30102998
         },
         {
          "x": 2411,
          "y": 0.30102998
         },
         {
          "x": 2412,
          "y": 0.30102998
         },
         {
          "x": 2413,
          "y": 0.30102998
         },
         {
          "x": 2414,
          "y": 0.30102998
         },
         {
          "x": 2415,
          "y": 0.30102998
         },
         {
          "x": 2416,
          "y": 0.30102998
         },
         {
          "x": 2417,
          "y": 0.30102998
         },
         {
          "x": 2418,
          "y": 0.30102998
         },
         {
          "x": 2419,
          "y": 0.30102998
         },
         {
          "x": 2420,
          "y": 0.30102998
         },
         {
          "x": 2421,
          "y": 0.30102998
         },
         {
          "x": 2422,
          "y": 0.30102998
         },
         {
          "x": 2423,
          "y": 0.30102998
         },
         {
          "x": 2424,
          "y": 0.30102998
         },
         {
          "x": 2425,
          "y": 0.30102998
         },
         {
          "x": 2426,
          "y": 0.30102998
         },
         {
          "x": 2427,
          "y": 0.30102998
         },
         {
          "x": 2428,
          "y": 0.30102998
         },
         {
          "x": 2429,
          "y": 0.30102998
         },
         {
          "x": 2430,
          "y": 0.30102998
         },
         {
          "x": 2431,
          "y": 0.30102998
         },
         {
          "x": 2432,
          "y": 0.30102998
         },
         {
          "x": 2433,
          "y": 0.30102998
         },
         {
          "x": 2434,
          "y": 0.30102998
         },
         {
          "x": 2435,
          "y": 0.30102998
         },
         {
          "x": 2436,
          "y": 0.30102998
         },
         {
          "x": 2437,
          "y": 0.30102998
         },
         {
          "x": 2438,
          "y": 0.30102998
         },
         {
          "x": 2439,
          "y": 0.30102998
         },
         {
          "x": 2440,
          "y": 0.30102998
         },
         {
          "x": 2441,
          "y": 0.30102998
         },
         {
          "x": 2442,
          "y": 0.30102998
         },
         {
          "x": 2443,
          "y": 0.30102998
         },
         {
          "x": 2444,
          "y": 0.30102998
         },
         {
          "x": 2445,
          "y": 0.30102998
         },
         {
          "x": 2446,
          "y": 0.30102998
         },
         {
          "x": 2447,
          "y": 0.30102998
         },
         {
          "x": 2448,
          "y": 0.30102998
         },
         {
          "x": 2449,
          "y": 0.30102998
         },
         {
          "x": 2450,
          "y": 0.30102998
         },
         {
          "x": 2451,
          "y": 0.30102998
         },
         {
          "x": 2452,
          "y": 0.30102998
         },
         {
          "x": 2453,
          "y": 0.30102998
         },
         {
          "x": 2454,
          "y": 0.30102998
         },
         {
          "x": 2455,
          "y": 0.30102998
         },
         {
          "x": 2456,
          "y": 0.30102998
         },
         {
          "x": 2457,
          "y": 0.30102998
         },
         {
          "x": 2458,
          "y": 0.30102998
         },
         {
          "x": 2459,
          "y": 0.30102998
         },
         {
          "x": 2460,
          "y": 0.30102998
         },
         {
          "x": 2461,
          "y": 0.30102998
         },
         {
          "x": 2462,
          "y": 0.30102998
         },
         {
          "x": 2463,
          "y": 0.30102998
         },
         {
          "x": 2464,
          "y": 0.30102998
         },
         {
          "x": 2465,
          "y": 0.30102998
         },
         {
          "x": 2466,
          "y": 0.30102998
         },
         {
          "x": 2467,
          "y": 0.30102998
         },
         {
          "x": 2468,
          "y": 0.30102998
         },
         {
          "x": 2469,
          "y": 0.30102998
         },
         {
          "x": 2470,
          "y": 0.30102998
         },
         {
          "x": 2471,
          "y": 0.30102998
         },
         {
          "x": 2472,
          "y": 0.30102998
         },
         {
          "x": 2473,
          "y": 0.30102998
         },
         {
          "x": 2474,
          "y": 0.30102998
         },
         {
          "x": 2475,
          "y": 0.30102998
         },
         {
          "x": 2476,
          "y": 0.30102998
         },
         {
          "x": 2477,
          "y": 0.30102998
         },
         {
          "x": 2478,
          "y": 0.30102998
         },
         {
          "x": 2479,
          "y": 0.30102998
         },
         {
          "x": 2480,
          "y": 0.30102998
         },
         {
          "x": 2481,
          "y": 0.30102998
         },
         {
          "x": 2482,
          "y": 0.30102998
         },
         {
          "x": 2483,
          "y": 0.30102998
         },
         {
          "x": 2484,
          "y": 0.30102998
         },
         {
          "x": 2485,
          "y": 0.30102998
         },
         {
          "x": 2486,
          "y": 0.30102998
         },
         {
          "x": 2487,
          "y": 0.30102998
         },
         {
          "x": 2488,
          "y": 0.30102998
         },
         {
          "x": 2489,
          "y": 0.30102998
         },
         {
          "x": 2490,
          "y": 0.30102998
         },
         {
          "x": 2491,
          "y": 0.30102998
         },
         {
          "x": 2492,
          "y": 0.30102998
         },
         {
          "x": 2493,
          "y": 0.30102998
         },
         {
          "x": 2494,
          "y": 0.30102998
         },
         {
          "x": 2495,
          "y": 0.30102998
         },
         {
          "x": 2496,
          "y": 0.30102998
         },
         {
          "x": 2497,
          "y": 0.30102998
         },
         {
          "x": 2498,
          "y": 0.30102998
         },
         {
          "x": 2499,
          "y": 0.30102998
         },
         {
          "x": 2500,
          "y": 0.30102998
         },
         {
          "x": 2501,
          "y": 0.30102998
         },
         {
          "x": 2502,
          "y": 0.30102998
         },
         {
          "x": 2503,
          "y": 0.30102998
         },
         {
          "x": 2504,
          "y": 0.30102998
         },
         {
          "x": 2505,
          "y": 0.30102998
         },
         {
          "x": 2506,
          "y": 0.30102998
         },
         {
          "x": 2507,
          "y": 0.30102998
         },
         {
          "x": 2508,
          "y": 0.30102998
         },
         {
          "x": 2509,
          "y": 0.30102998
         },
         {
          "x": 2510,
          "y": 0.30102998
         },
         {
          "x": 2511,
          "y": 0.30102998
         },
         {
          "x": 2512,
          "y": 0.30102998
         },
         {
          "x": 2513,
          "y": 0.30102998
         },
         {
          "x": 2514,
          "y": 0.30102998
         },
         {
          "x": 2515,
          "y": 0.30102998
         },
         {
          "x": 2516,
          "y": 0.30102998
         },
         {
          "x": 2517,
          "y": 0.30102998
         },
         {
          "x": 2518,
          "y": 0.30102998
         },
         {
          "x": 2519,
          "y": 0.30102998
         },
         {
          "x": 2520,
          "y": 0.30102998
         },
         {
          "x": 2521,
          "y": 0.30102998
         },
         {
          "x": 2522,
          "y": 0.30102998
         },
         {
          "x": 2523,
          "y": 0.30102998
         },
         {
          "x": 2524,
          "y": 0.30102998
         },
         {
          "x": 2525,
          "y": 0.30102998
         },
         {
          "x": 2526,
          "y": 0.30102998
         },
         {
          "x": 2527,
          "y": 0.30102998
         },
         {
          "x": 2528,
          "y": 0.30102998
         },
         {
          "x": 2529,
          "y": 0.30102998
         },
         {
          "x": 2530,
          "y": 0.30102998
         },
         {
          "x": 2531,
          "y": 0.30102998
         },
         {
          "x": 2532,
          "y": 0.30102998
         },
         {
          "x": 2533,
          "y": 0.30102998
         },
         {
          "x": 2534,
          "y": 0.30102998
         },
         {
          "x": 2535,
          "y": 0.30102998
         },
         {
          "x": 2536,
          "y": 0.30102998
         },
         {
          "x": 2537,
          "y": 0.30102998
         },
         {
          "x": 2538,
          "y": 0.30102998
         },
         {
          "x": 2539,
          "y": 0.30102998
         },
         {
          "x": 2540,
          "y": 0.30102998
         },
         {
          "x": 2541,
          "y": 0.30102998
         },
         {
          "x": 2542,
          "y": 0.30102998
         },
         {
          "x": 2543,
          "y": 0.30102998
         },
         {
          "x": 2544,
          "y": 0.30102998
         },
         {
          "x": 2545,
          "y": 0.30102998
         },
         {
          "x": 2546,
          "y": 0.30102998
         },
         {
          "x": 2547,
          "y": 0.30102998
         },
         {
          "x": 2548,
          "y": 0.30102998
         },
         {
          "x": 2549,
          "y": 0.30102998
         },
         {
          "x": 2550,
          "y": 0.30102998
         },
         {
          "x": 2551,
          "y": 0.30102998
         },
         {
          "x": 2552,
          "y": 0.30102998
         },
         {
          "x": 2553,
          "y": 0.30102998
         },
         {
          "x": 2554,
          "y": 0.30102998
         },
         {
          "x": 2555,
          "y": 0.30102998
         },
         {
          "x": 2556,
          "y": 0.30102998
         },
         {
          "x": 2557,
          "y": 0.30102998
         },
         {
          "x": 2558,
          "y": 0.30102998
         },
         {
          "x": 2559,
          "y": 0.30102998
         },
         {
          "x": 2560,
          "y": 0.30102998
         },
         {
          "x": 2561,
          "y": 0.30102998
         },
         {
          "x": 2562,
          "y": 0.30102998
         },
         {
          "x": 2563,
          "y": 0.30102998
         },
         {
          "x": 2564,
          "y": 0.30102998
         },
         {
          "x": 2565,
          "y": 0.30102998
         },
         {
          "x": 2566,
          "y": 0.30102998
         },
         {
          "x": 2567,
          "y": 0.30102998
         },
         {
          "x": 2568,
          "y": 0.30102998
         },
         {
          "x": 2569,
          "y": 0.30102998
         },
         {
          "x": 2570,
          "y": 0.30102998
         },
         {
          "x": 2571,
          "y": 0.30102998
         },
         {
          "x": 2572,
          "y": 0.30102998
         },
         {
          "x": 2573,
          "y": 0.30102998
         },
         {
          "x": 2574,
          "y": 0.30102998
         },
         {
          "x": 2575,
          "y": 0.30102998
         },
         {
          "x": 2576,
          "y": 0.30102998
         },
         {
          "x": 2577,
          "y": 0.30102998
         },
         {
          "x": 2578,
          "y": 0.30102998
         },
         {
          "x": 2579,
          "y": 0.30102998
         },
         {
          "x": 2580,
          "y": 0.30102998
         },
         {
          "x": 2581,
          "y": 0.30102998
         },
         {
          "x": 2582,
          "y": 0.30102998
         },
         {
          "x": 2583,
          "y": 0.30102998
         },
         {
          "x": 2584,
          "y": 0.30102998
         },
         {
          "x": 2585,
          "y": 0.30102998
         },
         {
          "x": 2586,
          "y": 0.30102998
         },
         {
          "x": 2587,
          "y": 0.30102998
         },
         {
          "x": 2588,
          "y": 0.30102998
         },
         {
          "x": 2589,
          "y": 0.30102998
         },
         {
          "x": 2590,
          "y": 0.30102998
         },
         {
          "x": 2591,
          "y": 0.30102998
         },
         {
          "x": 2592,
          "y": 0.30102998
         },
         {
          "x": 2593,
          "y": 0.30102998
         },
         {
          "x": 2594,
          "y": 0.30102998
         },
         {
          "x": 2595,
          "y": 0.30102998
         },
         {
          "x": 2596,
          "y": 0.30102998
         },
         {
          "x": 2597,
          "y": 0.30102998
         },
         {
          "x": 2598,
          "y": 0.30102998
         },
         {
          "x": 2599,
          "y": 0.30102998
         },
         {
          "x": 2600,
          "y": 0.30102998
         },
         {
          "x": 2601,
          "y": 0.30102998
         },
         {
          "x": 2602,
          "y": 0.30102998
         },
         {
          "x": 2603,
          "y": 0.30102998
         },
         {
          "x": 2604,
          "y": 0.30102998
         },
         {
          "x": 2605,
          "y": 0.30102998
         },
         {
          "x": 2606,
          "y": 0.30102998
         },
         {
          "x": 2607,
          "y": 0.30102998
         },
         {
          "x": 2608,
          "y": 0.30102998
         },
         {
          "x": 2609,
          "y": 0.30102998
         },
         {
          "x": 2610,
          "y": 0.30102998
         },
         {
          "x": 2611,
          "y": 0.30102998
         },
         {
          "x": 2612,
          "y": 0.30102998
         },
         {
          "x": 2613,
          "y": 0.30102998
         },
         {
          "x": 2614,
          "y": 0.30102998
         },
         {
          "x": 2615,
          "y": 0.30102998
         },
         {
          "x": 2616,
          "y": 0.30102998
         },
         {
          "x": 2617,
          "y": 0.30102998
         },
         {
          "x": 2618,
          "y": 0.30102998
         },
         {
          "x": 2619,
          "y": 0.30102998
         },
         {
          "x": 2620,
          "y": 0.30102998
         },
         {
          "x": 2621,
          "y": 0.30102998
         },
         {
          "x": 2622,
          "y": 0.30102998
         },
         {
          "x": 2623,
          "y": 0.30102998
         },
         {
          "x": 2624,
          "y": 0.30102998
         },
         {
          "x": 2625,
          "y": 0.30102998
         },
         {
          "x": 2626,
          "y": 0.30102998
         },
         {
          "x": 2627,
          "y": 0.30102998
         },
         {
          "x": 2628,
          "y": 0.30102998
         },
         {
          "x": 2629,
          "y": 0.30102998
         },
         {
          "x": 2630,
          "y": 0.30102998
         },
         {
          "x": 2631,
          "y": 0.30102998
         },
         {
          "x": 2632,
          "y": 0.30102998
         },
         {
          "x": 2633,
          "y": 0.30102998
         },
         {
          "x": 2634,
          "y": 0.30102998
         },
         {
          "x": 2635,
          "y": 0.30102998
         },
         {
          "x": 2636,
          "y": 0.30102998
         },
         {
          "x": 2637,
          "y": 0.30102998
         },
         {
          "x": 2638,
          "y": 0.30102998
         },
         {
          "x": 2639,
          "y": 0.30102998
         },
         {
          "x": 2640,
          "y": 0.30102998
         },
         {
          "x": 2641,
          "y": 0.30102998
         },
         {
          "x": 2642,
          "y": 0.30102998
         },
         {
          "x": 2643,
          "y": 0.30102998
         },
         {
          "x": 2644,
          "y": 0.30102998
         },
         {
          "x": 2645,
          "y": 0.30102998
         },
         {
          "x": 2646,
          "y": 0.30102998
         },
         {
          "x": 2647,
          "y": 0.30102998
         },
         {
          "x": 2648,
          "y": 0.30102998
         },
         {
          "x": 2649,
          "y": 0.30102998
         },
         {
          "x": 2650,
          "y": 0.30102998
         },
         {
          "x": 2651,
          "y": 0.30102998
         },
         {
          "x": 2652,
          "y": 0.30102998
         },
         {
          "x": 2653,
          "y": 0.30102998
         },
         {
          "x": 2654,
          "y": 0.30102998
         },
         {
          "x": 2655,
          "y": 0.30102998
         },
         {
          "x": 2656,
          "y": 0.30102998
         },
         {
          "x": 2657,
          "y": 0.30102998
         },
         {
          "x": 2658,
          "y": 0.30102998
         },
         {
          "x": 2659,
          "y": 0.30102998
         },
         {
          "x": 2660,
          "y": 0.30102998
         },
         {
          "x": 2661,
          "y": 0.30102998
         },
         {
          "x": 2662,
          "y": 0.30102998
         },
         {
          "x": 2663,
          "y": 0.30102998
         },
         {
          "x": 2664,
          "y": 0.30102998
         },
         {
          "x": 2665,
          "y": 0.30102998
         },
         {
          "x": 2666,
          "y": 0.30102998
         },
         {
          "x": 2667,
          "y": 0.30102998
         },
         {
          "x": 2668,
          "y": 0.30102998
         },
         {
          "x": 2669,
          "y": 0.30102998
         },
         {
          "x": 2670,
          "y": 0.30102998
         },
         {
          "x": 2671,
          "y": 0.30102998
         },
         {
          "x": 2672,
          "y": 0.30102998
         },
         {
          "x": 2673,
          "y": 0.30102998
         },
         {
          "x": 2674,
          "y": 0.30102998
         },
         {
          "x": 2675,
          "y": 0.30102998
         },
         {
          "x": 2676,
          "y": 0.30102998
         },
         {
          "x": 2677,
          "y": 0.30102998
         },
         {
          "x": 2678,
          "y": 0.30102998
         },
         {
          "x": 2679,
          "y": 0.30102998
         },
         {
          "x": 2680,
          "y": 0.30102998
         },
         {
          "x": 2681,
          "y": 0.30102998
         },
         {
          "x": 2682,
          "y": 0.30102998
         },
         {
          "x": 2683,
          "y": 0.30102998
         },
         {
          "x": 2684,
          "y": 0.30102998
         },
         {
          "x": 2685,
          "y": 0.30102998
         },
         {
          "x": 2686,
          "y": 0.30102998
         },
         {
          "x": 2687,
          "y": 0.30102998
         },
         {
          "x": 2688,
          "y": 0.30102998
         },
         {
          "x": 2689,
          "y": 0.30102998
         },
         {
          "x": 2690,
          "y": 0.30102998
         },
         {
          "x": 2691,
          "y": 0.30102998
         },
         {
          "x": 2692,
          "y": 0.30102998
         },
         {
          "x": 2693,
          "y": 0.30102998
         },
         {
          "x": 2694,
          "y": 0.30102998
         },
         {
          "x": 2695,
          "y": 0.30102998
         },
         {
          "x": 2696,
          "y": 0.30102998
         },
         {
          "x": 2697,
          "y": 0.30102998
         },
         {
          "x": 2698,
          "y": 0.30102998
         },
         {
          "x": 2699,
          "y": 0.30102998
         },
         {
          "x": 2700,
          "y": 0.30102998
         },
         {
          "x": 2701,
          "y": 0.30102998
         },
         {
          "x": 2702,
          "y": 0.30102998
         },
         {
          "x": 2703,
          "y": 0.30102998
         },
         {
          "x": 2704,
          "y": 0.30102998
         },
         {
          "x": 2705,
          "y": 0.30102998
         },
         {
          "x": 2706,
          "y": 0.30102998
         },
         {
          "x": 2707,
          "y": 0.30102998
         },
         {
          "x": 2708,
          "y": 0.30102998
         },
         {
          "x": 2709,
          "y": 0.30102998
         },
         {
          "x": 2710,
          "y": 0.30102998
         },
         {
          "x": 2711,
          "y": 0.30102998
         },
         {
          "x": 2712,
          "y": 0.30102998
         },
         {
          "x": 2713,
          "y": 0.30102998
         },
         {
          "x": 2714,
          "y": 0.30102998
         },
         {
          "x": 2715,
          "y": 0.30102998
         },
         {
          "x": 2716,
          "y": 0.30102998
         },
         {
          "x": 2717,
          "y": 0.30102998
         },
         {
          "x": 2718,
          "y": 0.30102998
         },
         {
          "x": 2719,
          "y": 0.30102998
         },
         {
          "x": 2720,
          "y": 0.30102998
         },
         {
          "x": 2721,
          "y": 0.30102998
         },
         {
          "x": 2722,
          "y": 0.30102998
         },
         {
          "x": 2723,
          "y": 0.30102998
         },
         {
          "x": 2724,
          "y": 0.30102998
         },
         {
          "x": 2725,
          "y": 0.30102998
         },
         {
          "x": 2726,
          "y": 0.30102998
         },
         {
          "x": 2727,
          "y": 0.30102998
         },
         {
          "x": 2728,
          "y": 0.30102998
         },
         {
          "x": 2729,
          "y": 0.30102998
         },
         {
          "x": 2730,
          "y": 0.30102998
         },
         {
          "x": 2731,
          "y": 0.30102998
         },
         {
          "x": 2732,
          "y": 0.30102998
         },
         {
          "x": 2733,
          "y": 0.30102998
         },
         {
          "x": 2734,
          "y": 0.30102998
         },
         {
          "x": 2735,
          "y": 0.30102998
         },
         {
          "x": 2736,
          "y": 0.30102998
         },
         {
          "x": 2737,
          "y": 0.30102998
         },
         {
          "x": 2738,
          "y": 0.30102998
         },
         {
          "x": 2739,
          "y": 0.30102998
         },
         {
          "x": 2740,
          "y": 0.30102998
         },
         {
          "x": 2741,
          "y": 0.30102998
         },
         {
          "x": 2742,
          "y": 0.30102998
         },
         {
          "x": 2743,
          "y": 0.30102998
         },
         {
          "x": 2744,
          "y": 0.30102998
         },
         {
          "x": 2745,
          "y": 0.30102998
         },
         {
          "x": 2746,
          "y": 0.30102998
         },
         {
          "x": 2747,
          "y": 0.30102998
         },
         {
          "x": 2748,
          "y": 0.30102998
         },
         {
          "x": 2749,
          "y": 0.30102998
         },
         {
          "x": 2750,
          "y": 0.30102998
         },
         {
          "x": 2751,
          "y": 0.30102998
         },
         {
          "x": 2752,
          "y": 0.30102998
         },
         {
          "x": 2753,
          "y": 0.30102998
         },
         {
          "x": 2754,
          "y": 0.30102998
         },
         {
          "x": 2755,
          "y": 0.30102998
         },
         {
          "x": 2756,
          "y": 0.30102998
         },
         {
          "x": 2757,
          "y": 0.30102998
         },
         {
          "x": 2758,
          "y": 0.30102998
         },
         {
          "x": 2759,
          "y": 0.30102998
         },
         {
          "x": 2760,
          "y": 0.30102998
         },
         {
          "x": 2761,
          "y": 0.30102998
         },
         {
          "x": 2762,
          "y": 0.30102998
         },
         {
          "x": 2763,
          "y": 0.30102998
         },
         {
          "x": 2764,
          "y": 0.30102998
         },
         {
          "x": 2765,
          "y": 0.30102998
         },
         {
          "x": 2766,
          "y": 0.30102998
         },
         {
          "x": 2767,
          "y": 0.30102998
         },
         {
          "x": 2768,
          "y": 0.30102998
         },
         {
          "x": 2769,
          "y": 0.30102998
         },
         {
          "x": 2770,
          "y": 0.30102998
         },
         {
          "x": 2771,
          "y": 0.30102998
         },
         {
          "x": 2772,
          "y": 0.30102998
         },
         {
          "x": 2773,
          "y": 0.30102998
         },
         {
          "x": 2774,
          "y": 0.30102998
         },
         {
          "x": 2775,
          "y": 0.30102998
         },
         {
          "x": 2776,
          "y": 0.30102998
         },
         {
          "x": 2777,
          "y": 0.30102998
         },
         {
          "x": 2778,
          "y": 0.30102998
         },
         {
          "x": 2779,
          "y": 0.30102998
         },
         {
          "x": 2780,
          "y": 0.30102998
         },
         {
          "x": 2781,
          "y": 0.30102998
         },
         {
          "x": 2782,
          "y": 0.30102998
         },
         {
          "x": 2783,
          "y": 0.30102998
         },
         {
          "x": 2784,
          "y": 0.30102998
         },
         {
          "x": 2785,
          "y": 0.30102998
         },
         {
          "x": 2786,
          "y": 0.30102998
         },
         {
          "x": 2787,
          "y": 0.30102998
         },
         {
          "x": 2788,
          "y": 0.30102998
         },
         {
          "x": 2789,
          "y": 0.30102998
         },
         {
          "x": 2790,
          "y": 0.30102998
         },
         {
          "x": 2791,
          "y": 0.30102998
         },
         {
          "x": 2792,
          "y": 0.30102998
         },
         {
          "x": 2793,
          "y": 0.30102998
         },
         {
          "x": 2794,
          "y": 0.30102998
         },
         {
          "x": 2795,
          "y": 0.30102998
         },
         {
          "x": 2796,
          "y": 0.30102998
         },
         {
          "x": 2797,
          "y": 0.30102998
         },
         {
          "x": 2798,
          "y": 0.30102998
         },
         {
          "x": 2799,
          "y": 0.30102998
         },
         {
          "x": 2800,
          "y": 0.30102998
         },
         {
          "x": 2801,
          "y": 0.30102998
         },
         {
          "x": 2802,
          "y": 0.30102998
         },
         {
          "x": 2803,
          "y": 0.30102998
         },
         {
          "x": 2804,
          "y": 0.30102998
         },
         {
          "x": 2805,
          "y": 0.30102998
         },
         {
          "x": 2806,
          "y": 0.30102998
         },
         {
          "x": 2807,
          "y": 0.30102998
         },
         {
          "x": 2808,
          "y": 0.30102998
         },
         {
          "x": 2809,
          "y": 0.30102998
         },
         {
          "x": 2810,
          "y": 0.30102998
         },
         {
          "x": 2811,
          "y": 0.30102998
         },
         {
          "x": 2812,
          "y": 0.30102998
         },
         {
          "x": 2813,
          "y": 0.30102998
         },
         {
          "x": 2814,
          "y": 0.30102998
         },
         {
          "x": 2815,
          "y": 0.30102998
         },
         {
          "x": 2816,
          "y": 0.30102998
         },
         {
          "x": 2817,
          "y": 0.30102998
         },
         {
          "x": 2818,
          "y": 0.30102998
         },
         {
          "x": 2819,
          "y": 0.30102998
         },
         {
          "x": 2820,
          "y": 0.30102998
         },
         {
          "x": 2821,
          "y": 0.30102998
         },
         {
          "x": 2822,
          "y": 0.30102998
         },
         {
          "x": 2823,
          "y": 0.30102998
         },
         {
          "x": 2824,
          "y": 0.30102998
         },
         {
          "x": 2825,
          "y": 0.30102998
         },
         {
          "x": 2826,
          "y": 0.30102998
         },
         {
          "x": 2827,
          "y": 0.30102998
         },
         {
          "x": 2828,
          "y": 0.30102998
         },
         {
          "x": 2829,
          "y": 0.30102998
         },
         {
          "x": 2830,
          "y": 0.30102998
         },
         {
          "x": 2831,
          "y": 0.30102998
         },
         {
          "x": 2832,
          "y": 0.30102998
         },
         {
          "x": 2833,
          "y": 0.30102998
         },
         {
          "x": 2834,
          "y": 0.30102998
         },
         {
          "x": 2835,
          "y": 0.30102998
         },
         {
          "x": 2836,
          "y": 0.30102998
         },
         {
          "x": 2837,
          "y": 0.30102998
         },
         {
          "x": 2838,
          "y": 0.30102998
         },
         {
          "x": 2839,
          "y": 0.30102998
         },
         {
          "x": 2840,
          "y": 0.30102998
         },
         {
          "x": 2841,
          "y": 0.30102998
         },
         {
          "x": 2842,
          "y": 0.30102998
         },
         {
          "x": 2843,
          "y": 0.30102998
         },
         {
          "x": 2844,
          "y": 0.30102998
         },
         {
          "x": 2845,
          "y": 0.30102998
         },
         {
          "x": 2846,
          "y": 0.30102998
         },
         {
          "x": 2847,
          "y": 0.30102998
         },
         {
          "x": 2848,
          "y": 0.30102998
         },
         {
          "x": 2849,
          "y": 0.47712126
         },
         {
          "x": 2850,
          "y": 0.47712126
         },
         {
          "x": 2851,
          "y": 0.47712126
         },
         {
          "x": 2852,
          "y": 0.47712126
         },
         {
          "x": 2853,
          "y": 0.47712126
         },
         {
          "x": 2854,
          "y": 0.47712126
         },
         {
          "x": 2855,
          "y": 0.47712126
         },
         {
          "x": 2856,
          "y": 0.47712126
         },
         {
          "x": 2857,
          "y": 0.47712126
         },
         {
          "x": 2858,
          "y": 0.47712126
         },
         {
          "x": 2859,
          "y": 0.47712126
         },
         {
          "x": 2860,
          "y": 0.47712126
         },
         {
          "x": 2861,
          "y": 0.47712126
         },
         {
          "x": 2862,
          "y": 0.47712126
         },
         {
          "x": 2863,
          "y": 0.47712126
         },
         {
          "x": 2864,
          "y": 0.47712126
         },
         {
          "x": 2865,
          "y": 0.47712126
         },
         {
          "x": 2866,
          "y": 0.47712126
         },
         {
          "x": 2867,
          "y": 0.47712126
         },
         {
          "x": 2868,
          "y": 0.47712126
         },
         {
          "x": 2869,
          "y": 0.47712126
         },
         {
          "x": 2870,
          "y": 0.47712126
         },
         {
          "x": 2871,
          "y": 0.47712126
         },
         {
          "x": 2872,
          "y": 0.47712126
         },
         {
          "x": 2873,
          "y": 0.47712126
         },
         {
          "x": 2874,
          "y": 0.47712126
         },
         {
          "x": 2875,
          "y": 0.47712126
         },
         {
          "x": 2876,
          "y": 0.47712126
         },
         {
          "x": 2877,
          "y": 0.47712126
         },
         {
          "x": 2878,
          "y": 0.47712126
         },
         {
          "x": 2879,
          "y": 0.47712126
         },
         {
          "x": 2880,
          "y": 0.47712126
         },
         {
          "x": 2881,
          "y": 0.47712126
         },
         {
          "x": 2882,
          "y": 0.47712126
         },
         {
          "x": 2883,
          "y": 0.47712126
         },
         {
          "x": 2884,
          "y": 0.47712126
         },
         {
          "x": 2885,
          "y": 0.47712126
         },
         {
          "x": 2886,
          "y": 0.47712126
         },
         {
          "x": 2887,
          "y": 0.47712126
         },
         {
          "x": 2888,
          "y": 0.47712126
         },
         {
          "x": 2889,
          "y": 0.47712126
         },
         {
          "x": 2890,
          "y": 0.47712126
         },
         {
          "x": 2891,
          "y": 0.47712126
         },
         {
          "x": 2892,
          "y": 0.47712126
         },
         {
          "x": 2893,
          "y": 0.47712126
         },
         {
          "x": 2894,
          "y": 0.47712126
         },
         {
          "x": 2895,
          "y": 0.47712126
         },
         {
          "x": 2896,
          "y": 0.47712126
         },
         {
          "x": 2897,
          "y": 0.47712126
         },
         {
          "x": 2898,
          "y": 0.47712126
         },
         {
          "x": 2899,
          "y": 0.47712126
         },
         {
          "x": 2900,
          "y": 0.47712126
         },
         {
          "x": 2901,
          "y": 0.47712126
         },
         {
          "x": 2902,
          "y": 0.47712126
         },
         {
          "x": 2903,
          "y": 0.47712126
         },
         {
          "x": 2904,
          "y": 0.47712126
         },
         {
          "x": 2905,
          "y": 0.47712126
         },
         {
          "x": 2906,
          "y": 0.47712126
         },
         {
          "x": 2907,
          "y": 0.47712126
         },
         {
          "x": 2908,
          "y": 0.47712126
         },
         {
          "x": 2909,
          "y": 0.47712126
         },
         {
          "x": 2910,
          "y": 0.47712126
         },
         {
          "x": 2911,
          "y": 0.47712126
         },
         {
          "x": 2912,
          "y": 0.47712126
         },
         {
          "x": 2913,
          "y": 0.47712126
         },
         {
          "x": 2914,
          "y": 0.47712126
         },
         {
          "x": 2915,
          "y": 0.47712126
         },
         {
          "x": 2916,
          "y": 0.47712126
         },
         {
          "x": 2917,
          "y": 0.47712126
         },
         {
          "x": 2918,
          "y": 0.47712126
         },
         {
          "x": 2919,
          "y": 0.47712126
         },
         {
          "x": 2920,
          "y": 0.47712126
         },
         {
          "x": 2921,
          "y": 0.47712126
         },
         {
          "x": 2922,
          "y": 0.47712126
         },
         {
          "x": 2923,
          "y": 0.47712126
         },
         {
          "x": 2924,
          "y": 0.47712126
         },
         {
          "x": 2925,
          "y": 0.47712126
         },
         {
          "x": 2926,
          "y": 0.47712126
         },
         {
          "x": 2927,
          "y": 0.47712126
         },
         {
          "x": 2928,
          "y": 0.47712126
         },
         {
          "x": 2929,
          "y": 0.47712126
         },
         {
          "x": 2930,
          "y": 0.47712126
         },
         {
          "x": 2931,
          "y": 0.47712126
         },
         {
          "x": 2932,
          "y": 0.47712126
         },
         {
          "x": 2933,
          "y": 0.47712126
         },
         {
          "x": 2934,
          "y": 0.47712126
         },
         {
          "x": 2935,
          "y": 0.47712126
         },
         {
          "x": 2936,
          "y": 0.47712126
         },
         {
          "x": 2937,
          "y": 0.47712126
         },
         {
          "x": 2938,
          "y": 0.47712126
         },
         {
          "x": 2939,
          "y": 0.47712126
         },
         {
          "x": 2940,
          "y": 0.47712126
         },
         {
          "x": 2941,
          "y": 0.47712126
         },
         {
          "x": 2942,
          "y": 0.47712126
         },
         {
          "x": 2943,
          "y": 0.47712126
         },
         {
          "x": 2944,
          "y": 0.47712126
         },
         {
          "x": 2945,
          "y": 0.47712126
         },
         {
          "x": 2946,
          "y": 0.47712126
         },
         {
          "x": 2947,
          "y": 0.47712126
         },
         {
          "x": 2948,
          "y": 0.47712126
         },
         {
          "x": 2949,
          "y": 0.47712126
         },
         {
          "x": 2950,
          "y": 0.47712126
         },
         {
          "x": 2951,
          "y": 0.47712126
         },
         {
          "x": 2952,
          "y": 0.47712126
         },
         {
          "x": 2953,
          "y": 0.47712126
         },
         {
          "x": 2954,
          "y": 0.47712126
         },
         {
          "x": 2955,
          "y": 0.47712126
         },
         {
          "x": 2956,
          "y": 0.47712126
         },
         {
          "x": 2957,
          "y": 0.47712126
         },
         {
          "x": 2958,
          "y": 0.47712126
         },
         {
          "x": 2959,
          "y": 0.47712126
         },
         {
          "x": 2960,
          "y": 0.47712126
         },
         {
          "x": 2961,
          "y": 0.47712126
         },
         {
          "x": 2962,
          "y": 0.47712126
         },
         {
          "x": 2963,
          "y": 0.47712126
         },
         {
          "x": 2964,
          "y": 0.47712126
         },
         {
          "x": 2965,
          "y": 0.47712126
         },
         {
          "x": 2966,
          "y": 0.47712126
         },
         {
          "x": 2967,
          "y": 0.47712126
         },
         {
          "x": 2968,
          "y": 0.47712126
         },
         {
          "x": 2969,
          "y": 0.47712126
         },
         {
          "x": 2970,
          "y": 0.47712126
         },
         {
          "x": 2971,
          "y": 0.47712126
         },
         {
          "x": 2972,
          "y": 0.47712126
         },
         {
          "x": 2973,
          "y": 0.47712126
         },
         {
          "x": 2974,
          "y": 0.47712126
         },
         {
          "x": 2975,
          "y": 0.47712126
         },
         {
          "x": 2976,
          "y": 0.47712126
         },
         {
          "x": 2977,
          "y": 0.47712126
         },
         {
          "x": 2978,
          "y": 0.47712126
         },
         {
          "x": 2979,
          "y": 0.47712126
         },
         {
          "x": 2980,
          "y": 0.47712126
         },
         {
          "x": 2981,
          "y": 0.47712126
         },
         {
          "x": 2982,
          "y": 0.47712126
         },
         {
          "x": 2983,
          "y": 0.47712126
         },
         {
          "x": 2984,
          "y": 0.47712126
         },
         {
          "x": 2985,
          "y": 0.47712126
         },
         {
          "x": 2986,
          "y": 0.47712126
         },
         {
          "x": 2987,
          "y": 0.47712126
         },
         {
          "x": 2988,
          "y": 0.47712126
         },
         {
          "x": 2989,
          "y": 0.47712126
         },
         {
          "x": 2990,
          "y": 0.47712126
         },
         {
          "x": 2991,
          "y": 0.47712126
         },
         {
          "x": 2992,
          "y": 0.47712126
         },
         {
          "x": 2993,
          "y": 0.47712126
         },
         {
          "x": 2994,
          "y": 0.47712126
         },
         {
          "x": 2995,
          "y": 0.47712126
         },
         {
          "x": 2996,
          "y": 0.47712126
         },
         {
          "x": 2997,
          "y": 0.47712126
         },
         {
          "x": 2998,
          "y": 0.47712126
         },
         {
          "x": 2999,
          "y": 0.47712126
         },
         {
          "x": 3000,
          "y": 0.47712126
         },
         {
          "x": 3001,
          "y": 0.47712126
         },
         {
          "x": 3002,
          "y": 0.47712126
         },
         {
          "x": 3003,
          "y": 0.47712126
         },
         {
          "x": 3004,
          "y": 0.47712126
         },
         {
          "x": 3005,
          "y": 0.47712126
         },
         {
          "x": 3006,
          "y": 0.47712126
         },
         {
          "x": 3007,
          "y": 0.47712126
         },
         {
          "x": 3008,
          "y": 0.47712126
         },
         {
          "x": 3009,
          "y": 0.47712126
         },
         {
          "x": 3010,
          "y": 0.47712126
         },
         {
          "x": 3011,
          "y": 0.47712126
         },
         {
          "x": 3012,
          "y": 0.47712126
         },
         {
          "x": 3013,
          "y": 0.47712126
         },
         {
          "x": 3014,
          "y": 0.47712126
         },
         {
          "x": 3015,
          "y": 0.47712126
         },
         {
          "x": 3016,
          "y": 0.47712126
         },
         {
          "x": 3017,
          "y": 0.47712126
         },
         {
          "x": 3018,
          "y": 0.47712126
         },
         {
          "x": 3019,
          "y": 0.47712126
         },
         {
          "x": 3020,
          "y": 0.47712126
         },
         {
          "x": 3021,
          "y": 0.47712126
         },
         {
          "x": 3022,
          "y": 0.47712126
         },
         {
          "x": 3023,
          "y": 0.47712126
         },
         {
          "x": 3024,
          "y": 0.47712126
         },
         {
          "x": 3025,
          "y": 0.47712126
         },
         {
          "x": 3026,
          "y": 0.47712126
         },
         {
          "x": 3027,
          "y": 0.47712126
         },
         {
          "x": 3028,
          "y": 0.47712126
         },
         {
          "x": 3029,
          "y": 0.47712126
         },
         {
          "x": 3030,
          "y": 0.47712126
         },
         {
          "x": 3031,
          "y": 0.47712126
         },
         {
          "x": 3032,
          "y": 0.47712126
         },
         {
          "x": 3033,
          "y": 0.47712126
         },
         {
          "x": 3034,
          "y": 0.47712126
         },
         {
          "x": 3035,
          "y": 0.47712126
         },
         {
          "x": 3036,
          "y": 0.47712126
         },
         {
          "x": 3037,
          "y": 0.47712126
         },
         {
          "x": 3038,
          "y": 0.47712126
         },
         {
          "x": 3039,
          "y": 0.47712126
         },
         {
          "x": 3040,
          "y": 0.47712126
         },
         {
          "x": 3041,
          "y": 0.47712126
         },
         {
          "x": 3042,
          "y": 0.47712126
         },
         {
          "x": 3043,
          "y": 0.47712126
         },
         {
          "x": 3044,
          "y": 0.47712126
         },
         {
          "x": 3045,
          "y": 0.47712126
         },
         {
          "x": 3046,
          "y": 0.47712126
         },
         {
          "x": 3047,
          "y": 0.47712126
         },
         {
          "x": 3048,
          "y": 0.47712126
         },
         {
          "x": 3049,
          "y": 0.47712126
         },
         {
          "x": 3050,
          "y": 0.47712126
         },
         {
          "x": 3051,
          "y": 0.47712126
         },
         {
          "x": 3052,
          "y": 0.47712126
         },
         {
          "x": 3053,
          "y": 0.47712126
         },
         {
          "x": 3054,
          "y": 0.47712126
         },
         {
          "x": 3055,
          "y": 0.47712126
         },
         {
          "x": 3056,
          "y": 0.47712126
         },
         {
          "x": 3057,
          "y": 0.47712126
         },
         {
          "x": 3058,
          "y": 0.47712126
         },
         {
          "x": 3059,
          "y": 0.47712126
         },
         {
          "x": 3060,
          "y": 0.47712126
         },
         {
          "x": 3061,
          "y": 0.47712126
         },
         {
          "x": 3062,
          "y": 0.47712126
         },
         {
          "x": 3063,
          "y": 0.47712126
         },
         {
          "x": 3064,
          "y": 0.47712126
         },
         {
          "x": 3065,
          "y": 0.47712126
         },
         {
          "x": 3066,
          "y": 0.47712126
         },
         {
          "x": 3067,
          "y": 0.47712126
         },
         {
          "x": 3068,
          "y": 0.47712126
         },
         {
          "x": 3069,
          "y": 0.47712126
         },
         {
          "x": 3070,
          "y": 0.47712126
         },
         {
          "x": 3071,
          "y": 0.47712126
         },
         {
          "x": 3072,
          "y": 0.47712126
         },
         {
          "x": 3073,
          "y": 0.47712126
         },
         {
          "x": 3074,
          "y": 0.47712126
         },
         {
          "x": 3075,
          "y": 0.47712126
         },
         {
          "x": 3076,
          "y": 0.47712126
         },
         {
          "x": 3077,
          "y": 0.47712126
         },
         {
          "x": 3078,
          "y": 0.47712126
         },
         {
          "x": 3079,
          "y": 0.47712126
         },
         {
          "x": 3080,
          "y": 0.47712126
         },
         {
          "x": 3081,
          "y": 0.47712126
         },
         {
          "x": 3082,
          "y": 0.47712126
         },
         {
          "x": 3083,
          "y": 0.47712126
         },
         {
          "x": 3084,
          "y": 0.47712126
         },
         {
          "x": 3085,
          "y": 0.47712126
         },
         {
          "x": 3086,
          "y": 0.47712126
         },
         {
          "x": 3087,
          "y": 0.47712126
         },
         {
          "x": 3088,
          "y": 0.47712126
         },
         {
          "x": 3089,
          "y": 0.47712126
         },
         {
          "x": 3090,
          "y": 0.47712126
         },
         {
          "x": 3091,
          "y": 0.47712126
         },
         {
          "x": 3092,
          "y": 0.47712126
         },
         {
          "x": 3093,
          "y": 0.47712126
         },
         {
          "x": 3094,
          "y": 0.47712126
         },
         {
          "x": 3095,
          "y": 0.47712126
         },
         {
          "x": 3096,
          "y": 0.47712126
         },
         {
          "x": 3097,
          "y": 0.47712126
         },
         {
          "x": 3098,
          "y": 0.47712126
         },
         {
          "x": 3099,
          "y": 0.47712126
         },
         {
          "x": 3100,
          "y": 0.47712126
         },
         {
          "x": 3101,
          "y": 0.47712126
         },
         {
          "x": 3102,
          "y": 0.47712126
         },
         {
          "x": 3103,
          "y": 0.47712126
         },
         {
          "x": 3104,
          "y": 0.47712126
         },
         {
          "x": 3105,
          "y": 0.47712126
         },
         {
          "x": 3106,
          "y": 0.47712126
         },
         {
          "x": 3107,
          "y": 0.47712126
         },
         {
          "x": 3108,
          "y": 0.47712126
         },
         {
          "x": 3109,
          "y": 0.47712126
         },
         {
          "x": 3110,
          "y": 0.47712126
         },
         {
          "x": 3111,
          "y": 0.47712126
         },
         {
          "x": 3112,
          "y": 0.47712126
         },
         {
          "x": 3113,
          "y": 0.47712126
         },
         {
          "x": 3114,
          "y": 0.47712126
         },
         {
          "x": 3115,
          "y": 0.47712126
         },
         {
          "x": 3116,
          "y": 0.47712126
         },
         {
          "x": 3117,
          "y": 0.47712126
         },
         {
          "x": 3118,
          "y": 0.47712126
         },
         {
          "x": 3119,
          "y": 0.60205996
         },
         {
          "x": 3120,
          "y": 0.60205996
         },
         {
          "x": 3121,
          "y": 0.60205996
         },
         {
          "x": 3122,
          "y": 0.60205996
         },
         {
          "x": 3123,
          "y": 0.60205996
         },
         {
          "x": 3124,
          "y": 0.60205996
         },
         {
          "x": 3125,
          "y": 0.60205996
         },
         {
          "x": 3126,
          "y": 0.60205996
         },
         {
          "x": 3127,
          "y": 0.60205996
         },
         {
          "x": 3128,
          "y": 0.60205996
         },
         {
          "x": 3129,
          "y": 0.60205996
         },
         {
          "x": 3130,
          "y": 0.60205996
         },
         {
          "x": 3131,
          "y": 0.60205996
         },
         {
          "x": 3132,
          "y": 0.60205996
         },
         {
          "x": 3133,
          "y": 0.60205996
         },
         {
          "x": 3134,
          "y": 0.60205996
         },
         {
          "x": 3135,
          "y": 0.60205996
         },
         {
          "x": 3136,
          "y": 0.60205996
         },
         {
          "x": 3137,
          "y": 0.60205996
         },
         {
          "x": 3138,
          "y": 0.60205996
         },
         {
          "x": 3139,
          "y": 0.60205996
         },
         {
          "x": 3140,
          "y": 0.60205996
         },
         {
          "x": 3141,
          "y": 0.60205996
         },
         {
          "x": 3142,
          "y": 0.60205996
         },
         {
          "x": 3143,
          "y": 0.60205996
         },
         {
          "x": 3144,
          "y": 0.60205996
         },
         {
          "x": 3145,
          "y": 0.60205996
         },
         {
          "x": 3146,
          "y": 0.60205996
         },
         {
          "x": 3147,
          "y": 0.60205996
         },
         {
          "x": 3148,
          "y": 0.60205996
         },
         {
          "x": 3149,
          "y": 0.60205996
         },
         {
          "x": 3150,
          "y": 0.60205996
         },
         {
          "x": 3151,
          "y": 0.60205996
         },
         {
          "x": 3152,
          "y": 0.60205996
         },
         {
          "x": 3153,
          "y": 0.60205996
         },
         {
          "x": 3154,
          "y": 0.60205996
         },
         {
          "x": 3155,
          "y": 0.60205996
         },
         {
          "x": 3156,
          "y": 0.60205996
         },
         {
          "x": 3157,
          "y": 0.60205996
         },
         {
          "x": 3158,
          "y": 0.60205996
         },
         {
          "x": 3159,
          "y": 0.60205996
         },
         {
          "x": 3160,
          "y": 0.60205996
         },
         {
          "x": 3161,
          "y": 0.60205996
         },
         {
          "x": 3162,
          "y": 0.60205996
         },
         {
          "x": 3163,
          "y": 0.60205996
         },
         {
          "x": 3164,
          "y": 0.60205996
         },
         {
          "x": 3165,
          "y": 0.60205996
         },
         {
          "x": 3166,
          "y": 0.60205996
         },
         {
          "x": 3167,
          "y": 0.60205996
         },
         {
          "x": 3168,
          "y": 0.60205996
         },
         {
          "x": 3169,
          "y": 0.60205996
         },
         {
          "x": 3170,
          "y": 0.60205996
         },
         {
          "x": 3171,
          "y": 0.60205996
         },
         {
          "x": 3172,
          "y": 0.60205996
         },
         {
          "x": 3173,
          "y": 0.60205996
         },
         {
          "x": 3174,
          "y": 0.60205996
         },
         {
          "x": 3175,
          "y": 0.60205996
         },
         {
          "x": 3176,
          "y": 0.60205996
         },
         {
          "x": 3177,
          "y": 0.60205996
         },
         {
          "x": 3178,
          "y": 0.60205996
         },
         {
          "x": 3179,
          "y": 0.60205996
         },
         {
          "x": 3180,
          "y": 0.60205996
         },
         {
          "x": 3181,
          "y": 0.60205996
         },
         {
          "x": 3182,
          "y": 0.60205996
         },
         {
          "x": 3183,
          "y": 0.60205996
         },
         {
          "x": 3184,
          "y": 0.60205996
         },
         {
          "x": 3185,
          "y": 0.60205996
         },
         {
          "x": 3186,
          "y": 0.60205996
         },
         {
          "x": 3187,
          "y": 0.60205996
         },
         {
          "x": 3188,
          "y": 0.60205996
         },
         {
          "x": 3189,
          "y": 0.60205996
         },
         {
          "x": 3190,
          "y": 0.60205996
         },
         {
          "x": 3191,
          "y": 0.60205996
         },
         {
          "x": 3192,
          "y": 0.60205996
         },
         {
          "x": 3193,
          "y": 0.60205996
         },
         {
          "x": 3194,
          "y": 0.60205996
         },
         {
          "x": 3195,
          "y": 0.60205996
         },
         {
          "x": 3196,
          "y": 0.60205996
         },
         {
          "x": 3197,
          "y": 0.60205996
         },
         {
          "x": 3198,
          "y": 0.60205996
         },
         {
          "x": 3199,
          "y": 0.60205996
         },
         {
          "x": 3200,
          "y": 0.60205996
         },
         {
          "x": 3201,
          "y": 0.60205996
         },
         {
          "x": 3202,
          "y": 0.60205996
         },
         {
          "x": 3203,
          "y": 0.60205996
         },
         {
          "x": 3204,
          "y": 0.60205996
         },
         {
          "x": 3205,
          "y": 0.60205996
         },
         {
          "x": 3206,
          "y": 0.60205996
         },
         {
          "x": 3207,
          "y": 0.60205996
         },
         {
          "x": 3208,
          "y": 0.60205996
         },
         {
          "x": 3209,
          "y": 0.60205996
         },
         {
          "x": 3210,
          "y": 0.60205996
         },
         {
          "x": 3211,
          "y": 0.60205996
         },
         {
          "x": 3212,
          "y": 0.60205996
         },
         {
          "x": 3213,
          "y": 0.60205996
         },
         {
          "x": 3214,
          "y": 0.60205996
         },
         {
          "x": 3215,
          "y": 0.60205996
         },
         {
          "x": 3216,
          "y": 0.60205996
         },
         {
          "x": 3217,
          "y": 0.60205996
         },
         {
          "x": 3218,
          "y": 0.60205996
         },
         {
          "x": 3219,
          "y": 0.60205996
         },
         {
          "x": 3220,
          "y": 0.60205996
         },
         {
          "x": 3221,
          "y": 0.60205996
         },
         {
          "x": 3222,
          "y": 0.60205996
         },
         {
          "x": 3223,
          "y": 0.60205996
         },
         {
          "x": 3224,
          "y": 0.60205996
         },
         {
          "x": 3225,
          "y": 0.60205996
         },
         {
          "x": 3226,
          "y": 0.60205996
         },
         {
          "x": 3227,
          "y": 0.60205996
         },
         {
          "x": 3228,
          "y": 0.60205996
         },
         {
          "x": 3229,
          "y": 0.60205996
         },
         {
          "x": 3230,
          "y": 0.60205996
         },
         {
          "x": 3231,
          "y": 0.60205996
         },
         {
          "x": 3232,
          "y": 0.60205996
         },
         {
          "x": 3233,
          "y": 0.60205996
         },
         {
          "x": 3234,
          "y": 0.60205996
         },
         {
          "x": 3235,
          "y": 0.60205996
         },
         {
          "x": 3236,
          "y": 0.60205996
         },
         {
          "x": 3237,
          "y": 0.60205996
         },
         {
          "x": 3238,
          "y": 0.60205996
         },
         {
          "x": 3239,
          "y": 0.60205996
         },
         {
          "x": 3240,
          "y": 0.60205996
         },
         {
          "x": 3241,
          "y": 0.60205996
         },
         {
          "x": 3242,
          "y": 0.60205996
         },
         {
          "x": 3243,
          "y": 0.60205996
         },
         {
          "x": 3244,
          "y": 0.60205996
         },
         {
          "x": 3245,
          "y": 0.60205996
         },
         {
          "x": 3246,
          "y": 0.60205996
         },
         {
          "x": 3247,
          "y": 0.60205996
         },
         {
          "x": 3248,
          "y": 0.60205996
         },
         {
          "x": 3249,
          "y": 0.60205996
         },
         {
          "x": 3250,
          "y": 0.60205996
         },
         {
          "x": 3251,
          "y": 0.60205996
         },
         {
          "x": 3252,
          "y": 0.60205996
         },
         {
          "x": 3253,
          "y": 0.60205996
         },
         {
          "x": 3254,
          "y": 0.60205996
         },
         {
          "x": 3255,
          "y": 0.60205996
         },
         {
          "x": 3256,
          "y": 0.60205996
         },
         {
          "x": 3257,
          "y": 0.60205996
         },
         {
          "x": 3258,
          "y": 0.60205996
         },
         {
          "x": 3259,
          "y": 0.69897
         },
         {
          "x": 3260,
          "y": 0.69897
         },
         {
          "x": 3261,
          "y": 0.69897
         },
         {
          "x": 3262,
          "y": 0.69897
         },
         {
          "x": 3263,
          "y": 0.69897
         },
         {
          "x": 3264,
          "y": 0.69897
         },
         {
          "x": 3265,
          "y": 0.69897
         },
         {
          "x": 3266,
          "y": 0.69897
         },
         {
          "x": 3267,
          "y": 0.69897
         },
         {
          "x": 3268,
          "y": 0.69897
         },
         {
          "x": 3269,
          "y": 0.69897
         },
         {
          "x": 3270,
          "y": 0.69897
         },
         {
          "x": 3271,
          "y": 0.69897
         },
         {
          "x": 3272,
          "y": 0.69897
         },
         {
          "x": 3273,
          "y": 0.69897
         },
         {
          "x": 3274,
          "y": 0.69897
         },
         {
          "x": 3275,
          "y": 0.69897
         },
         {
          "x": 3276,
          "y": 0.69897
         },
         {
          "x": 3277,
          "y": 0.69897
         },
         {
          "x": 3278,
          "y": 0.69897
         },
         {
          "x": 3279,
          "y": 0.69897
         },
         {
          "x": 3280,
          "y": 0.69897
         },
         {
          "x": 3281,
          "y": 0.69897
         },
         {
          "x": 3282,
          "y": 0.69897
         },
         {
          "x": 3283,
          "y": 0.69897
         },
         {
          "x": 3284,
          "y": 0.69897
         },
         {
          "x": 3285,
          "y": 0.69897
         },
         {
          "x": 3286,
          "y": 0.69897
         },
         {
          "x": 3287,
          "y": 0.69897
         },
         {
          "x": 3288,
          "y": 0.69897
         },
         {
          "x": 3289,
          "y": 0.69897
         },
         {
          "x": 3290,
          "y": 0.69897
         },
         {
          "x": 3291,
          "y": 0.69897
         },
         {
          "x": 3292,
          "y": 0.69897
         },
         {
          "x": 3293,
          "y": 0.69897
         },
         {
          "x": 3294,
          "y": 0.69897
         },
         {
          "x": 3295,
          "y": 0.69897
         },
         {
          "x": 3296,
          "y": 0.69897
         },
         {
          "x": 3297,
          "y": 0.69897
         },
         {
          "x": 3298,
          "y": 0.69897
         },
         {
          "x": 3299,
          "y": 0.69897
         },
         {
          "x": 3300,
          "y": 0.69897
         },
         {
          "x": 3301,
          "y": 0.69897
         },
         {
          "x": 3302,
          "y": 0.69897
         },
         {
          "x": 3303,
          "y": 0.69897
         },
         {
          "x": 3304,
          "y": 0.69897
         },
         {
          "x": 3305,
          "y": 0.69897
         },
         {
          "x": 3306,
          "y": 0.69897
         },
         {
          "x": 3307,
          "y": 0.69897
         },
         {
          "x": 3308,
          "y": 0.69897
         },
         {
          "x": 3309,
          "y": 0.69897
         },
         {
          "x": 3310,
          "y": 0.69897
         },
         {
          "x": 3311,
          "y": 0.69897
         },
         {
          "x": 3312,
          "y": 0.69897
         },
         {
          "x": 3313,
          "y": 0.69897
         },
         {
          "x": 3314,
          "y": 0.69897
         },
         {
          "x": 3315,
          "y": 0.69897
         },
         {
          "x": 3316,
          "y": 0.69897
         },
         {
          "x": 3317,
          "y": 0.69897
         },
         {
          "x": 3318,
          "y": 0.69897
         },
         {
          "x": 3319,
          "y": 0.69897
         },
         {
          "x": 3320,
          "y": 0.69897
         },
         {
          "x": 3321,
          "y": 0.69897
         },
         {
          "x": 3322,
          "y": 0.69897
         },
         {
          "x": 3323,
          "y": 0.69897
         },
         {
          "x": 3324,
          "y": 0.69897
         },
         {
          "x": 3325,
          "y": 0.69897
         },
         {
          "x": 3326,
          "y": 0.69897
         },
         {
          "x": 3327,
          "y": 0.69897
         },
         {
          "x": 3328,
          "y": 0.69897
         },
         {
          "x": 3329,
          "y": 0.69897
         },
         {
          "x": 3330,
          "y": 0.69897
         },
         {
          "x": 3331,
          "y": 0.69897
         },
         {
          "x": 3332,
          "y": 0.69897
         },
         {
          "x": 3333,
          "y": 0.69897
         },
         {
          "x": 3334,
          "y": 0.69897
         },
         {
          "x": 3335,
          "y": 0.69897
         },
         {
          "x": 3336,
          "y": 0.69897
         },
         {
          "x": 3337,
          "y": 0.69897
         },
         {
          "x": 3338,
          "y": 0.69897
         },
         {
          "x": 3339,
          "y": 0.69897
         },
         {
          "x": 3340,
          "y": 0.69897
         },
         {
          "x": 3341,
          "y": 0.69897
         },
         {
          "x": 3342,
          "y": 0.69897
         },
         {
          "x": 3343,
          "y": 0.69897
         },
         {
          "x": 3344,
          "y": 0.69897
         },
         {
          "x": 3345,
          "y": 0.69897
         },
         {
          "x": 3346,
          "y": 0.69897
         },
         {
          "x": 3347,
          "y": 0.69897
         },
         {
          "x": 3348,
          "y": 0.69897
         },
         {
          "x": 3349,
          "y": 0.69897
         },
         {
          "x": 3350,
          "y": 0.69897
         },
         {
          "x": 3351,
          "y": 0.69897
         },
         {
          "x": 3352,
          "y": 0.69897
         },
         {
          "x": 3353,
          "y": 0.69897
         },
         {
          "x": 3354,
          "y": 0.69897
         },
         {
          "x": 3355,
          "y": 0.69897
         },
         {
          "x": 3356,
          "y": 0.69897
         },
         {
          "x": 3357,
          "y": 0.69897
         },
         {
          "x": 3358,
          "y": 0.69897
         },
         {
          "x": 3359,
          "y": 0.69897
         },
         {
          "x": 3360,
          "y": 0.7781513
         },
         {
          "x": 3361,
          "y": 0.7781513
         },
         {
          "x": 3362,
          "y": 0.7781513
         },
         {
          "x": 3363,
          "y": 0.7781513
         },
         {
          "x": 3364,
          "y": 0.7781513
         },
         {
          "x": 3365,
          "y": 0.7781513
         },
         {
          "x": 3366,
          "y": 0.7781513
         },
         {
          "x": 3367,
          "y": 0.7781513
         },
         {
          "x": 3368,
          "y": 0.7781513
         },
         {
          "x": 3369,
          "y": 0.7781513
         },
         {
          "x": 3370,
          "y": 0.7781513
         },
         {
          "x": 3371,
          "y": 0.7781513
         },
         {
          "x": 3372,
          "y": 0.7781513
         },
         {
          "x": 3373,
          "y": 0.7781513
         },
         {
          "x": 3374,
          "y": 0.7781513
         },
         {
          "x": 3375,
          "y": 0.7781513
         },
         {
          "x": 3376,
          "y": 0.7781513
         },
         {
          "x": 3377,
          "y": 0.7781513
         },
         {
          "x": 3378,
          "y": 0.7781513
         },
         {
          "x": 3379,
          "y": 0.7781513
         },
         {
          "x": 3380,
          "y": 0.7781513
         },
         {
          "x": 3381,
          "y": 0.7781513
         },
         {
          "x": 3382,
          "y": 0.7781513
         },
         {
          "x": 3383,
          "y": 0.7781513
         },
         {
          "x": 3384,
          "y": 0.7781513
         },
         {
          "x": 3385,
          "y": 0.7781513
         },
         {
          "x": 3386,
          "y": 0.7781513
         },
         {
          "x": 3387,
          "y": 0.7781513
         },
         {
          "x": 3388,
          "y": 0.7781513
         },
         {
          "x": 3389,
          "y": 0.7781513
         },
         {
          "x": 3390,
          "y": 0.7781513
         },
         {
          "x": 3391,
          "y": 0.7781513
         },
         {
          "x": 3392,
          "y": 0.7781513
         },
         {
          "x": 3393,
          "y": 0.7781513
         },
         {
          "x": 3394,
          "y": 0.7781513
         },
         {
          "x": 3395,
          "y": 0.7781513
         },
         {
          "x": 3396,
          "y": 0.7781513
         },
         {
          "x": 3397,
          "y": 0.7781513
         },
         {
          "x": 3398,
          "y": 0.7781513
         },
         {
          "x": 3399,
          "y": 0.7781513
         },
         {
          "x": 3400,
          "y": 0.7781513
         },
         {
          "x": 3401,
          "y": 0.7781513
         },
         {
          "x": 3402,
          "y": 0.7781513
         },
         {
          "x": 3403,
          "y": 0.7781513
         },
         {
          "x": 3404,
          "y": 0.7781513
         },
         {
          "x": 3405,
          "y": 0.7781513
         },
         {
          "x": 3406,
          "y": 0.7781513
         },
         {
          "x": 3407,
          "y": 0.7781513
         },
         {
          "x": 3408,
          "y": 0.7781513
         },
         {
          "x": 3409,
          "y": 0.7781513
         },
         {
          "x": 3410,
          "y": 0.7781513
         },
         {
          "x": 3411,
          "y": 0.7781513
         },
         {
          "x": 3412,
          "y": 0.7781513
         },
         {
          "x": 3413,
          "y": 0.7781513
         },
         {
          "x": 3414,
          "y": 0.7781513
         },
         {
          "x": 3415,
          "y": 0.7781513
         },
         {
          "x": 3416,
          "y": 0.7781513
         },
         {
          "x": 3417,
          "y": 0.7781513
         },
         {
          "x": 3418,
          "y": 0.7781513
         },
         {
          "x": 3419,
          "y": 0.7781513
         },
         {
          "x": 3420,
          "y": 0.7781513
         },
         {
          "x": 3421,
          "y": 0.7781513
         },
         {
          "x": 3422,
          "y": 0.7781513
         },
         {
          "x": 3423,
          "y": 0.7781513
         },
         {
          "x": 3424,
          "y": 0.7781513
         },
         {
          "x": 3425,
          "y": 0.7781513
         },
         {
          "x": 3426,
          "y": 0.7781513
         },
         {
          "x": 3427,
          "y": 0.7781513
         },
         {
          "x": 3428,
          "y": 0.7781513
         },
         {
          "x": 3429,
          "y": 0.7781513
         },
         {
          "x": 3430,
          "y": 0.7781513
         },
         {
          "x": 3431,
          "y": 0.7781513
         },
         {
          "x": 3432,
          "y": 0.7781513
         },
         {
          "x": 3433,
          "y": 0.7781513
         },
         {
          "x": 3434,
          "y": 0.7781513
         },
         {
          "x": 3435,
          "y": 0.7781513
         },
         {
          "x": 3436,
          "y": 0.7781513
         },
         {
          "x": 3437,
          "y": 0.7781513
         },
         {
          "x": 3438,
          "y": 0.7781513
         },
         {
          "x": 3439,
          "y": 0.7781513
         },
         {
          "x": 3440,
          "y": 0.7781513
         },
         {
          "x": 3441,
          "y": 0.7781513
         },
         {
          "x": 3442,
          "y": 0.7781513
         },
         {
          "x": 3443,
          "y": 0.7781513
         },
         {
          "x": 3444,
          "y": 0.7781513
         },
         {
          "x": 3445,
          "y": 0.7781513
         },
         {
          "x": 3446,
          "y": 0.7781513
         },
         {
          "x": 3447,
          "y": 0.7781513
         },
         {
          "x": 3448,
          "y": 0.7781513
         },
         {
          "x": 3449,
          "y": 0.845098
         },
         {
          "x": 3450,
          "y": 0.845098
         },
         {
          "x": 3451,
          "y": 0.845098
         },
         {
          "x": 3452,
          "y": 0.845098
         },
         {
          "x": 3453,
          "y": 0.845098
         },
         {
          "x": 3454,
          "y": 0.845098
         },
         {
          "x": 3455,
          "y": 0.845098
         },
         {
          "x": 3456,
          "y": 0.845098
         },
         {
          "x": 3457,
          "y": 0.845098
         },
         {
          "x": 3458,
          "y": 0.845098
         },
         {
          "x": 3459,
          "y": 0.845098
         },
         {
          "x": 3460,
          "y": 0.845098
         },
         {
          "x": 3461,
          "y": 0.845098
         },
         {
          "x": 3462,
          "y": 0.845098
         },
         {
          "x": 3463,
          "y": 0.845098
         },
         {
          "x": 3464,
          "y": 0.845098
         },
         {
          "x": 3465,
          "y": 0.845098
         },
         {
          "x": 3466,
          "y": 0.845098
         },
         {
          "x": 3467,
          "y": 0.845098
         },
         {
          "x": 3468,
          "y": 0.845098
         },
         {
          "x": 3469,
          "y": 0.845098
         },
         {
          "x": 3470,
          "y": 0.845098
         },
         {
          "x": 3471,
          "y": 0.845098
         },
         {
          "x": 3472,
          "y": 0.845098
         },
         {
          "x": 3473,
          "y": 0.845098
         },
         {
          "x": 3474,
          "y": 0.845098
         },
         {
          "x": 3475,
          "y": 0.845098
         },
         {
          "x": 3476,
          "y": 0.845098
         },
         {
          "x": 3477,
          "y": 0.845098
         },
         {
          "x": 3478,
          "y": 0.845098
         },
         {
          "x": 3479,
          "y": 0.845098
         },
         {
          "x": 3480,
          "y": 0.845098
         },
         {
          "x": 3481,
          "y": 0.845098
         },
         {
          "x": 3482,
          "y": 0.845098
         },
         {
          "x": 3483,
          "y": 0.845098
         },
         {
          "x": 3484,
          "y": 0.845098
         },
         {
          "x": 3485,
          "y": 0.845098
         },
         {
          "x": 3486,
          "y": 0.845098
         },
         {
          "x": 3487,
          "y": 0.845098
         },
         {
          "x": 3488,
          "y": 0.845098
         },
         {
          "x": 3489,
          "y": 0.845098
         },
         {
          "x": 3490,
          "y": 0.845098
         },
         {
          "x": 3491,
          "y": 0.845098
         },
         {
          "x": 3492,
          "y": 0.845098
         },
         {
          "x": 3493,
          "y": 0.845098
         },
         {
          "x": 3494,
          "y": 0.845098
         },
         {
          "x": 3495,
          "y": 0.845098
         },
         {
          "x": 3496,
          "y": 0.845098
         },
         {
          "x": 3497,
          "y": 0.845098
         },
         {
          "x": 3498,
          "y": 0.845098
         },
         {
          "x": 3499,
          "y": 0.845098
         },
         {
          "x": 3500,
          "y": 0.845098
         },
         {
          "x": 3501,
          "y": 0.845098
         },
         {
          "x": 3502,
          "y": 0.845098
         },
         {
          "x": 3503,
          "y": 0.845098
         },
         {
          "x": 3504,
          "y": 0.845098
         },
         {
          "x": 3505,
          "y": 0.845098
         },
         {
          "x": 3506,
          "y": 0.845098
         },
         {
          "x": 3507,
          "y": 0.845098
         },
         {
          "x": 3508,
          "y": 0.90309
         },
         {
          "x": 3509,
          "y": 0.90309
         },
         {
          "x": 3510,
          "y": 0.90309
         },
         {
          "x": 3511,
          "y": 0.90309
         },
         {
          "x": 3512,
          "y": 0.90309
         },
         {
          "x": 3513,
          "y": 0.90309
         },
         {
          "x": 3514,
          "y": 0.90309
         },
         {
          "x": 3515,
          "y": 0.90309
         },
         {
          "x": 3516,
          "y": 0.90309
         },
         {
          "x": 3517,
          "y": 0.90309
         },
         {
          "x": 3518,
          "y": 0.90309
         },
         {
          "x": 3519,
          "y": 0.90309
         },
         {
          "x": 3520,
          "y": 0.90309
         },
         {
          "x": 3521,
          "y": 0.90309
         },
         {
          "x": 3522,
          "y": 0.90309
         },
         {
          "x": 3523,
          "y": 0.90309
         },
         {
          "x": 3524,
          "y": 0.90309
         },
         {
          "x": 3525,
          "y": 0.90309
         },
         {
          "x": 3526,
          "y": 0.90309
         },
         {
          "x": 3527,
          "y": 0.90309
         },
         {
          "x": 3528,
          "y": 0.90309
         },
         {
          "x": 3529,
          "y": 0.90309
         },
         {
          "x": 3530,
          "y": 0.90309
         },
         {
          "x": 3531,
          "y": 0.90309
         },
         {
          "x": 3532,
          "y": 0.90309
         },
         {
          "x": 3533,
          "y": 0.90309
         },
         {
          "x": 3534,
          "y": 0.90309
         },
         {
          "x": 3535,
          "y": 0.90309
         },
         {
          "x": 3536,
          "y": 0.90309
         },
         {
          "x": 3537,
          "y": 0.90309
         },
         {
          "x": 3538,
          "y": 0.90309
         },
         {
          "x": 3539,
          "y": 0.90309
         },
         {
          "x": 3540,
          "y": 0.90309
         },
         {
          "x": 3541,
          "y": 0.90309
         },
         {
          "x": 3542,
          "y": 0.90309
         },
         {
          "x": 3543,
          "y": 0.90309
         },
         {
          "x": 3544,
          "y": 0.90309
         },
         {
          "x": 3545,
          "y": 0.90309
         },
         {
          "x": 3546,
          "y": 0.90309
         },
         {
          "x": 3547,
          "y": 0.90309
         },
         {
          "x": 3548,
          "y": 0.90309
         },
         {
          "x": 3549,
          "y": 0.90309
         },
         {
          "x": 3550,
          "y": 0.90309
         },
         {
          "x": 3551,
          "y": 0.9542425
         },
         {
          "x": 3552,
          "y": 0.9542425
         },
         {
          "x": 3553,
          "y": 0.9542425
         },
         {
          "x": 3554,
          "y": 0.9542425
         },
         {
          "x": 3555,
          "y": 0.9542425
         },
         {
          "x": 3556,
          "y": 0.9542425
         },
         {
          "x": 3557,
          "y": 0.9542425
         },
         {
          "x": 3558,
          "y": 0.9542425
         },
         {
          "x": 3559,
          "y": 0.9542425
         },
         {
          "x": 3560,
          "y": 0.9542425
         },
         {
          "x": 3561,
          "y": 0.9542425
         },
         {
          "x": 3562,
          "y": 0.9542425
         },
         {
          "x": 3563,
          "y": 0.9542425
         },
         {
          "x": 3564,
          "y": 0.9542425
         },
         {
          "x": 3565,
          "y": 0.9542425
         },
         {
          "x": 3566,
          "y": 0.9542425
         },
         {
          "x": 3567,
          "y": 0.9542425
         },
         {
          "x": 3568,
          "y": 0.9542425
         },
         {
          "x": 3569,
          "y": 0.9542425
         },
         {
          "x": 3570,
          "y": 0.9542425
         },
         {
          "x": 3571,
          "y": 0.9542425
         },
         {
          "x": 3572,
          "y": 0.9542425
         },
         {
          "x": 3573,
          "y": 0.9542425
         },
         {
          "x": 3574,
          "y": 0.9542425
         },
         {
          "x": 3575,
          "y": 0.9542425
         },
         {
          "x": 3576,
          "y": 0.9542425
         },
         {
          "x": 3577,
          "y": 0.9542425
         },
         {
          "x": 3578,
          "y": 0.9542425
         },
         {
          "x": 3579,
          "y": 0.9542425
         },
         {
          "x": 3580,
          "y": 0.9542425
         },
         {
          "x": 3581,
          "y": 0.9542425
         },
         {
          "x": 3582,
          "y": 0.9542425
         },
         {
          "x": 3583,
          "y": 0.9542425
         },
         {
          "x": 3584,
          "y": 1
         },
         {
          "x": 3585,
          "y": 1
         },
         {
          "x": 3586,
          "y": 1
         },
         {
          "x": 3587,
          "y": 1
         },
         {
          "x": 3588,
          "y": 1
         },
         {
          "x": 3589,
          "y": 1
         },
         {
          "x": 3590,
          "y": 1
         },
         {
          "x": 3591,
          "y": 1
         },
         {
          "x": 3592,
          "y": 1
         },
         {
          "x": 3593,
          "y": 1
         },
         {
          "x": 3594,
          "y": 1
         },
         {
          "x": 3595,
          "y": 1
         },
         {
          "x": 3596,
          "y": 1
         },
         {
          "x": 3597,
          "y": 1
         },
         {
          "x": 3598,
          "y": 1
         },
         {
          "x": 3599,
          "y": 1
         },
         {
          "x": 3600,
          "y": 1
         },
         {
          "x": 3601,
          "y": 1
         },
         {
          "x": 3602,
          "y": 1
         },
         {
          "x": 3603,
          "y": 1
         },
         {
          "x": 3604,
          "y": 1
         },
         {
          "x": 3605,
          "y": 1
         },
         {
          "x": 3606,
          "y": 1
         },
         {
          "x": 3607,
          "y": 1
         },
         {
          "x": 3608,
          "y": 1
         },
         {
          "x": 3609,
          "y": 1
         },
         {
          "x": 3610,
          "y": 1
         },
         {
          "x": 3611,
          "y": 1
         },
         {
          "x": 3612,
          "y": 1
         },
         {
          "x": 3613,
          "y": 1.0413927
         },
         {
          "x": 3614,
          "y": 1.0413927
         },
         {
          "x": 3615,
          "y": 1.0413927
         },
         {
          "x": 3616,
          "y": 1.0413927
         },
         {
          "x": 3617,
          "y": 1.0413927
         },
         {
          "x": 3618,
          "y": 1.0413927
         },
         {
          "x": 3619,
          "y": 1.0413927
         },
         {
          "x": 3620,
          "y": 1.0413927
         },
         {
          "x": 3621,
          "y": 1.0413927
         },
         {
          "x": 3622,
          "y": 1.0413927
         },
         {
          "x": 3623,
          "y": 1.0413927
         },
         {
          "x": 3624,
          "y": 1.0413927
         },
         {
          "x": 3625,
          "y": 1.0413927
         },
         {
          "x": 3626,
          "y": 1.0413927
         },
         {
          "x": 3627,
          "y": 1.0413927
         },
         {
          "x": 3628,
          "y": 1.0413927
         },
         {
          "x": 3629,
          "y": 1.0413927
         },
         {
          "x": 3630,
          "y": 1.0413927
         },
         {
          "x": 3631,
          "y": 1.0413927
         },
         {
          "x": 3632,
          "y": 1.0413927
         },
         {
          "x": 3633,
          "y": 1.0413927
         },
         {
          "x": 3634,
          "y": 1.0413927
         },
         {
          "x": 3635,
          "y": 1.0413927
         },
         {
          "x": 3636,
          "y": 1.0413927
         },
         {
          "x": 3637,
          "y": 1.0791812
         },
         {
          "x": 3638,
          "y": 1.0791812
         },
         {
          "x": 3639,
          "y": 1.0791812
         },
         {
          "x": 3640,
          "y": 1.0791812
         },
         {
          "x": 3641,
          "y": 1.0791812
         },
         {
          "x": 3642,
          "y": 1.0791812
         },
         {
          "x": 3643,
          "y": 1.0791812
         },
         {
          "x": 3644,
          "y": 1.0791812
         },
         {
          "x": 3645,
          "y": 1.0791812
         },
         {
          "x": 3646,
          "y": 1.0791812
         },
         {
          "x": 3647,
          "y": 1.0791812
         },
         {
          "x": 3648,
          "y": 1.0791812
         },
         {
          "x": 3649,
          "y": 1.0791812
         },
         {
          "x": 3650,
          "y": 1.0791812
         },
         {
          "x": 3651,
          "y": 1.0791812
         },
         {
          "x": 3652,
          "y": 1.0791812
         },
         {
          "x": 3653,
          "y": 1.0791812
         },
         {
          "x": 3654,
          "y": 1.0791812
         },
         {
          "x": 3655,
          "y": 1.0791812
         },
         {
          "x": 3656,
          "y": 1.0791812
         },
         {
          "x": 3657,
          "y": 1.1139433
         },
         {
          "x": 3658,
          "y": 1.1139433
         },
         {
          "x": 3659,
          "y": 1.1139433
         },
         {
          "x": 3660,
          "y": 1.1139433
         },
         {
          "x": 3661,
          "y": 1.1139433
         },
         {
          "x": 3662,
          "y": 1.1139433
         },
         {
          "x": 3663,
          "y": 1.1139433
         },
         {
          "x": 3664,
          "y": 1.1139433
         },
         {
          "x": 3665,
          "y": 1.1139433
         },
         {
          "x": 3666,
          "y": 1.1139433
         },
         {
          "x": 3667,
          "y": 1.1139433
         },
         {
          "x": 3668,
          "y": 1.1139433
         },
         {
          "x": 3669,
          "y": 1.1139433
         },
         {
          "x": 3670,
          "y": 1.1139433
         },
         {
          "x": 3671,
          "y": 1.1139433
         },
         {
          "x": 3672,
          "y": 1.1139433
         },
         {
          "x": 3673,
          "y": 1.1139433
         },
         {
          "x": 3674,
          "y": 1.146128
         },
         {
          "x": 3675,
          "y": 1.146128
         },
         {
          "x": 3676,
          "y": 1.146128
         },
         {
          "x": 3677,
          "y": 1.146128
         },
         {
          "x": 3678,
          "y": 1.146128
         },
         {
          "x": 3679,
          "y": 1.146128
         },
         {
          "x": 3680,
          "y": 1.146128
         },
         {
          "x": 3681,
          "y": 1.146128
         },
         {
          "x": 3682,
          "y": 1.146128
         },
         {
          "x": 3683,
          "y": 1.146128
         },
         {
          "x": 3684,
          "y": 1.1760913
         },
         {
          "x": 3685,
          "y": 1.1760913
         },
         {
          "x": 3686,
          "y": 1.1760913
         },
         {
          "x": 3687,
          "y": 1.1760913
         },
         {
          "x": 3688,
          "y": 1.1760913
         },
         {
          "x": 3689,
          "y": 1.1760913
         },
         {
          "x": 3690,
          "y": 1.1760913
         },
         {
          "x": 3691,
          "y": 1.1760913
         },
         {
          "x": 3692,
          "y": 1.2041199
         },
         {
          "x": 3693,
          "y": 1.2041199
         },
         {
          "x": 3694,
          "y": 1.2041199
         },
         {
          "x": 3695,
          "y": 1.2041199
         },
         {
          "x": 3696,
          "y": 1.2041199
         },
         {
          "x": 3697,
          "y": 1.2041199
         },
         {
          "x": 3698,
          "y": 1.2041199
         },
         {
          "x": 3699,
          "y": 1.2041199
         },
         {
          "x": 3700,
          "y": 1.2041199
         },
         {
          "x": 3701,
          "y": 1.2041199
         },
         {
          "x": 3702,
          "y": 1.2041199
         },
         {
          "x": 3703,
          "y": 1.2041199
         },
         {
          "x": 3704,
          "y": 1.2304488
         },
         {
          "x": 3705,
          "y": 1.2304488
         },
         {
          "x": 3706,
          "y": 1.2304488
         },
         {
          "x": 3707,
          "y": 1.2304488
         },
         {
          "x": 3708,
          "y": 1.2304488
         },
         {
          "x": 3709,
          "y": 1.2304488
         },
         {
          "x": 3710,
          "y": 1.2304488
         },
         {
          "x": 3711,
          "y": 1.2304488
         },
         {
          "x": 3712,
          "y": 1.2304488
         },
         {
          "x": 3713,
          "y": 1.2552725
         },
         {
          "x": 3714,
          "y": 1.2552725
         },
         {
          "x": 3715,
          "y": 1.2552725
         },
         {
          "x": 3716,
          "y": 1.2552725
         },
         {
          "x": 3717,
          "y": 1.2552725
         },
         {
          "x": 3718,
          "y": 1.2552725
         },
         {
          "x": 3719,
          "y": 1.2552725
         },
         {
          "x": 3720,
          "y": 1.2552725
         },
         {
          "x": 3721,
          "y": 1.2552725
         },
         {
          "x": 3722,
          "y": 1.2552725
         },
         {
          "x": 3723,
          "y": 1.2787535
         },
         {
          "x": 3724,
          "y": 1.2787535
         },
         {
          "x": 3725,
          "y": 1.2787535
         },
         {
          "x": 3726,
          "y": 1.2787535
         },
         {
          "x": 3727,
          "y": 1.2787535
         },
         {
          "x": 3728,
          "y": 1.30103
         },
         {
          "x": 3729,
          "y": 1.30103
         },
         {
          "x": 3730,
          "y": 1.30103
         },
         {
          "x": 3731,
          "y": 1.30103
         },
         {
          "x": 3732,
          "y": 1.30103
         },
         {
          "x": 3733,
          "y": 1.30103
         },
         {
          "x": 3734,
          "y": 1.30103
         },
         {
          "x": 3735,
          "y": 1.30103
         },
         {
          "x": 3736,
          "y": 1.30103
         },
         {
          "x": 3737,
          "y": 1.30103
         },
         {
          "x": 3738,
          "y": 1.3222194
         },
         {
          "x": 3739,
          "y": 1.3222194
         },
         {
          "x": 3740,
          "y": 1.3222194
         },
         {
          "x": 3741,
          "y": 1.3222194
         },
         {
          "x": 3742,
          "y": 1.3222194
         },
         {
          "x": 3743,
          "y": 1.3424227
         },
         {
          "x": 3744,
          "y": 1.3424227
         },
         {
          "x": 3745,
          "y": 1.3424227
         },
         {
          "x": 3746,
          "y": 1.3424227
         },
         {
          "x": 3747,
          "y": 1.3424227
         },
         {
          "x": 3748,
          "y": 1.3424227
         },
         {
          "x": 3749,
          "y": 1.3617278
         },
         {
          "x": 3750,
          "y": 1.3617278
         },
         {
          "x": 3751,
          "y": 1.3617278
         },
         {
          "x": 3752,
          "y": 1.3617278
         },
         {
          "x": 3753,
          "y": 1.3617278
         },
         {
          "x": 3754,
          "y": 1.3617278
         },
         {
          "x": 3755,
          "y": 1.3617278
         },
         {
          "x": 3756,
          "y": 1.3802112
         },
         {
          "x": 3757,
          "y": 1.3802112
         },
         {
          "x": 3758,
          "y": 1.3802112
         },
         {
          "x": 3759,
          "y": 1.3802112
         },
         {
          "x": 3760,
          "y": 1.3802112
         },
         {
          "x": 3761,
          "y": 1.39794
         },
         {
          "x": 3762,
          "y": 1.39794
         },
         {
          "x": 3763,
          "y": 1.39794
         },
         {
          "x": 3764,
          "y": 1.39794
         },
         {
          "x": 3765,
          "y": 1.4149733
         },
         {
          "x": 3766,
          "y": 1.4149733
         },
         {
          "x": 3767,
          "y": 1.4313638
         },
         {
          "x": 3768,
          "y": 1.4313638
         },
         {
          "x": 3769,
          "y": 1.4313638
         },
         {
          "x": 3770,
          "y": 1.4313638
         },
         {
          "x": 3771,
          "y": 1.4471581
         },
         {
          "x": 3772,
          "y": 1.4623979
         },
         {
          "x": 3773,
          "y": 1.4623979
         },
         {
          "x": 3774,
          "y": 1.4913616
         },
         {
          "x": 3775,
          "y": 1.4913616
         },
         {
          "x": 3776,
          "y": 1.50515
         },
         {
          "x": 3777,
          "y": 1.50515
         },
         {
          "x": 3778,
          "y": 1.50515
         },
         {
          "x": 3779,
          "y": 1.5185139
         },
         {
          "x": 3780,
          "y": 1.5314789
         },
         {
          "x": 3781,
          "y": 1.5314789
         },
         {
          "x": 3782,
          "y": 1.5314789
         },
         {
          "x": 3783,
          "y": 1.5314789
         },
         {
          "x": 3784,
          "y": 1.5440681
         },
         {
          "x": 3785,
          "y": 1.5440681
         },
         {
          "x": 3786,
          "y": 1.5563025
         },
         {
          "x": 3787,
          "y": 1.5563025
         },
         {
          "x": 3788,
          "y": 1.5563025
         },
         {
          "x": 3789,
          "y": 1.5563025
         },
         {
          "x": 3790,
          "y": 1.5797836
         },
         {
          "x": 3791,
          "y": 1.5797836
         },
         {
          "x": 3792,
          "y": 1.5910646
         },
         {
          "x": 3793,
          "y": 1.60206
         },
         {
          "x": 3794,
          "y": 1.6127838
         },
         {
          "x": 3795,
          "y": 1.6127838
         },
         {
          "x": 3796,
          "y": 1.6127838
         },
         {
          "x": 3797,
          "y": 1.6334685
         },
         {
          "x": 3798,
          "y": 1.6627579
         },
         {
          "x": 3799,
          "y": 1.6627579
         },
         {
          "x": 3800,
          "y": 1.6627579
         },
         {
          "x": 3801,
          "y": 1.6812413
         },
         {
          "x": 3802,
          "y": 1.6812413
         },
         {
          "x": 3803,
          "y": 1.690196
         },
         {
          "x": 3804,
          "y": 1.8750613
         },
         {
          "x": 3805,
          "y": 1.908485
         },
         {
          "x": 3806,
          "y": 1.919078
         },
         {
          "x": 3807,
          "y": 1.9637878
         },
         {
          "x": 3808,
          "y": 1.9867717
         },
         {
          "x": 3809,
          "y": 2
         },
         {
          "x": 3810,
          "y": 2.0128372
         },
         {
          "x": 3811,
          "y": 2.0170333
         },
         {
          "x": 3812,
          "y": 2.025306
         },
         {
          "x": 3813,
          "y": 2.0293837
         },
         {
          "x": 3814,
          "y": 2.0530784
         },
         {
          "x": 3815,
          "y": 2.0606978
         },
         {
          "x": 3816,
          "y": 2.10721
         },
         {
          "x": 3817,
          "y": 2.120574
         },
         {
          "x": 3818,
          "y": 2.133539
         },
         {
          "x": 3819,
          "y": 2.143015
         },
         {
          "x": 3820,
          "y": 2.1553361
         },
         {
          "x": 3821,
          "y": 2.1673174
         },
         {
          "x": 3822,
          "y": 2.209515
         },
         {
          "x": 3823,
          "y": 2.2278867
         },
         {
          "x": 3824,
          "y": 2.230449
         },
         {
          "x": 3825,
          "y": 2.2380462
         },
         {
          "x": 3826,
          "y": 2.25042
         },
         {
          "x": 3827,
          "y": 2.262451
         },
         {
          "x": 3828,
          "y": 2.262451
         },
         {
          "x": 3829,
          "y": 2.262451
         },
         {
          "x": 3830,
          "y": 2.2671719
         },
         {
          "x": 3831,
          "y": 2.2810333
         },
         {
          "x": 3832,
          "y": 2.2855573
         },
         {
          "x": 3833,
          "y": 2.2855573
         },
         {
          "x": 3834,
          "y": 2.303196
         },
         {
          "x": 3835,
          "y": 2.313867
         },
         {
          "x": 3836,
          "y": 2.3159704
         },
         {
          "x": 3837,
          "y": 2.3159704
         },
         {
          "x": 3838,
          "y": 2.3180633
         },
         {
          "x": 3839,
          "y": 2.3222191
         },
         {
          "x": 3840,
          "y": 2.326336
         },
         {
          "x": 3841,
          "y": 2.326336
         },
         {
          "x": 3842,
          "y": 2.326336
         },
         {
          "x": 3843,
          "y": 2.326336
         },
         {
          "x": 3844,
          "y": 2.3304136
         },
         {
          "x": 3845,
          "y": 2.3324385
         },
         {
          "x": 3846,
          "y": 2.3344538
         },
         {
          "x": 3847,
          "y": 2.3384566
         },
         {
          "x": 3848,
          "y": 2.3384566
         },
         {
          "x": 3849,
          "y": 2.3443923
         },
         {
          "x": 3850,
          "y": 2.3443923
         },
         {
          "x": 3851,
          "y": 2.3443923
         },
         {
          "x": 3852,
          "y": 2.3483047
         },
         {
          "x": 3853,
          "y": 2.3483047
         },
         {
          "x": 3854,
          "y": 2.3502479
         },
         {
          "x": 3855,
          "y": 2.3521826
         },
         {
          "x": 3856,
          "y": 2.3541083
         },
         {
          "x": 3857,
          "y": 2.3598354
         },
         {
          "x": 3858,
          "y": 2.3617277
         },
         {
          "x": 3859,
          "y": 2.363612
         },
         {
          "x": 3860,
          "y": 2.3654878
         },
         {
          "x": 3861,
          "y": 2.3673558
         },
         {
          "x": 3862,
          "y": 2.372912
         },
         {
          "x": 3863,
          "y": 2.376577
         },
         {
          "x": 3864,
          "y": 2.3820171
         },
         {
          "x": 3865,
          "y": 2.3838153
         },
         {
          "x": 3866,
          "y": 2.389166
         },
         {
          "x": 3867,
          "y": 2.39794
         },
         {
          "x": 3868,
          "y": 2.3996737
         },
         {
          "x": 3869,
          "y": 2.3996737
         },
         {
          "x": 3870,
          "y": 2.4014006
         },
         {
          "x": 3871,
          "y": 2.4031205
         },
         {
          "x": 3872,
          "y": 2.4082398
         },
         {
          "x": 3873,
          "y": 2.4116197
         },
         {
          "x": 3874,
          "y": 2.4132998
         },
         {
          "x": 3875,
          "y": 2.4199557
         },
         {
          "x": 3876,
          "y": 2.4199557
         },
         {
          "x": 3877,
          "y": 2.423246
         },
         {
          "x": 3878,
          "y": 2.4248815
         },
         {
          "x": 3879,
          "y": 2.4265113
         },
         {
          "x": 3880,
          "y": 2.428135
         },
         {
          "x": 3881,
          "y": 2.429752
         },
         {
          "x": 3882,
          "y": 2.4313638
         },
         {
          "x": 3883,
          "y": 2.4329693
         },
         {
          "x": 3884,
          "y": 2.434569
         },
         {
          "x": 3885,
          "y": 2.434569
         },
         {
          "x": 3886,
          "y": 2.4361627
         },
         {
          "x": 3887,
          "y": 2.4377506
         },
         {
          "x": 3888,
          "y": 2.4377506
         },
         {
          "x": 3889,
          "y": 2.4377506
         },
         {
          "x": 3890,
          "y": 2.4393327
         },
         {
          "x": 3891,
          "y": 2.4393327
         },
         {
          "x": 3892,
          "y": 2.4393327
         },
         {
          "x": 3893,
          "y": 2.4409091
         },
         {
          "x": 3894,
          "y": 2.4409091
         },
         {
          "x": 3895,
          "y": 2.4424798
         },
         {
          "x": 3896,
          "y": 2.4424798
         },
         {
          "x": 3897,
          "y": 2.4424798
         },
         {
          "x": 3898,
          "y": 2.4424798
         },
         {
          "x": 3899,
          "y": 2.4440448
         },
         {
          "x": 3900,
          "y": 2.445604
         },
         {
          "x": 3901,
          "y": 2.4487064
         },
         {
          "x": 3902,
          "y": 2.4487064
         },
         {
          "x": 3903,
          "y": 2.4487064
         },
         {
          "x": 3904,
          "y": 2.4533184
         },
         {
          "x": 3905,
          "y": 2.4548447
         },
         {
          "x": 3906,
          "y": 2.456366
         },
         {
          "x": 3907,
          "y": 2.456366
         },
         {
          "x": 3908,
          "y": 2.456366
         },
         {
          "x": 3909,
          "y": 2.462398
         },
         {
          "x": 3910,
          "y": 2.463893
         },
         {
          "x": 3911,
          "y": 2.463893
         },
         {
          "x": 3912,
          "y": 2.4653828
         },
         {
          "x": 3913,
          "y": 2.4653828
         },
         {
          "x": 3914,
          "y": 2.4653828
         },
         {
          "x": 3915,
          "y": 2.4668674
         },
         {
          "x": 3916,
          "y": 2.469822
         },
         {
          "x": 3917,
          "y": 2.4712918
         },
         {
          "x": 3918,
          "y": 2.4727564
         },
         {
          "x": 3919,
          "y": 2.4785664
         },
         {
          "x": 3920,
          "y": 2.480007
         },
         {
          "x": 3921,
          "y": 2.480007
         },
         {
          "x": 3922,
          "y": 2.4828734
         },
         {
          "x": 3923,
          "y": 2.4828734
         },
         {
          "x": 3924,
          "y": 2.4842997
         },
         {
          "x": 3925,
          "y": 2.4857213
         },
         {
          "x": 3926,
          "y": 2.4857213
         },
         {
          "x": 3927,
          "y": 2.4885507
         },
         {
          "x": 3928,
          "y": 2.4899585
         },
         {
          "x": 3929,
          "y": 2.4899585
         },
         {
          "x": 3930,
          "y": 2.4899585
         },
         {
          "x": 3931,
          "y": 2.4927604
         },
         {
          "x": 3932,
          "y": 2.4927604
         },
         {
          "x": 3933,
          "y": 2.4927604
         },
         {
          "x": 3934,
          "y": 2.4955444
         },
         {
          "x": 3935,
          "y": 2.4955444
         },
         {
          "x": 3936,
          "y": 2.4955444
         },
         {
          "x": 3937,
          "y": 2.4955444
         },
         {
          "x": 3938,
          "y": 2.4983106
         },
         {
          "x": 3939,
          "y": 2.4983106
         },
         {
          "x": 3940,
          "y": 2.499687
         },
         {
          "x": 3941,
          "y": 2.499687
         },
         {
          "x": 3942,
          "y": 2.499687
         },
         {
          "x": 3943,
          "y": 2.502427
         },
         {
          "x": 3944,
          "y": 2.502427
         },
         {
          "x": 3945,
          "y": 2.5037906
         },
         {
          "x": 3946,
          "y": 2.5037906
         },
         {
          "x": 3947,
          "y": 2.506505
         },
         {
          "x": 3948,
          "y": 2.5078557
         },
         {
          "x": 3949,
          "y": 2.5092025
         },
         {
          "x": 3950,
          "y": 2.5092025
         },
         {
          "x": 3951,
          "y": 2.5118835
         },
         {
          "x": 3952,
          "y": 2.5132174
         },
         {
          "x": 3953,
          "y": 2.5145478
         },
         {
          "x": 3954,
          "y": 2.5145478
         },
         {
          "x": 3955,
          "y": 2.5145478
         },
         {
          "x": 3956,
          "y": 2.515874
         },
         {
          "x": 3957,
          "y": 2.515874
         },
         {
          "x": 3958,
          "y": 2.5198278
         },
         {
          "x": 3959,
          "y": 2.5198278
         },
         {
          "x": 3960,
          "y": 2.521138
         },
         {
          "x": 3961,
          "y": 2.5237465
         },
         {
          "x": 3962,
          "y": 2.5250447
         },
         {
          "x": 3963,
          "y": 2.5263393
         },
         {
          "x": 3964,
          "y": 2.5263393
         },
         {
          "x": 3965,
          "y": 2.5276299
         },
         {
          "x": 3966,
          "y": 2.5289166
         },
         {
          "x": 3967,
          "y": 2.5289166
         },
         {
          "x": 3968,
          "y": 2.5289166
         },
         {
          "x": 3969,
          "y": 2.535294
         },
         {
          "x": 3970,
          "y": 2.5378191
         },
         {
          "x": 3971,
          "y": 2.539076
         },
         {
          "x": 3972,
          "y": 2.5415792
         },
         {
          "x": 3973,
          "y": 2.5477746
         },
         {
          "x": 3974,
          "y": 2.55145
         },
         {
          "x": 3975,
          "y": 2.5599067
         },
         {
          "x": 3976,
          "y": 2.563481
         },
         {
          "x": 3977,
          "y": 2.563481
         },
         {
          "x": 3978,
          "y": 2.5682018
         },
         {
          "x": 3979,
          "y": 2.5728717
         },
         {
          "x": 3980,
          "y": 2.5728717
         },
         {
          "x": 3981,
          "y": 2.5728717
         },
         {
          "x": 3982,
          "y": 2.5763414
         },
         {
          "x": 3983,
          "y": 2.5774918
         },
         {
          "x": 3984,
          "y": 2.5786393
         },
         {
          "x": 3985,
          "y": 2.5865872
         },
         {
          "x": 3986,
          "y": 2.5899496
         },
         {
          "x": 3987,
          "y": 2.596597
         },
         {
          "x": 3988,
          "y": 2.597695
         },
         {
          "x": 3989,
          "y": 2.60206
         },
         {
          "x": 3990,
          "y": 2.60206
         },
         {
          "x": 3991,
          "y": 2.6031444
         },
         {
          "x": 3992,
          "y": 2.6031444
         },
         {
          "x": 3993,
          "y": 2.6031444
         },
         {
          "x": 3994,
          "y": 2.6042259
         },
         {
          "x": 3995,
          "y": 2.605305
         },
         {
          "x": 3996,
          "y": 2.612784
         },
         {
          "x": 3997,
          "y": 2.6159499
         },
         {
          "x": 3998,
          "y": 2.6170003
         },
         {
          "x": 3999,
          "y": 2.618048
         },
         {
          "x": 4000,
          "y": 2.618048
         },
         {
          "x": 4001,
          "y": 2.6232493
         },
         {
          "x": 4002,
          "y": 2.6232493
         },
         {
          "x": 4003,
          "y": 2.6263404
         },
         {
          "x": 4004,
          "y": 2.6273658
         },
         {
          "x": 4005,
          "y": 2.628389
         },
         {
          "x": 4006,
          "y": 2.6334684
         },
         {
          "x": 4007,
          "y": 2.6344774
         },
         {
          "x": 4008,
          "y": 2.6354837
         },
         {
          "x": 4009,
          "y": 2.6354837
         },
         {
          "x": 4010,
          "y": 2.6414742
         },
         {
          "x": 4011,
          "y": 2.6464038
         },
         {
          "x": 4012,
          "y": 2.647383
         },
         {
          "x": 4013,
          "y": 2.647383
         },
         {
          "x": 4014,
          "y": 2.6522462
         },
         {
          "x": 4015,
          "y": 2.6532125
         },
         {
          "x": 4016,
          "y": 2.6541765
         },
         {
          "x": 4017,
          "y": 2.6541765
         },
         {
          "x": 4018,
          "y": 2.6551385
         },
         {
          "x": 4019,
          "y": 2.6560981
         },
         {
          "x": 4020,
          "y": 2.6580114
         },
         {
          "x": 4021,
          "y": 2.6599162
         },
         {
          "x": 4022,
          "y": 2.6608655
         },
         {
          "x": 4023,
          "y": 2.6608655
         },
         {
          "x": 4024,
          "y": 2.6627579
         },
         {
          "x": 4025,
          "y": 2.6637008
         },
         {
          "x": 4026,
          "y": 2.6637008
         },
         {
          "x": 4027,
          "y": 2.666518
         },
         {
          "x": 4028,
          "y": 2.666518
         },
         {
          "x": 4029,
          "y": 2.670246
         },
         {
          "x": 4030,
          "y": 2.670246
         },
         {
          "x": 4031,
          "y": 2.6711729
         },
         {
          "x": 4032,
          "y": 2.674861
         },
         {
          "x": 4033,
          "y": 2.6757782
         },
         {
          "x": 4034,
          "y": 2.6766937
         },
         {
          "x": 4035,
          "y": 2.6776068
         },
         {
          "x": 4036,
          "y": 2.6785185
         },
         {
          "x": 4037,
          "y": 2.6794279
         },
         {
          "x": 4038,
          "y": 2.6803355
         },
         {
          "x": 4039,
          "y": 2.6803355
         },
         {
          "x": 4040,
          "y": 2.6812413
         },
         {
          "x": 4041,
          "y": 2.683947
         },
         {
          "x": 4042,
          "y": 2.6848454
         },
         {
          "x": 4043,
          "y": 2.6848454
         },
         {
          "x": 4044,
          "y": 2.6857417
         },
         {
          "x": 4045,
          "y": 2.6857417
         },
         {
          "x": 4046,
          "y": 2.6857417
         },
         {
          "x": 4047,
          "y": 2.6857417
         },
         {
          "x": 4048,
          "y": 2.6910815
         },
         {
          "x": 4049,
          "y": 2.6928468
         },
         {
          "x": 4050,
          "y": 2.693727
         },
         {
          "x": 4051,
          "y": 2.694605
         },
         {
          "x": 4052,
          "y": 2.6954815
         },
         {
          "x": 4053,
          "y": 2.6954815
         },
         {
          "x": 4054,
          "y": 2.6954815
         },
         {
          "x": 4055,
          "y": 2.6954815
         },
         {
          "x": 4056,
          "y": 2.6963563
         },
         {
          "x": 4057,
          "y": 2.6972291
         },
         {
          "x": 4058,
          "y": 2.6981003
         },
         {
          "x": 4059,
          "y": 2.6981003
         },
         {
          "x": 4060,
          "y": 2.6981003
         },
         {
          "x": 4061,
          "y": 2.701568
         },
         {
          "x": 4062,
          "y": 2.701568
         },
         {
          "x": 4063,
          "y": 2.7024305
         },
         {
          "x": 4064,
          "y": 2.7058637
         },
         {
          "x": 4065,
          "y": 2.7067177
         },
         {
          "x": 4066,
          "y": 2.70757
         },
         {
          "x": 4067,
          "y": 2.70757
         },
         {
          "x": 4068,
          "y": 2.7101173
         },
         {
          "x": 4069,
          "y": 2.7118073
         },
         {
          "x": 4070,
          "y": 2.7118073
         },
         {
          "x": 4071,
          "y": 2.7118073
         },
         {
          "x": 4072,
          "y": 2.7143297
         },
         {
          "x": 4073,
          "y": 2.7176704
         },
         {
          "x": 4074,
          "y": 2.7185018
         },
         {
          "x": 4075,
          "y": 2.7185018
         },
         {
          "x": 4076,
          "y": 2.7201593
         },
         {
          "x": 4077,
          "y": 2.7201593
         },
         {
          "x": 4078,
          "y": 2.7234557
         },
         {
          "x": 4079,
          "y": 2.7259116
         },
         {
          "x": 4080,
          "y": 2.7267272
         },
         {
          "x": 4081,
          "y": 2.7267272
         },
         {
          "x": 4082,
          "y": 2.7275412
         },
         {
          "x": 4083,
          "y": 2.7275412
         },
         {
          "x": 4084,
          "y": 2.7275412
         },
         {
          "x": 4085,
          "y": 2.7283537
         },
         {
          "x": 4086,
          "y": 2.7291648
         },
         {
          "x": 4087,
          "y": 2.7291648
         },
         {
          "x": 4088,
          "y": 2.729974
         },
         {
          "x": 4089,
          "y": 2.7307823
         },
         {
          "x": 4090,
          "y": 2.7331972
         },
         {
          "x": 4091,
          "y": 2.7331972
         },
         {
          "x": 4092,
          "y": 2.7331972
         },
         {
          "x": 4093,
          "y": 2.7347996
         },
         {
          "x": 4094,
          "y": 2.7347996
         },
         {
          "x": 4095,
          "y": 2.7347996
         },
         {
          "x": 4096,
          "y": 2.7355988
         },
         {
          "x": 4097,
          "y": 2.7363966
         },
         {
          "x": 4098,
          "y": 2.7379873
         },
         {
          "x": 4099,
          "y": 2.7379873
         },
         {
          "x": 4100,
          "y": 2.7403626
         },
         {
          "x": 4101,
          "y": 2.7411516
         },
         {
          "x": 4102,
          "y": 2.741939
         },
         {
          "x": 4103,
          "y": 2.741939
         },
         {
          "x": 4104,
          "y": 2.744293
         },
         {
          "x": 4105,
          "y": 2.7474117
         },
         {
          "x": 4106,
          "y": 2.7474117
         },
         {
          "x": 4107,
          "y": 2.7474117
         },
         {
          "x": 4108,
          "y": 2.7497363
         },
         {
          "x": 4109,
          "y": 2.7497363
         },
         {
          "x": 4110,
          "y": 2.7497363
         },
         {
          "x": 4111,
          "y": 2.7505083
         },
         {
          "x": 4112,
          "y": 2.751279
         },
         {
          "x": 4113,
          "y": 2.7520485
         },
         {
          "x": 4114,
          "y": 2.753583
         },
         {
          "x": 4115,
          "y": 2.753583
         },
         {
          "x": 4116,
          "y": 2.7543483
         },
         {
          "x": 4117,
          "y": 2.7543483
         },
         {
          "x": 4118,
          "y": 2.7551124
         },
         {
          "x": 4119,
          "y": 2.7581546
         },
         {
          "x": 4120,
          "y": 2.7581546
         },
         {
          "x": 4121,
          "y": 2.7596679
         },
         {
          "x": 4122,
          "y": 2.7604225
         },
         {
          "x": 4123,
          "y": 2.7619278
         },
         {
          "x": 4124,
          "y": 2.7619278
         },
         {
          "x": 4125,
          "y": 2.7626784
         },
         {
          "x": 4126,
          "y": 2.763428
         },
         {
          "x": 4127,
          "y": 2.7641761
         },
         {
          "x": 4128,
          "y": 2.766413
         },
         {
          "x": 4129,
          "y": 2.7678976
         },
         {
          "x": 4130,
          "y": 2.7678976
         },
         {
          "x": 4131,
          "y": 2.770852
         },
         {
          "x": 4132,
          "y": 2.770852
         },
         {
          "x": 4133,
          "y": 2.7715874
         },
         {
          "x": 4134,
          "y": 2.7715874
         },
         {
          "x": 4135,
          "y": 2.7723217
         },
         {
          "x": 4136,
          "y": 2.7723217
         },
         {
          "x": 4137,
          "y": 2.7737865
         },
         {
          "x": 4138,
          "y": 2.7745168
         },
         {
          "x": 4139,
          "y": 2.7745168
         },
         {
          "x": 4140,
          "y": 2.7752461
         },
         {
          "x": 4141,
          "y": 2.777427
         },
         {
          "x": 4142,
          "y": 2.780317
         },
         {
          "x": 4143,
          "y": 2.7810369
         },
         {
          "x": 4144,
          "y": 2.7810369
         },
         {
          "x": 4145,
          "y": 2.7810369
         },
         {
          "x": 4146,
          "y": 2.7817554
         },
         {
          "x": 4147,
          "y": 2.7839036
         },
         {
          "x": 4148,
          "y": 2.7839036
         },
         {
          "x": 4149,
          "y": 2.7853298
         },
         {
          "x": 4150,
          "y": 2.786041
         },
         {
          "x": 4151,
          "y": 2.7881682
         },
         {
          "x": 4152,
          "y": 2.7895806
         },
         {
          "x": 4153,
          "y": 2.7916906
         },
         {
          "x": 4154,
          "y": 2.7923915
         },
         {
          "x": 4155,
          "y": 2.7930915
         },
         {
          "x": 4156,
          "y": 2.7937903
         },
         {
          "x": 4157,
          "y": 2.7951846
         },
         {
          "x": 4158,
          "y": 2.7993405
         },
         {
          "x": 4159,
          "y": 2.8000293
         },
         {
          "x": 4160,
          "y": 2.8000293
         },
         {
          "x": 4161,
          "y": 2.8014038
         },
         {
          "x": 4162,
          "y": 2.8014038
         },
         {
          "x": 4163,
          "y": 2.8034573
         },
         {
          "x": 4164,
          "y": 2.8034573
         },
         {
          "x": 4165,
          "y": 2.8048205
         },
         {
          "x": 4166,
          "y": 2.80618
         },
         {
          "x": 4167,
          "y": 2.806858
         },
         {
          "x": 4168,
          "y": 2.807535
         },
         {
          "x": 4169,
          "y": 2.8095596
         },
         {
          "x": 4170,
          "y": 2.8109043
         },
         {
          "x": 4171,
          "y": 2.811575
         },
         {
          "x": 4172,
          "y": 2.8122447
         },
         {
          "x": 4173,
          "y": 2.8122447
         },
         {
          "x": 4174,
          "y": 2.8142474
         },
         {
          "x": 4175,
          "y": 2.8142474
         },
         {
          "x": 4176,
          "y": 2.814913
         },
         {
          "x": 4177,
          "y": 2.8162413
         },
         {
          "x": 4178,
          "y": 2.8162413
         },
         {
          "x": 4179,
          "y": 2.8175654
         },
         {
          "x": 4180,
          "y": 2.8182259
         },
         {
          "x": 4181,
          "y": 2.820858
         },
         {
          "x": 4182,
          "y": 2.8247764
         },
         {
          "x": 4183,
          "y": 2.8299465
         },
         {
          "x": 4184,
          "y": 2.8325088
         },
         {
          "x": 4185,
          "y": 2.833147
         },
         {
          "x": 4186,
          "y": 2.835056
         },
         {
          "x": 4187,
          "y": 2.835056
         },
         {
          "x": 4188,
          "y": 2.835056
         },
         {
          "x": 4189,
          "y": 2.8375883
         },
         {
          "x": 4190,
          "y": 2.8375883
         },
         {
          "x": 4191,
          "y": 2.840106
         },
         {
          "x": 4192,
          "y": 2.8432326
         },
         {
          "x": 4193,
          "y": 2.8438554
         },
         {
          "x": 4194,
          "y": 2.8444772
         },
         {
          "x": 4195,
          "y": 2.845098
         },
         {
          "x": 4196,
          "y": 2.8475726
         },
         {
          "x": 4197,
          "y": 2.8475726
         },
         {
          "x": 4198,
          "y": 2.8494194
         },
         {
          "x": 4199,
          "y": 2.8500333
         },
         {
          "x": 4200,
          "y": 2.8506463
         },
         {
          "x": 4201,
          "y": 2.8518696
         },
         {
          "x": 4202,
          "y": 2.854306
         },
         {
          "x": 4203,
          "y": 2.854913
         },
         {
          "x": 4204,
          "y": 2.854913
         },
         {
          "x": 4205,
          "y": 2.855519
         },
         {
          "x": 4206,
          "y": 2.8561244
         },
         {
          "x": 4207,
          "y": 2.8561244
         },
         {
          "x": 4208,
          "y": 2.8567288
         },
         {
          "x": 4209,
          "y": 2.8573325
         },
         {
          "x": 4210,
          "y": 2.8597383
         },
         {
          "x": 4211,
          "y": 2.860338
         },
         {
          "x": 4212,
          "y": 2.860338
         },
         {
          "x": 4213,
          "y": 2.8621314
         },
         {
          "x": 4214,
          "y": 2.863323
         },
         {
          "x": 4215,
          "y": 2.863323
         },
         {
          "x": 4216,
          "y": 2.864511
         },
         {
          "x": 4217,
          "y": 2.8674674
         },
         {
          "x": 4218,
          "y": 2.8680563
         },
         {
          "x": 4219,
          "y": 2.8709886
         },
         {
          "x": 4220,
          "y": 2.871573
         },
         {
          "x": 4221,
          "y": 2.8733206
         },
         {
          "x": 4222,
          "y": 2.8750613
         },
         {
          "x": 4223,
          "y": 2.87564
         },
         {
          "x": 4224,
          "y": 2.876795
         },
         {
          "x": 4225,
          "y": 2.8802419
         },
         {
          "x": 4226,
          "y": 2.881955
         },
         {
          "x": 4227,
          "y": 2.8825245
         },
         {
          "x": 4228,
          "y": 2.8836615
         },
         {
          "x": 4229,
          "y": 2.8836615
         },
         {
          "x": 4230,
          "y": 2.887617
         },
         {
          "x": 4231,
          "y": 2.8893018
         },
         {
          "x": 4232,
          "y": 2.8898616
         },
         {
          "x": 4233,
          "y": 2.8915374
         },
         {
          "x": 4234,
          "y": 2.8915374
         },
         {
          "x": 4235,
          "y": 2.8920946
         },
         {
          "x": 4236,
          "y": 2.897077
         },
         {
          "x": 4237,
          "y": 2.8987253
         },
         {
          "x": 4238,
          "y": 2.900913
         },
         {
          "x": 4239,
          "y": 2.9020028
         },
         {
          "x": 4240,
          "y": 2.9020028
         },
         {
          "x": 4241,
          "y": 2.90309
         },
         {
          "x": 4242,
          "y": 2.9052558
         },
         {
          "x": 4243,
          "y": 2.9090207
         },
         {
          "x": 4244,
          "y": 2.9095562
         },
         {
          "x": 4245,
          "y": 2.9106245
         },
         {
          "x": 4246,
          "y": 2.91698
         },
         {
          "x": 4247,
          "y": 2.9185545
         },
         {
          "x": 4248,
          "y": 2.9185545
         },
         {
          "x": 4249,
          "y": 2.919601
         },
         {
          "x": 4250,
          "y": 2.9222062
         },
         {
          "x": 4251,
          "y": 2.9237618
         },
         {
          "x": 4252,
          "y": 2.9278834
         },
         {
          "x": 4253,
          "y": 2.9299295
         },
         {
          "x": 4254,
          "y": 2.9329808
         },
         {
          "x": 4255,
          "y": 2.938019
         },
         {
          "x": 4256,
          "y": 2.9390197
         },
         {
          "x": 4257,
          "y": 2.9390197
         },
         {
          "x": 4258,
          "y": 2.9395192
         },
         {
          "x": 4259,
          "y": 2.9449759
         },
         {
          "x": 4260,
          "y": 2.9503648
         },
         {
          "x": 4261,
          "y": 2.952308
         },
         {
          "x": 4262,
          "y": 2.9537597
         },
         {
          "x": 4263,
          "y": 2.9542425
         },
         {
          "x": 4264,
          "y": 2.9542425
         },
         {
          "x": 4265,
          "y": 2.9552064
         },
         {
          "x": 4266,
          "y": 2.9552064
         },
         {
          "x": 4267,
          "y": 2.9556878
         },
         {
          "x": 4268,
          "y": 2.9561684
         },
         {
          "x": 4269,
          "y": 2.9561684
         },
         {
          "x": 4270,
          "y": 2.9580858
         },
         {
          "x": 4271,
          "y": 2.961421
         },
         {
          "x": 4272,
          "y": 2.9633155
         },
         {
          "x": 4273,
          "y": 2.9637878
         },
         {
          "x": 4274,
          "y": 2.9637878
         },
         {
          "x": 4275,
          "y": 2.9642596
         },
         {
          "x": 4276,
          "y": 2.9642596
         },
         {
          "x": 4277,
          "y": 2.9689498
         },
         {
          "x": 4278,
          "y": 2.970347
         },
         {
          "x": 4279,
          "y": 2.9726655
         },
         {
          "x": 4280,
          "y": 2.974972
         },
         {
          "x": 4281,
          "y": 2.9754317
         },
         {
          "x": 4282,
          "y": 2.975891
         },
         {
          "x": 4283,
          "y": 2.975891
         },
         {
          "x": 4284,
          "y": 2.9795485
         },
         {
          "x": 4285,
          "y": 2.9795485
         },
         {
          "x": 4286,
          "y": 2.9804578
         },
         {
          "x": 4287,
          "y": 2.9804578
         },
         {
          "x": 4288,
          "y": 2.9813654
         },
         {
          "x": 4289,
          "y": 2.9818184
         },
         {
          "x": 4290,
          "y": 2.984077
         },
         {
          "x": 4291,
          "y": 2.984977
         },
         {
          "x": 4292,
          "y": 2.9863238
         },
         {
          "x": 4293,
          "y": 2.9912262
         },
         {
          "x": 4294,
          "y": 2.9912262
         },
         {
          "x": 4295,
          "y": 2.9916692
         },
         {
          "x": 4296,
          "y": 2.994757
         },
         {
          "x": 4297,
          "y": 2.995196
         },
         {
          "x": 4298,
          "y": 2.9973865
         },
         {
          "x": 4299,
          "y": 2.997823
         },
         {
          "x": 4300,
          "y": 2.9986951
         },
         {
          "x": 4301,
          "y": 3
         },
         {
          "x": 4302,
          "y": 3.0004342
         },
         {
          "x": 4303,
          "y": 3.0004342
         },
         {
          "x": 4304,
          "y": 3.0030296
         },
         {
          "x": 4305,
          "y": 3.0056093
         },
         {
          "x": 4306,
          "y": 3.0081742
         },
         {
          "x": 4307,
          "y": 3.0086002
         },
         {
          "x": 4308,
          "y": 3.0124154
         },
         {
          "x": 4309,
          "y": 3.0124154
         },
         {
          "x": 4310,
          "y": 3.0149403
         },
         {
          "x": 4311,
          "y": 3.0149403
         },
         {
          "x": 4312,
          "y": 3.0166154
         },
         {
          "x": 4313,
          "y": 3.0166154
         },
         {
          "x": 4314,
          "y": 3.0191162
         },
         {
          "x": 4315,
          "y": 3.0285714
         },
         {
          "x": 4316,
          "y": 3.0293837
         },
         {
          "x": 4317,
          "y": 3.0350294
         },
         {
          "x": 4318,
          "y": 3.0362296
         },
         {
          "x": 4319,
          "y": 3.0421815
         },
         {
          "x": 4320,
          "y": 3.0425754
         },
         {
          "x": 4321,
          "y": 3.04454
         },
         {
          "x": 4322,
          "y": 3.0461047
         },
         {
          "x": 4323,
          "y": 3.04883
         },
         {
          "x": 4324,
          "y": 3.0530784
         },
         {
          "x": 4325,
          "y": 3.0538464
         },
         {
          "x": 4326,
          "y": 3.05423
         },
         {
          "x": 4327,
          "y": 3.0546129
         },
         {
          "x": 4328,
          "y": 3.0546129
         },
         {
          "x": 4329,
          "y": 3.0569048
         },
         {
          "x": 4330,
          "y": 3.0572855
         },
         {
          "x": 4331,
          "y": 3.057666
         },
         {
          "x": 4332,
          "y": 3.0580463
         },
         {
          "x": 4333,
          "y": 3.0580463
         },
         {
          "x": 4334,
          "y": 3.0591846
         },
         {
          "x": 4335,
          "y": 3.0595634
         },
         {
          "x": 4336,
          "y": 3.06032
         },
         {
          "x": 4337,
          "y": 3.0610754
         },
         {
          "x": 4338,
          "y": 3.065206
         },
         {
          "x": 4339,
          "y": 3.0678144
         },
         {
          "x": 4340,
          "y": 3.0681858
         },
         {
          "x": 4341,
          "y": 3.069668
         },
         {
          "x": 4342,
          "y": 3.0711453
         },
         {
          "x": 4343,
          "y": 3.071514
         },
         {
          "x": 4344,
          "y": 3.071514
         },
         {
          "x": 4345,
          "y": 3.071514
         },
         {
          "x": 4346,
          "y": 3.0733516
         },
         {
          "x": 4347,
          "y": 3.0740845
         },
         {
          "x": 4348,
          "y": 3.0759118
         },
         {
          "x": 4349,
          "y": 3.0759118
         },
         {
          "x": 4350,
          "y": 3.0770044
         },
         {
          "x": 4351,
          "y": 3.0773678
         },
         {
          "x": 4352,
          "y": 3.0777311
         },
         {
          "x": 4353,
          "y": 3.078094
         },
         {
          "x": 4354,
          "y": 3.079543
         },
         {
          "x": 4355,
          "y": 3.0799043
         },
         {
          "x": 4356,
          "y": 3.0824263
         },
         {
          "x": 4357,
          "y": 3.0838609
         },
         {
          "x": 4358,
          "y": 3.085647
         },
         {
          "x": 4359,
          "y": 3.0860038
         },
         {
          "x": 4360,
          "y": 3.0863597
         },
         {
          "x": 4361,
          "y": 3.0881362
         },
         {
          "x": 4362,
          "y": 3.0923696
         },
         {
          "x": 4363,
          "y": 3.0930712
         },
         {
          "x": 4364,
          "y": 3.0930712
         },
         {
          "x": 4365,
          "y": 3.093772
         },
         {
          "x": 4366,
          "y": 3.0958664
         },
         {
          "x": 4367,
          "y": 3.0958664
         },
         {
          "x": 4368,
          "y": 3.097951
         },
         {
          "x": 4369,
          "y": 3.0989895
         },
         {
          "x": 4370,
          "y": 3.0996807
         },
         {
          "x": 4371,
          "y": 3.1007152
         },
         {
          "x": 4372,
          "y": 3.1010592
         },
         {
          "x": 4373,
          "y": 3.1024337
         },
         {
          "x": 4374,
          "y": 3.1024337
         },
         {
          "x": 4375,
          "y": 3.1031191
         },
         {
          "x": 4376,
          "y": 3.1038039
         },
         {
          "x": 4377,
          "y": 3.1058507
         },
         {
          "x": 4378,
          "y": 3.1119342
         },
         {
          "x": 4379,
          "y": 3.112605
         },
         {
          "x": 4380,
          "y": 3.1149445
         },
         {
          "x": 4381,
          "y": 3.1152775
         },
         {
          "x": 4382,
          "y": 3.1156104
         },
         {
          "x": 4383,
          "y": 3.1162755
         },
         {
          "x": 4384,
          "y": 3.1202447
         },
         {
          "x": 4385,
          "y": 3.120574
         },
         {
          "x": 4386,
          "y": 3.1215599
         },
         {
          "x": 4387,
          "y": 3.121888
         },
         {
          "x": 4388,
          "y": 3.122216
         },
         {
          "x": 4389,
          "y": 3.123525
         },
         {
          "x": 4390,
          "y": 3.123525
         },
         {
          "x": 4391,
          "y": 3.1238515
         },
         {
          "x": 4392,
          "y": 3.1245043
         },
         {
          "x": 4393,
          "y": 3.1251557
         },
         {
          "x": 4394,
          "y": 3.1258063
         },
         {
          "x": 4395,
          "y": 3.1271048
         },
         {
          "x": 4396,
          "y": 3.129045
         },
         {
          "x": 4397,
          "y": 3.1303337
         },
         {
          "x": 4398,
          "y": 3.1316185
         },
         {
          "x": 4399,
          "y": 3.1332192
         },
         {
          "x": 4400,
          "y": 3.1341772
         },
         {
          "x": 4401,
          "y": 3.1367207
         },
         {
          "x": 4402,
          "y": 3.1370375
         },
         {
          "x": 4403,
          "y": 3.1376705
         },
         {
          "x": 4404,
          "y": 3.139249
         },
         {
          "x": 4405,
          "y": 3.139249
         },
         {
          "x": 4406,
          "y": 3.139249
         },
         {
          "x": 4407,
          "y": 3.1395643
         },
         {
          "x": 4408,
          "y": 3.1414497
         },
         {
          "x": 4409,
          "y": 3.1420765
         },
         {
          "x": 4410,
          "y": 3.1427023
         },
         {
          "x": 4411,
          "y": 3.143639
         },
         {
          "x": 4412,
          "y": 3.143951
         },
         {
          "x": 4413,
          "y": 3.146128
         },
         {
          "x": 4414,
          "y": 3.146748
         },
         {
          "x": 4415,
          "y": 3.149219
         },
         {
          "x": 4416,
          "y": 3.1507564
         },
         {
          "x": 4417,
          "y": 3.1519823
         },
         {
          "x": 4418,
          "y": 3.1519823
         },
         {
          "x": 4419,
          "y": 3.152594
         },
         {
          "x": 4420,
          "y": 3.1532047
         },
         {
          "x": 4421,
          "y": 3.15351
         },
         {
          "x": 4422,
          "y": 3.1550322
         },
         {
          "x": 4423,
          "y": 3.155336
         },
         {
          "x": 4424,
          "y": 3.1622658
         },
         {
          "x": 4425,
          "y": 3.1634595
         },
         {
          "x": 4426,
          "y": 3.1637576
         },
         {
          "x": 4427,
          "y": 3.165244
         },
         {
          "x": 4428,
          "y": 3.1682026
         },
         {
          "x": 4429,
          "y": 3.168792
         },
         {
          "x": 4430,
          "y": 3.1696744
         },
         {
          "x": 4431,
          "y": 3.1740596
         },
         {
          "x": 4432,
          "y": 3.1755118
         },
         {
          "x": 4433,
          "y": 3.1763806
         },
         {
          "x": 4434,
          "y": 3.1766698
         },
         {
          "x": 4435,
          "y": 3.176959
         },
         {
          "x": 4436,
          "y": 3.1775365
         },
         {
          "x": 4437,
          "y": 3.1821291
         },
         {
          "x": 4438,
          "y": 3.182985
         },
         {
          "x": 4439,
          "y": 3.1875207
         },
         {
          "x": 4440,
          "y": 3.1880844
         },
         {
          "x": 4441,
          "y": 3.1889284
         },
         {
          "x": 4442,
          "y": 3.1892095
         },
         {
          "x": 4443,
          "y": 3.1908915
         },
         {
          "x": 4444,
          "y": 3.1931245
         },
         {
          "x": 4445,
          "y": 3.1931245
         },
         {
          "x": 4446,
          "y": 3.1972804
         },
         {
          "x": 4447,
          "y": 3.2019432
         },
         {
          "x": 4448,
          "y": 3.2033048
         },
         {
          "x": 4449,
          "y": 3.2033048
         },
         {
          "x": 4450,
          "y": 3.2046626
         },
         {
          "x": 4451,
          "y": 3.2049334
         },
         {
          "x": 4452,
          "y": 3.2081726
         },
         {
          "x": 4453,
          "y": 3.2113874
         },
         {
          "x": 4454,
          "y": 3.2121875
         },
         {
          "x": 4455,
          "y": 3.2137833
         },
         {
          "x": 4456,
          "y": 3.2140486
         },
         {
          "x": 4457,
          "y": 3.2140486
         },
         {
          "x": 4458,
          "y": 3.2195845
         },
         {
          "x": 4459,
          "y": 3.220108
         },
         {
          "x": 4460,
          "y": 3.2203696
         },
         {
          "x": 4461,
          "y": 3.2206311
         },
         {
          "x": 4462,
          "y": 3.2219355
         },
         {
          "x": 4463,
          "y": 3.222196
         },
         {
          "x": 4464,
          "y": 3.2247918
         },
         {
          "x": 4465,
          "y": 3.2253091
         },
         {
          "x": 4466,
          "y": 3.2263422
         },
         {
          "x": 4467,
          "y": 3.2276297
         },
         {
          "x": 4468,
          "y": 3.2291696
         },
         {
          "x": 4469,
          "y": 3.229426
         },
         {
          "x": 4470,
          "y": 3.2309597
         },
         {
          "x": 4471,
          "y": 3.2312145
         },
         {
          "x": 4472,
          "y": 3.2335036
         },
         {
          "x": 4473,
          "y": 3.2335036
         },
         {
          "x": 4474,
          "y": 3.235023
         },
         {
          "x": 4475,
          "y": 3.235276
         },
         {
          "x": 4476,
          "y": 3.2362852
         },
         {
          "x": 4477,
          "y": 3.2372923
         },
         {
          "x": 4478,
          "y": 3.2372923
         },
         {
          "x": 4479,
          "y": 3.2377949
         },
         {
          "x": 4480,
          "y": 3.239049
         },
         {
          "x": 4481,
          "y": 3.2402995
         },
         {
          "x": 4482,
          "y": 3.241048
         },
         {
          "x": 4483,
          "y": 3.2412975
         },
         {
          "x": 4484,
          "y": 3.243534
         },
         {
          "x": 4485,
          "y": 3.2437818
         },
         {
          "x": 4486,
          "y": 3.2457592
         },
         {
          "x": 4487,
          "y": 3.2457592
         },
         {
          "x": 4488,
          "y": 3.2467446
         },
         {
          "x": 4489,
          "y": 3.2477279
         },
         {
          "x": 4490,
          "y": 3.2521245
         },
         {
          "x": 4491,
          "y": 3.25358
         },
         {
          "x": 4492,
          "y": 3.259116
         },
         {
          "x": 4493,
          "y": 3.2600713
         },
         {
          "x": 4494,
          "y": 3.2615006
         },
         {
          "x": 4495,
          "y": 3.262451
         },
         {
          "x": 4496,
          "y": 3.2626884
         },
         {
          "x": 4497,
          "y": 3.2633994
         },
         {
          "x": 4498,
          "y": 3.2652895
         },
         {
          "x": 4499,
          "y": 3.265761
         },
         {
          "x": 4500,
          "y": 3.2662315
         },
         {
          "x": 4501,
          "y": 3.268812
         },
         {
          "x": 4502,
          "y": 3.269513
         },
         {
          "x": 4503,
          "y": 3.2697463
         },
         {
          "x": 4504,
          "y": 3.2736955
         },
         {
          "x": 4505,
          "y": 3.2748504
         },
         {
          "x": 4506,
          "y": 3.2757719
         },
         {
          "x": 4507,
          "y": 3.2762318
         },
         {
          "x": 4508,
          "y": 3.2766914
         },
         {
          "x": 4509,
          "y": 3.2792103
         },
         {
          "x": 4510,
          "y": 3.2853322
         },
         {
          "x": 4511,
          "y": 3.2878017
         },
         {
          "x": 4512,
          "y": 3.2878017
         },
         {
          "x": 4513,
          "y": 3.29292
         },
         {
          "x": 4514,
          "y": 3.300378
         },
         {
          "x": 4515,
          "y": 3.302331
         },
         {
          "x": 4516,
          "y": 3.303196
         },
         {
          "x": 4517,
          "y": 3.3044903
         },
         {
          "x": 4518,
          "y": 3.3059957
         },
         {
          "x": 4519,
          "y": 3.3068538
         },
         {
          "x": 4520,
          "y": 3.3074958
         },
         {
          "x": 4521,
          "y": 3.312389
         },
         {
          "x": 4522,
          "y": 3.313867
         },
         {
          "x": 4523,
          "y": 3.3140779
         },
         {
          "x": 4524,
          "y": 3.318689
         },
         {
          "x": 4525,
          "y": 3.3199384
         },
         {
          "x": 4526,
          "y": 3.3215983
         },
         {
          "x": 4527,
          "y": 3.325105
         },
         {
          "x": 4528,
          "y": 3.3261309
         },
         {
          "x": 4529,
          "y": 3.3289907
         },
         {
          "x": 4530,
          "y": 3.3304136
         },
         {
          "x": 4531,
          "y": 3.331427
         },
         {
          "x": 4532,
          "y": 3.332034
         },
         {
          "x": 4533,
          "y": 3.3356583
         },
         {
          "x": 4534,
          "y": 3.3358588
         },
         {
          "x": 4535,
          "y": 3.3362596
         },
         {
          "x": 4536,
          "y": 3.3370597
         },
         {
          "x": 4537,
          "y": 3.3378584
         },
         {
          "x": 4538,
          "y": 3.338257
         },
         {
          "x": 4539,
          "y": 3.3412366
         },
         {
          "x": 4540,
          "y": 3.3416321
         },
         {
          "x": 4541,
          "y": 3.3430145
         },
         {
          "x": 4542,
          "y": 3.3436053
         },
         {
          "x": 4543,
          "y": 3.3439991
         },
         {
          "x": 4544,
          "y": 3.3445885
         },
         {
          "x": 4545,
          "y": 3.3469396
         },
         {
          "x": 4546,
          "y": 3.3477201
         },
         {
          "x": 4547,
          "y": 3.349083
         },
         {
          "x": 4548,
          "y": 3.349083
         },
         {
          "x": 4549,
          "y": 3.3496659
         },
         {
          "x": 4550,
          "y": 3.3502479
         },
         {
          "x": 4551,
          "y": 3.3512163
         },
         {
          "x": 4552,
          "y": 3.351603
         },
         {
          "x": 4553,
          "y": 3.3525684
         },
         {
          "x": 4554,
          "y": 3.352954
         },
         {
          "x": 4555,
          "y": 3.3541083
         },
         {
          "x": 4556,
          "y": 3.3548763
         },
         {
          "x": 4557,
          "y": 3.3571723
         },
         {
          "x": 4558,
          "y": 3.3577442
         },
         {
          "x": 4559,
          "y": 3.3579347
         },
         {
          "x": 4560,
          "y": 3.3579347
         },
         {
          "x": 4561,
          "y": 3.3592663
         },
         {
          "x": 4562,
          "y": 3.361161
         },
         {
          "x": 4563,
          "y": 3.3613498
         },
         {
          "x": 4564,
          "y": 3.3634238
         },
         {
          "x": 4565,
          "y": 3.364551
         },
         {
          "x": 4566,
          "y": 3.3662362
         },
         {
          "x": 4567,
          "y": 3.3677285
         },
         {
          "x": 4568,
          "y": 3.3699574
         },
         {
          "x": 4569,
          "y": 3.3734636
         },
         {
          "x": 4570,
          "y": 3.3734636
         },
         {
          "x": 4571,
          "y": 3.3789427
         },
         {
          "x": 4572,
          "y": 3.379849
         },
         {
          "x": 4573,
          "y": 3.380573
         },
         {
          "x": 4574,
          "y": 3.3816564
         },
         {
          "x": 4575,
          "y": 3.3823771
         },
         {
          "x": 4576,
          "y": 3.382917
         },
         {
          "x": 4577,
          "y": 3.3843534
         },
         {
          "x": 4578,
          "y": 3.3847117
         },
         {
          "x": 4579,
          "y": 3.3848908
         },
         {
          "x": 4580,
          "y": 3.3852487
         },
         {
          "x": 4581,
          "y": 3.386142
         },
         {
          "x": 4582,
          "y": 3.3879235
         },
         {
          "x": 4583,
          "y": 3.3911116
         },
         {
          "x": 4584,
          "y": 3.3918169
         },
         {
          "x": 4585,
          "y": 3.3941011
         },
         {
          "x": 4586,
          "y": 3.396025
         },
         {
          "x": 4587,
          "y": 3.3986344
         },
         {
          "x": 4588,
          "y": 3.4008832
         },
         {
          "x": 4589,
          "y": 3.4012282
         },
         {
          "x": 4590,
          "y": 3.402089
         },
         {
          "x": 4591,
          "y": 3.4046626
         },
         {
          "x": 4592,
          "y": 3.4050045
         },
         {
          "x": 4593,
          "y": 3.4051754
         },
         {
          "x": 4594,
          "y": 3.4063697
         },
         {
          "x": 4595,
          "y": 3.4082398
         },
         {
          "x": 4596,
          "y": 3.408918
         },
         {
          "x": 4597,
          "y": 3.4124606
         },
         {
          "x": 4598,
          "y": 3.416141
         },
         {
          "x": 4599,
          "y": 3.42111
         },
         {
          "x": 4600,
          "y": 3.4212747
         },
         {
          "x": 4601,
          "y": 3.421604
         },
         {
          "x": 4602,
          "y": 3.4217684
         },
         {
          "x": 4603,
          "y": 3.4235735
         },
         {
          "x": 4604,
          "y": 3.4273236
         },
         {
          "x": 4605,
          "y": 3.4284587
         },
         {
          "x": 4606,
          "y": 3.4308808
         },
         {
          "x": 4607,
          "y": 3.4329693
         },
         {
          "x": 4608,
          "y": 3.4347286
         },
         {
          "x": 4609,
          "y": 3.438384
         },
         {
          "x": 4610,
          "y": 3.4391747
         },
         {
          "x": 4611,
          "y": 3.4427931
         },
         {
          "x": 4612,
          "y": 3.443263
         },
         {
          "x": 4613,
          "y": 3.447003
         },
         {
          "x": 4614,
          "y": 3.4490154
         },
         {
          "x": 4615,
          "y": 3.450403
         },
         {
          "x": 4616,
          "y": 3.451172
         },
         {
          "x": 4617,
          "y": 3.451633
         },
         {
          "x": 4618,
          "y": 3.4517863
         },
         {
          "x": 4619,
          "y": 3.453624
         },
         {
          "x": 4620,
          "y": 3.4563658
         },
         {
          "x": 4621,
          "y": 3.4598446
         },
         {
          "x": 4622,
          "y": 3.4604468
         },
         {
          "x": 4623,
          "y": 3.460597
         },
         {
          "x": 4624,
          "y": 3.4616485
         },
         {
          "x": 4625,
          "y": 3.4619484
         },
         {
          "x": 4626,
          "y": 3.462398
         },
         {
          "x": 4627,
          "y": 3.463445
         },
         {
          "x": 4628,
          "y": 3.4635942
         },
         {
          "x": 4629,
          "y": 3.4653828
         },
         {
          "x": 4630,
          "y": 3.4684951
         },
         {
          "x": 4631,
          "y": 3.46879
         },
         {
          "x": 4632,
          "y": 3.4718783
         },
         {
          "x": 4633,
          "y": 3.4774108
         },
         {
          "x": 4634,
          "y": 3.4781334
         },
         {
          "x": 4635,
          "y": 3.4808688
         },
         {
          "x": 4636,
          "y": 3.4852955
         },
         {
          "x": 4637,
          "y": 3.486147
         },
         {
          "x": 4638,
          "y": 3.488551
         },
         {
          "x": 4639,
          "y": 3.488551
         },
         {
          "x": 4640,
          "y": 3.4896774
         },
         {
          "x": 4641,
          "y": 3.4903798
         },
         {
          "x": 4642,
          "y": 3.4912214
         },
         {
          "x": 4643,
          "y": 3.494433
         },
         {
          "x": 4644,
          "y": 3.4945722
         },
         {
          "x": 4645,
          "y": 3.4963758
         },
         {
          "x": 4646,
          "y": 3.4981725
         },
         {
          "x": 4647,
          "y": 3.4996872
         },
         {
          "x": 4648,
          "y": 3.5000992
         },
         {
          "x": 4649,
          "y": 3.5003736
         },
         {
          "x": 4650,
          "y": 3.5013332
         },
         {
          "x": 4651,
          "y": 3.5090678
         },
         {
          "x": 4652,
          "y": 3.5101426
         },
         {
          "x": 4653,
          "y": 3.510411
         },
         {
          "x": 4654,
          "y": 3.510411
         },
         {
          "x": 4655,
          "y": 3.5120168
         },
         {
          "x": 4656,
          "y": 3.5175915
         },
         {
          "x": 4657,
          "y": 3.5181189
         },
         {
          "x": 4658,
          "y": 3.5228355
         },
         {
          "x": 4659,
          "y": 3.5229654
         },
         {
          "x": 4660,
          "y": 3.527372
         },
         {
          "x": 4661,
          "y": 3.5286596
         },
         {
          "x": 4662,
          "y": 3.5322447
         },
         {
          "x": 4663,
          "y": 3.5328817
         },
         {
          "x": 4664,
          "y": 3.5333908
         },
         {
          "x": 4665,
          "y": 3.5335178
         },
         {
          "x": 4666,
          "y": 3.5346606
         },
         {
          "x": 4667,
          "y": 3.5358005
         },
         {
          "x": 4668,
          "y": 3.5381963
         },
         {
          "x": 4669,
          "y": 3.5394526
         },
         {
          "x": 4670,
          "y": 3.5402043
         },
         {
          "x": 4671,
          "y": 3.544192
         },
         {
          "x": 4672,
          "y": 3.5487578
         },
         {
          "x": 4673,
          "y": 3.5493712
         },
         {
          "x": 4674,
          "y": 3.5499835
         },
         {
          "x": 4675,
          "y": 3.550473
         },
         {
          "x": 4676,
          "y": 3.5533974
         },
         {
          "x": 4677,
          "y": 3.555699
         },
         {
          "x": 4678,
          "y": 3.557868
         },
         {
          "x": 4679,
          "y": 3.5579882
         },
         {
          "x": 4680,
          "y": 3.5585883
         },
         {
          "x": 4681,
          "y": 3.5595477
         },
         {
          "x": 4682,
          "y": 3.5607433
         },
         {
          "x": 4683,
          "y": 3.5607433
         },
         {
          "x": 4684,
          "y": 3.563481
         },
         {
          "x": 4685,
          "y": 3.5641925
         },
         {
          "x": 4686,
          "y": 3.5657296
         },
         {
          "x": 4687,
          "y": 3.5700755
         },
         {
          "x": 4688,
          "y": 3.5719419
         },
         {
          "x": 4689,
          "y": 3.5777216
         },
         {
          "x": 4690,
          "y": 3.5778363
         },
         {
          "x": 4691,
          "y": 3.577951
         },
         {
          "x": 4692,
          "y": 3.5789828
         },
         {
          "x": 4693,
          "y": 3.580469
         },
         {
          "x": 4694,
          "y": 3.5812669
         },
         {
          "x": 4695,
          "y": 3.5820634
         },
         {
          "x": 4696,
          "y": 3.582177
         },
         {
          "x": 4697,
          "y": 3.5822906
         },
         {
          "x": 4698,
          "y": 3.5837653
         },
         {
          "x": 4699,
          "y": 3.584218
         },
         {
          "x": 4700,
          "y": 3.5857987
         },
         {
          "x": 4701,
          "y": 3.5872617
         },
         {
          "x": 4702,
          "y": 3.5895028
         },
         {
          "x": 4703,
          "y": 3.5999923
         },
         {
          "x": 4704,
          "y": 3.6020598
         },
         {
          "x": 4705,
          "y": 3.6026022
         },
         {
          "x": 4706,
          "y": 3.6039016
         },
         {
          "x": 4707,
          "y": 3.6062737
         },
         {
          "x": 4708,
          "y": 3.608098
         },
         {
          "x": 4709,
          "y": 3.611192
         },
         {
          "x": 4710,
          "y": 3.6147919
         },
         {
          "x": 4711,
          "y": 3.61721
         },
         {
          "x": 4712,
          "y": 3.6193018
         },
         {
          "x": 4713,
          "y": 3.6193018
         },
         {
          "x": 4714,
          "y": 3.6195107
         },
         {
          "x": 4715,
          "y": 3.6221104
         },
         {
          "x": 4716,
          "y": 3.622214
         },
         {
          "x": 4717,
          "y": 3.6232493
         },
         {
          "x": 4718,
          "y": 3.623766
         },
         {
          "x": 4719,
          "y": 3.6264431
         },
         {
          "x": 4720,
          "y": 3.6268535
         },
         {
          "x": 4721,
          "y": 3.6338723
         },
         {
          "x": 4722,
          "y": 3.634578
         },
         {
          "x": 4723,
          "y": 3.6372895
         },
         {
          "x": 4724,
          "y": 3.6376896
         },
         {
          "x": 4725,
          "y": 3.6385891
         },
         {
          "x": 4726,
          "y": 3.639387
         },
         {
          "x": 4727,
          "y": 3.639387
         },
         {
          "x": 4728,
          "y": 3.6421678
         },
         {
          "x": 4729,
          "y": 3.6466975
         },
         {
          "x": 4730,
          "y": 3.6476762
         },
         {
          "x": 4731,
          "y": 3.6502101
         },
         {
          "x": 4732,
          "y": 3.6568644
         },
         {
          "x": 4733,
          "y": 3.6575341
         },
         {
          "x": 4734,
          "y": 3.6592503
         },
         {
          "x": 4735,
          "y": 3.6593456
         },
         {
          "x": 4736,
          "y": 3.6606755
         },
         {
          "x": 4737,
          "y": 3.6620965
         },
         {
          "x": 4738,
          "y": 3.66238
         },
         {
          "x": 4739,
          "y": 3.6626632
         },
         {
          "x": 4740,
          "y": 3.6640775
         },
         {
          "x": 4741,
          "y": 3.6649237
         },
         {
          "x": 4742,
          "y": 3.6651118
         },
         {
          "x": 4743,
          "y": 3.6652994
         },
         {
          "x": 4744,
          "y": 3.6685722
         },
         {
          "x": 4745,
          "y": 3.6694098
         },
         {
          "x": 4746,
          "y": 3.670246
         },
         {
          "x": 4747,
          "y": 3.6712651
         },
         {
          "x": 4748,
          "y": 3.6735737
         },
         {
          "x": 4749,
          "y": 3.680879
         },
         {
          "x": 4750,
          "y": 3.6809697
         },
         {
          "x": 4751,
          "y": 3.6817837
         },
         {
          "x": 4752,
          "y": 3.693639
         },
         {
          "x": 4753,
          "y": 3.694254
         },
         {
          "x": 4754,
          "y": 3.6970546
         },
         {
          "x": 4755,
          "y": 3.6971421
         },
         {
          "x": 4756,
          "y": 3.6979265
         },
         {
          "x": 4757,
          "y": 3.7033775
         },
         {
          "x": 4758,
          "y": 3.7038932
         },
         {
          "x": 4759,
          "y": 3.7040646
         },
         {
          "x": 4760,
          "y": 3.706462
         },
         {
          "x": 4761,
          "y": 3.7065473
         },
         {
          "x": 4762,
          "y": 3.7088454
         },
         {
          "x": 4763,
          "y": 3.709609
         },
         {
          "x": 4764,
          "y": 3.7118073
         },
         {
          "x": 4765,
          "y": 3.712313
         },
         {
          "x": 4766,
          "y": 3.7138262
         },
         {
          "x": 4767,
          "y": 3.715669
         },
         {
          "x": 4768,
          "y": 3.7187507
         },
         {
          "x": 4769,
          "y": 3.7226336
         },
         {
          "x": 4770,
          "y": 3.7228806
         },
         {
          "x": 4771,
          "y": 3.7241118
         },
         {
          "x": 4772,
          "y": 3.7290838
         },
         {
          "x": 4773,
          "y": 3.7306206
         },
         {
          "x": 4774,
          "y": 3.7339191
         },
         {
          "x": 4775,
          "y": 3.735998
         },
         {
          "x": 4776,
          "y": 3.7369537
         },
         {
          "x": 4777,
          "y": 3.73886
         },
         {
          "x": 4778,
          "y": 3.7417028
         },
         {
          "x": 4779,
          "y": 3.7418602
         },
         {
          "x": 4780,
          "y": 3.7463229
         },
         {
          "x": 4781,
          "y": 3.7467897
         },
         {
          "x": 4782,
          "y": 3.7547302
         },
         {
          "x": 4783,
          "y": 3.755341
         },
         {
          "x": 4784,
          "y": 3.7592146
         },
         {
          "x": 4785,
          "y": 3.7607992
         },
         {
          "x": 4786,
          "y": 3.7609499
         },
         {
          "x": 4787,
          "y": 3.7667844
         },
         {
          "x": 4788,
          "y": 3.7676013
         },
         {
          "x": 4789,
          "y": 3.7732742
         },
         {
          "x": 4790,
          "y": 3.7734935
         },
         {
          "x": 4791,
          "y": 3.77459
         },
         {
          "x": 4792,
          "y": 3.776047
         },
         {
          "x": 4793,
          "y": 3.7790911
         },
         {
          "x": 4794,
          "y": 3.7812524
         },
         {
          "x": 4795,
          "y": 3.7838323
         },
         {
          "x": 4796,
          "y": 3.7854009
         },
         {
          "x": 4797,
          "y": 3.7899332
         },
         {
          "x": 4798,
          "y": 3.7940695
         },
         {
          "x": 4799,
          "y": 3.7956018
         },
         {
          "x": 4800,
          "y": 3.797821
         },
         {
          "x": 4801,
          "y": 3.7980978
         },
         {
          "x": 4802,
          "y": 3.7983744
         },
         {
          "x": 4803,
          "y": 3.8000982
         },
         {
          "x": 4804,
          "y": 3.8016095
         },
         {
          "x": 4805,
          "y": 3.8018837
         },
         {
          "x": 4806,
          "y": 3.8034573
         },
         {
          "x": 4807,
          "y": 3.8054328
         },
         {
          "x": 4808,
          "y": 3.8059082
         },
         {
          "x": 4809,
          "y": 3.806858
         },
         {
          "x": 4810,
          "y": 3.8072643
         },
         {
          "x": 4811,
          "y": 3.8101652
         },
         {
          "x": 4812,
          "y": 3.81278
         },
         {
          "x": 4813,
          "y": 3.8134475
         },
         {
          "x": 4814,
          "y": 3.8141143
         },
         {
          "x": 4815,
          "y": 3.81697
         },
         {
          "x": 4816,
          "y": 3.8243864
         },
         {
          "x": 4817,
          "y": 3.8250365
         },
         {
          "x": 4818,
          "y": 3.834357
         },
         {
          "x": 4819,
          "y": 3.834357
         },
         {
          "x": 4820,
          "y": 3.839855
         },
         {
          "x": 4821,
          "y": 3.8399804
         },
         {
          "x": 4822,
          "y": 3.8439796
         },
         {
          "x": 4823,
          "y": 3.84677
         },
         {
          "x": 4824,
          "y": 3.846955
         },
         {
          "x": 4825,
          "y": 3.847696
         },
         {
          "x": 4826,
          "y": 3.8503397
         },
         {
          "x": 4827,
          "y": 3.8549736
         },
         {
          "x": 4828,
          "y": 3.8551555
         },
         {
          "x": 4829,
          "y": 3.857453
         },
         {
          "x": 4830,
          "y": 3.8592582
         },
         {
          "x": 4831,
          "y": 3.8612354
         },
         {
          "x": 4832,
          "y": 3.8615942
         },
         {
          "x": 4833,
          "y": 3.8674083
         },
         {
          "x": 4834,
          "y": 3.868174
         },
         {
          "x": 4835,
          "y": 3.8705792
         },
         {
          "x": 4836,
          "y": 3.8706965
         },
         {
          "x": 4837,
          "y": 3.8742497
         },
         {
          "x": 4838,
          "y": 3.8795545
         },
         {
          "x": 4839,
          "y": 3.881784
         },
         {
          "x": 4840,
          "y": 3.8818412
         },
         {
          "x": 4841,
          "y": 3.8909795
         },
         {
          "x": 4842,
          "y": 3.8943162
         },
         {
          "x": 4843,
          "y": 3.8949804
         },
         {
          "x": 4844,
          "y": 3.898396
         },
         {
          "x": 4845,
          "y": 3.8988347
         },
         {
          "x": 4846,
          "y": 3.8992183
         },
         {
          "x": 4847,
          "y": 3.9035783
         },
         {
          "x": 4848,
          "y": 3.9045532
         },
         {
          "x": 4849,
          "y": 3.90993
         },
         {
          "x": 4850,
          "y": 3.911424
         },
         {
          "x": 4851,
          "y": 3.9117963
         },
         {
          "x": 4852,
          "y": 3.9136548
         },
         {
          "x": 4853,
          "y": 3.9140255
         },
         {
          "x": 4854,
          "y": 3.9148717
         },
         {
          "x": 4855,
          "y": 3.917768
         },
         {
          "x": 4856,
          "y": 3.91803
         },
         {
          "x": 4857,
          "y": 3.921114
         },
         {
          "x": 4858,
          "y": 3.926085
         },
         {
          "x": 4859,
          "y": 3.9307961
         },
         {
          "x": 4860,
          "y": 3.9383695
         },
         {
          "x": 4861,
          "y": 3.9411635
         },
         {
          "x": 4862,
          "y": 3.9429996
         },
         {
          "x": 4863,
          "y": 3.9432964
         },
         {
          "x": 4864,
          "y": 3.9437418
         },
         {
          "x": 4865,
          "y": 3.9441369
         },
         {
          "x": 4866,
          "y": 3.9472866
         },
         {
          "x": 4867,
          "y": 3.9564564
         },
         {
          "x": 4868,
          "y": 3.9586115
         },
         {
          "x": 4869,
          "y": 3.9618955
         },
         {
          "x": 4870,
          "y": 3.9633157
         },
         {
          "x": 4871,
          "y": 3.9678285
         },
         {
          "x": 4872,
          "y": 3.970858
         },
         {
          "x": 4873,
          "y": 3.9744656
         },
         {
          "x": 4874,
          "y": 3.9779522
         },
         {
          "x": 4875,
          "y": 3.9780433
         },
         {
          "x": 4876,
          "y": 3.9829493
         },
         {
          "x": 4877,
          "y": 3.984482
         },
         {
          "x": 4878,
          "y": 3.98601
         },
         {
          "x": 4879,
          "y": 3.991492
         },
         {
          "x": 4880,
          "y": 3.991669
         },
         {
          "x": 4881,
          "y": 3.9977791
         },
         {
          "x": 4882,
          "y": 3.9982593
         },
         {
          "x": 4883,
          "y": 4.0020366
         },
         {
          "x": 4884,
          "y": 4.0052233
         },
         {
          "x": 4885,
          "y": 4.0068083
         },
         {
          "x": 4886,
          "y": 4.0072784
         },
         {
          "x": 4887,
          "y": 4.0102153
         },
         {
          "x": 4888,
          "y": 4.011486
         },
         {
          "x": 4889,
          "y": 4.0161133
         },
         {
          "x": 4890,
          "y": 4.016448
         },
         {
          "x": 4891,
          "y": 4.016866
         },
         {
          "x": 4892,
          "y": 4.017284
         },
         {
          "x": 4893,
          "y": 4.0189085
         },
         {
          "x": 4894,
          "y": 4.0201955
         },
         {
          "x": 4895,
          "y": 4.022057
         },
         {
          "x": 4896,
          "y": 4.0244856
         },
         {
          "x": 4897,
          "y": 4.0267377
         },
         {
          "x": 4898,
          "y": 4.027757
         },
         {
          "x": 4899,
          "y": 4.0302353
         },
         {
          "x": 4900,
          "y": 4.0331826
         },
         {
          "x": 4901,
          "y": 4.0349894
         },
         {
          "x": 4902,
          "y": 4.0410767
         },
         {
          "x": 4903,
          "y": 4.042024
         },
         {
          "x": 4904,
          "y": 4.0448923
         },
         {
          "x": 4905,
          "y": 4.047898
         },
         {
          "x": 4906,
          "y": 4.0509977
         },
         {
          "x": 4907,
          "y": 4.0528474
         },
         {
          "x": 4908,
          "y": 4.0576663
         },
         {
          "x": 4909,
          "y": 4.0631456
         },
         {
          "x": 4910,
          "y": 4.0635586
         },
         {
          "x": 4911,
          "y": 4.0639334
         },
         {
          "x": 4912,
          "y": 4.065505
         },
         {
          "x": 4913,
          "y": 4.067926
         },
         {
          "x": 4914,
          "y": 4.0704074
         },
         {
          "x": 4915,
          "y": 4.0709605
         },
         {
          "x": 4916,
          "y": 4.0783844
         },
         {
          "x": 4917,
          "y": 4.0802655
         },
         {
          "x": 4918,
          "y": 4.0846477
         },
         {
          "x": 4919,
          "y": 4.0884194
         },
         {
          "x": 4920,
          "y": 4.0948553
         },
         {
          "x": 4921,
          "y": 4.0960755
         },
         {
          "x": 4922,
          "y": 4.1013002
         },
         {
          "x": 4923,
          "y": 4.104487
         },
         {
          "x": 4924,
          "y": 4.105919
         },
         {
          "x": 4925,
          "y": 4.1098485
         },
         {
          "x": 4926,
          "y": 4.111733
         },
         {
          "x": 4927,
          "y": 4.1126385
         },
         {
          "x": 4928,
          "y": 4.112705
         },
         {
          "x": 4929,
          "y": 4.118496
         },
         {
          "x": 4930,
          "y": 4.119322
         },
         {
          "x": 4931,
          "y": 4.1210012
         },
         {
          "x": 4932,
          "y": 4.125871
         },
         {
          "x": 4933,
          "y": 4.126813
         },
         {
          "x": 4934,
          "y": 4.1285286
         },
         {
          "x": 4935,
          "y": 4.1338263
         },
         {
          "x": 4936,
          "y": 4.1340494
         },
         {
          "x": 4937,
          "y": 4.143171
         },
         {
          "x": 4938,
          "y": 4.147367
         },
         {
          "x": 4939,
          "y": 4.149896
         },
         {
          "x": 4940,
          "y": 4.158121
         },
         {
          "x": 4941,
          "y": 4.158151
         },
         {
          "x": 4942,
          "y": 4.161398
         },
         {
          "x": 4943,
          "y": 4.162624
         },
         {
          "x": 4944,
          "y": 4.1644716
         },
         {
          "x": 4945,
          "y": 4.167347
         },
         {
          "x": 4946,
          "y": 4.1679077
         },
         {
          "x": 4947,
          "y": 4.1719604
         },
         {
          "x": 4948,
          "y": 4.17199
         },
         {
          "x": 4949,
          "y": 4.1722817
         },
         {
          "x": 4950,
          "y": 4.1732154
         },
         {
          "x": 4951,
          "y": 4.1773057
         },
         {
          "x": 4952,
          "y": 4.1808996
         },
         {
          "x": 4953,
          "y": 4.1864758
         },
         {
          "x": 4954,
          "y": 4.188928
         },
         {
          "x": 4955,
          "y": 4.1920376
         },
         {
          "x": 4956,
          "y": 4.1943197
         },
         {
          "x": 4957,
          "y": 4.194542
         },
         {
          "x": 4958,
          "y": 4.1947083
         },
         {
          "x": 4959,
          "y": 4.196342
         },
         {
          "x": 4960,
          "y": 4.205745
         },
         {
          "x": 4961,
          "y": 4.2058535
         },
         {
          "x": 4962,
          "y": 4.2091393
         },
         {
          "x": 4963,
          "y": 4.211841
         },
         {
          "x": 4964,
          "y": 4.2134643
         },
         {
          "x": 4965,
          "y": 4.21442
         },
         {
          "x": 4966,
          "y": 4.216456
         },
         {
          "x": 4967,
          "y": 4.21885
         },
         {
          "x": 4968,
          "y": 4.2228723
         },
         {
          "x": 4969,
          "y": 4.2252574
         },
         {
          "x": 4970,
          "y": 4.2279897
         },
         {
          "x": 4971,
          "y": 4.2306786
         },
         {
          "x": 4972,
          "y": 4.232793
         },
         {
          "x": 4973,
          "y": 4.241422
         },
         {
          "x": 4974,
          "y": 4.248733
         },
         {
          "x": 4975,
          "y": 4.2530227
         },
         {
          "x": 4976,
          "y": 4.253241
         },
         {
          "x": 4977,
          "y": 4.261215
         },
         {
          "x": 4978,
          "y": 4.26219
         },
         {
          "x": 4979,
          "y": 4.263707
         },
         {
          "x": 4980,
          "y": 4.265761
         },
         {
          "x": 4981,
          "y": 4.266185
         },
         {
          "x": 4982,
          "y": 4.2663727
         },
         {
          "x": 4983,
          "y": 4.2682505
         },
         {
          "x": 4984,
          "y": 4.2715397
         },
         {
          "x": 4985,
          "y": 4.271888
         },
         {
          "x": 4986,
          "y": 4.2761173
         },
         {
          "x": 4987,
          "y": 4.278502
         },
         {
          "x": 4988,
          "y": 4.280077
         },
         {
          "x": 4989,
          "y": 4.281488
         },
         {
          "x": 4990,
          "y": 4.283369
         },
         {
          "x": 4991,
          "y": 4.2854223
         },
         {
          "x": 4992,
          "y": 4.287062
         },
         {
          "x": 4993,
          "y": 4.2901015
         },
         {
          "x": 4994,
          "y": 4.291413
         },
         {
          "x": 4995,
          "y": 4.2918572
         },
         {
          "x": 4996,
          "y": 4.292389
         },
         {
          "x": 4997,
          "y": 4.297082
         },
         {
          "x": 4998,
          "y": 4.2980447
         },
         {
          "x": 4999,
          "y": 4.2995505
         },
         {
          "x": 5000,
          "y": 4.3014636
         },
         {
          "x": 5001,
          "y": 4.3023305
         },
         {
          "x": 5002,
          "y": 4.308991
         },
         {
          "x": 5003,
          "y": 4.309119
         },
         {
          "x": 5004,
          "y": 4.3126216
         },
         {
          "x": 5005,
          "y": 4.3142676
         },
         {
          "x": 5006,
          "y": 4.317938
         },
         {
          "x": 5007,
          "y": 4.32108
         },
         {
          "x": 5008,
          "y": 4.3333464
         },
         {
          "x": 5009,
          "y": 4.3488693
         },
         {
          "x": 5010,
          "y": 4.3510613
         },
         {
          "x": 5011,
          "y": 4.3543196
         },
         {
          "x": 5012,
          "y": 4.3559875
         },
         {
          "x": 5013,
          "y": 4.3570766
         },
         {
          "x": 5014,
          "y": 4.362369
         },
         {
          "x": 5015,
          "y": 4.3635554
         },
         {
          "x": 5016,
          "y": 4.3653755
         },
         {
          "x": 5017,
          "y": 4.3663483
         },
         {
          "x": 5018,
          "y": 4.3696427
         },
         {
          "x": 5019,
          "y": 4.374785
         },
         {
          "x": 5020,
          "y": 4.377324
         },
         {
          "x": 5021,
          "y": 4.379849
         },
         {
          "x": 5022,
          "y": 4.3840127
         },
         {
          "x": 5023,
          "y": 4.3890243
         },
         {
          "x": 5024,
          "y": 4.4158077
         },
         {
          "x": 5025,
          "y": 4.4164243
         },
         {
          "x": 5026,
          "y": 4.425322
         },
         {
          "x": 5027,
          "y": 4.4298654
         },
         {
          "x": 5028,
          "y": 4.436401
         },
         {
          "x": 5029,
          "y": 4.439348
         },
         {
          "x": 5030,
          "y": 4.4397273
         },
         {
          "x": 5031,
          "y": 4.445059
         },
         {
          "x": 5032,
          "y": 4.4451365
         },
         {
          "x": 5033,
          "y": 4.4512644
         },
         {
          "x": 5034,
          "y": 4.454113
         },
         {
          "x": 5035,
          "y": 4.4588037
         },
         {
          "x": 5036,
          "y": 4.4650702
         },
         {
          "x": 5037,
          "y": 4.474595
         },
         {
          "x": 5038,
          "y": 4.476933
         },
         {
          "x": 5039,
          "y": 4.477121
         },
         {
          "x": 5040,
          "y": 4.479935
         },
         {
          "x": 5041,
          "y": 4.4816575
         },
         {
          "x": 5042,
          "y": 4.481829
         },
         {
          "x": 5043,
          "y": 4.486841
         },
         {
          "x": 5044,
          "y": 4.48941
         },
         {
          "x": 5045,
          "y": 4.4899163
         },
         {
          "x": 5046,
          "y": 4.4903235
         },
         {
          "x": 5047,
          "y": 4.493723
         },
         {
          "x": 5048,
          "y": 4.498145
         },
         {
          "x": 5049,
          "y": 4.5001264
         },
         {
          "x": 5050,
          "y": 4.5010457
         },
         {
          "x": 5051,
          "y": 4.50641
         },
         {
          "x": 5052,
          "y": 4.5078692
         },
         {
          "x": 5053,
          "y": 4.515847
         },
         {
          "x": 5054,
          "y": 4.5160327
         },
         {
          "x": 5055,
          "y": 4.5298023
         },
         {
          "x": 5056,
          "y": 4.5368237
         },
         {
          "x": 5057,
          "y": 4.540392
         },
         {
          "x": 5058,
          "y": 4.554574
         },
         {
          "x": 5059,
          "y": 4.5565557
         },
         {
          "x": 5060,
          "y": 4.5622687
         },
         {
          "x": 5061,
          "y": 4.5627923
         },
         {
          "x": 5062,
          "y": 4.5661426
         },
         {
          "x": 5063,
          "y": 4.5759497
         },
         {
          "x": 5064,
          "y": 4.578582
         },
         {
          "x": 5065,
          "y": 4.581221
         },
         {
          "x": 5066,
          "y": 4.5847497
         },
         {
          "x": 5067,
          "y": 4.5899158
         },
         {
          "x": 5068,
          "y": 4.5970144
         },
         {
          "x": 5069,
          "y": 4.6017776
         },
         {
          "x": 5070,
          "y": 4.60523
         },
         {
          "x": 5071,
          "y": 4.6056066
         },
         {
          "x": 5072,
          "y": 4.608312
         },
         {
          "x": 5073,
          "y": 4.608344
         },
         {
          "x": 5074,
          "y": 4.6124873
         },
         {
          "x": 5075,
          "y": 4.615929
         },
         {
          "x": 5076,
          "y": 4.6189995
         },
         {
          "x": 5077,
          "y": 4.625827
         },
         {
          "x": 5078,
          "y": 4.631636
         },
         {
          "x": 5079,
          "y": 4.6324472
         },
         {
          "x": 5080,
          "y": 4.635504
         },
         {
          "x": 5081,
          "y": 4.6388984
         },
         {
          "x": 5082,
          "y": 4.644025
         },
         {
          "x": 5083,
          "y": 4.6483207
         },
         {
          "x": 5084,
          "y": 4.654465
         },
         {
          "x": 5085,
          "y": 4.655119
         },
         {
          "x": 5086,
          "y": 4.659336
         },
         {
          "x": 5087,
          "y": 4.6648016
         },
         {
          "x": 5088,
          "y": 4.674181
         },
         {
          "x": 5089,
          "y": 4.676291
         },
         {
          "x": 5090,
          "y": 4.687145
         },
         {
          "x": 5091,
          "y": 4.6880016
         },
         {
          "x": 5092,
          "y": 4.692159
         },
         {
          "x": 5093,
          "y": 4.698231
         },
         {
          "x": 5094,
          "y": 4.7058554
         },
         {
          "x": 5095,
          "y": 4.7125654
         },
         {
          "x": 5096,
          "y": 4.7142797
         },
         {
          "x": 5097,
          "y": 4.720159
         },
         {
          "x": 5098,
          "y": 4.729424
         },
         {
          "x": 5099,
          "y": 4.7354474
         },
         {
          "x": 5100,
          "y": 4.7403708
         },
         {
          "x": 5101,
          "y": 4.7484593
         },
         {
          "x": 5102,
          "y": 4.7486687
         },
         {
          "x": 5103,
          "y": 4.7504315
         },
         {
          "x": 5104,
          "y": 4.754853
         },
         {
          "x": 5105,
          "y": 4.755928
         },
         {
          "x": 5106,
          "y": 4.756887
         },
         {
          "x": 5107,
          "y": 4.7587075
         },
         {
          "x": 5108,
          "y": 4.759804
         },
         {
          "x": 5109,
          "y": 4.7688084
         },
         {
          "x": 5110,
          "y": 4.7698126
         },
         {
          "x": 5111,
          "y": 4.770572
         },
         {
          "x": 5112,
          "y": 4.7740717
         },
         {
          "x": 5113,
          "y": 4.7884865
         },
         {
          "x": 5114,
          "y": 4.789179
         },
         {
          "x": 5115,
          "y": 4.789369
         },
         {
          "x": 5116,
          "y": 4.792504
         },
         {
          "x": 5117,
          "y": 4.79663
         },
         {
          "x": 5118,
          "y": 4.7968655
         },
         {
          "x": 5119,
          "y": 4.8001943
         },
         {
          "x": 5120,
          "y": 4.801136
         },
         {
          "x": 5121,
          "y": 4.8013897
         },
         {
          "x": 5122,
          "y": 4.8027873
         },
         {
          "x": 5123,
          "y": 4.811475
         },
         {
          "x": 5124,
          "y": 4.823096
         },
         {
          "x": 5125,
          "y": 4.825225
         },
         {
          "x": 5126,
          "y": 4.8337717
         },
         {
          "x": 5127,
          "y": 4.837304
         },
         {
          "x": 5128,
          "y": 4.8386226
         },
         {
          "x": 5129,
          "y": 4.840395
         },
         {
          "x": 5130,
          "y": 4.841872
         },
         {
          "x": 5131,
          "y": 4.8613253
         },
         {
          "x": 5132,
          "y": 4.8625307
         },
         {
          "x": 5133,
          "y": 4.866978
         },
         {
          "x": 5134,
          "y": 4.873041
         },
         {
          "x": 5135,
          "y": 4.876027
         },
         {
          "x": 5136,
          "y": 4.879319
         },
         {
          "x": 5137,
          "y": 4.8803964
         },
         {
          "x": 5138,
          "y": 4.8834968
         },
         {
          "x": 5139,
          "y": 4.8906054
         },
         {
          "x": 5140,
          "y": 4.9264145
         },
         {
          "x": 5141,
          "y": 4.930857
         },
         {
          "x": 5142,
          "y": 4.9387746
         },
         {
          "x": 5143,
          "y": 4.9394445
         },
         {
          "x": 5144,
          "y": 4.956135
         },
         {
          "x": 5145,
          "y": 4.97122
         },
         {
          "x": 5146,
          "y": 4.9725776
         },
         {
          "x": 5147,
          "y": 4.9830713
         },
         {
          "x": 5148,
          "y": 4.9839325
         },
         {
          "x": 5149,
          "y": 4.983951
         },
         {
          "x": 5150,
          "y": 4.99178
         },
         {
          "x": 5151,
          "y": 5.0226426
         },
         {
          "x": 5152,
          "y": 5.0342155
         },
         {
          "x": 5153,
          "y": 5.034323
         },
         {
          "x": 5154,
          "y": 5.0442967
         },
         {
          "x": 5155,
          "y": 5.0464096
         },
         {
          "x": 5156,
          "y": 5.0472827
         },
         {
          "x": 5157,
          "y": 5.052913
         },
         {
          "x": 5158,
          "y": 5.0720696
         },
         {
          "x": 5159,
          "y": 5.0781703
         },
         {
          "x": 5160,
          "y": 5.080233
         },
         {
          "x": 5161,
          "y": 5.080323
         },
         {
          "x": 5162,
          "y": 5.080893
         },
         {
          "x": 5163,
          "y": 5.0940447
         },
         {
          "x": 5164,
          "y": 5.1056123
         },
         {
          "x": 5165,
          "y": 5.1209984
         },
         {
          "x": 5166,
          "y": 5.1232014
         },
         {
          "x": 5167,
          "y": 5.1284637
         },
         {
          "x": 5168,
          "y": 5.1585617
         },
         {
          "x": 5169,
          "y": 5.166054
         },
         {
          "x": 5170,
          "y": 5.176725
         },
         {
          "x": 5171,
          "y": 5.1809425
         },
         {
          "x": 5172,
          "y": 5.188315
         },
         {
          "x": 5173,
          "y": 5.190567
         },
         {
          "x": 5174,
          "y": 5.2013373
         },
         {
          "x": 5175,
          "y": 5.203367
         },
         {
          "x": 5176,
          "y": 5.2059455
         },
         {
          "x": 5177,
          "y": 5.2063427
         },
         {
          "x": 5178,
          "y": 5.2356167
         },
         {
          "x": 5179,
          "y": 5.2443366
         },
         {
          "x": 5180,
          "y": 5.246533
         },
         {
          "x": 5181,
          "y": 5.247217
         },
         {
          "x": 5182,
          "y": 5.2593307
         },
         {
          "x": 5183,
          "y": 5.269445
         },
         {
          "x": 5184,
          "y": 5.274979
         },
         {
          "x": 5185,
          "y": 5.2855997
         },
         {
          "x": 5186,
          "y": 5.2901683
         },
         {
          "x": 5187,
          "y": 5.2978063
         },
         {
          "x": 5188,
          "y": 5.3113384
         },
         {
          "x": 5189,
          "y": 5.3130546
         },
         {
          "x": 5190,
          "y": 5.3152943
         },
         {
          "x": 5191,
          "y": 5.3205533
         },
         {
          "x": 5192,
          "y": 5.3310523
         },
         {
          "x": 5193,
          "y": 5.334256
         },
         {
          "x": 5194,
          "y": 5.339288
         },
         {
          "x": 5195,
          "y": 5.3525276
         },
         {
          "x": 5196,
          "y": 5.354635
         },
         {
          "x": 5197,
          "y": 5.368978
         },
         {
          "x": 5198,
          "y": 5.3787827
         },
         {
          "x": 5199,
          "y": 5.404649
         },
         {
          "x": 5200,
          "y": 5.4318795
         },
         {
          "x": 5201,
          "y": 5.4387794
         },
         {
          "x": 5202,
          "y": 5.4503613
         },
         {
          "x": 5203,
          "y": 5.4512014
         },
         {
          "x": 5204,
          "y": 5.4728165
         },
         {
          "x": 5205,
          "y": 5.4886875
         },
         {
          "x": 5206,
          "y": 5.5519204
         },
         {
          "x": 5207,
          "y": 5.5792894
         },
         {
          "x": 5208,
          "y": 5.6005826
         },
         {
          "x": 5209,
          "y": 5.61074
         },
         {
          "x": 5210,
          "y": 5.624918
         },
         {
          "x": 5211,
          "y": 5.634097
         },
         {
          "x": 5212,
          "y": 5.646859
         },
         {
          "x": 5213,
          "y": 5.6516094
         },
         {
          "x": 5214,
          "y": 5.6633606
         },
         {
          "x": 5215,
          "y": 5.664164
         },
         {
          "x": 5216,
          "y": 5.69289
         },
         {
          "x": 5217,
          "y": 5.7328124
         },
         {
          "x": 5218,
          "y": 5.73419
         },
         {
          "x": 5219,
          "y": 5.7748203
         },
         {
          "x": 5220,
          "y": 5.8105187
         },
         {
          "x": 5221,
          "y": 5.8253284
         },
         {
          "x": 5222,
          "y": 5.8435106
         },
         {
          "x": 5223,
          "y": 5.903747
         },
         {
          "x": 5224,
          "y": 6.057477
         },
         {
          "x": 5225,
          "y": 6.1048474
         },
         {
          "x": 5226,
          "y": 6.2495522
         },
         {
          "x": 5227,
          "y": 6.28767
         },
         {
          "x": 5228,
          "y": 6.560809
         }
        ]
       },
       "encoding": {
        "x": {
         "axis": {
          "title": "index"
         },
         "field": "x",
         "type": "ordinal"
        },
        "y": {
         "axis": {
          "title": "Log10 counts"
         },
         "field": "y",
         "type": "quantitative"
        }
       },
       "height": 400,
       "mark": "bar",
       "title": "S2 analysis",
       "width": 500
      },
      "image/png": "[encoded data removed]"
     },
     "execution_count": 139,
     "metadata": {},
     "output_type": "execute_result"
    }
   ],
   "source": [
    "(dv::bar-plot (ad::sequence-counts (ad::sequences *full2*)) :x-title \"index\" :y-title \"Log10 counts\" :title \"S2 analysis\")"
   ]
  },
  {
   "cell_type": "code",
   "execution_count": 140,
   "id": "7727fc9e-100f-4934-b930-012cae4d90ce",
   "metadata": {},
   "outputs": [
    {
     "data": {
      "text/plain": [
       "*FULL2-PAIRED*"
      ]
     },
     "execution_count": 140,
     "metadata": {},
     "output_type": "execute_result"
    }
   ],
   "source": [
    "(progn\n",
    "  (defparameter *trim1-paired* (ad:join-codons (ad:sequences *trim1*)))\n",
    "  (defparameter *trim2-paired* (ad:join-codons (ad:sequences *trim2*)))\n",
    "  (defparameter *full1-paired* (ad:join-codons (ad:sequences *full1*)))\n",
    "  (defparameter *full2-paired* (ad:join-codons (ad:sequences *full2*))))"
   ]
  },
  {
   "cell_type": "code",
   "execution_count": 141,
   "id": "4fcb8fdd-7fd5-482f-b71d-dc6813a82535",
   "metadata": {},
   "outputs": [
    {
     "data": {
      "text/plain": [
       "NIL"
      ]
     },
     "execution_count": 141,
     "metadata": {},
     "output_type": "execute_result"
    },
    {
     "name": "stdout",
     "output_type": "stream",
     "text": [
      "(\"19042A02\") 2\n",
      "(\"19052A02\") 2\n",
      "(\"19062A02\") 1\n",
      "(\"19012A02\") 14\n",
      "(\"19012A09\") 65595\n",
      "(\"19082A02\") 8\n",
      "(\"19022A02\") 38171490\n",
      "(\"19022A04\") 2\n"
     ]
    }
   ],
   "source": [
    "(ad:library-codes *full1-paired*)"
   ]
  },
  {
   "cell_type": "code",
   "execution_count": 142,
   "id": "d0f9293b-99e7-441a-8f86-d3347be7d04b",
   "metadata": {},
   "outputs": [
    {
     "data": {
      "text/plain": [
       "NIL"
      ]
     },
     "execution_count": 142,
     "metadata": {},
     "output_type": "execute_result"
    },
    {
     "name": "stdout",
     "output_type": "stream",
     "text": [
      "(\"19052A02\") 1\n",
      "(\"19042A02\") 2\n",
      "(\"19012A01\") 2775\n",
      "(\"19022A06\") 1\n",
      "(\"19022A04\") 8\n",
      "(\"19012A02\") 15\n",
      "(\"19082A02\") 5\n",
      "(\"19022A02\") 39630248\n",
      "(\"19012A09\") 3\n"
     ]
    }
   ],
   "source": [
    "(ad:library-codes *full2-paired*)"
   ]
  },
  {
   "cell_type": "code",
   "execution_count": 153,
   "id": "d50279fe-1103-42ea-8e48-3db0691cc96d",
   "metadata": {},
   "outputs": [
    {
     "data": {
      "text/plain": [
       "19.553856"
      ]
     },
     "execution_count": 153,
     "metadata": {},
     "output_type": "execute_result"
    }
   ],
   "source": [
    "(log 2775 1.5)"
   ]
  },
  {
   "cell_type": "code",
   "execution_count": 154,
   "id": "5c8b2bcc-f6a3-402a-a97b-9bafa1d0e6db",
   "metadata": {},
   "outputs": [
    {
     "data": {
      "text/plain": [
       "(((\"11012201\" \"13012401\" \"15012601\" \"17012801\" \"19012A01\") . 2775))"
      ]
     },
     "execution_count": 154,
     "metadata": {},
     "output_type": "execute_result"
    },
    {
     "name": "stdout",
     "output_type": "stream",
     "text": [
      "(\"11012201\" \"13012401\" \"15012601\" \"17012801\" \"19012A01\") 2775\n",
      "There are 1 entries\n"
     ]
    }
   ],
   "source": [
    "(alexandria:hash-table-alist (ad::search-library-code \"19012A01\" *full2-paired* ))"
   ]
  },
  {
   "cell_type": "code",
   "execution_count": 155,
   "id": "ef317fb2-b558-4207-bf80-49859dad4494",
   "metadata": {},
   "outputs": [
    {
     "data": {
      "text/plain": [
       "(((\"11012202\" \"13052402\" \"15092601\" \"17022805\" \"19012A09\") . 1)\n",
       " ((\"11062202\" \"13022404\" \"15032606\" \"17022807\" \"19012A09\") . 7904)\n",
       " ((\"11062203\" \"13092405\" \"15052601\" \"17022805\" \"19012A09\") . 30427)\n",
       " ((\"11072202\" \"13062405\" \"15032608\" \"17022804\" \"19012A09\") . 27262)\n",
       " ((\"11012202\" \"13062405\" \"15032608\" \"17022804\" \"19012A09\") . 1))"
      ]
     },
     "execution_count": 155,
     "metadata": {},
     "output_type": "execute_result"
    },
    {
     "name": "stdout",
     "output_type": "stream",
     "text": [
      "(\"11012202\" \"13062405\" \"15032608\" \"17022804\" \"19012A09\") 1\n",
      "(\"11072202\" \"13062405\" \"15032608\" \"17022804\" \"19012A09\") 27262\n",
      "(\"11062203\" \"13092405\" \"15052601\" \"17022805\" \"19012A09\") 30427\n",
      "(\"11062202\" \"13022404\" \"15032606\" \"17022807\" \"19012A09\") 7904\n",
      "(\"11012202\" \"13052402\" \"15092601\" \"17022805\" \"19012A09\") 1\n",
      "There are 5 entries\n"
     ]
    }
   ],
   "source": [
    "(alexandria:hash-table-alist (ad::search-library-code \"19012A09\" *full1-paired* ))"
   ]
  },
  {
   "cell_type": "markdown",
   "id": "b7c4ebbf-13e8-40f7-b586-36a91ee90840",
   "metadata": {},
   "source": [
    "## Specify library code to filter on and the minimum sequencing counts"
   ]
  },
  {
   "cell_type": "code",
   "execution_count": 156,
   "id": "7bdaedaa-3f17-4fff-b48a-d32a86834bec",
   "metadata": {},
   "outputs": [
    {
     "data": {
      "text/plain": [
       "100"
      ]
     },
     "execution_count": 156,
     "metadata": {},
     "output_type": "execute_result"
    }
   ],
   "source": [
    "(ad:set-filter :library-code \"19022A02\" :minimum-counts 100)"
   ]
  },
  {
   "cell_type": "code",
   "execution_count": 157,
   "id": "11edb98d-5725-418b-906a-b5ac82820a38",
   "metadata": {},
   "outputs": [
    {
     "data": {
      "text/plain": [
       "*FULL2-COMMON*"
      ]
     },
     "execution_count": 157,
     "metadata": {},
     "output_type": "execute_result"
    }
   ],
   "source": [
    "(progn\n",
    "  (defparameter *trim1-common* (ad:filter-sequences *trim1-paired*))\n",
    "  (defparameter *trim2-common* (ad:filter-sequences *trim2-paired*))\n",
    "  (defparameter *full1-common* (ad:filter-sequences *full1-paired*))\n",
    "  (defparameter *full2-common* (ad:filter-sequences *full2-paired*)))"
   ]
  },
  {
   "cell_type": "code",
   "execution_count": 158,
   "id": "9976f750-e19f-44b8-b699-e0b0de0797ff",
   "metadata": {},
   "outputs": [
    {
     "data": {
      "text/plain": [
       "*FULL2-BEAD*"
      ]
     },
     "execution_count": 158,
     "metadata": {},
     "output_type": "execute_result"
    }
   ],
   "source": [
    "(progn\n",
    "  (defparameter *trim1-bead* (ad:bead-specific-counts *trim1-common*))\n",
    "  (defparameter *trim2-bead* (ad:bead-specific-counts *trim2-common*))\n",
    "  (defparameter *full1-bead* (ad:bead-specific-counts *full1-common*))\n",
    "  (defparameter *full2-bead* (ad:bead-specific-counts *full2-common*)))"
   ]
  },
  {
   "cell_type": "code",
   "execution_count": 160,
   "id": "8039b894-3db1-4cec-b4e0-388d6191bbc2",
   "metadata": {},
   "outputs": [
    {
     "data": {
      "text/plain": [
       "MERGE-FULL1-FULL2"
      ]
     },
     "execution_count": 160,
     "metadata": {},
     "output_type": "execute_result"
    }
   ],
   "source": [
    "(progn\n",
    "  (defparameter merge-trim1-trim2 (ad:merge-hits *trim1-bead* *trim2-bead*))\n",
    "  (defparameter merge-trim1-full1 (ad:merge-hits *trim1-bead* *full1-bead*))\n",
    "  (defparameter merge-full1-trim1 (ad:merge-hits *full1-bead* *trim1-bead*))\n",
    "  (defparameter merge-full2-full1 (ad:merge-hits *full2-bead* *full1-bead*))\n",
    "  (defparameter merge-full1-full2 (ad:merge-hits *full1-bead* *full2-bead*)))"
   ]
  },
  {
   "cell_type": "code",
   "execution_count": 161,
   "id": "f6cb6f21-4831-4d99-9da3-84aa3863b2e7",
   "metadata": {
    "tags": []
   },
   "outputs": [
    {
     "data": {
      "text/plain": [
       "(((\"13022403\" \"15072608\" \"17032809\") 5 4)\n",
       " ((\"13092407\" \"15052606\" \"17032805\") 4 9))"
      ]
     },
     "execution_count": 161,
     "metadata": {},
     "output_type": "execute_result"
    }
   ],
   "source": [
    "(ad:multiple-redundant merge-full2-full1 :min 2)"
   ]
  },
  {
   "cell_type": "code",
   "execution_count": 102,
   "id": "0aa7f778-3ed1-47db-9610-070c1146b3c7",
   "metadata": {
    "tags": []
   },
   "outputs": [
    {
     "data": {
      "text/plain": [
       "(((\"13022403\" \"15022605\" \"17102807\") 6 2)\n",
       " ((\"13022403\" \"15072608\" \"17032809\") 5 4)\n",
       " ((\"13092407\" \"15052606\" \"17032805\") 4 9)\n",
       " ((\"13022403\" \"15022605\" \"17072805\") 2 2))"
      ]
     },
     "execution_count": 102,
     "metadata": {},
     "output_type": "execute_result"
    }
   ],
   "source": [
    "(ad:multiple-redundant merge-full2-full1 :min 2)"
   ]
  },
  {
   "cell_type": "code",
   "execution_count": null,
   "id": "f565a508-bb58-4cc5-b525-30782859ffac",
   "metadata": {},
   "outputs": [],
   "source": []
  },
  {
   "cell_type": "code",
   "execution_count": 91,
   "id": "fb77d2c2-eac3-4fd6-9f20-d6f233e0473c",
   "metadata": {},
   "outputs": [
    {
     "data": {
      "text/plain": [
       "NIL"
      ]
     },
     "execution_count": 91,
     "metadata": {},
     "output_type": "execute_result"
    }
   ],
   "source": [
    "(ad::save-csv merge-full2-full1 \"out.csv\")"
   ]
  },
  {
   "cell_type": "markdown",
   "id": "debda688-d447-4b04-9ed5-3b6400d3dd49",
   "metadata": {},
   "source": [
    "# Analyze some sequences"
   ]
  },
  {
   "cell_type": "code",
   "execution_count": 112,
   "id": "a853d2f7-b851-48ae-8571-b192ac308548",
   "metadata": {},
   "outputs": [
    {
     "data": {
      "text/plain": [
       "NIL"
      ]
     },
     "execution_count": 112,
     "metadata": {},
     "output_type": "execute_result"
    },
    {
     "name": "stdout",
     "output_type": "stream",
     "text": [
      "Read 10000 total sequences and 5769 good sequences - there are 285 unique sequences\n",
      "Read 10000 total sequences and 9960 good sequences - there are 333 unique sequences\n",
      "Read 10000 total sequences and 15194 good sequences - there are 368 unique sequences\n",
      "Read 10000 total sequences and 20669 good sequences - there are 402 unique sequences\n",
      "Finished.\n",
      "Time real(2.563 secs) run(2.563 secs) consed(568004392 bytes) interps(3) unwinds(0)\n"
     ]
    }
   ],
   "source": [
    "(time (ad:serial-analyze '(\"/home/meister/Development/HiDrive/Originals/487-4_S1_L001_R1_001.fastq\"\n",
    "                           \"/home/meister/Development/HiDrive/Originals/487-4_S1_L002_R1_001.fastq\"\n",
    "                           \"/home/meister/Development/HiDrive/Originals/487-4_S1_L003_R1_001.fastq\"\n",
    "                           \"/home/meister/Development/HiDrive/Originals/487-4_S1_L004_R1_001.fastq\"\n",
    "                           )\n",
    "                         :pass-file-name \"/home/meister/Development/analyze-talon/pass-s1-test.fastq\"\n",
    "                         :fail-file-name \"/home/meister/Development/analyze-talon/fail-s1-test.fastq\"\n",
    "                         :num 10000))"
   ]
  },
  {
   "cell_type": "code",
   "execution_count": null,
   "id": "c101fba0-43b1-46e1-a39f-699a59e29824",
   "metadata": {},
   "outputs": [],
   "source": [
    "ad::*original-analysis*"
   ]
  },
  {
   "cell_type": "markdown",
   "id": "db1dac9d-320a-4e92-995e-b27c3038c4fa",
   "metadata": {},
   "source": [
    "# Analyze pass sequences one by one"
   ]
  },
  {
   "cell_type": "code",
   "execution_count": 120,
   "id": "a84a25c1-b7b1-4f8a-80e9-6db0ee873793",
   "metadata": {},
   "outputs": [
    {
     "data": {
      "text/plain": [
       "ALIGN"
      ]
     },
     "execution_count": 120,
     "metadata": {},
     "output_type": "execute_result"
    }
   ],
   "source": [
    "(progn\n",
    "  (defparameter short-file\n",
    "    (sa:make-seq-file-in \"/home/meister/Development/analyze-talon/pass-s2-full.fastq\"))\n",
    "  (defparameter title (sa:make-string :char-string))\n",
    "  (defparameter seqp (sa:make-string :dna5q-string))\n",
    "  (defparameter align (sa:make-align :dna5q-string))\n",
    "  )"
   ]
  },
  {
   "cell_type": "code",
   "execution_count": 133,
   "id": "b98a8448-4e3d-40fb-a538-6906c0882ac1",
   "metadata": {
    "tags": []
   },
   "outputs": [
    {
     "data": {
      "text/plain": [
       "(#<MATCH 0 1109 0 NIL> #<MATCH 0 2203 0 NIL> #<MATCH 0 1309 0 NIL>\n",
       " #<MATCH 0 2407 0 NIL> #<MATCH 0 1505 1 NIL> #<MATCH 0 2606 0 NIL>\n",
       " #<MATCH 0 1703 0 NIL> #<MATCH 0 2805 0 NIL> #<MATCH 0 1902 0 NIL>\n",
       " #<MATCH 0 2A02 0 NIL>)"
      ]
     },
     "execution_count": 133,
     "metadata": {},
     "output_type": "execute_result"
    },
    {
     "name": "stdout",
     "output_type": "stream",
     "text": [
      "sequence: NATTCTTAGAGCCGCCCAGTCCTGCTCGCTTCGCTACATGGTGAAGGAATCAATTCTCGGGTTTGAAGGAACTACCCTCCGGTTCAGAAAGCACGCCATTTCAAGTAACGAGATTTGGGACTCCGCTCTACGGAGCAAAGAACCTCAAGCCTGTTTGCCCGC\n",
      "Alignment: \n",
      "      0     .    :    .    :    .    :    .    :    .    : \n",
      "        NATTCTTAGAGCCGCCCAGTCCTGCTCGCTTCGCTACATGGTGAAGGAAT\n",
      "                  ||||||||||||||||||||||||||||            \n",
      "        ----------GCCGCCCAGTCCTGCTCGCTTCGCTACA------------\n",
      "\n",
      "     50     .    :    .    :    .    :    .    :    .    : \n",
      "        CAATTCTCGGGTTTGAAGGAACTACCCTCCGGTTCAGAAAGCACGCCATT\n",
      "                                                          \n",
      "        --------------------------------------------------\n",
      "\n",
      "    100     .    :    .    :    .    :    .    :    .    : \n",
      "        TCAAGTAACGAGATTTGGGACTCCGCTCTACGGAGCAAAGAACCTCAAGC\n",
      "                                                          \n",
      "        --------------------------------------------------\n",
      "\n",
      "    150     .    :   \n",
      "        CTGTTTGCCCGC\n",
      "                    \n",
      "        ------------\n",
      "\n",
      "\n",
      "\n",
      "len fwd: 28\n",
      "3' end: 39\n",
      "      0     .    :    .    :    .    :    .    :    .    : \n",
      "        NATTCTTAGAGCCGCCCAGTCCTGCTCGCTTCGCTACATGGTGAAGGAAT\n",
      "                  ||||||||||||||||||||||||||||            \n",
      "        ----------GCCGCCCAGTCCTGCTCGCTTCGCTACA------------\n",
      "\n",
      "     50     .    :    .    :    .    :    .    :    .    : \n",
      "        CAATTCTCGGGTTTGAAGGAACTACCCTCCGGTTCAGAAAGCACGCCATT\n",
      "                                                          \n",
      "        --------------------------------------------------\n",
      "\n",
      "    100     .    :    .    :    .    :    .    :    .    : \n",
      "        TCAAGTAACGAGATTTGGGACTCCGCTCTACGGAGCAAAGAACCTCAAGC\n",
      "                                                          \n",
      "        --------------------------------------------------\n",
      "\n",
      "    150     .    :   \n",
      "        CTGTTTGCCCGC\n",
      "                    \n",
      "        ------------\n",
      "\n",
      "\n",
      "\n",
      "abs-start: 39  abs-end 53 Subsequence: TGGTGAAGGAATCA\n",
      "offset: 0 best-digits: #<MATCH 0 1109 0 NIL>\n",
      "abs-start: 50  abs-end 64 Subsequence: TCAATTCTCGGGTT\n",
      "offset: 11 best-digits: #<MATCH 0 2203 0 NIL>\n",
      "abs-start: 61  abs-end 75 Subsequence: GTTTGAAGGAACTA\n",
      "offset: 22 best-digits: #<MATCH 0 1309 0 NIL>\n",
      "abs-start: 72  abs-end 86 Subsequence: CTACCCTCCGGTTC\n",
      "offset: 33 best-digits: #<MATCH 0 2407 0 NIL>\n",
      "abs-start: 83  abs-end 97 Subsequence: TTCAGAAAGCACGC\n",
      "offset: 44 best-digits: #<MATCH 0 1505 1 NIL>\n",
      "abs-start: 94  abs-end 108 Subsequence: CGCCATTTCAAGTA\n",
      "offset: 55 best-digits: #<MATCH 0 2606 0 NIL>\n",
      "abs-start: 105  abs-end 119 Subsequence: GTAACGAGATTTGG\n",
      "offset: 66 best-digits: #<MATCH 0 1703 0 NIL>\n",
      "abs-start: 116  abs-end 130 Subsequence: TGGGACTCCGCTCT\n",
      "offset: 77 best-digits: #<MATCH 0 2805 0 NIL>\n",
      "abs-start: 127  abs-end 141 Subsequence: TCTACGGAGCAAAG\n",
      "offset: 88 best-digits: #<MATCH 0 1902 0 NIL>\n",
      "abs-start: 138  abs-end 152 Subsequence: AAGAACCTCAAGCC\n",
      "offset: 99 best-digits: #<MATCH 0 2A02 0 NIL>\n",
      "result: (#<MATCH 0 1109 0 NIL> #<MATCH 0 2203 0 NIL> #<MATCH 0 1309 0 NIL>\n",
      " #<MATCH 0 2407 0 NIL> #<MATCH 0 1505 1 NIL> #<MATCH 0 2606 0 NIL>\n",
      " #<MATCH 0 1703 0 NIL> #<MATCH 0 2805 0 NIL> #<MATCH 0 1902 0 NIL>\n",
      " #<MATCH 0 2A02 0 NIL>)\n"
     ]
    }
   ],
   "source": [
    "(progn\n",
    "  (sa:read-record title seqp short-file)\n",
    "  (format t \"sequence: ~a~%\" (sa:to-string seqp))\n",
    "  (analyze-del::analyze-sequence align seqp :verbose t)\n",
    "  )"
   ]
  },
  {
   "cell_type": "code",
   "execution_count": 134,
   "id": "77c1cbf9-c72a-42f7-bd5e-3027fefa81a7",
   "metadata": {},
   "outputs": [
    {
     "data": {
      "application/vnd.vegalite.v4+json": {
       "$schema": "https://vega.github.io/schema/vega-lite/v5.json",
       "data": {
        "values": [
         {
          "x": 0,
          "y": 0
         },
         {
          "x": 1,
          "y": 32
         },
         {
          "x": 2,
          "y": 32
         },
         {
          "x": 3,
          "y": 32
         },
         {
          "x": 4,
          "y": 32
         },
         {
          "x": 5,
          "y": 36
         },
         {
          "x": 6,
          "y": 36
         },
         {
          "x": 7,
          "y": 36
         },
         {
          "x": 8,
          "y": 36
         },
         {
          "x": 9,
          "y": 36
         },
         {
          "x": 10,
          "y": 36
         },
         {
          "x": 11,
          "y": 36
         },
         {
          "x": 12,
          "y": 36
         },
         {
          "x": 13,
          "y": 36
         },
         {
          "x": 14,
          "y": 36
         },
         {
          "x": 15,
          "y": 36
         },
         {
          "x": 16,
          "y": 36
         },
         {
          "x": 17,
          "y": 36
         },
         {
          "x": 18,
          "y": 36
         },
         {
          "x": 19,
          "y": 36
         },
         {
          "x": 20,
          "y": 36
         },
         {
          "x": 21,
          "y": 36
         },
         {
          "x": 22,
          "y": 36
         },
         {
          "x": 23,
          "y": 36
         },
         {
          "x": 24,
          "y": 36
         },
         {
          "x": 25,
          "y": 36
         },
         {
          "x": 26,
          "y": 36
         },
         {
          "x": 27,
          "y": 36
         },
         {
          "x": 28,
          "y": 36
         },
         {
          "x": 29,
          "y": 36
         },
         {
          "x": 30,
          "y": 36
         },
         {
          "x": 31,
          "y": 36
         },
         {
          "x": 32,
          "y": 36
         },
         {
          "x": 33,
          "y": 36
         },
         {
          "x": 34,
          "y": 36
         },
         {
          "x": 35,
          "y": 36
         },
         {
          "x": 36,
          "y": 36
         },
         {
          "x": 37,
          "y": 36
         },
         {
          "x": 38,
          "y": 36
         },
         {
          "x": 39,
          "y": 36
         },
         {
          "x": 40,
          "y": 36
         },
         {
          "x": 41,
          "y": 36
         },
         {
          "x": 42,
          "y": 36
         },
         {
          "x": 43,
          "y": 36
         },
         {
          "x": 44,
          "y": 36
         },
         {
          "x": 45,
          "y": 36
         },
         {
          "x": 46,
          "y": 36
         },
         {
          "x": 47,
          "y": 36
         },
         {
          "x": 48,
          "y": 36
         },
         {
          "x": 49,
          "y": 36
         },
         {
          "x": 50,
          "y": 36
         },
         {
          "x": 51,
          "y": 36
         },
         {
          "x": 52,
          "y": 36
         },
         {
          "x": 53,
          "y": 36
         },
         {
          "x": 54,
          "y": 36
         },
         {
          "x": 55,
          "y": 36
         },
         {
          "x": 56,
          "y": 36
         },
         {
          "x": 57,
          "y": 36
         },
         {
          "x": 58,
          "y": 36
         },
         {
          "x": 59,
          "y": 36
         },
         {
          "x": 60,
          "y": 36
         },
         {
          "x": 61,
          "y": 36
         },
         {
          "x": 62,
          "y": 36
         },
         {
          "x": 63,
          "y": 36
         },
         {
          "x": 64,
          "y": 36
         },
         {
          "x": 65,
          "y": 36
         },
         {
          "x": 66,
          "y": 36
         },
         {
          "x": 67,
          "y": 36
         },
         {
          "x": 68,
          "y": 36
         },
         {
          "x": 69,
          "y": 36
         },
         {
          "x": 70,
          "y": 36
         },
         {
          "x": 71,
          "y": 36
         },
         {
          "x": 72,
          "y": 36
         },
         {
          "x": 73,
          "y": 36
         },
         {
          "x": 74,
          "y": 32
         },
         {
          "x": 75,
          "y": 32
         },
         {
          "x": 76,
          "y": 36
         },
         {
          "x": 77,
          "y": 36
         },
         {
          "x": 78,
          "y": 36
         },
         {
          "x": 79,
          "y": 36
         },
         {
          "x": 80,
          "y": 36
         },
         {
          "x": 81,
          "y": 36
         },
         {
          "x": 82,
          "y": 32
         },
         {
          "x": 83,
          "y": 27
         },
         {
          "x": 84,
          "y": 36
         },
         {
          "x": 85,
          "y": 36
         },
         {
          "x": 86,
          "y": 36
         },
         {
          "x": 87,
          "y": 14
         },
         {
          "x": 88,
          "y": 36
         },
         {
          "x": 89,
          "y": 36
         },
         {
          "x": 90,
          "y": 36
         },
         {
          "x": 91,
          "y": 27
         },
         {
          "x": 92,
          "y": 36
         },
         {
          "x": 93,
          "y": 36
         },
         {
          "x": 94,
          "y": 36
         },
         {
          "x": 95,
          "y": 36
         },
         {
          "x": 96,
          "y": 36
         },
         {
          "x": 97,
          "y": 36
         },
         {
          "x": 98,
          "y": 36
         },
         {
          "x": 99,
          "y": 36
         },
         {
          "x": 100,
          "y": 36
         },
         {
          "x": 101,
          "y": 36
         },
         {
          "x": 102,
          "y": 36
         },
         {
          "x": 103,
          "y": 36
         },
         {
          "x": 104,
          "y": 36
         },
         {
          "x": 105,
          "y": 36
         },
         {
          "x": 106,
          "y": 36
         },
         {
          "x": 107,
          "y": 32
         },
         {
          "x": 108,
          "y": 36
         },
         {
          "x": 109,
          "y": 36
         },
         {
          "x": 110,
          "y": 36
         },
         {
          "x": 111,
          "y": 36
         },
         {
          "x": 112,
          "y": 36
         },
         {
          "x": 113,
          "y": 36
         },
         {
          "x": 114,
          "y": 36
         },
         {
          "x": 115,
          "y": 36
         },
         {
          "x": 116,
          "y": 32
         },
         {
          "x": 117,
          "y": 36
         },
         {
          "x": 118,
          "y": 36
         },
         {
          "x": 119,
          "y": 36
         },
         {
          "x": 120,
          "y": 36
         },
         {
          "x": 121,
          "y": 36
         },
         {
          "x": 122,
          "y": 36
         },
         {
          "x": 123,
          "y": 36
         },
         {
          "x": 124,
          "y": 27
         },
         {
          "x": 125,
          "y": 36
         },
         {
          "x": 126,
          "y": 32
         },
         {
          "x": 127,
          "y": 32
         },
         {
          "x": 128,
          "y": 32
         },
         {
          "x": 129,
          "y": 32
         },
         {
          "x": 130,
          "y": 27
         },
         {
          "x": 131,
          "y": 32
         },
         {
          "x": 132,
          "y": 36
         },
         {
          "x": 133,
          "y": 36
         },
         {
          "x": 134,
          "y": 36
         },
         {
          "x": 135,
          "y": 36
         },
         {
          "x": 136,
          "y": 36
         },
         {
          "x": 137,
          "y": 32
         },
         {
          "x": 138,
          "y": 36
         },
         {
          "x": 139,
          "y": 36
         },
         {
          "x": 140,
          "y": 36
         },
         {
          "x": 141,
          "y": 36
         },
         {
          "x": 142,
          "y": 36
         },
         {
          "x": 143,
          "y": 36
         },
         {
          "x": 144,
          "y": 36
         },
         {
          "x": 145,
          "y": 36
         },
         {
          "x": 146,
          "y": 36
         },
         {
          "x": 147,
          "y": 36
         },
         {
          "x": 148,
          "y": 36
         },
         {
          "x": 149,
          "y": 36
         },
         {
          "x": 150,
          "y": 36
         },
         {
          "x": 151,
          "y": 27
         },
         {
          "x": 152,
          "y": 32
         },
         {
          "x": 153,
          "y": 27
         },
         {
          "x": 154,
          "y": 32
         },
         {
          "x": 155,
          "y": 32
         },
         {
          "x": 156,
          "y": 36
         },
         {
          "x": 157,
          "y": 36
         },
         {
          "x": 158,
          "y": 32
         },
         {
          "x": 159,
          "y": 32
         },
         {
          "x": 160,
          "y": 36
         },
         {
          "x": 161,
          "y": 21
         }
        ]
       },
       "encoding": {
        "x": {
         "field": "x",
         "type": "ordinal"
        },
        "y": {
         "field": "y",
         "type": "quantitative"
        }
       },
       "height": 400,
       "mark": "bar",
       "width": 500
      },
      "image/png": "[encoded data removed]"
     },
     "execution_count": 134,
     "metadata": {},
     "output_type": "execute_result"
    }
   ],
   "source": [
    "(dv::bar-plot (ad::get-quality-data seqp))"
   ]
  },
  {
   "cell_type": "code",
   "execution_count": 107,
   "id": "91d7ac46-2ba7-42e1-81a8-8d15d21d38fa",
   "metadata": {},
   "outputs": [
    {
     "data": {
      "text/plain": [
       "FOO"
      ]
     },
     "execution_count": 107,
     "metadata": {},
     "output_type": "execute_result"
    }
   ],
   "source": [
    "(defun foo (n) (loop for x below n do (print x)))"
   ]
  },
  {
   "cell_type": "code",
   "execution_count": 105,
   "id": "1fdd4cb7-8907-4711-a315-963887ad360d",
   "metadata": {},
   "outputs": [
    {
     "data": {
      "text/plain": [
       "NIL"
      ]
     },
     "execution_count": 105,
     "metadata": {},
     "output_type": "execute_result"
    },
    {
     "name": "stdout",
     "output_type": "stream",
     "text": [
      "\n",
      "0 \n",
      "1 \n",
      "2 \n",
      "3 \n",
      "4 "
     ]
    }
   ],
   "source": [
    "(foo 5)"
   ]
  },
  {
   "cell_type": "markdown",
   "id": "e11efec6-da80-42e3-b2e3-7d1efaf51698",
   "metadata": {},
   "source": [
    "# Analyze the fail sequences"
   ]
  },
  {
   "cell_type": "code",
   "execution_count": 113,
   "id": "3300debc-4baf-42f3-95dc-af897fbaf4d4",
   "metadata": {},
   "outputs": [
    {
     "data": {
      "text/plain": [
       "ALIGN"
      ]
     },
     "execution_count": 113,
     "metadata": {},
     "output_type": "execute_result"
    }
   ],
   "source": [
    "(progn\n",
    "  (defparameter short-file\n",
    "    (sa:make-seq-file-in \"/home/meister/Development/analyze-talon/fail-s2-full.fastq\"))\n",
    "  (defparameter title (sa:make-string :char-string))\n",
    "  (defparameter seqf (sa:make-string :dna5q-string))\n",
    "  (defparameter align (sa:make-align :dna5q-string))\n",
    "  )"
   ]
  },
  {
   "cell_type": "code",
   "execution_count": 118,
   "id": "60bcaf7b-d90f-40ef-89c9-3d153c75bb00",
   "metadata": {
    "tags": []
   },
   "outputs": [
    {
     "data": {
      "text/plain": [
       "(#<MATCH 0 1102 0 NIL> #<MATCH 0 2201 3 NIL> #<MATCH 0 1304 1 NIL>\n",
       " #<MATCH 0 2401 2 NIL> #<MATCH 0 1502 1 NIL> #<MATCH -1 2610 3 NIL>\n",
       " #<MATCH 0 1702 1 NIL> #<MATCH 0 2807 5 NIL> #<MATCH 0 1902 0 NIL>\n",
       " #<MATCH 0 2A02 0 NIL>)"
      ]
     },
     "execution_count": 118,
     "metadata": {},
     "output_type": "execute_result"
    },
    {
     "name": "stdout",
     "output_type": "stream",
     "text": [
      "sequence: NTTAAGTATCGCCGCCCAGTCCTGCTCGCTTCGCTACATGGACGGAGCATCACCTCCTAAGTTAAGGAGGTCTACCTCCTAATTCACGGAGCACGCTCTCCACCGTAACGGAGCATGGCCCTCCGGTCTACGGAGCAAAGAACCTCAAGCCTGTTTGCCCGC\n",
      "Alignment: \n",
      "      0     .    :    .    :    .    :    .    :    .    : \n",
      "        NTTAAGTATCGCCGCCCAGTCCTGCTCGCTTCGCTACATGGACGGAGCAT\n",
      "                  ||||||||||||||||||||||||||||            \n",
      "        ----------GCCGCCCAGTCCTGCTCGCTTCGCTACA------------\n",
      "\n",
      "     50     .    :    .    :    .    :    .    :    .    : \n",
      "        CACCTCCTAAGTTAAGGAGGTCTACCTCCTAATTCACGGAGCACGCTCTC\n",
      "                                                          \n",
      "        --------------------------------------------------\n",
      "\n",
      "    100     .    :    .    :    .    :    .    :    .    : \n",
      "        CACCGTAACGGAGCATGGCCCTCCGGTCTACGGAGCAAAGAACCTCAAGC\n",
      "                                                          \n",
      "        --------------------------------------------------\n",
      "\n",
      "    150     .    :   \n",
      "        CTGTTTGCCCGC\n",
      "                    \n",
      "        ------------\n",
      "\n",
      "\n",
      "\n",
      "len fwd: 28\n",
      "3' end: 39\n",
      "      0     .    :    .    :    .    :    .    :    .    : \n",
      "        NTTAAGTATCGCCGCCCAGTCCTGCTCGCTTCGCTACATGGACGGAGCAT\n",
      "                  ||||||||||||||||||||||||||||            \n",
      "        ----------GCCGCCCAGTCCTGCTCGCTTCGCTACA------------\n",
      "\n",
      "     50     .    :    .    :    .    :    .    :    .    : \n",
      "        CACCTCCTAAGTTAAGGAGGTCTACCTCCTAATTCACGGAGCACGCTCTC\n",
      "                                                          \n",
      "        --------------------------------------------------\n",
      "\n",
      "    100     .    :    .    :    .    :    .    :    .    : \n",
      "        CACCGTAACGGAGCATGGCCCTCCGGTCTACGGAGCAAAGAACCTCAAGC\n",
      "                                                          \n",
      "        --------------------------------------------------\n",
      "\n",
      "    150     .    :   \n",
      "        CTGTTTGCCCGC\n",
      "                    \n",
      "        ------------\n",
      "\n",
      "\n",
      "\n",
      "abs-start: 39  abs-end 53 Subsequence: TGGACGGAGCATCA\n",
      "offset: 0 best-digits: #<MATCH 0 1102 0 NIL>\n",
      "abs-start: 50  abs-end 64 Subsequence: TCACCTCCTAAGTT\n",
      "offset: 11 best-digits: #<MATCH 0 2201 3 NIL>\n",
      "abs-start: 61  abs-end 75 Subsequence: GTTAAGGAGGTCTA\n",
      "offset: 22 best-digits: #<MATCH 0 1304 1 NIL>\n",
      "abs-start: 72  abs-end 86 Subsequence: CTACCTCCTAATTC\n",
      "offset: 33 best-digits: #<MATCH 0 2401 2 NIL>\n",
      "abs-start: 83  abs-end 97 Subsequence: TTCACGGAGCACGC\n",
      "offset: 44 best-digits: #<MATCH 0 1502 1 NIL>\n",
      "abs-start: 94  abs-end 108 Subsequence: CGCTCTCCACCGTA\n",
      "Score: -4\n",
      "      0     .    :    .    :    .    :    .    :    .    : \n",
      "        NTTAAGTATCGCCGCCCAGTCCTGCTCGCTTCGCTACATGGACGGAGCAT\n",
      "                                                          \n",
      "        --------------------------------------------------\n",
      "\n",
      "     50     .    :    .    :    .    :    .    :    .    : \n",
      "        CACCTCCTAAGTTAAGGAGGTCTACCTCCTAATTCACGGAGCACGCTCTC\n",
      "                                                   ||| |||\n",
      "        -------------------------------------------CGCCCTC\n",
      "\n",
      "    100     .    :    .    :    .    :    .    :    .    : \n",
      "        CACCGTAACGGAGCATGGCCCTCCGGTCTACGGAGCAAAGAACCTCAAGC\n",
      "        |   |||                                           \n",
      "        CTAAGTA-------------------------------------------\n",
      "\n",
      "    150     .    :   \n",
      "        CTGTTTGCCCGC\n",
      "                    \n",
      "        ------------\n",
      "\n",
      "\n",
      "\n",
      "Score: -7\n",
      "      0     .    :    .    :    .    :    .    :    .    : \n",
      "        NTTAAGTATCGCCGCCCAGTCCTGCTCGCTTCGCTACATGGACGGAGCAT\n",
      "                                                          \n",
      "        --------------------------------------------------\n",
      "\n",
      "     50     .    :    .    :    .    :    .    :    .    : \n",
      "        CACCTCCTAAGTTAAGGAGGTCTACCTCCTAATTCACGGAGCACGCTCTC\n",
      "                                                   |||   |\n",
      "        -------------------------------------------CGCAACC\n",
      "\n",
      "    100     .    :    .    :    .    :    .    :    .    : \n",
      "        CACCGTAACGGAGCATGGCCCTCCGGTCTACGGAGCAAAGAACCTCAAGC\n",
      "            |||                                           \n",
      "        TCAAGTA-------------------------------------------\n",
      "\n",
      "    150     .    :   \n",
      "        CTGTTTGCCCGC\n",
      "                    \n",
      "        ------------\n",
      "\n",
      "\n",
      "\n",
      "Score: -6\n",
      "      0     .    :    .    :    .    :    .    :    .    : \n",
      "        NTTAAGTATCGCCGCCCAGTCCTGCTCGCTTCGCTACATGGACGGAGCAT\n",
      "                                                          \n",
      "        --------------------------------------------------\n",
      "\n",
      "     50     .    :    .    :    .    :    .    :    .    : \n",
      "        CACCTCCTAAGTTAAGGAGGTCTACCTCCTAATTCACGGAGCACGCTCTC\n",
      "                                                   |||  ||\n",
      "        -------------------------------------------CGCATTC\n",
      "\n",
      "    100     .    :    .    :    .    :    .    :    .    : \n",
      "        CACCGTAACGGAGCATGGCCCTCCGGTCTACGGAGCAAAGAACCTCAAGC\n",
      "            |||                                           \n",
      "        TCGGGTA-------------------------------------------\n",
      "\n",
      "    150     .    :   \n",
      "        CTGTTTGCCCGC\n",
      "                    \n",
      "        ------------\n",
      "\n",
      "\n",
      "\n",
      "Score: -5\n",
      "      0     .    :    .    :    .    :    .    :    .    : \n",
      "        NTTAAGTATCGCCGCCCAGTCCTGCTCGCTTCGCTACATGGACGGAGCAT\n",
      "                                                          \n",
      "        --------------------------------------------------\n",
      "\n",
      "     50     .    :    .    :    .    :    .    :    .    : \n",
      "        CACCTCCTAAGTTAAGGAGGTCTACCTCCTAATTCACGGAGCACGCTCTC\n",
      "                                                   |||   |\n",
      "        -------------------------------------------CGCAACC\n",
      "\n",
      "    100     .    :    .    :    .    :    .    :    .    : \n",
      "        CACCGTAACGGAGCATGGCCCTCCGGTCTACGGAGCAAAGAACCTCAAGC\n",
      "        |  ||||                                           \n",
      "        CTACGTA-------------------------------------------\n",
      "\n",
      "    150     .    :   \n",
      "        CTGTTTGCCCGC\n",
      "                    \n",
      "        ------------\n",
      "\n",
      "\n",
      "\n",
      "Score: -6\n",
      "      0     .    :    .    :    .    :    .    :    .    : \n",
      "        NTTAAGTATCGCCGCCCAGTCCTGCTCGCTTCGCTACATGGACGGAGCAT\n",
      "                                                          \n",
      "        --------------------------------------------------\n",
      "\n",
      "     50     .    :    .    :    .    :    .    :    .    : \n",
      "        CACCTCCTAAGTTAAGGAGGTCTACCTCCTAATTCACGGAGCACGCTCTC\n",
      "                                                   |||    \n",
      "        -------------------------------------------CGCGACT\n",
      "\n",
      "    100     .    :    .    :    .    :    .    :    .    : \n",
      "        CACCGTAACGGAGCATGGCCCTCCGGTCTACGGAGCAAAGAACCTCAAGC\n",
      "        |  ||||                                           \n",
      "        CCGCGTA-------------------------------------------\n",
      "\n",
      "    150     .    :   \n",
      "        CTGTTTGCCCGC\n",
      "                    \n",
      "        ------------\n",
      "\n",
      "\n",
      "\n",
      "Score: -7\n",
      "      0     .    :    .    :    .    :    .    :    .    : \n",
      "        NTTAAGTATCGCCGCCCAGTCCTGCTCGCTTCGCTACATGGACGGAGCAT\n",
      "                                                          \n",
      "        --------------------------------------------------\n",
      "\n",
      "     50     .    :    .    :    .    :    .    :    .    : \n",
      "        CACCTCCTAAGTTAAGGAGGTCTACCTCCTAATTCACGGAGCACGCTCTC\n",
      "                                                   |||  | \n",
      "        -------------------------------------------CGCCATT\n",
      "\n",
      "    100     .    :    .    :    .    :    .    :    .    : \n",
      "        CACCGTAACGGAGCATGGCCCTCCGGTCTACGGAGCAAAGAACCTCAAGC\n",
      "            |||                                           \n",
      "        TCAAGTA-------------------------------------------\n",
      "\n",
      "    150     .    :   \n",
      "        CTGTTTGCCCGC\n",
      "                    \n",
      "        ------------\n",
      "\n",
      "\n",
      "\n",
      "Score: -6\n",
      "      0     .    :    .    :    .    :    .    :    .    : \n",
      "        NTTAAGTATCGCCGCCCAGTCCTGCTCGCTTCGCTACATGGACGGAGCAT\n",
      "                                                          \n",
      "        --------------------------------------------------\n",
      "\n",
      "     50     .    :    .    :    .    :    .    :    .    : \n",
      "        CACCTCCTAAGTTAAGGAGGTCTACCTCCTAATTCACGGAGCACGCTCTC\n",
      "                                                   ||| |  \n",
      "        -------------------------------------------CGCCCCT\n",
      "\n",
      "    100     .    :    .    :    .    :    .    :    .    : \n",
      "        CACCGTAACGGAGCATGGCCCTCCGGTCTACGGAGCAAAGAACCTCAAGC\n",
      "        |   |||                                           \n",
      "        CCGGGTA-------------------------------------------\n",
      "\n",
      "    150     .    :   \n",
      "        CTGTTTGCCCGC\n",
      "                    \n",
      "        ------------\n",
      "\n",
      "\n",
      "\n",
      "Score: -6\n",
      "      0     .    :    .    :    .    :    .    :    .    : \n",
      "        NTTAAGTATCGCCGCCCAGTCCTGCTCGCTTCGCTACATGGACGGAGCAT\n",
      "                                                          \n",
      "        --------------------------------------------------\n",
      "\n",
      "     50     .    :    .    :    .    :    .    :    .    : \n",
      "        CACCTCCTAAGTTAAGGAGGTCTACCTCCTAATTCACGGAGCACGCTCTC\n",
      "                                                   |||  | \n",
      "        -------------------------------------------CGCCGTT\n",
      "\n",
      "    100     .    :    .    :    .    :    .    :    .    : \n",
      "        CACCGTAACGGAGCATGGCCCTCCGGTCTACGGAGCAAAGAACCTCAAGC\n",
      "        |   |||                                           \n",
      "        CCTGGTA-------------------------------------------\n",
      "\n",
      "    150     .    :   \n",
      "        CTGTTTGCCCGC\n",
      "                    \n",
      "        ------------\n",
      "\n",
      "\n",
      "\n",
      "Score: -7\n",
      "      0     .    :    .    :    .    :    .    :    .    : \n",
      "        NTTAAGTATCGCCGCCCAGTCCTGCTCGCTTCGCTACATGGACGGAGCAT\n",
      "                                                          \n",
      "        --------------------------------------------------\n",
      "\n",
      "     50     .    :    .    :    .    :    .    :    .    : \n",
      "        CACCTCCTAAGTTAAGGAGGTCTACCTCCTAATTCACGGAGCACGCTCTC\n",
      "                                                   ||||   \n",
      "        -------------------------------------------CGCTTCT\n",
      "\n",
      "    100     .    :    .    :    .    :    .    :    .    : \n",
      "        CACCGTAACGGAGCATGGCCCTCCGGTCTACGGAGCAAAGAACCTCAAGC\n",
      "            |||                                           \n",
      "        TCATGTA-------------------------------------------\n",
      "\n",
      "    150     .    :   \n",
      "        CTGTTTGCCCGC\n",
      "                    \n",
      "        ------------\n",
      "\n",
      "\n",
      "\n",
      "Score: -1\n",
      "      0     .    :    .    :    .    :    .    :    .    : \n",
      "        NTTAAGTATCGCCGCCCAGTCCTGCTCGCTTCGCTACATGGACGGAGCAT\n",
      "                                                          \n",
      "        --------------------------------------------------\n",
      "\n",
      "     50     .    :    .    :    .    :    .    :    .    : \n",
      "        CACCTCCTAAGTTAAGGAGGTCTACCTCCTAATTCACGGAGCACGCTCTC\n",
      "                                                   |||||||\n",
      "        -------------------------------------------CGCTCTC\n",
      "\n",
      "    100     .    :    .    :    .    :    .    :    .    : \n",
      "        CACCGTAACGGAGCATGGCCCTCCGGTCTACGGAGCAAAGAACCTCAAGC\n",
      "        | |||||                                           \n",
      "        CTCCGTA-------------------------------------------\n",
      "\n",
      "    150     .    :   \n",
      "        CTGTTTGCCCGC\n",
      "                    \n",
      "        ------------\n",
      "\n",
      "\n",
      "\n",
      "unsorted alignments: (#<MATCH -4 2601 3 NIL> #<MATCH -7 2602 3 NIL> #<MATCH -6 2603 3 NIL>\n",
      " #<MATCH -5 2604 3 NIL> #<MATCH -6 2605 3 NIL> #<MATCH -7 2606 3 NIL>\n",
      " #<MATCH -6 2607 3 NIL> #<MATCH -6 2608 3 NIL> #<MATCH -7 2609 3 NIL>\n",
      " #<MATCH -1 2610 3 NIL>)\n",
      "offset: 55 best-digits: #<MATCH -1 2610 3 NIL>\n",
      "abs-start: 105  abs-end 119 Subsequence: GTAACGGAGCATGG\n",
      "offset: 66 best-digits: #<MATCH 0 1702 1 NIL>\n",
      "abs-start: 116  abs-end 130 Subsequence: TGGCCCTCCGGTCT\n",
      "offset: 77 best-digits: #<MATCH 0 2807 5 NIL>\n",
      "abs-start: 127  abs-end 141 Subsequence: TCTACGGAGCAAAG\n",
      "offset: 88 best-digits: #<MATCH 0 1902 0 NIL>\n",
      "abs-start: 138  abs-end 152 Subsequence: AAGAACCTCAAGCC\n",
      "offset: 99 best-digits: #<MATCH 0 2A02 0 NIL>\n",
      "result: (#<MATCH 0 1102 0 NIL> #<MATCH 0 2201 3 NIL> #<MATCH 0 1304 1 NIL>\n",
      " #<MATCH 0 2401 2 NIL> #<MATCH 0 1502 1 NIL> #<MATCH -1 2610 3 NIL>\n",
      " #<MATCH 0 1702 1 NIL> #<MATCH 0 2807 5 NIL> #<MATCH 0 1902 0 NIL>\n",
      " #<MATCH 0 2A02 0 NIL>)\n"
     ]
    }
   ],
   "source": [
    "(progn\n",
    "  (sa:read-record title seqf short-file)\n",
    "  (format t \"sequence: ~a~%\" (sa:to-string seqf))\n",
    "  (analyze-del::analyze-sequence align seqf :verbose t)\n",
    "  )"
   ]
  },
  {
   "cell_type": "code",
   "execution_count": 119,
   "id": "87cd57e8-86e6-4872-b1d5-cdda46d718fe",
   "metadata": {},
   "outputs": [
    {
     "data": {
      "application/vnd.vegalite.v4+json": {
       "$schema": "https://vega.github.io/schema/vega-lite/v5.json",
       "data": {
        "values": [
         {
          "x": 0,
          "y": 0
         },
         {
          "x": 1,
          "y": 32
         },
         {
          "x": 2,
          "y": 32
         },
         {
          "x": 3,
          "y": 32
         },
         {
          "x": 4,
          "y": 32
         },
         {
          "x": 5,
          "y": 32
         },
         {
          "x": 6,
          "y": 36
         },
         {
          "x": 7,
          "y": 36
         },
         {
          "x": 8,
          "y": 36
         },
         {
          "x": 9,
          "y": 36
         },
         {
          "x": 10,
          "y": 36
         },
         {
          "x": 11,
          "y": 36
         },
         {
          "x": 12,
          "y": 36
         },
         {
          "x": 13,
          "y": 36
         },
         {
          "x": 14,
          "y": 36
         },
         {
          "x": 15,
          "y": 36
         },
         {
          "x": 16,
          "y": 36
         },
         {
          "x": 17,
          "y": 36
         },
         {
          "x": 18,
          "y": 36
         },
         {
          "x": 19,
          "y": 36
         },
         {
          "x": 20,
          "y": 27
         },
         {
          "x": 21,
          "y": 36
         },
         {
          "x": 22,
          "y": 36
         },
         {
          "x": 23,
          "y": 36
         },
         {
          "x": 24,
          "y": 36
         },
         {
          "x": 25,
          "y": 36
         },
         {
          "x": 26,
          "y": 36
         },
         {
          "x": 27,
          "y": 36
         },
         {
          "x": 28,
          "y": 36
         },
         {
          "x": 29,
          "y": 36
         },
         {
          "x": 30,
          "y": 36
         },
         {
          "x": 31,
          "y": 36
         },
         {
          "x": 32,
          "y": 36
         },
         {
          "x": 33,
          "y": 36
         },
         {
          "x": 34,
          "y": 36
         },
         {
          "x": 35,
          "y": 36
         },
         {
          "x": 36,
          "y": 36
         },
         {
          "x": 37,
          "y": 36
         },
         {
          "x": 38,
          "y": 36
         },
         {
          "x": 39,
          "y": 36
         },
         {
          "x": 40,
          "y": 36
         },
         {
          "x": 41,
          "y": 36
         },
         {
          "x": 42,
          "y": 36
         },
         {
          "x": 43,
          "y": 36
         },
         {
          "x": 44,
          "y": 36
         },
         {
          "x": 45,
          "y": 36
         },
         {
          "x": 46,
          "y": 36
         },
         {
          "x": 47,
          "y": 36
         },
         {
          "x": 48,
          "y": 36
         },
         {
          "x": 49,
          "y": 36
         },
         {
          "x": 50,
          "y": 36
         },
         {
          "x": 51,
          "y": 36
         },
         {
          "x": 52,
          "y": 36
         },
         {
          "x": 53,
          "y": 32
         },
         {
          "x": 54,
          "y": 36
         },
         {
          "x": 55,
          "y": 36
         },
         {
          "x": 56,
          "y": 36
         },
         {
          "x": 57,
          "y": 14
         },
         {
          "x": 58,
          "y": 14
         },
         {
          "x": 59,
          "y": 14
         },
         {
          "x": 60,
          "y": 36
         },
         {
          "x": 61,
          "y": 36
         },
         {
          "x": 62,
          "y": 36
         },
         {
          "x": 63,
          "y": 36
         },
         {
          "x": 64,
          "y": 36
         },
         {
          "x": 65,
          "y": 36
         },
         {
          "x": 66,
          "y": 21
         },
         {
          "x": 67,
          "y": 36
         },
         {
          "x": 68,
          "y": 36
         },
         {
          "x": 69,
          "y": 27
         },
         {
          "x": 70,
          "y": 32
         },
         {
          "x": 71,
          "y": 32
         },
         {
          "x": 72,
          "y": 36
         },
         {
          "x": 73,
          "y": 36
         },
         {
          "x": 74,
          "y": 14
         },
         {
          "x": 75,
          "y": 32
         },
         {
          "x": 76,
          "y": 14
         },
         {
          "x": 77,
          "y": 36
         },
         {
          "x": 78,
          "y": 27
         },
         {
          "x": 79,
          "y": 32
         },
         {
          "x": 80,
          "y": 36
         },
         {
          "x": 81,
          "y": 32
         },
         {
          "x": 82,
          "y": 36
         },
         {
          "x": 83,
          "y": 36
         },
         {
          "x": 84,
          "y": 32
         },
         {
          "x": 85,
          "y": 36
         },
         {
          "x": 86,
          "y": 36
         },
         {
          "x": 87,
          "y": 32
         },
         {
          "x": 88,
          "y": 36
         },
         {
          "x": 89,
          "y": 36
         },
         {
          "x": 90,
          "y": 36
         },
         {
          "x": 91,
          "y": 36
         },
         {
          "x": 92,
          "y": 36
         },
         {
          "x": 93,
          "y": 36
         },
         {
          "x": 94,
          "y": 36
         },
         {
          "x": 95,
          "y": 36
         },
         {
          "x": 96,
          "y": 14
         },
         {
          "x": 97,
          "y": 32
         },
         {
          "x": 98,
          "y": 36
         },
         {
          "x": 99,
          "y": 14
         },
         {
          "x": 100,
          "y": 36
         },
         {
          "x": 101,
          "y": 14
         },
         {
          "x": 102,
          "y": 36
         },
         {
          "x": 103,
          "y": 36
         },
         {
          "x": 104,
          "y": 36
         },
         {
          "x": 105,
          "y": 36
         },
         {
          "x": 106,
          "y": 36
         },
         {
          "x": 107,
          "y": 32
         },
         {
          "x": 108,
          "y": 32
         },
         {
          "x": 109,
          "y": 36
         },
         {
          "x": 110,
          "y": 27
         },
         {
          "x": 111,
          "y": 14
         },
         {
          "x": 112,
          "y": 32
         },
         {
          "x": 113,
          "y": 36
         },
         {
          "x": 114,
          "y": 32
         },
         {
          "x": 115,
          "y": 36
         },
         {
          "x": 116,
          "y": 36
         },
         {
          "x": 117,
          "y": 36
         },
         {
          "x": 118,
          "y": 36
         },
         {
          "x": 119,
          "y": 27
         },
         {
          "x": 120,
          "y": 14
         },
         {
          "x": 121,
          "y": 14
         },
         {
          "x": 122,
          "y": 14
         },
         {
          "x": 123,
          "y": 36
         },
         {
          "x": 124,
          "y": 14
         },
         {
          "x": 125,
          "y": 14
         },
         {
          "x": 126,
          "y": 32
         },
         {
          "x": 127,
          "y": 32
         },
         {
          "x": 128,
          "y": 36
         },
         {
          "x": 129,
          "y": 36
         },
         {
          "x": 130,
          "y": 27
         },
         {
          "x": 131,
          "y": 36
         },
         {
          "x": 132,
          "y": 32
         },
         {
          "x": 133,
          "y": 36
         },
         {
          "x": 134,
          "y": 32
         },
         {
          "x": 135,
          "y": 32
         },
         {
          "x": 136,
          "y": 27
         },
         {
          "x": 137,
          "y": 32
         },
         {
          "x": 138,
          "y": 32
         },
         {
          "x": 139,
          "y": 32
         },
         {
          "x": 140,
          "y": 32
         },
         {
          "x": 141,
          "y": 32
         },
         {
          "x": 142,
          "y": 27
         },
         {
          "x": 143,
          "y": 36
         },
         {
          "x": 144,
          "y": 27
         },
         {
          "x": 145,
          "y": 32
         },
         {
          "x": 146,
          "y": 32
         },
         {
          "x": 147,
          "y": 32
         },
         {
          "x": 148,
          "y": 32
         },
         {
          "x": 149,
          "y": 32
         },
         {
          "x": 150,
          "y": 32
         },
         {
          "x": 151,
          "y": 27
         },
         {
          "x": 152,
          "y": 32
         },
         {
          "x": 153,
          "y": 32
         },
         {
          "x": 154,
          "y": 32
         },
         {
          "x": 155,
          "y": 27
         },
         {
          "x": 156,
          "y": 36
         },
         {
          "x": 157,
          "y": 36
         },
         {
          "x": 158,
          "y": 36
         },
         {
          "x": 159,
          "y": 27
         },
         {
          "x": 160,
          "y": 14
         },
         {
          "x": 161,
          "y": 21
         }
        ]
       },
       "encoding": {
        "x": {
         "field": "x",
         "type": "ordinal"
        },
        "y": {
         "field": "y",
         "type": "quantitative"
        }
       },
       "height": 400,
       "mark": "bar",
       "width": 500
      },
      "image/png": "[encoded data removed]"
     },
     "execution_count": 119,
     "metadata": {},
     "output_type": "execute_result"
    }
   ],
   "source": [
    "(dv::bar-plot (ad::get-quality-data seqf))"
   ]
  },
  {
   "cell_type": "code",
   "execution_count": null,
   "id": "4732db34-7cb5-44a0-9de4-3edf64a0070c",
   "metadata": {},
   "outputs": [],
   "source": []
  }
 ],
 "metadata": {
  "kernelspec": {
   "display_name": "cando",
   "language": "lisp",
   "name": "cando"
  },
  "language_info": {
   "codemirror_mode": "text/x-common-lisp",
   "file_extension": ".lisp",
   "mimetype": "text/x-common-lisp",
   "name": "common-lisp",
   "pygments_lexer": "common-lisp",
   "version": "cclasp-boehmprecise-0.4.2-4326-ge60d82e2c-cst"
  }
 },
 "nbformat": 4,
 "nbformat_minor": 5
}
