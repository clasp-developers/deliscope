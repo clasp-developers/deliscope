{
 "cells": [
  {
   "cell_type": "markdown",
   "id": "57e12cff-4dfe-4140-8c19-4e2ec1df37a6",
   "metadata": {},
   "source": [
    "# Analyze DNA encoded library sequences"
   ]
  },
  {
   "cell_type": "code",
   "execution_count": null,
   "id": "205d2424-c64e-44f8-bb37-adcfbdebd96a",
   "metadata": {},
   "outputs": [],
   "source": [
    "(load \"../../deliscope/src/del-startup.lisp\")"
   ]
  },
  {
   "cell_type": "markdown",
   "id": "20e6e848-2846-4f2c-91a3-87f1c6023ddc",
   "metadata": {},
   "source": [
    "## Load the DNA encoding scheme"
   ]
  },
  {
   "cell_type": "code",
   "execution_count": null,
   "id": "1b91d089-963e-4bd7-bcb8-b048ccd9736c",
   "metadata": {
    "tags": []
   },
   "outputs": [],
   "source": [
    "(ds:load-encoding (probe-file \"del-codes\"))"
   ]
  },
  {
   "cell_type": "markdown",
   "id": "7015902a-ff13-4ac5-882c-4b3a9caeb419",
   "metadata": {},
   "source": [
    "## Load the sequence analysis results"
   ]
  },
  {
   "cell_type": "code",
   "execution_count": null,
   "id": "c050b39c-753c-4127-a600-30a5fb9058a2",
   "metadata": {},
   "outputs": [],
   "source": [
    "(set-filter :library-code \"19022A02\" :minimum-counts 100)"
   ]
  },
  {
   "cell_type": "code",
   "execution_count": null,
   "id": "777cfb35-cf3c-496e-b88c-bac67c766136",
   "metadata": {},
   "outputs": [],
   "source": [
    "s1 = (ds::process-results \"s1-results.dat\")"
   ]
  },
  {
   "cell_type": "code",
   "execution_count": null,
   "id": "752db287-8e86-459d-a984-a084efb4aa61",
   "metadata": {},
   "outputs": [],
   "source": [
    "(ds::plot-unfiltered-counts s1)"
   ]
  },
  {
   "cell_type": "code",
   "execution_count": null,
   "id": "e22fd156-35eb-460f-85f6-613e4256c303",
   "metadata": {},
   "outputs": [],
   "source": [
    "(ds::plot-filtered-counts s1)"
   ]
  },
  {
   "cell_type": "code",
   "execution_count": null,
   "id": "999388b4-e9ae-40fa-a78e-eebfe8cbc27f",
   "metadata": {},
   "outputs": [],
   "source": [
    "s2 = (ds::process-results \"s2-results.dat\")"
   ]
  },
  {
   "cell_type": "code",
   "execution_count": null,
   "id": "616703d6-7a9b-4088-a831-b38557616faa",
   "metadata": {},
   "outputs": [],
   "source": [
    "(ds::plot-unfiltered-counts s2)"
   ]
  },
  {
   "cell_type": "code",
   "execution_count": null,
   "id": "696fa290-8100-465d-909b-1bc3a324ce57",
   "metadata": {},
   "outputs": [],
   "source": [
    "(ds::plot-filtered-counts s2)"
   ]
  },
  {
   "cell_type": "code",
   "execution_count": null,
   "id": "aff93dfc-63fb-4c98-a709-4eba9cad9c91",
   "metadata": {},
   "outputs": [],
   "source": [
    "(compare s1 s2)"
   ]
  },
  {
   "cell_type": "code",
   "execution_count": null,
   "id": "fb77d2c2-eac3-4fd6-9f20-d6f233e0473c",
   "metadata": {},
   "outputs": [],
   "source": [
    "(save-csv \"out-s1s2.csv\" s1 s2)"
   ]
  },
  {
   "cell_type": "code",
   "execution_count": null,
   "id": "99265c28-9126-48c3-9c2f-7f20a92a52df",
   "metadata": {},
   "outputs": [],
   "source": []
  }
 ],
 "metadata": {
  "kernelspec": {
   "display_name": "Cando",
   "language": "cando",
   "name": "cando"
  },
  "language_info": {
   "codemirror_mode": "text/x-common-lisp",
   "file_extension": ".lisp",
   "mimetype": "text/x-common-lisp",
   "name": "common-lisp",
   "pygments_lexer": "common-lisp",
   "version": "eclasp-boehmprecise-1.0.0-528-gfba47e89e-g4abf6db4-cst"
  }
 },
 "nbformat": 4,
 "nbformat_minor": 5
}
