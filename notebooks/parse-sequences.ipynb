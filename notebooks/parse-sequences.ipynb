{
 "cells": [
  {
   "cell_type": "markdown",
   "id": "880b3918-e047-4136-bfc7-8599fca34782",
   "metadata": {},
   "source": [
    "# Parse fastq data for DNA encoded libraries"
   ]
  },
  {
   "cell_type": "code",
   "execution_count": null,
   "id": "48f6d111-28c4-4341-96eb-afdbbbb0a493",
   "metadata": {},
   "outputs": [],
   "source": [
    "(load \"../../deliscope/src/del-startup.lisp\")"
   ]
  },
  {
   "cell_type": "code",
   "execution_count": null,
   "id": "769fa5f4-2e7b-48f9-8db2-7eb0090cddef",
   "metadata": {},
   "outputs": [],
   "source": [
    "(load-encoding \"del-codes\")"
   ]
  },
  {
   "cell_type": "markdown",
   "id": "97c7bee8-f7a8-4d6a-8946-a3d4900b0985",
   "metadata": {},
   "source": [
    "## Analyze s1 data"
   ]
  },
  {
   "cell_type": "code",
   "execution_count": null,
   "id": "ca911084-e5fe-412e-9a13-2f5098129ac8",
   "metadata": {},
   "outputs": [],
   "source": [
    "s1 = (create-sequence-parser :s1\n",
    "  '(\"/home/meister/Development/HiDrive/Originals/487-4_S1_L001_R1_001.fastq\"\n",
    "    \"/home/meister/Development/HiDrive/Originals/487-4_S1_L002_R1_001.fastq\"\n",
    "    \"/home/meister/Development/HiDrive/Originals/487-4_S1_L003_R1_001.fastq\"\n",
    "    \"/home/meister/Development/HiDrive/Originals/487-4_S1_L004_R1_001.fastq\"))"
   ]
  },
  {
   "cell_type": "markdown",
   "id": "c3186418-16c9-4137-8f1d-ddd05afa0da7",
   "metadata": {},
   "source": [
    "## Analyze s2 data"
   ]
  },
  {
   "cell_type": "code",
   "execution_count": null,
   "id": "6b66ca4a-fe22-46ee-b164-ef019d1c742d",
   "metadata": {},
   "outputs": [],
   "source": [
    "s2 =(create-sequence-parser :s2\n",
    "  '(\"/home/meister/Development/HiDrive/Originals/487-5_S2_L001_R1_001.fastq\"\n",
    "    \"/home/meister/Development/HiDrive/Originals/487-5_S2_L002_R1_001.fastq\"\n",
    "    \"/home/meister/Development/HiDrive/Originals/487-5_S2_L003_R1_001.fastq\"\n",
    "    \"/home/meister/Development/HiDrive/Originals/487-5_S2_L004_R1_001.fastq\"))"
   ]
  },
  {
   "cell_type": "code",
   "execution_count": null,
   "id": "542abec0-9106-4e84-b342-29901e2bb0aa",
   "metadata": {
    "tags": []
   },
   "outputs": [],
   "source": [
    "(ds::parse s1)"
   ]
  },
  {
   "cell_type": "code",
   "execution_count": null,
   "id": "1024169f-944a-4d8b-a006-e7cbf0c0e558",
   "metadata": {},
   "outputs": [],
   "source": [
    "(ds::parse s2)"
   ]
  },
  {
   "cell_type": "code",
   "execution_count": null,
   "id": "64891db9-19a4-4d6e-931a-a444d2961869",
   "metadata": {},
   "outputs": [],
   "source": []
  }
 ],
 "metadata": {
  "kernelspec": {
   "display_name": "cando",
   "language": "lisp",
   "name": "cando"
  },
  "language_info": {
   "codemirror_mode": "text/x-common-lisp",
   "file_extension": ".lisp",
   "mimetype": "text/x-common-lisp",
   "name": "common-lisp",
   "pygments_lexer": "common-lisp",
   "version": "cclasp-boehmprecise-0.4.2-4341-g18aa3ea8b-cst"
  }
 },
 "nbformat": 4,
 "nbformat_minor": 5
}
