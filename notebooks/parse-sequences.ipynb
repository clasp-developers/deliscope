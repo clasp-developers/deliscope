{
 "cells": [
  {
   "cell_type": "markdown",
   "id": "880b3918-e047-4136-bfc7-8599fca34782",
   "metadata": {},
   "source": [
    "# Parse fastq data for DNA encoded libraries"
   ]
  },
  {
   "cell_type": "code",
   "execution_count": 4,
   "id": "48f6d111-28c4-4341-96eb-afdbbbb0a493",
   "metadata": {},
   "outputs": [
    {
     "name": "stdout",
     "output_type": "stream",
     "text": [
      "*load-pathname* -> /Users/meister/del/del.lisp\n",
      "Starting up del analysis\n",
      "deliscope asd path: #P\"/Users/meister/del/deliscope/src/deliscope.asd\"\n",
      "To load \"delta-vega\":\n",
      "  Load 1 ASDF system:\n",
      "    delta-vega\n"
     ]
    },
    {
     "data": {
      "text/plain": [
       "T"
      ]
     },
     "execution_count": 4,
     "metadata": {},
     "output_type": "execute_result"
    },
    {
     "name": "stdout",
     "output_type": "stream",
     "text": [
      "\n",
      "; Loading \"delta-vega\"\n",
      "\n"
     ]
    }
   ],
   "source": [
    "(load \"../../del/del.lisp\")"
   ]
  },
  {
   "cell_type": "code",
   "execution_count": 2,
   "id": "769fa5f4-2e7b-48f9-8db2-7eb0090cddef",
   "metadata": {},
   "outputs": [
    {
     "data": {
      "text/plain": [
       "#<DELISCOPE::ALL-CODES>"
      ]
     },
     "execution_count": 2,
     "metadata": {},
     "output_type": "execute_result"
    },
    {
     "name": "stdout",
     "output_type": "stream",
     "text": [
      "1x sequences hamming distances\n",
      "#2A((0 3 4 4 3 5 3 4)\n",
      "    (0 0 5 3 3 3 4 3)\n",
      "    (0 0 0 5 6 7 6 6)\n",
      "    (0 0 0 0 5 4 3 4)\n",
      "    (0 0 0 0 0 3 4 5)\n",
      "    (0 0 0 0 0 0 6 5)\n",
      "    (0 0 0 0 0 0 0 4)\n",
      "    (0 0 0 0 0 0 0 0))\n",
      "2x sequences hamming distances\n",
      "#2A((0 5 6 4 7 4 5 5)\n",
      "    (0 0 4 3 5 3 6 7)\n",
      "    (0 0 0 6 6 5 5 5)\n",
      "    (0 0 0 0 4 6 6 7)\n",
      "    (0 0 0 0 0 5 3 5)\n",
      "    (0 0 0 0 0 0 5 4)\n",
      "    (0 0 0 0 0 0 0 3)\n",
      "    (0 0 0 0 0 0 0 0))\n",
      "Codon offsets: 0...14 11...25 22...36 33...47 44...58 55...69 66...80 77...91 88...102 99...113 \n"
     ]
    }
   ],
   "source": [
    "(ds:load-encoding \"del-codes\")"
   ]
  },
  {
   "cell_type": "markdown",
   "id": "97c7bee8-f7a8-4d6a-8946-a3d4900b0985",
   "metadata": {},
   "source": [
    "## Analyze s1 data"
   ]
  },
  {
   "cell_type": "code",
   "execution_count": null,
   "id": "ca911084-e5fe-412e-9a13-2f5098129ac8",
   "metadata": {},
   "outputs": [],
   "source": [
    "(time (defparameter s1 (ds::create-sequence-parser :s1\n",
    "                                                   '(\"Originals/487-4_S1_L001_R1_001.fastq\"\n",
    "                                                     \"Originals/487-4_S1_L002_R1_001.fastq\"\n",
    "                                                     \"Originals/487-4_S1_L003_R1_001.fastq\"\n",
    "                                                     \"Originals/487-4_S1_L004_R1_001.fastq\") \n",
    "                                                   :num nil\n",
    "                                                   :overwrite t)))"
   ]
  },
  {
   "cell_type": "code",
   "execution_count": null,
   "id": "f6864a5f-099a-4502-babc-a1a5c2e272ab",
   "metadata": {
    "tags": []
   },
   "outputs": [],
   "source": [
    "(ds::parse s1)"
   ]
  },
  {
   "cell_type": "markdown",
   "id": "c3186418-16c9-4137-8f1d-ddd05afa0da7",
   "metadata": {},
   "source": [
    "## Analyze s2 data"
   ]
  },
  {
   "cell_type": "code",
   "execution_count": null,
   "id": "6b66ca4a-fe22-46ee-b164-ef019d1c742d",
   "metadata": {},
   "outputs": [],
   "source": [
    "(time (defparameter s2 (ds::create-sequence-parser :s2\n",
    "                                                   '(\"Originals/487-5_S2_L001_R1_001.fastq\"\n",
    "                                                     \"Originals/487-5_S2_L002_R1_001.fastq\"\n",
    "                                                     \"Originals/487-5_S2_L003_R1_001.fastq\"\n",
    "                                                     \"Originals/487-5_S2_L004_R1_001.fastq\") \n",
    "                                                   :num nil\n",
    "                                                   :overwrite t)))"
   ]
  },
  {
   "cell_type": "code",
   "execution_count": null,
   "id": "1024169f-944a-4d8b-a006-e7cbf0c0e558",
   "metadata": {},
   "outputs": [],
   "source": [
    "(ds::parse s2)"
   ]
  }
 ],
 "metadata": {
  "kernelspec": {
   "display_name": "cando",
   "language": "lisp",
   "name": "cando"
  },
  "language_info": {
   "codemirror_mode": "text/x-common-lisp",
   "file_extension": ".lisp",
   "mimetype": "text/x-common-lisp",
   "name": "common-lisp",
   "pygments_lexer": "common-lisp",
   "version": "cclasp-boehmprecise-0.4.2-4336-g04d3469f5-cst"
  }
 },
 "nbformat": 4,
 "nbformat_minor": 5
}
