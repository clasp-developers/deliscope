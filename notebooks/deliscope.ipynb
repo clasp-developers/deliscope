{
 "cells": [
  {
   "cell_type": "markdown",
   "id": "880b3918-e047-4136-bfc7-8599fca34782",
   "metadata": {},
   "source": [
    "# Parse fastq data for DNA encoded libraries"
   ]
  },
  {
   "cell_type": "markdown",
   "id": "7e86332c-b81f-492e-8283-8c7a10f128c5",
   "metadata": {},
   "source": [
    "## First setup a few things"
   ]
  },
  {
   "cell_type": "code",
   "execution_count": 2,
   "id": "7e515368-ad7c-4e6f-a931-f9d59458d8d4",
   "metadata": {},
   "outputs": [
    {
     "name": "stdout",
     "output_type": "stream",
     "text": [
      "To load \"delta-vega\":\n",
      "  Load 1 ASDF system:\n",
      "    delta-vega\n",
      "; Loading \"delta-vega\"\n",
      "[package indentify]...............................\n",
      "[package shasht]..................................\n",
      "[package jupyter].................................\n",
      "[package jupyter/markdown-formatter]..............\n",
      "[package jupyter/widgets].........................\n",
      "[package jupyter/common-lisp].....................\n",
      "[package jupyter/convert].........................\n",
      "..................................................\n",
      "..................................................\n",
      "[package delta-vega]........."
     ]
    },
    {
     "data": {
      "text/plain": [
       "(:DELTA-VEGA)"
      ]
     },
     "execution_count": 2,
     "metadata": {},
     "output_type": "execute_result"
    },
    {
     "name": "stdout",
     "output_type": "stream",
     "text": [
      "\n"
     ]
    }
   ],
   "source": [
    "(ql:quickload :delta-vega)"
   ]
  },
  {
   "cell_type": "code",
   "execution_count": null,
   "id": "36c71b34-4eda-457b-bbe4-cebfc50bb16c",
   "metadata": {
    "tags": []
   },
   "outputs": [
    {
     "name": "stdout",
     "output_type": "stream",
     "text": [
      "To load \"deliscope\":\n",
      "  Load 1 ASDF system:\n",
      "    deliscope\n"
     ]
    }
   ],
   "source": [
    "(ql:quickload :deliscope)"
   ]
  },
  {
   "cell_type": "code",
   "execution_count": null,
   "id": "effab4dd-c287-488c-ac0f-6a533c8188d2",
   "metadata": {},
   "outputs": [],
   "source": [
    "(use-package :deliscope)"
   ]
  },
  {
   "cell_type": "markdown",
   "id": "e0a3d740-d4c1-4668-b281-e426c7ea4959",
   "metadata": {},
   "source": [
    "## Load the DEL codes and tell deliscope where to find data"
   ]
  },
  {
   "cell_type": "code",
   "execution_count": null,
   "id": "769fa5f4-2e7b-48f9-8db2-7eb0090cddef",
   "metadata": {},
   "outputs": [],
   "source": [
    "(load-encoding \"del-codes\")"
   ]
  },
  {
   "cell_type": "code",
   "execution_count": null,
   "id": "b3dafd5b-c82f-4d20-9cb9-b8895d4fec3d",
   "metadata": {},
   "outputs": [],
   "source": [
    "(set-data-directory \"/home/meister/Development/HiDrive/Originals/\")"
   ]
  },
  {
   "cell_type": "markdown",
   "id": "367c6eab-7b86-4c03-a33e-a5865f587422",
   "metadata": {},
   "source": [
    "## Setup s1 parser"
   ]
  },
  {
   "cell_type": "code",
   "execution_count": null,
   "id": "ca911084-e5fe-412e-9a13-2f5098129ac8",
   "metadata": {},
   "outputs": [],
   "source": [
    "s1 = (create-sequence-parser :s1\n",
    "                             \"487-4_S1_L001_R1_001.fastq\"\n",
    "                             \"487-4_S1_L002_R1_001.fastq\"\n",
    "                             \"487-4_S1_L003_R1_001.fastq\"\n",
    "                             \"487-4_S1_L004_R1_001.fastq\")"
   ]
  },
  {
   "cell_type": "markdown",
   "id": "c3186418-16c9-4137-8f1d-ddd05afa0da7",
   "metadata": {},
   "source": [
    "## Setup s2 parser"
   ]
  },
  {
   "cell_type": "code",
   "execution_count": null,
   "id": "6b66ca4a-fe22-46ee-b164-ef019d1c742d",
   "metadata": {},
   "outputs": [],
   "source": [
    "s2 = (create-sequence-parser :s2\n",
    "                             \"487-5_S2_L001_R1_001.fastq\"\n",
    "                             \"487-5_S2_L002_R1_001.fastq\"\n",
    "                             \"487-5_S2_L003_R1_001.fastq\"\n",
    "                             \"487-5_S2_L004_R1_001.fastq\")"
   ]
  },
  {
   "cell_type": "code",
   "execution_count": null,
   "id": "3ce1c9a7-75ad-464d-b2fa-0a3838c3057e",
   "metadata": {},
   "outputs": [],
   "source": [
    "(parse s1 s2)"
   ]
  },
  {
   "cell_type": "markdown",
   "id": "47fd3a56-16ea-4ac8-ad6a-46e5db2cffd6",
   "metadata": {},
   "source": [
    "## You can do the analysis here - or in another notebook."
   ]
  },
  {
   "cell_type": "code",
   "execution_count": null,
   "id": "2760b930-2330-4555-b397-5b62dd9aeb9f",
   "metadata": {},
   "outputs": [],
   "source": [
    "(set-filter :library-code \"19022A02\" :minimum-counts 100)"
   ]
  },
  {
   "cell_type": "code",
   "execution_count": null,
   "id": "f4358714-5b99-49c9-bb30-3fa41522a5dc",
   "metadata": {},
   "outputs": [],
   "source": [
    "ps1 = (process-results \"s1-results.dat\")"
   ]
  },
  {
   "cell_type": "code",
   "execution_count": null,
   "id": "45bbfc15-bedb-42d6-840f-5f3d7d44e878",
   "metadata": {},
   "outputs": [],
   "source": [
    "(plot-unfiltered-counts ps1)"
   ]
  },
  {
   "cell_type": "code",
   "execution_count": null,
   "id": "5f591731-5828-48e5-803e-6c429269068e",
   "metadata": {},
   "outputs": [],
   "source": [
    "(plot-filtered-counts ps1)"
   ]
  },
  {
   "cell_type": "code",
   "execution_count": null,
   "id": "8e1fdff0-a181-4f8e-8650-974d6450708c",
   "metadata": {},
   "outputs": [],
   "source": [
    "ps2 = (process-results \"s2-results.dat\")"
   ]
  },
  {
   "cell_type": "code",
   "execution_count": null,
   "id": "22583783-5249-4881-bc7c-8b6e4fe97827",
   "metadata": {},
   "outputs": [],
   "source": [
    "(plot-unfiltered-counts ps2)"
   ]
  },
  {
   "cell_type": "code",
   "execution_count": null,
   "id": "04ce83e2-81e2-41a2-b678-99d1639b27fc",
   "metadata": {},
   "outputs": [],
   "source": [
    "(plot-filtered-counts ps2)"
   ]
  },
  {
   "cell_type": "code",
   "execution_count": null,
   "id": "52f3085c-0133-4272-a7d3-279668a0d710",
   "metadata": {},
   "outputs": [],
   "source": [
    "(compare ps1 ps2)"
   ]
  },
  {
   "cell_type": "code",
   "execution_count": null,
   "id": "78fdc6d9-cff7-43bd-9295-5d88f55fb841",
   "metadata": {},
   "outputs": [],
   "source": [
    "(save-csv \"out-s1s2.csv\" ps1 ps2)"
   ]
  },
  {
   "cell_type": "code",
   "execution_count": null,
   "id": "2b3346ca-8fa7-4060-b0a7-7f23f625c4db",
   "metadata": {},
   "outputs": [],
   "source": []
  }
 ],
 "metadata": {
  "kernelspec": {
   "display_name": "Cando",
   "language": "cando",
   "name": "cando"
  },
  "language_info": {
   "codemirror_mode": "text/x-common-lisp",
   "file_extension": ".lisp",
   "mimetype": "text/x-common-lisp",
   "name": "common-lisp",
   "pygments_lexer": "common-lisp",
   "version": "eclasp-boehmprecise-1.0.0-528-gfba47e89e-g4abf6db4-cst"
  }
 },
 "nbformat": 4,
 "nbformat_minor": 5
}
